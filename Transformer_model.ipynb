{
  "nbformat": 4,
  "nbformat_minor": 0,
  "metadata": {
    "colab": {
      "provenance": [],
      "gpuType": "T4",
      "include_colab_link": true
    },
    "kernelspec": {
      "name": "python3",
      "display_name": "Python 3"
    },
    "language_info": {
      "name": "python"
    },
    "accelerator": "GPU"
  },
  "cells": [
    {
      "cell_type": "markdown",
      "metadata": {
        "id": "view-in-github",
        "colab_type": "text"
      },
      "source": [
        "<a href=\"https://colab.research.google.com/github/kenechiomeke/FakeNewsBuster/blob/main/Transformer_model.ipynb\" target=\"_parent\"><img src=\"https://colab.research.google.com/assets/colab-badge.svg\" alt=\"Open In Colab\"/></a>"
      ]
    },
    {
      "cell_type": "markdown",
      "source": [
        "code from siamese-bert github"
      ],
      "metadata": {
        "id": "l78RS6SHIUhi"
      }
    },
    {
      "cell_type": "code",
      "source": [
        "# !pip install pytorch_pretrained_bert"
      ],
      "metadata": {
        "id": "6A9Ov4l5IfcM"
      },
      "execution_count": null,
      "outputs": []
    },
    {
      "cell_type": "code",
      "source": [
        "import torch\n",
        "from pytorch_pretrained_bert import BertTokenizer, BertModel, BertForMaskedLM, BertForSequenceClassification\n",
        "\n",
        "\n",
        "# OPTIONAL: if you want to have more information on what's happening, activate the logger as follows\n",
        "import logging\n",
        "logging.basicConfig(level=logging.INFO)\n",
        "\n",
        "# Load pre-trained model tokenizer (vocabulary)\n",
        "# tokenizer = BertTokenizer.from_pretrained('bert-base-uncased')\n",
        "tokenizer = BertTokenizer.from_pretrained('https://cdn.huggingface.co/bert-base-uncased-vocab.txt')\n",
        "\n",
        "import torch.nn as nn\n",
        "import torch.optim as optim\n",
        "from torch.optim import lr_scheduler\n",
        "import numpy as np\n",
        "import torchvision\n",
        "from torchvision import datasets, models, transforms\n",
        "import matplotlib.pyplot as plt\n",
        "import time\n",
        "import os\n",
        "import copy\n",
        "from torch.utils.data import Dataset, DataLoader\n",
        "from PIL import Image\n",
        "from random import randrange\n",
        "import torch.nn.functional as F\n",
        "import pandas as pd\n",
        "from pathlib import Path\n",
        "from matplotlib import pyplot as plt\n",
        "from argparse import ArgumentParser\n",
        "import sys"
      ],
      "metadata": {
        "id": "MVeQmhXFIb8y",
        "colab": {
          "base_uri": "https://localhost:8080/"
        },
        "outputId": "1ecd217c-4b7f-4769-e1b0-164a9009aa97"
      },
      "execution_count": null,
      "outputs": [
        {
          "output_type": "stream",
          "name": "stderr",
          "text": [
            "100%|██████████| 231508/231508 [00:00<00:00, 6110393.99B/s]\n"
          ]
        }
      ]
    },
    {
      "cell_type": "code",
      "source": [
        "# @title Set random seed\n",
        "\n",
        "# @markdown Executing `set_seed(seed=seed)` you are setting the seed\n",
        "\n",
        "# for DL its critical to set the random seed so that students can have a\n",
        "# baseline to compare their results to expected results.\n",
        "# Read more here: https://pytorch.org/docs/stable/notes/randomness.html\n",
        "\n",
        "# Call `set_seed` function in the exercises to ensure reproducibility.\n",
        "import random\n",
        "import numpy as np\n",
        "\n",
        "def set_seed(seed=None):\n",
        "  if seed is None:\n",
        "    seed = np.random.choice(2 ** 32)\n",
        "  random.seed(seed)\n",
        "  np.random.seed(seed)\n",
        "  print(f'Random seed {seed} has been set.')\n",
        "\n",
        "\n",
        "set_seed(seed=2023)  # change 2023 with any number you like"
      ],
      "metadata": {
        "colab": {
          "base_uri": "https://localhost:8080/"
        },
        "id": "20m09dxhdETT",
        "outputId": "5a5d163a-bb22-4624-ed1a-739544ee043b"
      },
      "execution_count": null,
      "outputs": [
        {
          "output_type": "stream",
          "name": "stdout",
          "text": [
            "Random seed 2023 has been set.\n"
          ]
        }
      ]
    },
    {
      "cell_type": "code",
      "source": [
        "# @title Set device (GPU or CPU). Execute `set_device()`\n",
        "\n",
        "# Inform the user if the notebook uses GPU or CPU.\n",
        "\n",
        "def set_device():\n",
        "  \"\"\"\n",
        "  Set the device. CUDA if available, CPU otherwise\n",
        "\n",
        "  Args:\n",
        "    None\n",
        "\n",
        "  Returns:\n",
        "    Nothing\n",
        "  \"\"\"\n",
        "  device = \"cuda\" if torch.cuda.is_available() else \"cpu\"\n",
        "  if device != \"cuda\":\n",
        "    print(\"WARNING: For this notebook to perform best, \"\n",
        "        \"if possible, in the menu under `Runtime` -> \"\n",
        "        \"`Change runtime type.`  select `GPU` \")\n",
        "  else:\n",
        "    print(\"GPU is enabled in this notebook.\")\n",
        "\n",
        "  return device"
      ],
      "metadata": {
        "id": "vPcKjsIUc7Po"
      },
      "execution_count": null,
      "outputs": []
    },
    {
      "cell_type": "code",
      "source": [
        "# set device\n",
        "DEVICE = set_device()\n",
        "SEED = 2021\n",
        "set_seed(seed=SEED)"
      ],
      "metadata": {
        "colab": {
          "base_uri": "https://localhost:8080/"
        },
        "id": "L4UX_Gj1c-AS",
        "outputId": "c113af99-cac1-487b-e32f-2ef3253c65ac"
      },
      "execution_count": null,
      "outputs": [
        {
          "output_type": "stream",
          "name": "stdout",
          "text": [
            "GPU is enabled in this notebook.\n",
            "Random seed 2021 has been set.\n"
          ]
        }
      ]
    },
    {
      "cell_type": "code",
      "source": [
        "from google.colab import drive\n",
        "drive.mount('/content/drive/', force_remount=True)"
      ],
      "metadata": {
        "colab": {
          "base_uri": "https://localhost:8080/"
        },
        "id": "RC1lpLk0TC9N",
        "outputId": "92c89b92-29a8-4ea3-8016-f9312d9cf072"
      },
      "execution_count": null,
      "outputs": [
        {
          "output_type": "stream",
          "name": "stdout",
          "text": [
            "Mounted at /content/drive/\n"
          ]
        }
      ]
    },
    {
      "cell_type": "code",
      "source": [
        "data_path='/content/drive/My Drive/nma/datasets/'\n",
        "\n",
        "train_path = data_path + 'train.tsv'\n",
        "test_path = data_path + 'test.tsv'\n",
        "val_path = data_path + 'valid.tsv'\n",
        "\n",
        "train_df = pd.read_csv(train_path, sep=\"\\t\", header=None)\n",
        "test_df = pd.read_csv(test_path, sep=\"\\t\", header=None)\n",
        "val_df = pd.read_csv(val_path, sep=\"\\t\", header=None)\n",
        "\n",
        "# Fill nan (empty boxes) with 0\n",
        "train_df = train_df.fillna(0)\n",
        "test_df = test_df.fillna(0)\n",
        "val_df = val_df.fillna(0)\n",
        "\n",
        "train = train_df.values\n",
        "test = test_df.values\n",
        "val = val_df.values"
      ],
      "metadata": {
        "id": "iDyX9TpRKMVr"
      },
      "execution_count": null,
      "outputs": []
    },
    {
      "cell_type": "code",
      "source": [
        "labels = {'train':[train[i][1] for i in range(len(train))], 'test':[test[i][1] for i in range(len(test))], 'val':[val[i][1] for i in range(len(val))]}\n",
        "statements = {'train':[train[i][2] for i in range(len(train))], 'test':[test[i][2] for i in range(len(test))], 'val':[val[i][2] for i in range(len(val))]}\n",
        "subjects = {'train':[train[i][3] for i in range(len(train))], 'test':[test[i][3] for i in range(len(test))], 'val':[val[i][3] for i in range(len(val))]}\n",
        "speakers = {'train':[train[i][4] for i in range(len(train))], 'test':[test[i][4] for i in range(len(test))], 'val':[val[i][4] for i in range(len(val))]}\n",
        "jobs = {'train':[train[i][5] for i in range(len(train))], 'test':[test[i][5] for i in range(len(test))], 'val':[val[i][5] for i in range(len(val))]}\n",
        "states = {'train':[train[i][6] for i in range(len(train))], 'test':[test[i][6] for i in range(len(test))], 'val':[val[i][6] for i in range(len(val))]}\n",
        "affiliations = {'train':[train[i][7] for i in range(len(train))], 'test':[test[i][7] for i in range(len(test))], 'val':[val[i][7] for i in range(len(val))]}\n",
        "credits = {'train':[train[i][8:13] for i in range(len(train))], 'test':[test[i][8:13] for i in range(len(test))], 'val':[val[i][8:13] for i in range(len(val))]}\n",
        "contexts = {'train':[train[i][13] for i in range(len(train))], 'test':[test[i][13] for i in range(len(test))], 'val':[val[i][13] for i in range(len(val))]}\n",
        "# justification = {'train':[train[i][15] for i in range(len(train))], 'test':[test[i][15] for i in range(len(test))], 'val':[val[i][15] for i in range(len(val))]}\n",
        "\n",
        "\n",
        "def to_onehot(a):\n",
        "  a_cat = [0]*len(a)\n",
        "  for i in range(len(a)):\n",
        "      if a[i]=='true':\n",
        "          a_cat[i] = [1,0,0,0,0,0]\n",
        "      elif a[i]=='mostly-true':\n",
        "          a_cat[i] = [0,1,0,0,0,0]\n",
        "      elif a[i]=='half-true':\n",
        "          a_cat[i] = [0,0,1,0,0,0]\n",
        "      elif a[i]=='barely-true':\n",
        "          a_cat[i] = [0,0,0,1,0,0]\n",
        "      elif a[i]=='false':\n",
        "          a_cat[i] = [0,0,0,0,1,0]\n",
        "      elif a[i]=='pants-fire':\n",
        "          a_cat[i] = [0,0,0,0,0,1]\n",
        "      else:\n",
        "          print('Incorrect label')\n",
        "  return a_cat\n",
        "\n",
        "labels_onehot = {'train':to_onehot(labels['train']), 'test':to_onehot(labels['test']), 'val':to_onehot(labels['val'])}\n"
      ],
      "metadata": {
        "id": "P8G0cYedKZ2j"
      },
      "execution_count": null,
      "outputs": []
    },
    {
      "cell_type": "code",
      "source": [
        "# Preparing meta data\n",
        "\n",
        "#credit['train'][2]\n",
        "num_labels = 6\n",
        "\n",
        "metadata = {'train':[0]*len(train), 'val':[0]*len(val), 'test':[0]*len(test)}\n",
        "\n",
        "for i in range(len(train)):\n",
        "    subject = subjects['train'][i]\n",
        "    if subject == 0:\n",
        "        subject = 'None'\n",
        "\n",
        "    speaker = speakers['train'][i]\n",
        "    if speaker == 0:\n",
        "        speaker = 'None'\n",
        "\n",
        "    job = jobs['train'][i]\n",
        "    if job == 0:\n",
        "        job = 'None'\n",
        "\n",
        "    state = states['train'][i]\n",
        "    if state == 0:\n",
        "        state = 'None'\n",
        "\n",
        "    affiliation = affiliations['train'][i]\n",
        "    if affiliation == 0:\n",
        "        affiliation = 'None'\n",
        "\n",
        "    context = contexts['train'][i]\n",
        "    if context == 0 :\n",
        "        context = 'None'\n",
        "\n",
        "    meta = subject + ' ' + speaker + ' ' + job + ' ' + state + ' ' + affiliation + ' ' + context\n",
        "\n",
        "    metadata['train'][i] = meta\n",
        "\n",
        "for i in range(len(val)):\n",
        "    subject = subjects['val'][i]\n",
        "    if subject == 0:\n",
        "        subject = 'None'\n",
        "\n",
        "    speaker = speakers['val'][i]\n",
        "    if speaker == 0:\n",
        "        speaker = 'None'\n",
        "\n",
        "    job = jobs['val'][i]\n",
        "    if job == 0:\n",
        "        job = 'None'\n",
        "\n",
        "    state = states['val'][i]\n",
        "    if state == 0:\n",
        "        state = 'None'\n",
        "\n",
        "    affiliation = affiliations['val'][i]\n",
        "    if affiliation == 0:\n",
        "        affiliation = 'None'\n",
        "\n",
        "    context = contexts['val'][i]\n",
        "    if context == 0 :\n",
        "        context = 'None'\n",
        "\n",
        "    meta = subject + ' ' + speaker + ' ' + job + ' ' + state + ' ' + affiliation + ' ' + context\n",
        "\n",
        "    metadata['val'][i] = meta\n",
        "\n",
        "for i in range(len(test)):\n",
        "    subject = subjects['test'][i]\n",
        "    if subject == 0:\n",
        "        subject = 'None'\n",
        "\n",
        "    speaker = speakers['test'][i]\n",
        "    if speaker == 0:\n",
        "        speaker = 'None'\n",
        "\n",
        "    job = jobs['test'][i]\n",
        "    if job == 0:\n",
        "        job = 'None'\n",
        "\n",
        "    state = states['test'][i]\n",
        "    if state == 0:\n",
        "        state = 'None'\n",
        "\n",
        "    affiliation = affiliations['test'][i]\n",
        "    if affiliation == 0:\n",
        "        affiliation = 'None'\n",
        "\n",
        "    context = contexts['test'][i]\n",
        "    if context == 0 :\n",
        "        context = 'None'\n",
        "\n",
        "    meta = subject + ' ' + speaker + ' ' + job + ' ' + state + ' ' + affiliation + ' ' + context\n",
        "\n",
        "    metadata['test'][i] = meta\n",
        "\n",
        "\n",
        "# Credit score calculation\n",
        "pad_len = 64 # NOTE: changed this from 2304 to 1536 because we were getting errors\n",
        "credit_score = {'train':[0]*len(train), 'val':[0]*len(val), 'test':[0]*len(test)}\n",
        "for i in range(len(train)):\n",
        "    credit = credits['train'][i]\n",
        "    if sum(credit) == 0:\n",
        "        score = 0.5\n",
        "    else:\n",
        "        score = (credit[3]*0.2 + credit[2]*0.5 + credit[0]*0.75 + credit[1]*0.9 + credit[4]*1)/(sum(credit))\n",
        "    credit_score['train'][i] = [score for i in range(pad_len)]\n",
        "\n",
        "for i in range(len(val)):\n",
        "    credit = credits['val'][i]\n",
        "    if sum(credit) == 0:\n",
        "        score = 0.5\n",
        "    else:\n",
        "        score = (credit[3]*0.2 + credit[2]*0.5 + credit[0]*0.75 + credit[1]*0.9 + credit[4]*1)/(sum(credit))\n",
        "    credit_score['val'][i] = [score for i in range(pad_len)]\n",
        "\n",
        "for i in range(len(test)):\n",
        "    credit = credits['test'][i]\n",
        "    if sum(credit) == 0:\n",
        "        score = 0.5\n",
        "    else:\n",
        "        score = (credit[3]*0.2 + credit[2]*0.5 + credit[0]*0.75 + credit[1]*0.9 + credit[4]*1)/(sum(credit))\n",
        "    credit_score['test'][i] = [score for i in range(pad_len)]\n"
      ],
      "metadata": {
        "id": "yVhSII-xM81y"
      },
      "execution_count": null,
      "outputs": []
    },
    {
      "cell_type": "code",
      "source": [
        "# initialize bert\n",
        "class BertLayerNorm(nn.Module):\n",
        "        def __init__(self, hidden_size, eps=1e-12):\n",
        "            \"\"\"Construct a layernorm module in the TF style (epsilon inside the square root).\n",
        "            Note: TF maybe means tensorflow?? we don't know why they're doing this like this\n",
        "            \"\"\"\n",
        "            super(BertLayerNorm, self).__init__()\n",
        "            self.weight = nn.Parameter(torch.ones(hidden_size))\n",
        "            self.bias = nn.Parameter(torch.zeros(hidden_size))\n",
        "            self.variance_epsilon = eps\n",
        "\n",
        "        def forward(self, x):\n",
        "            u = x.mean(-1, keepdim=True)\n",
        "            s = (x - u).pow(2).mean(-1, keepdim=True)\n",
        "            x = (x - u) / torch.sqrt(s + self.variance_epsilon)\n",
        "            return self.weight * x + self.bias\n",
        "\n",
        "\n",
        "class BertForSequenceClassification(nn.Module):\n",
        "    \"\"\"BERT model for classification.\n",
        "    This module is composed of the BERT model with a linear layer on top of\n",
        "    the pooled output.\n",
        "    Params:\n",
        "        `config`: a BertConfig class instance with the configuration to build a new model.\n",
        "        `num_labels`: the number of classes for the classifier. Default = 2.\n",
        "    Inputs:\n",
        "        `input_ids`: a torch.LongTensor of shape [batch_size, sequence_length]\n",
        "            with the word token indices in the vocabulary. Items in the batch should begin with the special \"CLS\" token. (see the tokens preprocessing logic in the scripts\n",
        "            `extract_features.py`, `run_classifier.py` and `run_squad.py`)\n",
        "        `token_type_ids`: an optional torch.LongTensor of shape [batch_size, sequence_length] with the token\n",
        "            types indices selected in [0, 1]. Type 0 corresponds to a `sentence A` and type 1 corresponds to\n",
        "            a `sentence B` token (see BERT paper for more details).\n",
        "        `attention_mask`: an optional torch.LongTensor of shape [batch_size, sequence_length] with indices\n",
        "            selected in [0, 1]. It's a mask to be used if the input sequence length is smaller than the max\n",
        "            input sequence length in the current batch. It's the mask that we typically use for attention when\n",
        "            a batch has varying length sentences.\n",
        "        `labels`: labels for the classification output: torch.LongTensor of shape [batch_size]\n",
        "            with indices selected in [0, ..., num_labels].\n",
        "    Outputs:\n",
        "        if `labels` is not `None`:\n",
        "            Outputs the CrossEntropy classification loss of the output with the labels.\n",
        "        if `labels` is `None`:\n",
        "            Outputs the classification logits of shape [batch_size, num_labels].\n",
        "    Example usage:\n",
        "    ```python\n",
        "    # Already been converted into WordPiece token ids\n",
        "    input_ids = torch.LongTensor([[31, 51, 99], [15, 5, 0]])\n",
        "    input_mask = torch.LongTensor([[1, 1, 1], [1, 1, 0]])\n",
        "    token_type_ids = torch.LongTensor([[0, 0, 1], [0, 1, 0]])\n",
        "    config = BertConfig(vocab_size_or_config_json_file=32000, hidden_size=768,\n",
        "        num_hidden_layers=12, num_attention_heads=12, intermediate_size=3072)\n",
        "    num_labels = 2\n",
        "    model = BertForSequenceClassification(config, num_labels)\n",
        "    logits = model(input_ids, token_type_ids, input_mask)\n",
        "    ```\n",
        "    \"\"\"\n",
        "\n",
        "    def __init__(self, num_labels=2): # Change number of labels here.\n",
        "        super(BertForSequenceClassification, self).__init__()\n",
        "        self.num_labels = num_labels\n",
        "        self.bert = BertModel.from_pretrained('bert-base-uncased')\n",
        "        self.dropout = nn.Dropout(config.hidden_dropout_prob)\n",
        "        num_inputs = 2\n",
        "        self.classifier = nn.Linear(config.hidden_size*num_inputs, num_labels)\n",
        "        #self.fc1 = nn.Linear(config.hidden_size*2, 512)\n",
        "        # initializing weights to a normal distribution\n",
        "        nn.init.xavier_normal_(self.classifier.weight)\n",
        "\n",
        "    '''def forward_once(self, x):\n",
        "        # Forward pass\n",
        "        output = self.cnn1(x)\n",
        "        output = output.view(output.size()[0], -1)\n",
        "        output = self.fc1(output)\n",
        "        return output'''\n",
        "\n",
        "    def forward_once(self, input_ids, token_type_ids=None, attention_mask=None, labels=None):\n",
        "        _, pooled_output = self.bert(input_ids, token_type_ids, attention_mask, output_all_encoded_layers=False)\n",
        "        pooled_output = self.dropout(pooled_output)\n",
        "        #logits = self.classifier(pooled_output)\n",
        "\n",
        "        return pooled_output\n",
        "\n",
        "    def forward(self, input_ids1, input_ids2): #, credit_sc):\n",
        "        # forward pass of input 1 - statement\n",
        "        output1 = self.forward_once(input_ids1, token_type_ids=None, attention_mask=None, labels=None)\n",
        "        # forward pass of input 2 - metadate\n",
        "        output2 = self.forward_once(input_ids2, token_type_ids=None, attention_mask=None, labels=None)\n",
        "\n",
        "        # output3 = self.forward_once(input_ids3, token_type_ids=None, attention_mask=None, labels=None)\n",
        "        out = torch.cat((output1, output2), 1)\n",
        "\n",
        "        # MM Note: remove the credit score\n",
        "        # # Multiply the credit score with the output after concatnation\n",
        "        # out = torch.add(credit_sc, out)\n",
        "\n",
        "        #out = self.fc1(out)\n",
        "        logits = self.classifier(out)\n",
        "\n",
        "        return logits\n",
        "\n",
        "    def freeze_bert_encoder(self):\n",
        "        for param in self.bert.parameters():\n",
        "            param.requires_grad = False\n",
        "\n",
        "    def unfreeze_bert_encoder(self):\n",
        "        for param in self.bert.parameters():\n",
        "            param.requires_grad = True\n",
        "\n",
        "\n",
        "from pytorch_pretrained_bert import BertConfig\n",
        "\n",
        "h_size = 768 # was 768 originally for some reason\n",
        "\n",
        "## original\n",
        "# config = BertConfig(vocab_size_or_config_json_file=32000, hidden_size=h_size,\n",
        "#         num_hidden_layers=12, num_attention_heads=12, intermediate_size=3072)\n",
        "\n",
        "config = BertConfig(vocab_size_or_config_json_file=3200, hidden_size=h_size,\n",
        "        num_hidden_layers=12, num_attention_heads=12, intermediate_size=3072)\n",
        "\n",
        "\n",
        "model = BertForSequenceClassification(num_labels)"
      ],
      "metadata": {
        "id": "7kIdX0_xZJAX"
      },
      "execution_count": null,
      "outputs": []
    },
    {
      "cell_type": "code",
      "source": [
        "model"
      ],
      "metadata": {
        "colab": {
          "base_uri": "https://localhost:8080/"
        },
        "id": "LhKdJUXIaQIn",
        "outputId": "bdcf94da-51ce-497c-92c9-755207038982"
      },
      "execution_count": null,
      "outputs": [
        {
          "output_type": "execute_result",
          "data": {
            "text/plain": [
              "BertForSequenceClassification(\n",
              "  (bert): BertModel(\n",
              "    (embeddings): BertEmbeddings(\n",
              "      (word_embeddings): Embedding(30522, 768, padding_idx=0)\n",
              "      (position_embeddings): Embedding(512, 768)\n",
              "      (token_type_embeddings): Embedding(2, 768)\n",
              "      (LayerNorm): BertLayerNorm()\n",
              "      (dropout): Dropout(p=0.1, inplace=False)\n",
              "    )\n",
              "    (encoder): BertEncoder(\n",
              "      (layer): ModuleList(\n",
              "        (0-11): 12 x BertLayer(\n",
              "          (attention): BertAttention(\n",
              "            (self): BertSelfAttention(\n",
              "              (query): Linear(in_features=768, out_features=768, bias=True)\n",
              "              (key): Linear(in_features=768, out_features=768, bias=True)\n",
              "              (value): Linear(in_features=768, out_features=768, bias=True)\n",
              "              (dropout): Dropout(p=0.1, inplace=False)\n",
              "            )\n",
              "            (output): BertSelfOutput(\n",
              "              (dense): Linear(in_features=768, out_features=768, bias=True)\n",
              "              (LayerNorm): BertLayerNorm()\n",
              "              (dropout): Dropout(p=0.1, inplace=False)\n",
              "            )\n",
              "          )\n",
              "          (intermediate): BertIntermediate(\n",
              "            (dense): Linear(in_features=768, out_features=3072, bias=True)\n",
              "          )\n",
              "          (output): BertOutput(\n",
              "            (dense): Linear(in_features=3072, out_features=768, bias=True)\n",
              "            (LayerNorm): BertLayerNorm()\n",
              "            (dropout): Dropout(p=0.1, inplace=False)\n",
              "          )\n",
              "        )\n",
              "      )\n",
              "    )\n",
              "    (pooler): BertPooler(\n",
              "      (dense): Linear(in_features=768, out_features=768, bias=True)\n",
              "      (activation): Tanh()\n",
              "    )\n",
              "  )\n",
              "  (dropout): Dropout(p=0.1, inplace=False)\n",
              "  (classifier): Linear(in_features=1536, out_features=6, bias=True)\n",
              ")"
            ]
          },
          "metadata": {},
          "execution_count": 15
        }
      ]
    },
    {
      "cell_type": "code",
      "source": [
        "# Loading the statements\n",
        "X_train = statements['train']\n",
        "y_train = labels_onehot['train']\n",
        "\n",
        "X_val = statements['val']\n",
        "y_val = labels_onehot['val']\n",
        "\n",
        "X_train = X_train + X_val\n",
        "y_train = y_train + y_val\n",
        "\n",
        "X_test = statements['test']\n",
        "y_test = labels_onehot['test']"
      ],
      "metadata": {
        "id": "nhPpRyT_ZRjf"
      },
      "execution_count": null,
      "outputs": []
    },
    {
      "cell_type": "code",
      "source": [
        "len(X_train)"
      ],
      "metadata": {
        "colab": {
          "base_uri": "https://localhost:8080/"
        },
        "id": "AHhUWBytXNjO",
        "outputId": "39f89bf2-69a9-4c05-b346-3be10c8912d2"
      },
      "execution_count": null,
      "outputs": [
        {
          "output_type": "execute_result",
          "data": {
            "text/plain": [
              "11524"
            ]
          },
          "metadata": {},
          "execution_count": 39
        }
      ]
    },
    {
      "cell_type": "code",
      "source": [
        "# # Loading the justification\n",
        "# X_train_just = justification['train']\n",
        "\n",
        "# X_val_just = justification['val']\n",
        "\n",
        "# X_train_just = X_train_just + X_val_just\n",
        "\n",
        "# X_test_just = statements['test']\n",
        "\n",
        "\n",
        "# Loading the meta data\n",
        "X_train_meta = metadata['train']\n",
        "X_val_meta = metadata['val']\n",
        "X_train_meta = X_train_meta + X_val_meta\n",
        "X_test_meta = metadata['test']\n",
        "\n",
        "# Loading Credit scores\n",
        "\n",
        "X_train_credit = credit_score['train']\n",
        "X_val_credit = credit_score['val']\n",
        "X_train_credit = X_train_credit+X_val_credit\n",
        "X_test_credit = credit_score['test']"
      ],
      "metadata": {
        "id": "qxvsPou_ZV3m"
      },
      "execution_count": null,
      "outputs": []
    },
    {
      "cell_type": "code",
      "source": [
        "len(credit_score['train'][0])"
      ],
      "metadata": {
        "colab": {
          "base_uri": "https://localhost:8080/"
        },
        "id": "Skr0eVOYNAs7",
        "outputId": "4931e978-ebf9-4b89-9619-1fcc353eb735"
      },
      "execution_count": null,
      "outputs": [
        {
          "output_type": "execute_result",
          "data": {
            "text/plain": [
              "64"
            ]
          },
          "metadata": {},
          "execution_count": 32
        }
      ]
    },
    {
      "cell_type": "code",
      "source": [
        "# Small data partitioned for debugging\n",
        "'''X_train = X_train[:100]\n",
        "y_train = y_train[:100]\n",
        "\n",
        "X_test = X_test[:100]\n",
        "y_test = y_test[:100]\n",
        "\n",
        "X_train_just = X_train_just[:100]\n",
        "X_test_just = X_test_just[:100]\n",
        "\n",
        "X_train_meta = X_train_meta[:100]\n",
        "X_test_meta = X_test_meta[:100]\n",
        "\n",
        "X_train_credit = X_train_credit[:100]\n",
        "X_test_credit = X_test_credit[:100]'''\n",
        "\n",
        "# max_seq_length_stat = 64\n",
        "# max_seq_length_just = 256\n",
        "# max_seq_length_meta = 32\n",
        "\n",
        "max_seq_length_stat = 32\n",
        "max_seq_length_meta = 32\n",
        "\n",
        "class text_dataset(Dataset):\n",
        "    def __init__(self,x_y_list, transform=None):\n",
        "\n",
        "        self.x_y_list = x_y_list\n",
        "        self.transform = transform\n",
        "\n",
        "    def __getitem__(self,index):\n",
        "\n",
        "        # Tokenize statements\n",
        "        tokenized_review = tokenizer.tokenize(self.x_y_list[0][index])\n",
        "\n",
        "        if len(tokenized_review) > max_seq_length_stat:\n",
        "            tokenized_review = tokenized_review[:max_seq_length_stat]\n",
        "\n",
        "        ids_review  = tokenizer.convert_tokens_to_ids(tokenized_review)\n",
        "\n",
        "        padding = [0] * (max_seq_length_stat - len(ids_review))\n",
        "\n",
        "        ids_review += padding\n",
        "\n",
        "        assert len(ids_review) == max_seq_length_stat\n",
        "\n",
        "        #print(ids_review)\n",
        "        ids_review = torch.tensor(ids_review)\n",
        "\n",
        "        fakeness = self.x_y_list[4][index] # color\n",
        "        list_of_labels = [torch.from_numpy(np.array(fakeness))]\n",
        "\n",
        "\n",
        "        # Tokenize justifications\n",
        "        #print(self.x_y_list[1][6833])\n",
        "        #print(index)\n",
        "\n",
        "        # Making sure that if there is no justification in a row(nan value converted to 0 using pandas), give it a justification called 'No justification' for training to be possible.\n",
        "        if self.x_y_list[1][index] == 0:\n",
        "            self.x_y_list[1][index] = 'No justification'\n",
        "\n",
        "        tokenized_review_just = tokenizer.tokenize(self.x_y_list[1][index])\n",
        "\n",
        "        if len(tokenized_review_just) > max_seq_length_just:\n",
        "            tokenized_review_just = tokenized_review_just[:max_seq_length_just]\n",
        "\n",
        "        ids_review_just  = tokenizer.convert_tokens_to_ids(tokenized_review_just)\n",
        "\n",
        "        padding = [0] * (max_seq_length_just - len(ids_review_just))\n",
        "\n",
        "        ids_review_just += padding\n",
        "\n",
        "        assert len(ids_review_just) == max_seq_length_just\n",
        "\n",
        "        #print(ids_review)\n",
        "        ids_review_just = torch.tensor(ids_review_just)\n",
        "\n",
        "        fakeness = self.x_y_list[4][index] # color\n",
        "        list_of_labels = [torch.from_numpy(np.array(fakeness))]\n",
        "\n",
        "        # Tokenize metadata\n",
        "\n",
        "        tokenized_review_meta = tokenizer.tokenize(self.x_y_list[2][index])\n",
        "\n",
        "        if len(tokenized_review_meta) > max_seq_length_meta:\n",
        "            tokenized_review_meta = tokenized_review_meta[:max_seq_length_meta]\n",
        "\n",
        "        ids_review_meta  = tokenizer.convert_tokens_to_ids(tokenized_review_meta)\n",
        "\n",
        "        padding = [0] * (max_seq_length_meta - len(ids_review_meta))\n",
        "\n",
        "        ids_review_meta += padding\n",
        "\n",
        "        assert len(ids_review_meta) == max_seq_length_meta\n",
        "\n",
        "        #print(ids_review)\n",
        "        ids_review_meta = torch.tensor(ids_review_meta)\n",
        "\n",
        "        fakeness = self.x_y_list[4][index] # color\n",
        "        list_of_labels = [torch.from_numpy(np.array(fakeness))]\n",
        "\n",
        "        credit_scr = self.x_y_list[3][index] # Credit score\n",
        "\n",
        "        #ones_768 = np.ones((768))\n",
        "        #credit_scr = credit_scr * ones_768\n",
        "        credit_scr = torch.tensor(credit_scr)\n",
        "\n",
        "        return [ids_review, ids_review_just, ids_review_meta, credit_scr], list_of_labels[0]\n",
        "\n",
        "    def __len__(self):\n",
        "        return len(self.x_y_list[0])\n",
        "\n",
        "\n",
        "batch_size = 16\n",
        "\n",
        "# Train Statements and Justifications\n",
        "train_lists = [X_train, X_train_meta, X_train_credit, y_train]\n",
        "\n",
        "\n",
        "# Test Statements and Justifications\n",
        "test_lists = [X_test, X_train_meta, X_test_credit, y_test]\n",
        "# test_lists = [X_test, X_test_just, X_train_meta, X_test_credit, y_test]\n",
        "\n",
        "\n",
        "# Preparing the data (Tokenize)\n",
        "training_dataset = text_dataset(x_y_list = train_lists)\n",
        "test_dataset = text_dataset(x_y_list = test_lists)\n",
        "\n",
        "\n",
        "# Prepare the training dictionaries\n",
        "dataloaders_dict = {'train': torch.utils.data.DataLoader(training_dataset, batch_size=batch_size, shuffle=True, num_workers=0),\n",
        "                   'val':torch.utils.data.DataLoader(test_dataset, batch_size=batch_size, shuffle=False, num_workers=0)\n",
        "                   }\n",
        "dataset_sizes = {'train':len(train_lists[0]),\n",
        "                'val':len(test_lists[0])}"
      ],
      "metadata": {
        "id": "zIm6RSNOZmFW"
      },
      "execution_count": null,
      "outputs": []
    },
    {
      "cell_type": "code",
      "source": [
        "# Small data partitioned for debugging\n",
        "'''X_train = X_train[:100]\n",
        "y_train = y_train[:100]\n",
        "\n",
        "X_test = X_test[:100]\n",
        "y_test = y_test[:100]\n",
        "\n",
        "X_train_just = X_train_just[:100]\n",
        "X_test_just = X_test_just[:100]\n",
        "\n",
        "X_train_meta = X_train_meta[:100]\n",
        "X_test_meta = X_test_meta[:100]\n",
        "\n",
        "X_train_credit = X_train_credit[:100]\n",
        "X_test_credit = X_test_credit[:100]'''\n",
        "\n",
        "# X_train = X_train[:100]\n",
        "# y_train = y_train[:100]\n",
        "\n",
        "# X_test = X_test[:100]\n",
        "# y_test = y_test[:100]\n",
        "\n",
        "# X_train_meta = X_train_meta[:100]\n",
        "# X_test_meta = X_test_meta[:100]\n",
        "\n",
        "# X_train_credit = X_train_credit[:100]\n",
        "# X_test_credit = X_test_credit[:100]\n",
        "\n",
        "\n",
        "# max_seq_length_stat = 64\n",
        "# max_seq_length_just = 256\n",
        "# max_seq_length_meta = 32\n",
        "\n",
        "max_seq_length_stat = 64\n",
        "max_seq_length_just = 0\n",
        "max_seq_length_meta = 32\n",
        "\n",
        "# input: [X_train, X_train_meta, X_train_credit, y_train]\n",
        "\n",
        "class text_dataset(Dataset):\n",
        "    def __init__(self,x_y_list, transform=None):\n",
        "\n",
        "        self.x_y_list = x_y_list\n",
        "        self.transform = transform\n",
        "\n",
        "    def __getitem__(self,index):\n",
        "\n",
        "        # Tokenize statements - index = 0\n",
        "        tokenized_review = tokenizer.tokenize(self.x_y_list[0][index])\n",
        "\n",
        "        if len(tokenized_review) > max_seq_length_stat:\n",
        "            tokenized_review = tokenized_review[:max_seq_length_stat]\n",
        "\n",
        "        ids_review  = tokenizer.convert_tokens_to_ids(tokenized_review)\n",
        "\n",
        "        padding = [0] * (max_seq_length_stat - len(ids_review))\n",
        "\n",
        "        ids_review += padding\n",
        "\n",
        "        assert len(ids_review) == max_seq_length_stat\n",
        "\n",
        "        #print(ids_review)\n",
        "        ids_review = torch.tensor(ids_review)\n",
        "\n",
        "        fakeness = self.x_y_list[-1][index] # color\n",
        "        list_of_labels = [torch.from_numpy(np.array(fakeness))]\n",
        "\n",
        "\n",
        "        # Tokenize justifications\n",
        "        #print(self.x_y_list[1][6833])\n",
        "        #print(index)\n",
        "\n",
        "        # Making sure that if there is no justification in a row(nan value converted to 0 using pandas), give it a justification called 'No justification' for training to be possible.\n",
        "        # if self.x_y_list[1][index] == 0:\n",
        "            # self.x_y_list[1][index] = 'No justification'\n",
        "\n",
        "        # tokenized_review_just = tokenizer.tokenize(self.x_y_list[1][index])\n",
        "\n",
        "        # if len(tokenized_review_just) > max_seq_length_just:\n",
        "            # tokenized_review_just = tokenized_review_just[:max_seq_length_just]\n",
        "\n",
        "        # ids_review_just  = tokenizer.convert_tokens_to_ids(tokenized_review_just)\n",
        "\n",
        "        # padding = [0] * (max_seq_length_just - len(ids_review_just))\n",
        "\n",
        "        # ids_review_just += padding\n",
        "\n",
        "        # assert len(ids_review_just) == max_seq_length_just\n",
        "\n",
        "        #print(ids_review)\n",
        "        # ids_review_just = torch.tensor(ids_review_just)\n",
        "\n",
        "        # fakeness = self.x_y_list[4][index] # color\n",
        "        # list_of_labels = [torch.from_numpy(np.array(fakeness))]\n",
        "\n",
        "        # Tokenize metadata\n",
        "\n",
        "        tokenized_review_meta = tokenizer.tokenize(self.x_y_list[1][index])\n",
        "\n",
        "        if len(tokenized_review_meta) > max_seq_length_meta:\n",
        "            tokenized_review_meta = tokenized_review_meta[:max_seq_length_meta]\n",
        "\n",
        "        ids_review_meta  = tokenizer.convert_tokens_to_ids(tokenized_review_meta)\n",
        "\n",
        "        padding = [0] * (max_seq_length_meta - len(ids_review_meta))\n",
        "\n",
        "        ids_review_meta += padding\n",
        "\n",
        "        assert len(ids_review_meta) == max_seq_length_meta\n",
        "\n",
        "        #print(ids_review)\n",
        "        ids_review_meta = torch.tensor(ids_review_meta)\n",
        "\n",
        "        fakeness = self.x_y_list[-1][index] # color\n",
        "        list_of_labels = [torch.from_numpy(np.array(fakeness))]\n",
        "\n",
        "        credit_scr = self.x_y_list[2][index] # Credit score\n",
        "\n",
        "        #ones_768 = np.ones((768))\n",
        "        #credit_scr = credit_scr * ones_768\n",
        "        credit_scr = torch.tensor(credit_scr)\n",
        "\n",
        "        return [ids_review, ids_review_meta, credit_scr], list_of_labels[0]\n",
        "\n",
        "    def __len__(self):\n",
        "        return len(self.x_y_list[0])\n"
      ],
      "metadata": {
        "id": "t2QOs8H4a5Q5"
      },
      "execution_count": null,
      "outputs": []
    },
    {
      "cell_type": "code",
      "source": [
        "batch_size = 64 #16\n",
        "\n",
        "# Train Statements and Justifications\n",
        "train_lists = [X_train, X_train_meta, X_train_credit, y_train]\n",
        "\n",
        "\n",
        "# Test Statements and Justifications\n",
        "test_lists = [X_test, X_train_meta, X_test_credit, y_test]\n",
        "# test_lists = [X_test, X_test_just, X_train_meta, X_test_credit, y_test]\n",
        "\n",
        "\n",
        "# Preparing the data (Tokenize)\n",
        "training_dataset = text_dataset(x_y_list = train_lists)\n",
        "test_dataset = text_dataset(x_y_list = test_lists)"
      ],
      "metadata": {
        "id": "ZMt91tXBbK6H"
      },
      "execution_count": null,
      "outputs": []
    },
    {
      "cell_type": "code",
      "source": [
        "len(train_lists[0])"
      ],
      "metadata": {
        "colab": {
          "base_uri": "https://localhost:8080/"
        },
        "id": "QJoQv6FFcOW4",
        "outputId": "4ab89c94-23a5-4fad-cacd-a70d1d696db7"
      },
      "execution_count": null,
      "outputs": [
        {
          "output_type": "execute_result",
          "data": {
            "text/plain": [
              "11524"
            ]
          },
          "metadata": {},
          "execution_count": 44
        }
      ]
    },
    {
      "cell_type": "code",
      "source": [
        "training_dataset[0][0][0].shape"
      ],
      "metadata": {
        "colab": {
          "base_uri": "https://localhost:8080/"
        },
        "id": "2kWnx_IQbMVQ",
        "outputId": "ef211949-0b5d-4d6e-c63b-23dc5ee6bd4a"
      },
      "execution_count": null,
      "outputs": [
        {
          "output_type": "execute_result",
          "data": {
            "text/plain": [
              "torch.Size([64])"
            ]
          },
          "metadata": {},
          "execution_count": 30
        }
      ]
    },
    {
      "cell_type": "code",
      "source": [
        "training_dataset[0][0][1].shape"
      ],
      "metadata": {
        "colab": {
          "base_uri": "https://localhost:8080/"
        },
        "id": "jDUwGUAAHsFE",
        "outputId": "5ecbd374-6651-4304-c859-3e1ad07cfd7d"
      },
      "execution_count": null,
      "outputs": [
        {
          "output_type": "execute_result",
          "data": {
            "text/plain": [
              "torch.Size([32])"
            ]
          },
          "metadata": {},
          "execution_count": 21
        }
      ]
    },
    {
      "cell_type": "code",
      "source": [
        "training_dataset[0][0][2].shape"
      ],
      "metadata": {
        "colab": {
          "base_uri": "https://localhost:8080/"
        },
        "id": "jOrwUO6aHtXs",
        "outputId": "8e9d23b9-c557-4967-ebf4-95a485ba5f36"
      },
      "execution_count": null,
      "outputs": [
        {
          "output_type": "execute_result",
          "data": {
            "text/plain": [
              "torch.Size([64])"
            ]
          },
          "metadata": {},
          "execution_count": 22
        }
      ]
    },
    {
      "cell_type": "code",
      "source": [
        "# Prepare the training dictionaries\n",
        "dataloaders_dict = {'train': torch.utils.data.DataLoader(training_dataset, batch_size=batch_size, shuffle=True, num_workers=0),\n",
        "                   'val':torch.utils.data.DataLoader(test_dataset, batch_size=batch_size, shuffle=False, num_workers=0)\n",
        "                   }\n",
        "dataset_sizes = {'train':len(train_lists[0]),\n",
        "                'val':len(test_lists[0])}\n",
        "\n",
        "device = torch.device(\"cuda:0\" if torch.cuda.is_available() else \"cpu\")\n",
        "print(device)\n",
        "\n",
        "train_acc = []\n",
        "val_acc = []\n",
        "train_loss = []\n",
        "val_loss = []"
      ],
      "metadata": {
        "colab": {
          "base_uri": "https://localhost:8080/"
        },
        "id": "vHcHt1amFXM-",
        "outputId": "0dfc6dae-d737-4660-f719-bc393f677771"
      },
      "execution_count": null,
      "outputs": [
        {
          "output_type": "stream",
          "name": "stdout",
          "text": [
            "cuda:0\n"
          ]
        }
      ]
    },
    {
      "cell_type": "code",
      "source": [
        "dataloaders_dict['train']"
      ],
      "metadata": {
        "colab": {
          "base_uri": "https://localhost:8080/"
        },
        "id": "R9G0VpUxHG5d",
        "outputId": "735104c8-bb45-4c77-9109-156c92b5c129"
      },
      "execution_count": null,
      "outputs": [
        {
          "output_type": "execute_result",
          "data": {
            "text/plain": [
              "<torch.utils.data.dataloader.DataLoader at 0x79c3d52b4790>"
            ]
          },
          "metadata": {},
          "execution_count": 46
        }
      ]
    },
    {
      "cell_type": "code",
      "source": [
        "def train_model(model, criterion, optimizer, scheduler, num_epochs=25):\n",
        "    since = time.time()\n",
        "    print('starting')\n",
        "    best_model_wts = copy.deepcopy(model.state_dict())\n",
        "    best_loss = 100\n",
        "    best_acc = 0\n",
        "\n",
        "    for epoch in range(num_epochs):\n",
        "        epoch_start = time.time()\n",
        "        print('Epoch {}/{}'.format(epoch+1, num_epochs))\n",
        "        print('-' * 10)\n",
        "\n",
        "        # Each epoch has a training and validation phase\n",
        "        for phase in ['train', 'val']:\n",
        "            if phase == 'train':\n",
        "                scheduler.step()\n",
        "                model.train()  # Set model to training mode\n",
        "            else:\n",
        "                model.eval()   # Set model to evaluate mode\n",
        "\n",
        "            running_loss = 0.0\n",
        "\n",
        "            fakeness_corrects = 0\n",
        "\n",
        "\n",
        "            # Iterate over data.\n",
        "            for inputs, fakeness in dataloaders_dict[phase]:\n",
        "\n",
        "                # input 1 shape: torch.Size([16, 64])\n",
        "                # input 3 shape: torch.Size([16, 32])\n",
        "                # input 4 shape: torch.Size([16, 2304])\n",
        "\n",
        "                inputs1 = inputs[0] # News statement input\n",
        "                # inputs2 = inputs[1] # Justification input\n",
        "                inputs3 = inputs[1] # Meta data input\n",
        "\n",
        "                # inputs4 = inputs[2] # Credit scores input\n",
        "\n",
        "                inputs1 = inputs1.to(device)\n",
        "                # inputs2 = inputs2.to(device)\n",
        "                inputs3 = inputs3.to(device)\n",
        "                # inputs4 = inputs4.to(device)\n",
        "\n",
        "                fakeness = fakeness.to(device)\n",
        "\n",
        "                # zero the parameter gradients\n",
        "                optimizer.zero_grad()\n",
        "\n",
        "                # forward\n",
        "                # track history if only in train\n",
        "                with torch.set_grad_enabled(phase == 'train'):\n",
        "                    #print(inputs)\n",
        "                    outputs = model(inputs1, inputs3) #, inputs4)\n",
        "\n",
        "                    outputs = F.softmax(outputs,dim=1)\n",
        "\n",
        "                    loss = criterion(outputs, torch.max(fakeness.float(), 1)[1])\n",
        "                    # backward + optimize only if in training phase\n",
        "                    if phase == 'train':\n",
        "\n",
        "                        loss.backward()\n",
        "                        optimizer.step()\n",
        "\n",
        "                # statistics\n",
        "                running_loss += loss.item() * inputs1.size(0)\n",
        "\n",
        "\n",
        "                fakeness_corrects += torch.sum(torch.max(outputs, 1)[1] == torch.max(fakeness, 1)[1])\n",
        "\n",
        "\n",
        "            epoch_loss = running_loss / dataset_sizes[phase]\n",
        "\n",
        "\n",
        "            fakeness_acc = fakeness_corrects.double() / dataset_sizes[phase]\n",
        "\n",
        "            print('{} total loss: {:.4f} '.format(phase, epoch_loss ))\n",
        "            print('{} fakeness_acc: {:.4f}'.format(\n",
        "                phase, fakeness_acc))\n",
        "\n",
        "            # Saving training acc and loss for each epoch\n",
        "            fakeness_acc1 = fakeness_acc.data\n",
        "            fakeness_acc1 = fakeness_acc1.cpu()\n",
        "            fakeness_acc1 = fakeness_acc1.numpy()\n",
        "            train_acc.append(fakeness_acc1)\n",
        "\n",
        "            #epoch_loss1 = epoch_loss.data\n",
        "            #epoch_loss1 = epoch_loss1.cpu()\n",
        "            #epoch_loss1 = epoch_loss1.numpy()\n",
        "            train_loss.append(epoch_loss)\n",
        "\n",
        "            if phase == 'val': #and fakeness_acc > best_acc:\n",
        "                # print('Saving with accuracy of {}'.format(fakeness_acc),\n",
        "                      # 'improved over previous {}'.format(best_acc))\n",
        "                best_acc = fakeness_acc\n",
        "\n",
        "                # Saving val acc and loss for each epoch\n",
        "                fakeness_acc1 = fakeness_acc.data\n",
        "                fakeness_acc1 = fakeness_acc1.cpu()\n",
        "                fakeness_acc1 = fakeness_acc1.numpy()\n",
        "                val_acc.append(fakeness_acc1)\n",
        "\n",
        "                #epoch_loss1 = epoch_loss.data\n",
        "                #epoch_loss1 = epoch_loss1.cpu()\n",
        "                #epoch_loss1 = epoch_loss1.numpy()\n",
        "                val_loss.append(epoch_loss)\n",
        "\n",
        "                best_model_wts = copy.deepcopy(model.state_dict())\n",
        "                torch.save(model.state_dict(), 'bert_model_test_noFC1_triBERT_binary_focalloss.pth')\n",
        "\n",
        "        print('Time taken for epoch'+ str(epoch+1)+ ' is ' + str((time.time() - epoch_start)/60) + ' minutes')\n",
        "        print()\n",
        "\n",
        "    time_elapsed = time.time() - since\n",
        "    print('Training complete in {:.0f}m {:.0f}s'.format(\n",
        "        time_elapsed // 60, time_elapsed % 60))\n",
        "    print('Best val Acc: {:4f}'.format(float(best_acc)))\n",
        "\n",
        "    # load best model weights\n",
        "    model.load_state_dict(best_model_wts)\n",
        "    return model, train_acc, val_acc, train_loss, val_loss\n",
        "\n",
        "model.to(device)\n",
        "\n",
        "\n",
        "lrlast = .0001\n",
        "lrmain = .00001\n",
        "optim1 = optim.Adam(\n",
        "    [\n",
        "        {\"params\":model.bert.parameters(),\"lr\": lrmain},\n",
        "        {\"params\":model.classifier.parameters(), \"lr\": lrlast},\n",
        "\n",
        "   ])\n",
        "\n",
        "#optim1 = optim.Adam(model.parameters(), lr=0.001)#,momentum=.9)\n",
        "# Observe that all parameters are being optimized\n",
        "optimizer_ft = optim1\n",
        "criterion = nn.CrossEntropyLoss()\n",
        "\n",
        "'''import focal_loss\n",
        "loss_args = {\"alpha\": 0.5, \"gamma\": 2.0}\n",
        "criterion = focal_loss.FocalLoss(*loss_args)'''\n",
        "\n",
        "# Decay LR by a factor of 0.1 every 3 epochs\n",
        "exp_lr_scheduler = lr_scheduler.StepLR(optimizer_ft, step_size=3, gamma=0.1)\n",
        "\n",
        "\n",
        "model_ft1, train_acc, val_acc, train_loss, val_loss = train_model(model, criterion, optimizer_ft, exp_lr_scheduler,num_epochs=5)\n",
        "\n"
      ],
      "metadata": {
        "colab": {
          "base_uri": "https://localhost:8080/"
        },
        "id": "6HPlGou1IUGL",
        "outputId": "3cfc1aff-47c4-419b-d5e1-9c1f6f0a014e"
      },
      "execution_count": null,
      "outputs": [
        {
          "metadata": {
            "tags": null
          },
          "name": "stdout",
          "output_type": "stream",
          "text": [
            "starting\n",
            "Epoch 1/5\n",
            "----------\n"
          ]
        },
        {
          "metadata": {
            "tags": null
          },
          "name": "stderr",
          "output_type": "stream",
          "text": [
            "/usr/local/lib/python3.10/dist-packages/torch/optim/lr_scheduler.py:143: UserWarning: Detected call of `lr_scheduler.step()` before `optimizer.step()`. In PyTorch 1.1.0 and later, you should call them in the opposite order: `optimizer.step()` before `lr_scheduler.step()`.  Failure to do this will result in PyTorch skipping the first value of the learning rate schedule. See more details at https://pytorch.org/docs/stable/optim.html#how-to-adjust-learning-rate\n",
            "  warnings.warn(\"Detected call of `lr_scheduler.step()` before `optimizer.step()`. \"\n"
          ]
        },
        {
          "output_type": "stream",
          "name": "stdout",
          "text": [
            "train total loss: 1.7758 \n",
            "train fakeness_acc: 0.2070\n",
            "val total loss: 1.7707 \n",
            "val fakeness_acc: 0.2092\n",
            "Time taken for epoch1 is 3.652491823832194 minutes\n",
            "\n",
            "Epoch 2/5\n",
            "----------\n",
            "train total loss: 1.7675 \n",
            "train fakeness_acc: 0.2261\n",
            "val total loss: 1.7575 \n",
            "val fakeness_acc: 0.2478\n",
            "Time taken for epoch2 is 3.6941370526949564 minutes\n",
            "\n",
            "Epoch 3/5\n",
            "----------\n",
            "train total loss: 1.7489 \n",
            "train fakeness_acc: 0.2582\n",
            "val total loss: 1.7544 \n",
            "val fakeness_acc: 0.2510\n",
            "Time taken for epoch3 is 3.697904320557912 minutes\n",
            "\n",
            "Epoch 4/5\n",
            "----------\n",
            "train total loss: 1.7443 \n",
            "train fakeness_acc: 0.2648\n",
            "val total loss: 1.7539 \n",
            "val fakeness_acc: 0.2502\n",
            "Time taken for epoch4 is 3.6989697138468425 minutes\n",
            "\n",
            "Epoch 5/5\n",
            "----------\n",
            "train total loss: 1.7398 \n",
            "train fakeness_acc: 0.2731\n",
            "val total loss: 1.7531 \n",
            "val fakeness_acc: 0.2581\n",
            "Time taken for epoch5 is 3.7228988726933796 minutes\n",
            "\n",
            "Training complete in 18m 28s\n",
            "Best val Acc: 0.258090\n"
          ]
        }
      ]
    },
    {
      "cell_type": "code",
      "source": [
        "val_acc"
      ],
      "metadata": {
        "id": "N-_ifmGFt99S"
      },
      "execution_count": null,
      "outputs": []
    },
    {
      "cell_type": "code",
      "source": [],
      "metadata": {
        "id": "RLHuAG45uBSe"
      },
      "execution_count": null,
      "outputs": []
    },
    {
      "cell_type": "code",
      "source": [
        "# Accuracy plots\n",
        "print(val_acc)\n",
        "print(val_loss)\n",
        "\n",
        "plt.plot(train_acc)\n",
        "plt.plot(val_acc)\n",
        "plt.title('Model accuracy')\n",
        "plt.ylabel('accuracy')\n",
        "plt.xlabel('epoch')\n",
        "plt.legend(['train','val'], loc='upper left')\n",
        "plt.show()\n",
        "# plt.savefig('accuracy.png')\n",
        "# plt.close()\n",
        "\n",
        "print('Saved Accuracy plot')\n",
        "\n",
        "# Loss plots\n",
        "\n",
        "plt.plot(train_loss)\n",
        "plt.plot(val_loss)\n",
        "plt.title('Model loss')\n",
        "plt.ylabel('loss')\n",
        "plt.xlabel('epoch')\n",
        "plt.legend(['train','val'], loc='upper left')\n",
        "plt.show()\n",
        "# plt.savefig('loss.png')\n",
        "# plt.close()\n",
        "\n",
        "print('Saved Loss plot')"
      ],
      "metadata": {
        "id": "-IUmAkpOWkmx",
        "colab": {
          "base_uri": "https://localhost:8080/",
          "height": 1000
        },
        "outputId": "afc82ef5-ab21-4721-c26d-92c080db2bad"
      },
      "execution_count": null,
      "outputs": [
        {
          "output_type": "stream",
          "name": "stdout",
          "text": [
            "[array(0.20915549), array(0.24782952), array(0.25098658), array(0.25019732), array(0.25808998)]\n",
            "[1.7706973023930213, 1.7575317172432097, 1.754359760431201, 1.7539338518901424, 1.753079380213791]\n"
          ]
        },
        {
          "output_type": "display_data",
          "data": {
            "text/plain": [
              "<Figure size 640x480 with 1 Axes>"
            ],
            "image/png": "[encoded data removed]"
          },
          "metadata": {}
        },
        {
          "output_type": "stream",
          "name": "stdout",
          "text": [
            "Saved Accuracy plot\n"
          ]
        },
        {
          "output_type": "display_data",
          "data": {
            "text/plain": [
              "<Figure size 640x480 with 1 Axes>"
            ],
            "image/png": "[encoded data removed]"
          },
          "metadata": {}
        },
        {
          "output_type": "stream",
          "name": "stdout",
          "text": [
            "Saved Loss plot\n"
          ]
        }
      ]
    },
    {
      "cell_type": "code",
      "source": [
        "# print the number of parameters in the model\n",
        "# Count the number of parameters\n",
        "total_params = sum(p.numel() for p in model.parameters())\n",
        "trainable_params = sum(p.numel() for p in model.parameters() if p.requires_grad)\n",
        "\n",
        "print(f\"Total number of parameters: {total_params}\")\n",
        "print(f\"Number of trainable parameters: {trainable_params}\")"
      ],
      "metadata": {
        "id": "N06PnheMqSfo",
        "colab": {
          "base_uri": "https://localhost:8080/"
        },
        "outputId": "8722bb89-5981-43c7-96d3-3c8560a13814"
      },
      "execution_count": null,
      "outputs": [
        {
          "output_type": "stream",
          "name": "stdout",
          "text": [
            "Total number of parameters: 109491462\n",
            "Number of trainable parameters: 109491462\n"
          ]
        }
      ]
    },
    {
      "cell_type": "code",
      "source": [],
      "metadata": {
        "id": "1EzTc3FLczyI"
      },
      "execution_count": null,
      "outputs": []
    }
  ]
}