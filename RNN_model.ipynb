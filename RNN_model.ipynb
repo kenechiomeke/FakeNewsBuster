{
  "cells": [
    {
      "cell_type": "markdown",
      "metadata": {
        "id": "CpGt0OF0VOnu"
      },
      "source": [
        "July 11, 2024 Project Collab Notebook"
      ]
    },
    {
      "cell_type": "markdown",
      "metadata": {
        "id": "urQUEOhoOS00"
      },
      "source": []
    },
    {
      "cell_type": "markdown",
      "metadata": {
        "id": "kOEkLckjuDXe"
      },
      "source": [
        "# Introduction\n",
        "\n",
        "\n",
        "Fake news classification [based on the liar liar dataset](https://arxiv.org/pdf/1705.00648v1)."
      ]
    },
    {
      "cell_type": "markdown",
      "metadata": {
        "id": "zj-ajTApxMEN"
      },
      "source": [
        "### Imports"
      ]
    },
    {
      "cell_type": "code",
      "execution_count": null,
      "metadata": {
        "id": "fzfAadTjVUUv"
      },
      "outputs": [],
      "source": [
        "# Imports\n",
        "import time\n",
        "import random\n",
        "import numpy as np\n",
        "import pandas as pd\n",
        "import matplotlib.pyplot as plt\n",
        "\n",
        "# PyTorch libraries\n",
        "import torch\n",
        "from torch import nn\n",
        "from torchvision import datasets\n",
        "from torch.utils.data import DataLoader, TensorDataset\n",
        "from torchvision.transforms import ToTensor\n",
        "from collections import Counter\n",
        "import torch.nn.functional as F\n",
        "import torch.optim as optim\n",
        "\n",
        "# NLP libraries\n",
        "import spacy\n",
        "import nltk\n",
        "from nltk.corpus import stopwords\n",
        "from nltk.stem import SnowballStemmer"
      ]
    },
    {
      "cell_type": "markdown",
      "metadata": {
        "id": "typ7zYOrjfLI"
      },
      "source": [
        "Loading Liar Dataset"
      ]
    },
    {
      "cell_type": "code",
      "execution_count": null,
      "metadata": {
        "id": "yKcpMR5dglfx"
      },
      "outputs": [],
      "source": [
        "data_path = '/content/'"
      ]
    },
    {
      "cell_type": "code",
      "execution_count": null,
      "metadata": {
        "id": "zgEhppytiSmJ"
      },
      "outputs": [],
      "source": [
        "# For example, Mitt Romney has a credit\n",
        "# history vector h = {19, 32, 34, 58, 33}, which corresponds to his counts of “pants on fire”, “false”,\n",
        "# “barely true”, “half true”, “mostly true” for historical statements\n",
        "\n",
        "# pof = pants on fire\n",
        "df_train = pd.read_csv(data_path + 'train.tsv', sep='\\t', names=[\"source\", \"truth_class\",\n",
        "                                                              \"statement\", \"area\", \"speaker\",\n",
        "                                                              \"speaker_role\", \"location\", \"party\",\n",
        "                                                              \"pof_count\", \"false_count\", \"barely_true_count\", \"half_true_count\",\n",
        "                                                              \"mostly_true_count\", \"media\"])\n",
        "df_train['type'] = 0\n",
        "\n",
        "df_test = pd.read_csv(data_path +  'test.tsv', sep='\\t', names=[\"source\", \"truth_class\",\n",
        "                                                              \"statement\", \"area\", \"speaker\",\n",
        "                                                              \"speaker_role\", \"location\", \"party\",\n",
        "                                                              \"pof_count\", \"false_count\", \"barely_true_count\", \"half_true_count\",\n",
        "                                                              \"mostly_true_count\", \"media\"])\n",
        "df_test['type'] = 2\n",
        "\n",
        "df_valid = pd.read_csv(data_path + 'valid.tsv', sep='\\t', names=[\"source\", \"truth_class\",\n",
        "                                                              \"statement\", \"area\", \"speaker\",\n",
        "                                                              \"speaker_role\", \"location\", \"party\",\n",
        "                                                              \"pof_count\", \"false_count\", \"barely_true_count\", \"half_true_count\",\n",
        "                                                              \"mostly_true_count\", \"media\"])\n",
        "df_valid['type'] = 1\n"
      ]
    },
    {
      "cell_type": "code",
      "execution_count": null,
      "metadata": {
        "colab": {
          "base_uri": "https://localhost:8080/"
        },
        "id": "oDXVV3gkCBTB",
        "outputId": "27732caa-a276-4e47-c767-bd6fc7fb45b4"
      },
      "outputs": [
        {
          "name": "stdout",
          "output_type": "stream",
          "text": [
            "(10240, 15)\n",
            "(1284, 15)\n",
            "(1267, 15)\n"
          ]
        }
      ],
      "source": [
        "print(df_train.shape)\n",
        "print(df_valid.shape)\n",
        "print(df_test.shape)\n"
      ]
    },
    {
      "cell_type": "code",
      "execution_count": null,
      "metadata": {
        "colab": {
          "base_uri": "https://localhost:8080/"
        },
        "id": "E5LvcpZDCDmE",
        "outputId": "46485ccc-7907-4f17-f5f4-61076e32a2c0"
      },
      "outputs": [
        {
          "data": {
            "text/plain": [
              "(10240, 15)"
            ]
          },
          "execution_count": 6,
          "metadata": {},
          "output_type": "execute_result"
        }
      ],
      "source": [
        "df_train.shape"
      ]
    },
    {
      "cell_type": "code",
      "execution_count": null,
      "metadata": {
        "id": "hC6yw7H7NyUT"
      },
      "outputs": [],
      "source": [
        "# Concatenate all dataset for cleaning\n",
        "df_all = pd.concat([df_train, df_valid, df_test])"
      ]
    },
    {
      "cell_type": "code",
      "execution_count": null,
      "metadata": {
        "id": "Yw_jCSUHaj67"
      },
      "outputs": [],
      "source": [
        "# Reset index to ensure no duplicate index values\n",
        "df_all = df_all.reset_index(drop=True)"
      ]
    },
    {
      "cell_type": "code",
      "execution_count": null,
      "metadata": {
        "colab": {
          "base_uri": "https://localhost:8080/"
        },
        "id": "ERR0mL85u2kd",
        "outputId": "3709e37c-ac58-46b1-87f0-6affc63b5fcb"
      },
      "outputs": [
        {
          "data": {
            "text/plain": [
              "Index(['source', 'truth_class', 'statement', 'area', 'speaker', 'speaker_role',\n",
              "       'location', 'party', 'pof_count', 'false_count', 'barely_true_count',\n",
              "       'half_true_count', 'mostly_true_count', 'media', 'type'],\n",
              "      dtype='object')"
            ]
          },
          "execution_count": 9,
          "metadata": {},
          "output_type": "execute_result"
        }
      ],
      "source": [
        "# df_all.columns"
      ]
    },
    {
      "cell_type": "code",
      "execution_count": null,
      "metadata": {
        "colab": {
          "base_uri": "https://localhost:8080/",
          "height": 35
        },
        "id": "YDYqe3Egam-P",
        "outputId": "69f4364a-ecd7-4e8a-f105-135e54616594"
      },
      "outputs": [
        {
          "data": {
            "application/vnd.google.colaboratory.intrinsic+json": {
              "type": "string"
            },
            "text/plain": [
              "'Says the Annies List political group supports third-trimester abortions on demand.'"
            ]
          },
          "execution_count": 10,
          "metadata": {},
          "output_type": "execute_result"
        }
      ],
      "source": [
        "df_all['statement'][0]"
      ]
    },
    {
      "cell_type": "code",
      "execution_count": null,
      "metadata": {
        "colab": {
          "base_uri": "https://localhost:8080/",
          "height": 430
        },
        "id": "ljlEheGNOHh8",
        "outputId": "00d4c93b-fe78-460f-8443-c5963102c134"
      },
      "outputs": [
        {
          "data": {
            "image/png": "[encoded data removed]",
            "text/plain": [
              "<Figure size 640x480 with 1 Axes>"
            ]
          },
          "metadata": {},
          "output_type": "display_data"
        }
      ],
      "source": [
        "# @title truth-class\n",
        "\n",
        "from matplotlib import pyplot as plt\n",
        "import seaborn as sns\n",
        "df_train.groupby('truth_class').size().plot(kind='barh', color=sns.palettes.mpl_palette('Dark2'))\n",
        "plt.gca().spines[['top', 'right',]].set_visible(False)"
      ]
    },
    {
      "cell_type": "code",
      "execution_count": null,
      "metadata": {
        "colab": {
          "base_uri": "https://localhost:8080/"
        },
        "id": "AruKahSJMHy5",
        "outputId": "e9de24ce-25f3-4f1a-f3dd-d62fb0ec7c86"
      },
      "outputs": [
        {
          "name": "stdout",
          "output_type": "stream",
          "text": [
            "<class 'pandas.core.frame.DataFrame'>\n",
            "RangeIndex: 12791 entries, 0 to 12790\n",
            "Data columns (total 15 columns):\n",
            " #   Column             Non-Null Count  Dtype  \n",
            "---  ------             --------------  -----  \n",
            " 0   source             12791 non-null  object \n",
            " 1   truth_class        12791 non-null  object \n",
            " 2   statement          12791 non-null  object \n",
            " 3   area               12789 non-null  object \n",
            " 4   speaker            12789 non-null  object \n",
            " 5   speaker_role       9223 non-null   object \n",
            " 6   location           10040 non-null  object \n",
            " 7   party              12789 non-null  object \n",
            " 8   pof_count          12789 non-null  float64\n",
            " 9   false_count        12789 non-null  float64\n",
            " 10  barely_true_count  12789 non-null  float64\n",
            " 11  half_true_count    12789 non-null  float64\n",
            " 12  mostly_true_count  12789 non-null  float64\n",
            " 13  media              12660 non-null  object \n",
            " 14  type               12791 non-null  int64  \n",
            "dtypes: float64(5), int64(1), object(9)\n",
            "memory usage: 1.5+ MB\n"
          ]
        }
      ],
      "source": [
        "df_all.info()"
      ]
    },
    {
      "cell_type": "code",
      "execution_count": null,
      "metadata": {
        "id": "wBFiUpl0MZ_e"
      },
      "outputs": [],
      "source": [
        "# add a column for statement counts\n",
        "df_all['statement_count'] = 0\n",
        "\n",
        "role_counts = df_all['speaker'].value_counts()\n",
        "\n",
        "# Map the counts to the 'count' column\n",
        "df_all['statement_count'] = df_all['speaker'].map(role_counts)\n",
        "\n",
        "# make the counts percents\n",
        "df_all['pof_percent'] = df_all['pof_count']/df_all['statement_count']\n",
        "df_all['false_percent'] = df_all['false_count']/df_all['statement_count']\n",
        "df_all['barely_true_percent'] = df_all['barely_true_count']/df_all['statement_count']\n",
        "df_all['half_true_percent'] = df_all['half_true_count']/df_all['statement_count']\n",
        "df_all['mostly_true_percent'] = df_all['mostly_true_count']/df_all['statement_count']\n",
        "df_all['true_percent'] = 1 - (df_all['pof_percent'] + df_all['false_percent'] + df_all['barely_true_percent']\n",
        "                              + df_all['half_true_percent'] +  df_all['mostly_true_percent'])"
      ]
    },
    {
      "cell_type": "code",
      "execution_count": null,
      "metadata": {
        "id": "APl35POgFiDP"
      },
      "outputs": [],
      "source": [
        "# translate pants-fire, false, barelytrue, half-true, mostly-true, and true to 0, 1, 2, 3, 4, 5\n",
        "mapping_dict = {\n",
        "    \"pants-fire\": 0,\n",
        "    \"false\": 1,\n",
        "    \"barely-true\": 2,\n",
        "    \"half-true\": 3,\n",
        "    \"mostly-true\": 4,\n",
        "    \"true\": 5\n",
        "}\n",
        "\n",
        "# Apply the mapping to the \"truth_class\" column\n",
        "df_all['truth_map'] = df_all['truth_class'].map(mapping_dict)\n"
      ]
    },
    {
      "cell_type": "code",
      "execution_count": null,
      "metadata": {
        "colab": {
          "base_uri": "https://localhost:8080/"
        },
        "id": "uGT11y8JcEs7",
        "outputId": "430fd77f-683f-4aed-9ba3-9afc90446bdc"
      },
      "outputs": [
        {
          "data": {
            "text/plain": [
              "Index(['source', 'truth_class', 'statement', 'area', 'speaker', 'speaker_role',\n",
              "       'location', 'party', 'pof_count', 'false_count', 'barely_true_count',\n",
              "       'half_true_count', 'mostly_true_count', 'media', 'type',\n",
              "       'statement_count', 'pof_percent', 'false_percent',\n",
              "       'barely_true_percent', 'half_true_percent', 'mostly_true_percent',\n",
              "       'true_percent', 'truth_map'],\n",
              "      dtype='object')"
            ]
          },
          "execution_count": 15,
          "metadata": {},
          "output_type": "execute_result"
        }
      ],
      "source": [
        "df_all.columns"
      ]
    },
    {
      "cell_type": "code",
      "execution_count": null,
      "metadata": {
        "id": "533h_M4tcAgL"
      },
      "outputs": [],
      "source": [
        "# df_all['true_percent'].plot(kind='bar')"
      ]
    },
    {
      "cell_type": "code",
      "execution_count": null,
      "metadata": {
        "id": "XCZY2i5pdfch"
      },
      "outputs": [],
      "source": [
        "# # sort the true_percent column in descending order\n",
        "# df_all = df_all.sort_values(by='true_percent', ascending=False)"
      ]
    },
    {
      "cell_type": "code",
      "execution_count": null,
      "metadata": {
        "colab": {
          "base_uri": "https://localhost:8080/",
          "height": 1000
        },
        "id": "Vv2F5Fi3eIFJ",
        "outputId": "b80e2f93-e134-4a52-a27a-cbcbcc761380"
      },
      "outputs": [
        {
          "data": {
            "application/vnd.google.colaboratory.intrinsic+json": {
              "type": "dataframe",
              "variable_name": "df_all"
            },
            "text/html": [
              "\n",
              "  <div id=\"df-ddd3d09a-2a29-4952-a219-852ed52d6962\" class=\"colab-df-container\">\n",
              "    <div>\n",
              "<style scoped>\n",
              "    .dataframe tbody tr th:only-of-type {\n",
              "        vertical-align: middle;\n",
              "    }\n",
              "\n",
              "    .dataframe tbody tr th {\n",
              "        vertical-align: top;\n",
              "    }\n",
              "\n",
              "    .dataframe thead th {\n",
              "        text-align: right;\n",
              "    }\n",
              "</style>\n",
              "<table border=\"1\" class=\"dataframe\">\n",
              "  <thead>\n",
              "    <tr style=\"text-align: right;\">\n",
              "      <th></th>\n",
              "      <th>source</th>\n",
              "      <th>truth_class</th>\n",
              "      <th>statement</th>\n",
              "      <th>area</th>\n",
              "      <th>speaker</th>\n",
              "      <th>speaker_role</th>\n",
              "      <th>location</th>\n",
              "      <th>party</th>\n",
              "      <th>pof_count</th>\n",
              "      <th>false_count</th>\n",
              "      <th>...</th>\n",
              "      <th>media</th>\n",
              "      <th>type</th>\n",
              "      <th>statement_count</th>\n",
              "      <th>pof_percent</th>\n",
              "      <th>false_percent</th>\n",
              "      <th>barely_true_percent</th>\n",
              "      <th>half_true_percent</th>\n",
              "      <th>mostly_true_percent</th>\n",
              "      <th>true_percent</th>\n",
              "      <th>truth_map</th>\n",
              "    </tr>\n",
              "  </thead>\n",
              "  <tbody>\n",
              "    <tr>\n",
              "      <th>0</th>\n",
              "      <td>2635.json</td>\n",
              "      <td>false</td>\n",
              "      <td>Says the Annies List political group supports ...</td>\n",
              "      <td>abortion</td>\n",
              "      <td>dwayne-bohac</td>\n",
              "      <td>State representative</td>\n",
              "      <td>Texas</td>\n",
              "      <td>republican</td>\n",
              "      <td>0.0</td>\n",
              "      <td>1.0</td>\n",
              "      <td>...</td>\n",
              "      <td>a mailer</td>\n",
              "      <td>0</td>\n",
              "      <td>1.0</td>\n",
              "      <td>0.000000</td>\n",
              "      <td>1.000000</td>\n",
              "      <td>0.000000</td>\n",
              "      <td>0.000000</td>\n",
              "      <td>0.000000</td>\n",
              "      <td>0.000000</td>\n",
              "      <td>1</td>\n",
              "    </tr>\n",
              "    <tr>\n",
              "      <th>1</th>\n",
              "      <td>10540.json</td>\n",
              "      <td>half-true</td>\n",
              "      <td>When did the decline of coal start? It started...</td>\n",
              "      <td>energy,history,job-accomplishments</td>\n",
              "      <td>scott-surovell</td>\n",
              "      <td>State delegate</td>\n",
              "      <td>Virginia</td>\n",
              "      <td>democrat</td>\n",
              "      <td>0.0</td>\n",
              "      <td>0.0</td>\n",
              "      <td>...</td>\n",
              "      <td>a floor speech.</td>\n",
              "      <td>0</td>\n",
              "      <td>2.0</td>\n",
              "      <td>0.000000</td>\n",
              "      <td>0.000000</td>\n",
              "      <td>0.500000</td>\n",
              "      <td>0.500000</td>\n",
              "      <td>0.000000</td>\n",
              "      <td>0.000000</td>\n",
              "      <td>3</td>\n",
              "    </tr>\n",
              "    <tr>\n",
              "      <th>2</th>\n",
              "      <td>324.json</td>\n",
              "      <td>mostly-true</td>\n",
              "      <td>Hillary Clinton agrees with John McCain \"by vo...</td>\n",
              "      <td>foreign-policy</td>\n",
              "      <td>barack-obama</td>\n",
              "      <td>President</td>\n",
              "      <td>Illinois</td>\n",
              "      <td>democrat</td>\n",
              "      <td>70.0</td>\n",
              "      <td>71.0</td>\n",
              "      <td>...</td>\n",
              "      <td>Denver</td>\n",
              "      <td>0</td>\n",
              "      <td>611.0</td>\n",
              "      <td>0.114566</td>\n",
              "      <td>0.116203</td>\n",
              "      <td>0.261866</td>\n",
              "      <td>0.266776</td>\n",
              "      <td>0.014730</td>\n",
              "      <td>0.225859</td>\n",
              "      <td>4</td>\n",
              "    </tr>\n",
              "    <tr>\n",
              "      <th>3</th>\n",
              "      <td>1123.json</td>\n",
              "      <td>false</td>\n",
              "      <td>Health care reform legislation is likely to ma...</td>\n",
              "      <td>health-care</td>\n",
              "      <td>blog-posting</td>\n",
              "      <td>NaN</td>\n",
              "      <td>NaN</td>\n",
              "      <td>none</td>\n",
              "      <td>7.0</td>\n",
              "      <td>19.0</td>\n",
              "      <td>...</td>\n",
              "      <td>a news release</td>\n",
              "      <td>0</td>\n",
              "      <td>81.0</td>\n",
              "      <td>0.086420</td>\n",
              "      <td>0.234568</td>\n",
              "      <td>0.037037</td>\n",
              "      <td>0.061728</td>\n",
              "      <td>0.543210</td>\n",
              "      <td>0.037037</td>\n",
              "      <td>1</td>\n",
              "    </tr>\n",
              "    <tr>\n",
              "      <th>4</th>\n",
              "      <td>9028.json</td>\n",
              "      <td>half-true</td>\n",
              "      <td>The economic turnaround started at the end of ...</td>\n",
              "      <td>economy,jobs</td>\n",
              "      <td>charlie-crist</td>\n",
              "      <td>NaN</td>\n",
              "      <td>Florida</td>\n",
              "      <td>democrat</td>\n",
              "      <td>15.0</td>\n",
              "      <td>9.0</td>\n",
              "      <td>...</td>\n",
              "      <td>an interview on CNN</td>\n",
              "      <td>0</td>\n",
              "      <td>90.0</td>\n",
              "      <td>0.166667</td>\n",
              "      <td>0.100000</td>\n",
              "      <td>0.222222</td>\n",
              "      <td>0.211111</td>\n",
              "      <td>0.022222</td>\n",
              "      <td>0.277778</td>\n",
              "      <td>3</td>\n",
              "    </tr>\n",
              "    <tr>\n",
              "      <th>...</th>\n",
              "      <td>...</td>\n",
              "      <td>...</td>\n",
              "      <td>...</td>\n",
              "      <td>...</td>\n",
              "      <td>...</td>\n",
              "      <td>...</td>\n",
              "      <td>...</td>\n",
              "      <td>...</td>\n",
              "      <td>...</td>\n",
              "      <td>...</td>\n",
              "      <td>...</td>\n",
              "      <td>...</td>\n",
              "      <td>...</td>\n",
              "      <td>...</td>\n",
              "      <td>...</td>\n",
              "      <td>...</td>\n",
              "      <td>...</td>\n",
              "      <td>...</td>\n",
              "      <td>...</td>\n",
              "      <td>...</td>\n",
              "      <td>...</td>\n",
              "    </tr>\n",
              "    <tr>\n",
              "      <th>12786</th>\n",
              "      <td>7334.json</td>\n",
              "      <td>half-true</td>\n",
              "      <td>Says his budget provides the highest state fun...</td>\n",
              "      <td>education</td>\n",
              "      <td>rick-scott</td>\n",
              "      <td>Governor</td>\n",
              "      <td>Florida</td>\n",
              "      <td>republican</td>\n",
              "      <td>28.0</td>\n",
              "      <td>23.0</td>\n",
              "      <td>...</td>\n",
              "      <td>a news conference</td>\n",
              "      <td>2</td>\n",
              "      <td>150.0</td>\n",
              "      <td>0.186667</td>\n",
              "      <td>0.153333</td>\n",
              "      <td>0.253333</td>\n",
              "      <td>0.226667</td>\n",
              "      <td>0.046667</td>\n",
              "      <td>0.133333</td>\n",
              "      <td>3</td>\n",
              "    </tr>\n",
              "    <tr>\n",
              "      <th>12787</th>\n",
              "      <td>9788.json</td>\n",
              "      <td>barely-true</td>\n",
              "      <td>Ive been here almost every day.</td>\n",
              "      <td>civil-rights,crime,criminal-justice</td>\n",
              "      <td>jay-nixon</td>\n",
              "      <td>Governor</td>\n",
              "      <td>Missouri</td>\n",
              "      <td>democrat</td>\n",
              "      <td>2.0</td>\n",
              "      <td>0.0</td>\n",
              "      <td>...</td>\n",
              "      <td>on ABC's \"This Week\"</td>\n",
              "      <td>2</td>\n",
              "      <td>4.0</td>\n",
              "      <td>0.500000</td>\n",
              "      <td>0.000000</td>\n",
              "      <td>0.000000</td>\n",
              "      <td>0.250000</td>\n",
              "      <td>0.000000</td>\n",
              "      <td>0.250000</td>\n",
              "      <td>2</td>\n",
              "    </tr>\n",
              "    <tr>\n",
              "      <th>12788</th>\n",
              "      <td>10710.json</td>\n",
              "      <td>barely-true</td>\n",
              "      <td>In the early 1980s, Sen. Edward Kennedy secret...</td>\n",
              "      <td>bipartisanship,congress,foreign-policy,history</td>\n",
              "      <td>mackubin-thomas-owens</td>\n",
              "      <td>senior fellow, Foreign Policy Research Institute</td>\n",
              "      <td>Rhode Island</td>\n",
              "      <td>columnist</td>\n",
              "      <td>1.0</td>\n",
              "      <td>0.0</td>\n",
              "      <td>...</td>\n",
              "      <td>a commentary in The Providence Journal</td>\n",
              "      <td>2</td>\n",
              "      <td>1.0</td>\n",
              "      <td>1.000000</td>\n",
              "      <td>0.000000</td>\n",
              "      <td>0.000000</td>\n",
              "      <td>0.000000</td>\n",
              "      <td>0.000000</td>\n",
              "      <td>0.000000</td>\n",
              "      <td>2</td>\n",
              "    </tr>\n",
              "    <tr>\n",
              "      <th>12789</th>\n",
              "      <td>3186.json</td>\n",
              "      <td>barely-true</td>\n",
              "      <td>Says an EPA permit languished under Strickland...</td>\n",
              "      <td>environment,government-efficiency</td>\n",
              "      <td>john-kasich</td>\n",
              "      <td>Governor of Ohio as of Jan. 10, 2011</td>\n",
              "      <td>Ohio</td>\n",
              "      <td>republican</td>\n",
              "      <td>9.0</td>\n",
              "      <td>8.0</td>\n",
              "      <td>...</td>\n",
              "      <td>a news conference</td>\n",
              "      <td>2</td>\n",
              "      <td>67.0</td>\n",
              "      <td>0.134328</td>\n",
              "      <td>0.119403</td>\n",
              "      <td>0.149254</td>\n",
              "      <td>0.268657</td>\n",
              "      <td>0.044776</td>\n",
              "      <td>0.283582</td>\n",
              "      <td>2</td>\n",
              "    </tr>\n",
              "    <tr>\n",
              "      <th>12790</th>\n",
              "      <td>6743.json</td>\n",
              "      <td>false</td>\n",
              "      <td>Says the governor is going around the state ta...</td>\n",
              "      <td>state-budget,state-finances,taxes</td>\n",
              "      <td>john-burzichelli</td>\n",
              "      <td>NaN</td>\n",
              "      <td>NaN</td>\n",
              "      <td>democrat</td>\n",
              "      <td>1.0</td>\n",
              "      <td>1.0</td>\n",
              "      <td>...</td>\n",
              "      <td>an interview with NJToday</td>\n",
              "      <td>2</td>\n",
              "      <td>2.0</td>\n",
              "      <td>0.500000</td>\n",
              "      <td>0.500000</td>\n",
              "      <td>0.000000</td>\n",
              "      <td>0.000000</td>\n",
              "      <td>0.000000</td>\n",
              "      <td>0.000000</td>\n",
              "      <td>1</td>\n",
              "    </tr>\n",
              "  </tbody>\n",
              "</table>\n",
              "<p>12791 rows × 23 columns</p>\n",
              "</div>\n",
              "    <div class=\"colab-df-buttons\">\n",
              "\n",
              "  <div class=\"colab-df-container\">\n",
              "    <button class=\"colab-df-convert\" onclick=\"convertToInteractive('df-ddd3d09a-2a29-4952-a219-852ed52d6962')\"\n",
              "            title=\"Convert this dataframe to an interactive table.\"\n",
              "            style=\"display:none;\">\n",
              "\n",
              "  <svg xmlns=\"http://www.w3.org/2000/svg\" height=\"24px\" viewBox=\"0 -960 960 960\">\n",
              "    <path d=\"M120-120v-720h720v720H120Zm60-500h600v-160H180v160Zm220 220h160v-160H400v160Zm0 220h160v-160H400v160ZM180-400h160v-160H180v160Zm440 0h160v-160H620v160ZM180-180h160v-160H180v160Zm440 0h160v-160H620v160Z\"/>\n",
              "  </svg>\n",
              "    </button>\n",
              "\n",
              "  <style>\n",
              "    .colab-df-container {\n",
              "      display:flex;\n",
              "      gap: 12px;\n",
              "    }\n",
              "\n",
              "    .colab-df-convert {\n",
              "      background-color: #E8F0FE;\n",
              "      border: none;\n",
              "      border-radius: 50%;\n",
              "      cursor: pointer;\n",
              "      display: none;\n",
              "      fill: #1967D2;\n",
              "      height: 32px;\n",
              "      padding: 0 0 0 0;\n",
              "      width: 32px;\n",
              "    }\n",
              "\n",
              "    .colab-df-convert:hover {\n",
              "      background-color: #E2EBFA;\n",
              "      box-shadow: 0px 1px 2px rgba(60, 64, 67, 0.3), 0px 1px 3px 1px rgba(60, 64, 67, 0.15);\n",
              "      fill: #174EA6;\n",
              "    }\n",
              "\n",
              "    .colab-df-buttons div {\n",
              "      margin-bottom: 4px;\n",
              "    }\n",
              "\n",
              "    [theme=dark] .colab-df-convert {\n",
              "      background-color: #3B4455;\n",
              "      fill: #D2E3FC;\n",
              "    }\n",
              "\n",
              "    [theme=dark] .colab-df-convert:hover {\n",
              "      background-color: #434B5C;\n",
              "      box-shadow: 0px 1px 3px 1px rgba(0, 0, 0, 0.15);\n",
              "      filter: drop-shadow(0px 1px 2px rgba(0, 0, 0, 0.3));\n",
              "      fill: #FFFFFF;\n",
              "    }\n",
              "  </style>\n",
              "\n",
              "    <script>\n",
              "      const buttonEl =\n",
              "        document.querySelector('#df-ddd3d09a-2a29-4952-a219-852ed52d6962 button.colab-df-convert');\n",
              "      buttonEl.style.display =\n",
              "        google.colab.kernel.accessAllowed ? 'block' : 'none';\n",
              "\n",
              "      async function convertToInteractive(key) {\n",
              "        const element = document.querySelector('#df-ddd3d09a-2a29-4952-a219-852ed52d6962');\n",
              "        const dataTable =\n",
              "          await google.colab.kernel.invokeFunction('convertToInteractive',\n",
              "                                                    [key], {});\n",
              "        if (!dataTable) return;\n",
              "\n",
              "        const docLinkHtml = 'Like what you see? Visit the ' +\n",
              "          '<a target=\"_blank\" href=https://colab.research.google.com/notebooks/data_table.ipynb>data table notebook</a>'\n",
              "          + ' to learn more about interactive tables.';\n",
              "        element.innerHTML = '';\n",
              "        dataTable['output_type'] = 'display_data';\n",
              "        await google.colab.output.renderOutput(dataTable, element);\n",
              "        const docLink = document.createElement('div');\n",
              "        docLink.innerHTML = docLinkHtml;\n",
              "        element.appendChild(docLink);\n",
              "      }\n",
              "    </script>\n",
              "  </div>\n",
              "\n",
              "\n",
              "<div id=\"df-c4835b23-11e5-4d84-850b-54cad2347be3\">\n",
              "  <button class=\"colab-df-quickchart\" onclick=\"quickchart('df-c4835b23-11e5-4d84-850b-54cad2347be3')\"\n",
              "            title=\"Suggest charts\"\n",
              "            style=\"display:none;\">\n",
              "\n",
              "<svg xmlns=\"http://www.w3.org/2000/svg\" height=\"24px\"viewBox=\"0 0 24 24\"\n",
              "     width=\"24px\">\n",
              "    <g>\n",
              "        <path d=\"M19 3H5c-1.1 0-2 .9-2 2v14c0 1.1.9 2 2 2h14c1.1 0 2-.9 2-2V5c0-1.1-.9-2-2-2zM9 17H7v-7h2v7zm4 0h-2V7h2v10zm4 0h-2v-4h2v4z\"/>\n",
              "    </g>\n",
              "</svg>\n",
              "  </button>\n",
              "\n",
              "<style>\n",
              "  .colab-df-quickchart {\n",
              "      --bg-color: #E8F0FE;\n",
              "      --fill-color: #1967D2;\n",
              "      --hover-bg-color: #E2EBFA;\n",
              "      --hover-fill-color: #174EA6;\n",
              "      --disabled-fill-color: #AAA;\n",
              "      --disabled-bg-color: #DDD;\n",
              "  }\n",
              "\n",
              "  [theme=dark] .colab-df-quickchart {\n",
              "      --bg-color: #3B4455;\n",
              "      --fill-color: #D2E3FC;\n",
              "      --hover-bg-color: #434B5C;\n",
              "      --hover-fill-color: #FFFFFF;\n",
              "      --disabled-bg-color: #3B4455;\n",
              "      --disabled-fill-color: #666;\n",
              "  }\n",
              "\n",
              "  .colab-df-quickchart {\n",
              "    background-color: var(--bg-color);\n",
              "    border: none;\n",
              "    border-radius: 50%;\n",
              "    cursor: pointer;\n",
              "    display: none;\n",
              "    fill: var(--fill-color);\n",
              "    height: 32px;\n",
              "    padding: 0;\n",
              "    width: 32px;\n",
              "  }\n",
              "\n",
              "  .colab-df-quickchart:hover {\n",
              "    background-color: var(--hover-bg-color);\n",
              "    box-shadow: 0 1px 2px rgba(60, 64, 67, 0.3), 0 1px 3px 1px rgba(60, 64, 67, 0.15);\n",
              "    fill: var(--button-hover-fill-color);\n",
              "  }\n",
              "\n",
              "  .colab-df-quickchart-complete:disabled,\n",
              "  .colab-df-quickchart-complete:disabled:hover {\n",
              "    background-color: var(--disabled-bg-color);\n",
              "    fill: var(--disabled-fill-color);\n",
              "    box-shadow: none;\n",
              "  }\n",
              "\n",
              "  .colab-df-spinner {\n",
              "    border: 2px solid var(--fill-color);\n",
              "    border-color: transparent;\n",
              "    border-bottom-color: var(--fill-color);\n",
              "    animation:\n",
              "      spin 1s steps(1) infinite;\n",
              "  }\n",
              "\n",
              "  @keyframes spin {\n",
              "    0% {\n",
              "      border-color: transparent;\n",
              "      border-bottom-color: var(--fill-color);\n",
              "      border-left-color: var(--fill-color);\n",
              "    }\n",
              "    20% {\n",
              "      border-color: transparent;\n",
              "      border-left-color: var(--fill-color);\n",
              "      border-top-color: var(--fill-color);\n",
              "    }\n",
              "    30% {\n",
              "      border-color: transparent;\n",
              "      border-left-color: var(--fill-color);\n",
              "      border-top-color: var(--fill-color);\n",
              "      border-right-color: var(--fill-color);\n",
              "    }\n",
              "    40% {\n",
              "      border-color: transparent;\n",
              "      border-right-color: var(--fill-color);\n",
              "      border-top-color: var(--fill-color);\n",
              "    }\n",
              "    60% {\n",
              "      border-color: transparent;\n",
              "      border-right-color: var(--fill-color);\n",
              "    }\n",
              "    80% {\n",
              "      border-color: transparent;\n",
              "      border-right-color: var(--fill-color);\n",
              "      border-bottom-color: var(--fill-color);\n",
              "    }\n",
              "    90% {\n",
              "      border-color: transparent;\n",
              "      border-bottom-color: var(--fill-color);\n",
              "    }\n",
              "  }\n",
              "</style>\n",
              "\n",
              "  <script>\n",
              "    async function quickchart(key) {\n",
              "      const quickchartButtonEl =\n",
              "        document.querySelector('#' + key + ' button');\n",
              "      quickchartButtonEl.disabled = true;  // To prevent multiple clicks.\n",
              "      quickchartButtonEl.classList.add('colab-df-spinner');\n",
              "      try {\n",
              "        const charts = await google.colab.kernel.invokeFunction(\n",
              "            'suggestCharts', [key], {});\n",
              "      } catch (error) {\n",
              "        console.error('Error during call to suggestCharts:', error);\n",
              "      }\n",
              "      quickchartButtonEl.classList.remove('colab-df-spinner');\n",
              "      quickchartButtonEl.classList.add('colab-df-quickchart-complete');\n",
              "    }\n",
              "    (() => {\n",
              "      let quickchartButtonEl =\n",
              "        document.querySelector('#df-c4835b23-11e5-4d84-850b-54cad2347be3 button');\n",
              "      quickchartButtonEl.style.display =\n",
              "        google.colab.kernel.accessAllowed ? 'block' : 'none';\n",
              "    })();\n",
              "  </script>\n",
              "</div>\n",
              "\n",
              "  <div id=\"id_e2030aef-31f0-4cd0-bad4-4cc69bc96f20\">\n",
              "    <style>\n",
              "      .colab-df-generate {\n",
              "        background-color: #E8F0FE;\n",
              "        border: none;\n",
              "        border-radius: 50%;\n",
              "        cursor: pointer;\n",
              "        display: none;\n",
              "        fill: #1967D2;\n",
              "        height: 32px;\n",
              "        padding: 0 0 0 0;\n",
              "        width: 32px;\n",
              "      }\n",
              "\n",
              "      .colab-df-generate:hover {\n",
              "        background-color: #E2EBFA;\n",
              "        box-shadow: 0px 1px 2px rgba(60, 64, 67, 0.3), 0px 1px 3px 1px rgba(60, 64, 67, 0.15);\n",
              "        fill: #174EA6;\n",
              "      }\n",
              "\n",
              "      [theme=dark] .colab-df-generate {\n",
              "        background-color: #3B4455;\n",
              "        fill: #D2E3FC;\n",
              "      }\n",
              "\n",
              "      [theme=dark] .colab-df-generate:hover {\n",
              "        background-color: #434B5C;\n",
              "        box-shadow: 0px 1px 3px 1px rgba(0, 0, 0, 0.15);\n",
              "        filter: drop-shadow(0px 1px 2px rgba(0, 0, 0, 0.3));\n",
              "        fill: #FFFFFF;\n",
              "      }\n",
              "    </style>\n",
              "    <button class=\"colab-df-generate\" onclick=\"generateWithVariable('df_all')\"\n",
              "            title=\"Generate code using this dataframe.\"\n",
              "            style=\"display:none;\">\n",
              "\n",
              "  <svg xmlns=\"http://www.w3.org/2000/svg\" height=\"24px\"viewBox=\"0 0 24 24\"\n",
              "       width=\"24px\">\n",
              "    <path d=\"M7,19H8.4L18.45,9,17,7.55,7,17.6ZM5,21V16.75L18.45,3.32a2,2,0,0,1,2.83,0l1.4,1.43a1.91,1.91,0,0,1,.58,1.4,1.91,1.91,0,0,1-.58,1.4L9.25,21ZM18.45,9,17,7.55Zm-12,3A5.31,5.31,0,0,0,4.9,8.1,5.31,5.31,0,0,0,1,6.5,5.31,5.31,0,0,0,4.9,4.9,5.31,5.31,0,0,0,6.5,1,5.31,5.31,0,0,0,8.1,4.9,5.31,5.31,0,0,0,12,6.5,5.46,5.46,0,0,0,6.5,12Z\"/>\n",
              "  </svg>\n",
              "    </button>\n",
              "    <script>\n",
              "      (() => {\n",
              "      const buttonEl =\n",
              "        document.querySelector('#id_e2030aef-31f0-4cd0-bad4-4cc69bc96f20 button.colab-df-generate');\n",
              "      buttonEl.style.display =\n",
              "        google.colab.kernel.accessAllowed ? 'block' : 'none';\n",
              "\n",
              "      buttonEl.onclick = () => {\n",
              "        google.colab.notebook.generateWithVariable('df_all');\n",
              "      }\n",
              "      })();\n",
              "    </script>\n",
              "  </div>\n",
              "\n",
              "    </div>\n",
              "  </div>\n"
            ],
            "text/plain": [
              "           source  truth_class  \\\n",
              "0       2635.json        false   \n",
              "1      10540.json    half-true   \n",
              "2        324.json  mostly-true   \n",
              "3       1123.json        false   \n",
              "4       9028.json    half-true   \n",
              "...           ...          ...   \n",
              "12786   7334.json    half-true   \n",
              "12787   9788.json  barely-true   \n",
              "12788  10710.json  barely-true   \n",
              "12789   3186.json  barely-true   \n",
              "12790   6743.json        false   \n",
              "\n",
              "                                               statement  \\\n",
              "0      Says the Annies List political group supports ...   \n",
              "1      When did the decline of coal start? It started...   \n",
              "2      Hillary Clinton agrees with John McCain \"by vo...   \n",
              "3      Health care reform legislation is likely to ma...   \n",
              "4      The economic turnaround started at the end of ...   \n",
              "...                                                  ...   \n",
              "12786  Says his budget provides the highest state fun...   \n",
              "12787                    Ive been here almost every day.   \n",
              "12788  In the early 1980s, Sen. Edward Kennedy secret...   \n",
              "12789  Says an EPA permit languished under Strickland...   \n",
              "12790  Says the governor is going around the state ta...   \n",
              "\n",
              "                                                 area                speaker  \\\n",
              "0                                            abortion           dwayne-bohac   \n",
              "1                  energy,history,job-accomplishments         scott-surovell   \n",
              "2                                      foreign-policy           barack-obama   \n",
              "3                                         health-care           blog-posting   \n",
              "4                                        economy,jobs          charlie-crist   \n",
              "...                                               ...                    ...   \n",
              "12786                                       education             rick-scott   \n",
              "12787             civil-rights,crime,criminal-justice              jay-nixon   \n",
              "12788  bipartisanship,congress,foreign-policy,history  mackubin-thomas-owens   \n",
              "12789               environment,government-efficiency            john-kasich   \n",
              "12790               state-budget,state-finances,taxes       john-burzichelli   \n",
              "\n",
              "                                           speaker_role      location  \\\n",
              "0                                  State representative         Texas   \n",
              "1                                        State delegate      Virginia   \n",
              "2                                             President      Illinois   \n",
              "3                                                   NaN           NaN   \n",
              "4                                                   NaN       Florida   \n",
              "...                                                 ...           ...   \n",
              "12786                                          Governor       Florida   \n",
              "12787                                          Governor      Missouri   \n",
              "12788  senior fellow, Foreign Policy Research Institute  Rhode Island   \n",
              "12789              Governor of Ohio as of Jan. 10, 2011          Ohio   \n",
              "12790                                               NaN           NaN   \n",
              "\n",
              "            party  pof_count  false_count  ...  \\\n",
              "0      republican        0.0          1.0  ...   \n",
              "1        democrat        0.0          0.0  ...   \n",
              "2        democrat       70.0         71.0  ...   \n",
              "3            none        7.0         19.0  ...   \n",
              "4        democrat       15.0          9.0  ...   \n",
              "...           ...        ...          ...  ...   \n",
              "12786  republican       28.0         23.0  ...   \n",
              "12787    democrat        2.0          0.0  ...   \n",
              "12788   columnist        1.0          0.0  ...   \n",
              "12789  republican        9.0          8.0  ...   \n",
              "12790    democrat        1.0          1.0  ...   \n",
              "\n",
              "                                        media  type  statement_count  \\\n",
              "0                                    a mailer     0              1.0   \n",
              "1                             a floor speech.     0              2.0   \n",
              "2                                      Denver     0            611.0   \n",
              "3                              a news release     0             81.0   \n",
              "4                         an interview on CNN     0             90.0   \n",
              "...                                       ...   ...              ...   \n",
              "12786                       a news conference     2            150.0   \n",
              "12787                    on ABC's \"This Week\"     2              4.0   \n",
              "12788  a commentary in The Providence Journal     2              1.0   \n",
              "12789                       a news conference     2             67.0   \n",
              "12790               an interview with NJToday     2              2.0   \n",
              "\n",
              "      pof_percent  false_percent  barely_true_percent  half_true_percent  \\\n",
              "0        0.000000       1.000000             0.000000           0.000000   \n",
              "1        0.000000       0.000000             0.500000           0.500000   \n",
              "2        0.114566       0.116203             0.261866           0.266776   \n",
              "3        0.086420       0.234568             0.037037           0.061728   \n",
              "4        0.166667       0.100000             0.222222           0.211111   \n",
              "...           ...            ...                  ...                ...   \n",
              "12786    0.186667       0.153333             0.253333           0.226667   \n",
              "12787    0.500000       0.000000             0.000000           0.250000   \n",
              "12788    1.000000       0.000000             0.000000           0.000000   \n",
              "12789    0.134328       0.119403             0.149254           0.268657   \n",
              "12790    0.500000       0.500000             0.000000           0.000000   \n",
              "\n",
              "       mostly_true_percent  true_percent  truth_map  \n",
              "0                 0.000000      0.000000          1  \n",
              "1                 0.000000      0.000000          3  \n",
              "2                 0.014730      0.225859          4  \n",
              "3                 0.543210      0.037037          1  \n",
              "4                 0.022222      0.277778          3  \n",
              "...                    ...           ...        ...  \n",
              "12786             0.046667      0.133333          3  \n",
              "12787             0.000000      0.250000          2  \n",
              "12788             0.000000      0.000000          2  \n",
              "12789             0.044776      0.283582          2  \n",
              "12790             0.000000      0.000000          1  \n",
              "\n",
              "[12791 rows x 23 columns]"
            ]
          },
          "execution_count": 18,
          "metadata": {},
          "output_type": "execute_result"
        }
      ],
      "source": [
        "df_all"
      ]
    },
    {
      "cell_type": "code",
      "execution_count": null,
      "metadata": {
        "id": "qn8_NZ8pd__0"
      },
      "outputs": [],
      "source": [
        "# Replace 'none'\n",
        "\n",
        "df_all['party'] = df_all['party'].replace('none', 'no_affiliation')\n",
        "# df_all['party'] = df_all[df_all['party'] == 'none']['party'] = 'no_affiliation'"
      ]
    },
    {
      "cell_type": "code",
      "execution_count": null,
      "metadata": {
        "colab": {
          "base_uri": "https://localhost:8080/"
        },
        "id": "vabrx251keLE",
        "outputId": "617e2960-12fb-4450-b88a-b8e121699cd6"
      },
      "outputs": [
        {
          "data": {
            "text/plain": [
              "source                    0\n",
              "truth_class               0\n",
              "statement                 0\n",
              "area                      2\n",
              "speaker                   2\n",
              "speaker_role           3568\n",
              "location               2751\n",
              "party                     2\n",
              "pof_count                 2\n",
              "false_count               2\n",
              "barely_true_count         2\n",
              "half_true_count           2\n",
              "mostly_true_count         2\n",
              "media                   131\n",
              "type                      0\n",
              "statement_count           2\n",
              "pof_percent               2\n",
              "false_percent             2\n",
              "barely_true_percent       2\n",
              "half_true_percent         2\n",
              "mostly_true_percent       2\n",
              "true_percent              2\n",
              "truth_map                 0\n",
              "dtype: int64"
            ]
          },
          "execution_count": 20,
          "metadata": {},
          "output_type": "execute_result"
        }
      ],
      "source": [
        "# check missing values per column\n",
        "df_all.isnull().sum()"
      ]
    },
    {
      "cell_type": "code",
      "execution_count": null,
      "metadata": {
        "colab": {
          "base_uri": "https://localhost:8080/"
        },
        "id": "oKY4B4J2oVKG",
        "outputId": "49b8ae08-fdb6-41ef-9253-f96c68c9c23d"
      },
      "outputs": [
        {
          "data": {
            "text/plain": [
              "Index(['source', 'truth_class', 'statement', 'area', 'speaker', 'speaker_role',\n",
              "       'location', 'party', 'pof_count', 'false_count', 'barely_true_count',\n",
              "       'half_true_count', 'mostly_true_count', 'media', 'type',\n",
              "       'statement_count', 'pof_percent', 'false_percent',\n",
              "       'barely_true_percent', 'half_true_percent', 'mostly_true_percent',\n",
              "       'true_percent', 'truth_map'],\n",
              "      dtype='object')"
            ]
          },
          "execution_count": 21,
          "metadata": {},
          "output_type": "execute_result"
        }
      ],
      "source": [
        "df_all.columns"
      ]
    },
    {
      "cell_type": "code",
      "execution_count": null,
      "metadata": {
        "colab": {
          "base_uri": "https://localhost:8080/"
        },
        "id": "swqhLUIJj_hJ",
        "outputId": "cf08c540-746a-4cf6-9158-8f80f1c19939"
      },
      "outputs": [
        {
          "data": {
            "text/plain": [
              "(12791, 23)"
            ]
          },
          "execution_count": 22,
          "metadata": {},
          "output_type": "execute_result"
        }
      ],
      "source": [
        "df_all.shape"
      ]
    },
    {
      "cell_type": "markdown",
      "metadata": {
        "id": "7AvZ6AOov93V"
      },
      "source": [
        "processed the code to drop the \"json\" column\n",
        "\n",
        "*   drop the rows where speaker is missing\n",
        "*   fill missing values with \"not_available\"\n",
        "\n"
      ]
    },
    {
      "cell_type": "code",
      "execution_count": null,
      "metadata": {
        "id": "tIGWkftxr0zb"
      },
      "outputs": [],
      "source": [
        "# drop columns with the source - that's the json\n",
        "df_proc = df_all.drop(columns='source')\n",
        "\n",
        "# Drop rows where 'speaker' is missing\n",
        "df_proc = df_proc.dropna(subset=['speaker'])\n",
        "\n",
        "# Replace other missing values with 'not_available'\n",
        "df_proc = df_proc.fillna('not_available')"
      ]
    },
    {
      "cell_type": "code",
      "execution_count": null,
      "metadata": {
        "colab": {
          "base_uri": "https://localhost:8080/"
        },
        "id": "giQwjkF2i_Ft",
        "outputId": "dac48afc-3fc6-4d6f-cb41-4700128c4b83"
      },
      "outputs": [
        {
          "data": {
            "text/plain": [
              "truth_class            0\n",
              "statement              0\n",
              "area                   0\n",
              "speaker                0\n",
              "speaker_role           0\n",
              "location               0\n",
              "party                  0\n",
              "pof_count              0\n",
              "false_count            0\n",
              "barely_true_count      0\n",
              "half_true_count        0\n",
              "mostly_true_count      0\n",
              "media                  0\n",
              "type                   0\n",
              "statement_count        0\n",
              "pof_percent            0\n",
              "false_percent          0\n",
              "barely_true_percent    0\n",
              "half_true_percent      0\n",
              "mostly_true_percent    0\n",
              "true_percent           0\n",
              "truth_map              0\n",
              "dtype: int64"
            ]
          },
          "execution_count": 24,
          "metadata": {},
          "output_type": "execute_result"
        }
      ],
      "source": [
        "# check missing values per column\n",
        "df_proc.isnull().sum()"
      ]
    },
    {
      "cell_type": "code",
      "execution_count": null,
      "metadata": {
        "colab": {
          "base_uri": "https://localhost:8080/"
        },
        "id": "FLdtijqhjOCe",
        "outputId": "04a5f18a-baf8-459a-ae90-d43623fb3ff3"
      },
      "outputs": [
        {
          "data": {
            "text/plain": [
              "(12789, 22)"
            ]
          },
          "execution_count": 25,
          "metadata": {},
          "output_type": "execute_result"
        }
      ],
      "source": [
        "df_proc.shape"
      ]
    },
    {
      "cell_type": "markdown",
      "metadata": {
        "id": "_mYW20PPwL8d"
      },
      "source": [
        "Start the NLP processing"
      ]
    },
    {
      "cell_type": "code",
      "execution_count": null,
      "metadata": {
        "colab": {
          "base_uri": "https://localhost:8080/",
          "height": 35
        },
        "id": "wciTJ9sllsqS",
        "outputId": "9a9d4a61-af16-4122-ab81-9f171440a50a"
      },
      "outputs": [
        {
          "data": {
            "application/vnd.google.colaboratory.intrinsic+json": {
              "type": "string"
            },
            "text/plain": [
              "'Says the Annies List political group supports third-trimester abortions on demand.'"
            ]
          },
          "execution_count": 26,
          "metadata": {},
          "output_type": "execute_result"
        }
      ],
      "source": [
        "# example statements\n",
        "df_proc['statement'].iloc[0]"
      ]
    },
    {
      "cell_type": "code",
      "execution_count": null,
      "metadata": {
        "id": "jONO5F1E3hvz"
      },
      "outputs": [],
      "source": [
        "# !pip install contractions"
      ]
    },
    {
      "cell_type": "code",
      "execution_count": null,
      "metadata": {
        "colab": {
          "base_uri": "https://localhost:8080/"
        },
        "id": "1L-FNW_5wvGF",
        "outputId": "c3e8b697-59ad-4332-c832-d7d3e8add697"
      },
      "outputs": [
        {
          "name": "stderr",
          "output_type": "stream",
          "text": [
            "[nltk_data] Downloading package stopwords to /root/nltk_data...\n",
            "[nltk_data]   Unzipping corpora/stopwords.zip.\n",
            "[nltk_data] Downloading package wordnet to /root/nltk_data...\n"
          ]
        }
      ],
      "source": [
        "# nlp imports\n",
        "nltk.download('stopwords')\n",
        "from nltk.tokenize import word_tokenize\n",
        "# import contractions\n",
        "import re\n",
        "import sklearn\n",
        "from sklearn.feature_extraction.text import TfidfVectorizer, CountVectorizer\n",
        "from sklearn.model_selection import train_test_split\n",
        "nltk.download(\"wordnet\")\n",
        "from nltk.stem import WordNetLemmatizer\n",
        "from sklearn.metrics import classification_report\n",
        "from sklearn.linear_model import LogisticRegression\n",
        "\n",
        "lemmatizer = WordNetLemmatizer()\n",
        "\n",
        "# start loading language library\n",
        "nlp = spacy.load(\"en_core_web_sm\")"
      ]
    },
    {
      "cell_type": "code",
      "execution_count": null,
      "metadata": {
        "colab": {
          "base_uri": "https://localhost:8080/"
        },
        "id": "vgUw6cey4DOg",
        "outputId": "0ed86c9f-8a9d-4362-981a-54977c33de05"
      },
      "outputs": [
        {
          "data": {
            "text/plain": [
              "0     Says the Annies List political group supports ...\n",
              "1     When did the decline of coal start? It started...\n",
              "2     Hillary Clinton agrees with John McCain \"by vo...\n",
              "3     Health care reform legislation is likely to ma...\n",
              "4     The economic turnaround started at the end of ...\n",
              "5     The Chicago Bears have had more starting quart...\n",
              "6     Jim Dunnam has not lived in the district he re...\n",
              "7     I'm the only person on this stage who has work...\n",
              "8     However, it took $19.5 million in Oregon Lotte...\n",
              "9     Says GOP primary opponents Glenn Grothman and ...\n",
              "10    For the first time in history, the share of th...\n",
              "11    Since 2000, nearly 12 million Americans have s...\n",
              "12    When Mitt Romney was governor of Massachusetts...\n",
              "13    The economy bled $24 billion due to the govern...\n",
              "14    Most of the (Affordable Care Act) has already ...\n",
              "15    In this last election in November, ... 63 perc...\n",
              "16    McCain opposed a requirement that the governme...\n",
              "17    U.S. Rep. Ron Kind, D-Wis., and his fellow Dem...\n",
              "18    Water rates in Manila, Philippines, were raise...\n",
              "19    Almost 100,000 people left Puerto Rico last year.\n",
              "Name: statement, dtype: object"
            ]
          },
          "execution_count": 29,
          "metadata": {},
          "output_type": "execute_result"
        }
      ],
      "source": [
        "df_proc['statement'][0:20]"
      ]
    },
    {
      "cell_type": "code",
      "execution_count": null,
      "metadata": {
        "id": "YpJ-SisUxAR8"
      },
      "outputs": [],
      "source": [
        "# set text - include statement, area, speaker, party, media\n",
        "# speaker_role, location - have a lot of missing values\n",
        "text = df_proc['statement']#+ ' ' + df_proc['area'] + ' ' + df_proc['speaker'] + ' ' + df_proc['party'] + ' ' + df_proc['media']\n",
        "\n",
        "# change \",\" to \" \"; change \".\" to \" \"\n",
        "text = text.apply(lambda x: re.sub(\"[.]\", \"\", x))\n",
        "text = text.apply(lambda x: re.sub(\"[,]\", \"\", x))"
      ]
    },
    {
      "cell_type": "code",
      "execution_count": null,
      "metadata": {
        "colab": {
          "base_uri": "https://localhost:8080/",
          "height": 52
        },
        "id": "D7TNK0wHzSFu",
        "outputId": "ff7ad11b-5967-424c-bc4c-4fbd440277ac"
      },
      "outputs": [
        {
          "data": {
            "application/vnd.google.colaboratory.intrinsic+json": {
              "type": "string"
            },
            "text/plain": [
              "'For the first time in history the share of the national popular vote margin is smaller than the Latino vote margin'"
            ]
          },
          "execution_count": 31,
          "metadata": {},
          "output_type": "execute_result"
        }
      ],
      "source": [
        "# example\n",
        "text.iloc[10]\n"
      ]
    },
    {
      "cell_type": "code",
      "execution_count": null,
      "metadata": {
        "id": "yoKPtS8SytMR"
      },
      "outputs": [],
      "source": [
        "# Initialize stop words and set custom stop words\n",
        "# negations = set([\"not\", \"none\", \"nor\", \"never\", \"neither\", \"against\"])\n",
        "negations = set([\"not\", \"none\", \"nor\", \"never\", \"neither\", \"against\",\n",
        "                 \"aren't\", \"couldn't\", \"didn't\", \"doesn't\", \"don't\", \"hadn't\",\n",
        "                 \"hasn't\", \"haven't\", \"isn't\", \"mightn't\", \"mustn't\", \"needn't\",\n",
        "                 \"shan't\", \"shouldn't\", \"wasn't\", \"weren't\", \"won't\", \"wouldn't\", \"only\"])\n",
        "stop_words = set(stopwords.words('english')) - negations\n",
        "# stop_words"
      ]
    },
    {
      "cell_type": "code",
      "execution_count": null,
      "metadata": {
        "id": "fIng7H1PnLrY"
      },
      "outputs": [],
      "source": [
        "# Preprocessing function\n",
        "\n",
        "def preprocess_text(text):\n",
        "  # Tokenization, lowercasing, and special character handling\n",
        "  tokens = [token.text.lower() for token in nlp(text)]\n",
        "\n",
        "  if (tokens[0] == 'says') or (tokens[0] == 'say'):\n",
        "    tokens.pop(0)\n",
        "\n",
        "  # Removing punctuation and stop words (conditionally)\n",
        "  tokens = [re.sub(r'\\W+', '', token) for token in tokens if token.isalnum() and token not in stop_words]\n",
        "\n",
        "  # return the tokens in a list\n",
        "  return tokens\n",
        "\n",
        "  # returns tokens joined together\n",
        "  # return ' '.join(tokens)\n",
        "\n",
        "# apply the tokenization on the text\n",
        "df_proc['processed_text'] = text.apply(preprocess_text)\n",
        "processed_text = df_proc['processed_text']"
      ]
    },
    {
      "cell_type": "markdown",
      "metadata": {
        "id": "68HKH0WcHdBS"
      },
      "source": [
        "now have tokenized data"
      ]
    },
    {
      "cell_type": "code",
      "execution_count": null,
      "metadata": {
        "colab": {
          "base_uri": "https://localhost:8080/"
        },
        "id": "i3VR1ZluEZpG",
        "outputId": "5a0fb73f-4a58-4adc-dcd0-c9047a3bcdb2"
      },
      "outputs": [
        {
          "data": {
            "text/plain": [
              "0        [annies, list, political, group, supports, thi...\n",
              "1        [decline, coal, start, started, natural, gas, ...\n",
              "2        [hillary, clinton, agrees, john, mccain, votin...\n",
              "3        [health, care, reform, legislation, likely, ma...\n",
              "4               [economic, turnaround, started, end, term]\n",
              "                               ...                        \n",
              "12786    [budget, provides, highest, state, funding, le...\n",
              "12787                                 [almost, every, day]\n",
              "12788    [early, 1980s, sen, edward, kennedy, secretly,...\n",
              "12789    [epa, permit, languished, strickland, new, epa...\n",
              "12790    [governor, going, around, state, talking, fund...\n",
              "Name: processed_text, Length: 12789, dtype: object"
            ]
          },
          "execution_count": 34,
          "metadata": {},
          "output_type": "execute_result"
        }
      ],
      "source": [
        "processed_text"
      ]
    },
    {
      "cell_type": "code",
      "execution_count": null,
      "metadata": {
        "colab": {
          "base_uri": "https://localhost:8080/"
        },
        "id": "Q_7F7RMNIPQ0",
        "outputId": "7b6a10da-e745-4125-8aa3-80b9601f2f1a"
      },
      "outputs": [
        {
          "data": {
            "text/plain": [
              "['annies',\n",
              " 'list',\n",
              " 'political',\n",
              " 'group',\n",
              " 'supports',\n",
              " 'third',\n",
              " 'trimester',\n",
              " 'abortions',\n",
              " 'demand']"
            ]
          },
          "execution_count": 35,
          "metadata": {},
          "output_type": "execute_result"
        }
      ],
      "source": [
        "processed_text[0]"
      ]
    },
    {
      "cell_type": "code",
      "execution_count": null,
      "metadata": {
        "colab": {
          "base_uri": "https://localhost:8080/"
        },
        "id": "iuVzXAXDN9g_",
        "outputId": "01a8380a-c558-4f1c-af77-787ee7c49ec8"
      },
      "outputs": [
        {
          "name": "stdout",
          "output_type": "stream",
          "text": [
            "There are no duplicates in the dictionary values.\n",
            "{0: 'annies', 1: 'list', 2: 'political', 3: 'group', 4: 'supports', 5: 'third', 6: 'trimester', 7: 'abortions', 8: 'demand', 9: 'decline', 10: 'coal', 11: 'start', 12: 'started', 13: 'natural', 14: 'gas', 15: 'took', 16: 'begin', 17: 'president', 18: 'george', 19: 'w', 20: 'bushs', 21: 'administration', 22: 'hillary', 23: 'clinton', 24: 'agrees', 25: 'john', 26: 'mccain', 27: 'voting', 28: 'give', 29: 'bush', 30: 'benefit', 31: 'doubt', 32: 'iran', 33: 'health', 34: 'care', 35: 'reform', 36: 'legislation', 37: 'likely', 38: 'mandate', 39: 'free', 40: 'sex', 41: 'change', 42: 'surgeries', 43: 'economic', 44: 'turnaround', 45: 'end', 46: 'term', 47: 'chicago', 48: 'bears', 49: 'starting', 50: 'quarterbacks', 51: 'last', 52: '10', 53: 'years', 54: 'total', 55: 'number', 56: 'tenured', 57: 'uw', 58: 'faculty', 59: 'fired', 60: 'two', 61: 'decades', 62: 'jim', 63: 'dunnam', 64: 'not', 65: 'lived', 66: 'district', 67: 'represents', 68: 'only', 69: 'person', 70: 'stage', 71: 'worked', 72: 'actively', 73: 'year', 74: 'passing', 75: 'along', 76: 'russ', 77: 'feingold', 78: 'toughest', 79: 'ethics', 80: 'since', 81: 'watergate', 82: 'however', 83: '195', 84: 'million', 85: 'oregon', 86: 'lottery', 87: 'funds', 88: 'port', 89: 'newport', 90: 'eventually', 91: 'land', 92: 'new', 93: 'noaa', 94: 'marine', 95: 'operations', 96: 'center', 97: 'pacific', 98: 'gop', 99: 'primary', 100: 'opponents', 101: 'glenn', 102: 'grothman', 103: 'joe', 104: 'leibham', 105: 'cast', 106: 'compromise', 107: 'vote', 108: 'cost', 109: '788', 110: 'higher', 111: 'electricity', 112: 'costs', 113: 'first', 114: 'time', 115: 'history', 116: 'share', 117: 'national', 118: 'popular', 119: 'margin', 120: 'smaller', 121: 'latino', 122: '2000', 123: 'nearly', 124: '12', 125: 'americans', 126: 'slipped', 127: 'middle', 128: 'class', 129: 'poverty', 130: 'mitt', 131: 'romney', 132: 'governor', 133: 'massachusetts', 134: 'nt', 135: 'slow', 136: 'rate', 137: 'growth', 138: 'government', 139: 'actually', 140: 'cut', 141: 'economy', 142: 'bled', 143: '24', 144: 'billion', 145: 'due', 146: 'shutdown', 147: 'affordable', 148: 'act', 149: 'already', 150: 'sense', 151: 'waived', 152: 'otherwise', 153: 'suspended', 154: 'election', 155: 'november', 156: '63', 157: 'percent', 158: 'american', 159: 'people', 160: 'chose', 161: '80', 162: 'young', 163: '75', 164: 'low', 165: 'income', 166: 'workers', 167: 'opposed', 168: 'requirement', 169: 'buy', 170: 'made', 171: 'motorcycles', 172: 'said', 173: 'provisions', 174: 'quote', 175: 'disgraceful', 176: 'us', 177: 'rep', 178: 'ron', 179: 'kind', 180: 'wis', 181: 'fellow', 182: 'democrats', 183: 'went', 184: 'spending', 185: 'spree', 186: 'credit', 187: 'card', 188: 'maxed', 189: 'water', 190: 'rates', 191: 'manila', 192: 'philippines', 193: 'raised', 194: '845', 195: 'subsidiary', 196: 'world', 197: 'bank', 198: 'became', 199: 'partial', 200: 'owner', 201: 'almost', 202: '100000', 203: 'left', 204: 'puerto', 205: 'rico', 206: 'women', 207: 'men', 208: 'making', 209: 'less', 210: 'adjust', 211: 'inflation', 212: 'kitzhaber', 213: 'elected', 214: 'united', 215: 'states', 216: 'highest', 217: 'corporate', 218: 'tax', 219: 'best', 220: 'auto', 221: 'industry', 222: 'america', 223: 'scott', 224: 'walker', 225: 'favors', 226: 'cutting', 227: '350000', 228: 'families', 229: 'children', 230: 'wants', 231: 'get', 232: 'rid', 233: 'planned', 234: 'parenthood', 235: 'know', 236: 'jonathan', 237: 'gruber', 238: 'hate', 239: 'crimes', 240: 'against', 241: 'muslims', 242: 'mosques', 243: 'tripled', 244: 'paris', 245: 'san', 246: 'bernardino', 247: 'rick', 248: 'perry', 249: 'never', 250: 'lost', 251: 'remains', 252: 'texas', 253: 'governorship', 254: 'three', 255: 'times', 256: 'landslide', 257: 'elections', 258: 'isis', 259: 'supporter', 260: 'tweeted', 261: 'shooting', 262: 'began', 263: 'chattanooga', 264: 'tenn', 265: 'youth', 266: 'unemployment', 267: 'minority', 268: 'communities', 269: '40', 270: '45', 271: 'paul', 272: 'ryan', 273: 'still', 274: 'endorsing', 275: 'trump', 276: 'look', 277: 'right', 278: 'work', 279: 'constantly', 280: 'budget', 281: 'deficits', 282: 'good', 283: 'business', 284: 'climates', 285: 'obama', 286: 'going', 287: 'come', 288: 'next', 289: 'several', 290: 'months', 291: 'even', 292: 'able', 293: 'burn', 294: 'limitedly', 295: 'existing', 296: 'plants', 297: 'taxes', 298: 'today', 299: '70', 300: 'businesses', 301: 'pay', 302: 'mark', 303: 'pryor', 304: 'votes', 305: '93', 306: 'federal', 307: 'thinks', 308: 'authority', 309: 'regulate', 310: 'toilet', 311: 'seats', 312: 'austin', 313: 'city', 314: 'basically', 315: 'doubled', 316: 'size', 317: 'every', 318: '25', 319: 'founded', 320: 'nuclear', 321: 'test', 322: 'conducted', 323: 'nation', 324: 'earth', 325: '2054th', 326: 'five', 327: 'permanent', 328: 'members', 329: 'un', 330: 'security', 331: 'council', 332: '9999', 333: 'tests', 334: 'case', 335: 'catastrophic', 336: 'event', 337: 'atlanta', 338: 'area', 339: 'offices', 340: 'centers', 341: 'disease', 342: 'control', 343: 'prevention', 344: 'self', 345: 'destruct', 346: 'added', 347: '49', 348: 'trillion', 349: 'debt', 350: '65', 351: 'supreme', 352: 'court', 353: 'justice', 354: 'suggested', 355: 'cases', 356: 'decided', 357: 'based', 358: 'south', 359: 'african', 360: 'law', 361: 'marco', 362: 'rubio', 363: 'skipped', 364: '18', 365: 'defense', 366: 'including', 367: 'one', 368: 'arm', 369: 'kurds', 370: 'fight', 371: 'david', 372: 'cicilline', 373: 'responsible', 374: 'loan', 375: 'guarantee', 376: 'solyndra', 377: 'failed', 378: 'solar', 379: 'company', 380: 'ohio', 381: 'item', 382: 'later', 383: 'signed', 384: 'gov', 385: 'kasich', 386: 'requires', 387: 'seeking', 388: 'abortion', 389: 'undergo', 390: 'mandatory', 391: 'vaginal', 392: 'probe', 393: 'director', 394: 'homeland', 395: 'use', 396: 'terrorist', 397: 'attack', 398: 'instead', 399: 'substitutes', 400: 'man', 401: 'disaster', 402: '51', 403: 'hispanic', 404: '36', 405: 'obamacare', 406: 'provide', 407: 'insurance', 408: 'non', 409: 'residents', 410: 'illegally', 411: 'barack', 412: 'exactly', 413: 'none', 414: 'deficit', 415: 'reduction', 416: 'commissions', 417: 'ideas', 418: 'changed', 419: 'rules', 420: 'engagement', 421: 'probably', 422: 'capt', 423: 'humayun', 424: 'khans', 425: 'life', 426: '2005', 427: 'co', 428: 'sponsored', 429: 'would', 430: 'jail', 431: 'flag', 432: 'burners', 433: 'paperback', 434: 'edition', 435: 'romneys', 436: 'book', 437: 'deleted', 438: 'line', 439: 'individual', 440: 'model', 441: 'country', 442: 'maggie', 443: 'hassan', 444: 'tuition', 445: 'terry', 446: 'mcauliffe', 447: 'invented', 448: 'scheme', 449: 'rent', 450: 'lincoln', 451: 'bedroom', 452: 'created', 453: '800000', 454: 'jobs', 455: 'half', 456: 'york', 457: 'state', 458: 'private', 459: 'sector', 460: 'ever', 461: 'towns', 462: 'west', 463: 'truck', 464: 'georgia', 465: 'earn', 466: '82', 467: 'cents', 468: 'dollar', 469: 'earned', 470: 'system', 471: 'verifies', 472: 'employees', 473: 'authorized', 474: 'inaccurate', 475: 'anywhere', 476: '50', 477: 'way', 478: 'excess', 479: 'build', 480: 'wall', 481: 'ago', 482: 'long', 483: 'like', 484: '06', 485: 'could', 486: 'environmental', 487: 'impact', 488: 'statements', 489: 'sen', 490: 'campaign', 491: 'announced', 492: 'choosing', 493: 'cabinet', 494: '2008', 495: '54', 496: 'latinos', 497: 'registered', 498: '35', 499: 'turned', 500: '2', 501: 'public', 502: 'high', 503: 'schools', 504: 'offer', 505: 'pe', 506: 'classes', 507: 'republican', 508: 'candidate', 509: 'around', 510: 'military', 511: 'recruiters', 512: 'harvard', 513: 'elena', 514: 'kagan', 515: 'position', 516: 'ruled', 517: 'unanimously', 518: 'wrong', 519: '321092', 520: 'school', 521: 'teachers', 522: '313850', 523: 'mayor', 524: 'providence', 525: 'sanctuary', 526: 'transgender', 527: 'individuals', 528: '1', 529: 'chance', 530: 'murdered', 531: 'bain', 532: 'capital', 533: 'helped', 534: 'early', 535: 'childhood', 536: 'learning', 537: 'called', 538: 'bright', 539: 'horizons', 540: 'lady', 541: 'michelle', 542: 'rightly', 543: 'praised', 544: 'rushed', 545: 'dayton', 546: 'chatter', 547: 'social', 548: 'media', 549: 'posts', 550: 'phil', 551: 'gingrey', 552: 'gave', 553: 'power', 554: 'electronically', 555: 'spy', 556: 'without', 557: 'warrant', 558: 'alex', 559: 'sink', 560: 'funneled', 561: 'quarters', 562: 'dollars', 563: 'bid', 564: 'contracts', 565: 'take', 566: 'population', 567: 'virginia', 568: 'net', 569: 'zero', 570: 'job', 571: 'creation', 572: 'bob', 573: 'mcdonnell', 574: 'home', 575: 'values', 576: 'florida', 577: 'collapsed', 578: 'construction', 579: 'foreclosure', 580: 'arizona', 581: 'immigration', 582: 'says', 583: 'police', 584: 'officer', 585: 'stop', 586: 'anyone', 587: 'appears', 588: 'reasonably', 589: 'suspicious', 590: 'undocumented', 591: 'war', 592: 'ii', 593: 'single', 594: 'biggest', 595: 'factor', 596: 'driving', 597: 'recession', 598: 'consumer', 599: 'native', 600: 'perversity', 601: 'begun', 602: 'save', 603: 'savings', 604: '62', 605: 'whether', 606: 'nominee', 607: 'forthcoming', 608: 'confirmation', 609: 'hearings', 610: 'homeless', 611: 'veteran', 612: 'charlie', 613: 'crist', 614: 'cuts', 615: 'medicare', 616: 'advantage', 617: 'program', 618: 'think', 619: 'unacceptable', 620: 'chinese', 621: 'larger', 622: 'wind', 623: 'panels', 624: 'photovoltaic', 625: 'manufacturing', 626: 'europe', 627: 'put', 628: 'together', 629: 'forget', 630: 'brown', 631: 'let', 632: 'employers', 633: 'deny', 634: 'coverage', 635: 'birth', 636: 'point', 637: 'lives', 638: '99', 639: 'past', 640: '20', 641: 'egypt', 642: 'great', 643: 'strides', 644: 'democratic', 645: 'amount', 646: 'attention', 647: 'paid', 648: 'week', 649: 'chris', 650: 'christie', 651: 'makes', 652: 'benghazi', 653: 'pale', 654: 'significance', 655: 'steve', 656: 'southerland', 657: 'voted', 658: 'keep', 659: 'perrys', 660: 'import', 661: 'nurses', 662: 'countries', 663: 'criminal', 664: 'crime', 665: 'transport', 666: 'dentures', 667: 'across', 668: 'lines', 669: 'built', 670: 'prison', 671: 'days', 672: '1990', 673: 'mass', 674: 'incarceration', 675: 'explosion', 676: 'nonviolent', 677: 'offenders', 678: 'plan', 679: 'provides', 680: 'virtually', 681: 'nothing', 682: 'burdened', 683: 'fastest', 684: 'growing', 685: 'increases', 686: 'major', 687: 'phoenix', 688: 'kidnapping', 689: 'belong', 690: 'afl', 691: 'cio', 692: 'commissioner', 693: 'ca', 694: 'squat', 695: 'poll', 696: 'found', 697: 'beat', 698: 'eight', 699: 'points', 700: 'ronald', 701: 'reagan', 702: 'sent', 703: 'troops', 704: 'conflict', 705: 'circumstance', 706: 'grenada', 707: 'peacekeeping', 708: 'setting', 709: 'lebanon', 710: 'jolly', 711: 'privatizing', 712: 'lowest', 713: 'depression', 714: 'average', 715: 'student', 716: 'pocket', 717: 'universities', 718: 'much', 719: 'spend', 720: 'cellphones', 721: '1968', 722: 'died', 723: 'gunfire', 724: 'wars', 725: 'countrys', 726: 'effect', 727: '2013', 728: 'mean', 729: 'bill', 730: 'facing', 731: 'millions', 732: 'modified', 733: 'mortgage', 734: 'short', 735: 'sale', 736: 'lender', 737: 'department', 738: 'agricultures', 739: 'website', 740: 'freshfromfloridacom', 741: 'used', 742: 'permit', 743: 'carry', 744: 'loaded', 745: 'hidden', 746: 'gun', 747: 'leaving', 748: 'house', 749: 'streetcar', 750: 'expected', 751: 'create', 752: '930', 753: 'totaling', 754: '5600', 755: 'raising', 756: 'minimum', 757: 'wage', 758: '1010', 759: 'hour', 760: 'help', 761: 'lift', 762: 'secretary', 763: 'kerry', 764: 'senator', 765: 'flew', 766: 'managua', 767: 'met', 768: 'communist', 769: 'dictator', 770: 'daniel', 771: 'ortega', 772: 'accused', 773: 'engaging', 774: 'terrorism', 775: 'nato', 776: 'opening', 777: 'terror', 778: 'division', 779: 'sure', 780: 'largely', 781: 'saying', 782: 'criticism', 783: 'always', 784: '100', 785: 'prochoice', 786: 'rating', 787: 'gina', 788: 'raimondo', 789: 'office', 790: 'investment', 791: 'fees', 792: 'pension', 793: 'portfolio', 794: 'gone', 795: 'annually', 796: '4', 797: 'day', 798: 'obamas', 799: 'longer', 800: 'lay', 801: 'firefighters', 802: 'officers', 803: '98000', 804: '53000', 805: 'old', 806: 'thirds', 807: 'wisconsinites', 808: 'receiving', 809: 'checks', 810: 'required', 811: 'search', 812: 'current', 813: 'exemptions', 814: 'reforms', 815: 'premium', 816: 'family', 817: 'go', 818: '2500', 819: 'per', 820: 'irs', 821: 'also', 822: 'investigated', 823: 'liberal', 824: 'groups', 825: 'progressive', 826: 'name', 827: 'looking', 828: 'everybody', 829: 'promised', 830: '8', 831: 'creating', 832: 'pace', 833: '1999', 834: 'meet', 835: 'prime', 836: 'minister', 837: 'benjamin', 838: 'netanyahu', 839: 'majority', 840: 'marry', 841: 'freely', 842: 'love', 843: 'reps', 844: 'peter', 845: 'defazio', 846: 'earl', 847: 'blumenauer', 848: 'socialists', 849: 'openly', 850: 'serving', 851: 'congress', 852: 'rudy', 853: 'giuliani', 854: 'underqualified', 855: 'seek', 856: 'presidency', 857: 'presidents', 858: 'governors', 859: 'senators', 860: 'britains', 861: 'leave', 862: 'european', 863: 'union', 864: 'within', 865: 'hours', 866: 'medicaid', 867: 'declined', 868: '19', 869: '2012', 870: 'second', 871: '47', 872: '88', 873: 'constables', 874: 'duty', 875: 'prepaid', 876: 'college', 877: '20000', 878: 'columbus', 879: '41', 880: 'contribute', 881: 'guaranteed', 882: 'check', 883: 'pensions', 884: 'cfo', 885: 'shut', 886: 'krakow', 887: 'scam', 888: 'refunded', 889: 'josephine', 890: 'victims', 891: 'con', 892: 'getting', 893: 'computer', 894: 'sciences', 895: 'degrees', 896: '80s', 897: 'plus', 898: 'air', 899: 'force', 900: 'taxpayers', 901: 'fund', 902: 'fantasy', 903: 'football', 904: 'league', 905: 'hussein', 906: 'courts', 907: 'accept', 908: 'islamic', 909: 'sharia', 910: 'domestic', 911: 'disputes', 912: '3', 913: 'murders', 914: 'committed', 915: 'guns', 916: 'legally', 917: 'purchase', 918: 'neighborhood', 919: 'closing', 920: 'told', 921: 'gay', 922: 'organizers', 923: 'stronger', 924: 'advocate', 925: 'special', 926: 'rights', 927: 'ted', 928: 'kennedy', 929: 'speaker', 930: 'consistently', 931: 'offered', 932: 'leaner', 933: 'budgets', 934: 'halfway', 935: '2010', 936: 'goal', 937: '700000', 938: 'seven', 939: 'saysmichael', 940: 'bennet', 941: 'close', 942: 'guantanamo', 943: 'bay', 944: 'prisonand', 945: 'bring', 946: 'terrorists', 947: 'colorado', 948: 'oregonians', 949: 'amazing', 950: 'donations', 951: '250000', 952: 'syrian', 953: 'iraqi', 954: 'refugees', 955: 'research', 956: 'shows', 957: 'vast', 958: 'arriving', 959: 'immigrants', 960: 'believe', 961: 'source', 962: 'prosperity', 963: 'support', 964: 'newt', 965: 'gingrichs', 966: 'offers', 967: 'doorway', 968: 'amnesty', 969: 'mr', 970: 'caprio', 971: 'career', 972: 'politician', 973: 'rhode', 974: 'island', 975: '9', 976: 'temporary', 977: 'disability', 978: 'jersey', 979: '17', 980: 'interest', 981: 'exceed', 982: 'revenue', 983: 'money', 984: 'street', 985: 'anybody', 986: 'donald', 987: 'proliferation', 988: 'ok', 989: 'taken', 990: 'lobbyists', 991: 'expressly', 992: 'bans', 993: 'racial', 994: 'profiling', 995: 'begging', 996: 'send', 997: 'coast', 998: 'guard', 999: 'patrol', 1000: 'lakes', 1001: 'mexico', 1002: 'border', 1003: 'va', 1004: '300000', 1005: 'veterans', 1006: 'waiting', 1007: '42', 1008: 'rob', 1009: 'cornilles', 1010: 'dan', 1011: 'branch', 1012: 'tried', 1013: 'expand', 1014: 'steady', 1015: 'progress', 1016: 'improving', 1017: 'michigan', 1018: 'bottle', 1019: 'deposit', 1020: 'afford', 1021: 'redemptions', 1022: 'profit', 1023: 'admit', 1024: 'general', 1025: 'goes', 1026: 'education', 1027: 'fought', 1028: 'developers', 1029: 'draining', 1030: 'everglades', 1031: 'johnson', 1032: 'calls', 1033: 'ponzi', 1034: 'privatize', 1035: '31', 1036: '10000', 1037: 'cities', 1038: 'type', 1039: 'policies', 1040: 'passed', 1041: 'referring', 1042: 'north', 1043: 'carolinas', 1044: 'climate', 1045: 'directly', 1046: 'related', 1047: 'includes', 1048: 'soup', 1049: 'kitchens', 1050: 'spent', 1051: 'taxpayer', 1052: 'electric', 1053: 'cars', 1054: 'finland', 1055: 'windmills', 1056: 'china', 1057: 'sarah', 1058: 'wasilla', 1059: 'fire', 1060: 'highly', 1061: 'respected', 1062: 'librarian', 1063: 'refused', 1064: 'consider', 1065: 'removing', 1066: 'library', 1067: 'books', 1068: 'wanted', 1069: 'removed', 1070: 'milwaukee', 1071: 'approves', 1072: 'reducing', 1073: 'maximum', 1074: 'forfeiture', 1075: 'marijuana', 1076: 'possession', 1077: '23', 1078: 'different', 1079: 'bicycle', 1080: 'violations', 1081: 'illegal', 1082: 'wrote', 1083: 'letter', 1084: 'supporting', 1085: 'hillarycare', 1086: 'patent', 1087: 'trademark', 1088: 'received', 1089: 'complaints', 1090: 'washington', 1091: 'redskins', 1092: 'proposals', 1093: 'cause', 1094: 'premiums', 1095: 'increased', 1096: 'decreased', 1097: 'hundreds', 1098: 'lose', 1099: 'mexican', 1100: 'abiding', 1101: 'citizens', 1102: 'statistic', 1103: 'vetoed', 1104: 'package', 1105: '30', 1106: 'bills', 1107: 'mining', 1108: 'illinois', 1109: 'gubernatorial', 1110: 'bradys', 1111: 'priority', 1112: 'winning', 1113: 'sponsor', 1114: 'euthanize', 1115: 'sheltered', 1116: 'dogs', 1117: 'cats', 1118: 'chambers', 1119: 'worsened', 1120: 'action', 1121: '200000', 1122: 'pre', 1123: 'peak', 1124: 'trailed', 1125: 'rest', 1126: 'comes', 1127: 'consecutive', 1128: 'thomas', 1129: 'eric', 1130: 'duncan', 1131: 'came', 1132: 'elevated', 1133: 'temperature', 1134: 'afghanistan', 1135: 'foreign', 1136: 'conducting', 1137: 'nations', 1138: 'prices', 1139: 'webster', 1140: 'form', 1141: 'marriage', 1142: 'trap', 1143: 'abusive', 1144: 'relationships', 1145: 'judges', 1146: 'better', 1147: 'benefits', 1148: 'lower', 1149: 'else', 1150: 'lot', 1151: 'casinos', 1152: 'bankrupt', 1153: 'small', 1154: 'seniors', 1155: '12000', 1156: 'kids', 1157: 'arrested', 1158: 'leader', 1159: 'rank', 1160: 'oil', 1161: 'rigs', 1162: 'operation', 1163: 'combined', 1164: 'payday', 1165: 'lenders', 1166: 'poor', 1167: 'charging', 1168: '1000', 1169: 'trust', 1170: 'sound', 1171: 'anything', 1172: 'done', 1173: 'function', 1174: 'well', 1175: '2038', 1176: 'changes', 1177: 'commitment', 1178: 'voters', 1179: 'seriously', 1180: 'incumbent', 1181: 'break', 1182: 'pledge', 1183: 'stricklands', 1184: 'hike', 1185: 'defeated', 1186: 'soundly', 1187: 'tuesday', 1188: 'amber', 1189: 'alert', 1190: 'republicans', 1191: 'muslim', 1192: 'see', 1193: 'americas', 1194: 'exploding', 1195: 'greater', 1196: 'percentage', 1197: 'behind', 1198: 'bars', 1199: 'hearing', 1200: 'gabrielle', 1201: 'giffords', 1202: 'gen', 1203: 'petraeus', 1204: 'army', 1205: 'emphasis', 1206: 'environmentally', 1207: 'damaging', 1208: 'methods', 1209: 'stabbing', 1210: 'clubbing', 1211: 'enemy', 1212: 'forces', 1213: 'order', 1214: 'minimize', 1215: 'carbon', 1216: 'output', 1217: 'blocked', 1218: 'raise', 1219: 'receive', 1220: '2800', 1221: 'living', 1222: 'adjustment', 1223: 'january', 1224: '2015', 1225: 'male', 1226: 'babies', 1227: 'many', 1228: 'jose', 1229: 'authorizing', 1230: 'strike', 1231: 'syria', 1232: 'assad', 1233: 'chemical', 1234: 'weapons', 1235: 'cash', 1236: 'clunkers', 1237: 'got', 1238: 'local', 1239: 'junkyard', 1240: 'tow', 1241: '4500', 1242: 'guts', 1243: 'recognize', 1244: 'real', 1245: 'wages', 1246: 'top', 1247: 'dewhurst', 1248: 'record', 1249: 'promoting', 1250: 'pleasant', 1251: 'beach', 1252: 'beaches', 1253: 'privately', 1254: 'owned', 1255: 'operated', 1256: 'jenkinsons', 1257: 'mind', 1258: 'conclude', 1259: '28000', 1260: 'killed', 1261: 'leading', 1262: 'pack', 1263: 'terms', 1264: 'denies', 1265: 'access', 1266: 'hb2', 1267: 'moved', 1268: 'needle', 1269: 'iota', 1270: 'consists', 1271: 'core', 1272: 'according', 1273: 'agencies', 1274: 'weidner', 1275: 'proposed', 1276: 'taking', 1277: 'away', 1278: '80000', 1279: 'oregons', 1280: '1985', 1281: 'former', 1282: 'tom', 1283: 'kean', 1284: 'largest', 1285: 'increase', 1286: 'ready', 1287: 'commander', 1288: 'chief', 1289: 'median', 1290: 'worker', 1291: 'seen', 1292: 'adjusted', 1293: 'barrett', 1294: 'held', 1295: 'property', 1296: 'member', 1297: 'representatives', 1298: 'contributions', 1299: '200', 1300: 'unlike', 1301: 'gridlock', 1302: 'assembly', 1303: 'bipartisan', 1304: 'josh', 1305: 'mandel', 1306: 'lying', 1307: 'ohios', 1308: 'improved', 1309: 'leased', 1310: 'drilling', 1311: 'trying', 1312: 'hide', 1313: 'possible', 1314: 'lease', 1315: 'turnpike', 1316: 'beginning', 1317: 'decade', 1318: 'surplus', 1319: 'projected', 1320: '1540', 1321: 'nominations', 1322: 'confirmed', 1323: 'four', 1324: 'forced', 1325: 'feisal', 1326: 'abdul', 1327: 'raufs', 1328: 'trip', 1329: 'east', 1330: 'county', 1331: '370000', 1332: 'settle', 1333: 'lawsuit', 1334: 'decision', 1335: 'sheriff', 1336: 'clarke', 1337: 'jr', 1338: 'untrained', 1339: 'corrections', 1340: 'rather', 1341: 'deputies', 1342: 'lakefront', 1343: 'fbi', 1344: 'james', 1345: 'comey', 1346: 'discussing', 1347: 'details', 1348: 'investigation', 1349: 'considerably', 1350: 'effective', 1351: 'biden', 1352: 'gulf', 1353: 'surge', 1354: 'partition', 1355: 'iraq', 1356: 'rush', 1357: 'limbaugh', 1358: 'clear', 1359: 'fail', 1360: 'succeed', 1361: 'make', 1362: '21', 1363: 'recruiting', 1364: 'throughout', 1365: 'funding', 1366: 'perdue', 1367: 'abolish', 1368: 'eliminate', 1369: 'loans', 1370: 'proposal', 1371: 'students', 1372: 'campus', 1373: 'twice', 1374: 'graduate', 1375: 'appeared', 1376: 'imprisons', 1377: 'open', 1378: 'grown', 1379: '375', 1380: 'scores', 1381: 'remain', 1382: 'flat', 1383: 'affect', 1384: 'alameel', 1385: 'giving', 1386: 'thousands', 1387: 'party', 1388: 'candidates', 1389: 'cornyn', 1390: 'greg', 1391: 'abbott', 1392: 'healthcare', 1393: 'burns', 1394: 'gdp', 1395: 'nobody', 1396: 'providences', 1397: 'miles', 1398: 'closer', 1399: 'eastern', 1400: 'need', 1401: 'photo', 1402: 'id', 1403: 'sudafed', 1404: 'twenty', 1405: 'housing', 1406: 'portlands', 1407: 'pearl', 1408: 'allowing', 1409: 'payroll', 1410: 'holiday', 1411: 'expire', 1412: 'costing', 1413: 'another', 1414: 'estimated', 1415: '900000', 1416: 'supported', 1417: 'nafta', 1418: 'trade', 1419: 'pennsylvania', 1420: 'numerous', 1421: 'studies', 1422: 'shown', 1423: 'laws', 1424: 'generate', 1425: 'gross', 1426: 'product', 1427: 'historically', 1428: 'affairs', 1429: 'scandal', 1430: 'exaggerated', 1431: 'satisfied', 1432: 'driven', 1433: 'initial', 1434: 'response', 1435: 'heard', 1436: 'christmas', 1437: 'underwear', 1438: 'bomber', 1439: 'say', 1440: 'isolated', 1441: 'extremist', 1442: 'sherrod', 1443: 'admitted', 1444: '787', 1445: 'stimulus', 1446: 'specifically', 1447: 'attacking', 1448: 'wanting', 1449: 'claims', 1450: 'enough', 1451: '1950s', 1452: 'rich', 1453: '90', 1454: 'charleston', 1455: 'sc', 1456: 'shootershould', 1457: 'given', 1458: 'universal', 1459: 'background', 1460: 'fast', 1461: 'sixty', 1462: 'okay', 1463: 'shoot', 1464: 'soldier', 1465: 'twelve', 1466: 'thrown', 1467: 'legal', 1468: 'challenges', 1469: 'rejected', 1470: 'notion', 1471: 'unconstitutional', 1472: 'christies', 1473: 'reduce', 1474: 'warren', 1475: 'buffett', 1476: 'lemieux', 1477: 'precinct', 1478: 'allen', 1479: 'patrick', 1480: 'murphy', 1481: 'recount', 1482: '7', 1483: 'guatemalan', 1484: 'community', 1485: 'tally', 1486: 'showed', 1487: '900', 1488: '230000', 1489: 'kathleen', 1490: 'sebelius', 1491: 'determine', 1492: 'lung', 1493: 'patient', 1494: 'murnaghan', 1495: 'live', 1496: 'die', 1497: 'klein', 1498: 'repeatedly', 1499: 'favor', 1500: 'enforcement', 1501: 'data', 1502: 'hubs', 1503: 'treasure', 1504: 'trove', 1505: 'personal', 1506: 'info', 1507: 'tenure', 1508: 'saw', 1509: 'houstons', 1510: 'drop', 1511: 'levels', 1512: 'columbia', 1513: 'university', 1514: 'barry', 1515: 'soetoro', 1516: 'richest', 1517: 'senate', 1518: 'filled', 1519: 'millionaires', 1520: 'solution', 1521: 'crisis', 1522: 'skip', 1523: 'vacations', 1524: '1700', 1525: 'infinite', 1526: 'promises', 1527: 'hypocrisy', 1528: 'foundation', 1529: 'staff', 1530: '218029', 1531: 'female', 1532: '153014', 1533: '2014', 1534: 'violence', 1535: 'adopted', 1536: '1994', 1537: 'fallen', 1538: '67', 1539: 'questioning', 1540: 'miranda', 1541: 'warning', 1542: 'minutes', 1543: 'legalizing', 1544: 'pregnancies', 1545: 'unintended', 1546: 'borrowing', 1547: 'saudi', 1548: 'result', 1549: 'dependency', 1550: 'homes', 1551: 'oswego', 1552: 'lake', 1553: '150000', 1554: 'welcome', 1555: '33', 1556: 'complaining', 1557: 'gained', 1558: '590000', 1559: 'entire', 1560: 'difference', 1561: 'previous', 1562: 'things', 1563: 'headed', 1564: 'brought', 1565: '816', 1566: 'saved', 1567: 'growers', 1568: 'dairies', 1569: 'workforce', 1570: '1978', 1571: 'nationwide', 1572: 'something', 1573: 'portman', 1574: 'irresponsible', 1575: 'dekalb', 1576: 'projects', 1577: 'palin', 1578: 'wing', 1579: 'pat', 1580: 'buchanan', 1581: 'block', 1582: 'energy', 1583: 'production', 1584: 'jeanne', 1585: 'shaheen', 1586: 'measure', 1587: 'amounted', 1588: 'dc', 1589: 'strictest', 1590: 'skyrocketed', 1591: 'fighting', 1592: 'move', 1593: 'toughen', 1594: 'penalties', 1595: 'workplace', 1596: 'gender', 1597: 'discrimination', 1598: 'belonged', 1599: 'cooking', 1600: 'cleaning', 1601: 'rule', 1602: 'infrastructure', 1603: '611000', 1604: 'proper', 1605: 'collective', 1606: 'noun', 1607: 'baboons', 1608: 'predatory', 1609: 'target', 1610: 'december', 1611: '2007', 1612: '14', 1613: 'period', 1614: '400000', 1615: 'difficult', 1616: 'hire', 1617: 'cbo', 1618: 'congressional', 1619: 'kill', 1620: 'thompson', 1621: 'caps', 1622: 'damages', 1623: 'fairer', 1624: 'fiscal', 1625: 'reserve', 1626: 'using', 1627: 'strategic', 1628: 'petroleum', 1629: 'fertile', 1630: 'teacher', 1631: 'uninsured', 1632: 'mandates', 1633: '2006', 1634: 'firearms', 1635: 'homicides', 1636: 'concealed', 1637: 'upwards', 1638: 'decide', 1639: 'seeing', 1640: 'ultrasound', 1641: 'harbor', 1642: 'ban', 1643: 'common', 1644: 'forms', 1645: 'pill', 1646: 'jason', 1647: 'kander', 1648: 'remaining', 1649: 'suspected', 1650: 'soil', 1651: 'shelby', 1652: 'donated', 1653: 'sorry', 1654: '44', 1655: 'memphis', 1656: 'intelligence', 1657: 'officials', 1658: 'toldevery', 1659: 'attacked', 1660: 'serious', 1661: 'threat', 1662: 'emanating', 1663: 'suburbs', 1664: 'inundated', 1665: 'absolutely', 1666: 'july', 1667: '1996', 1668: 'locate', 1669: 'missing', 1670: 'teenage', 1671: 'daughter', 1672: 'partner', 1673: 'blames', 1674: 'mike', 1675: 'mcintyre', 1676: 'nancy', 1677: 'pelosi', 1678: 'straight', 1679: 'beneficiaries', 1680: 'account', 1681: 'transfers', 1682: 'knowing', 1683: 'mechanisms', 1684: 'place', 1685: 'internet', 1686: 'defunding', 1687: 'oppose', 1688: 'shutting', 1689: 'report', 1690: 'insisting', 1691: 'part', 1692: 'fiscalcliff', 1693: 'false', 1694: 'btw', 1695: 'played', 1696: 'clips', 1697: 'knife', 1698: 'want', 1699: 'ryans', 1700: 'pockets', 1701: 'companies', 1702: 'connie', 1703: 'mack', 1704: 'iv', 1705: 'missed', 1706: 'eisenhower', 1707: 'saluted', 1708: 'personnel', 1709: 'wisconsins', 1710: 'perquisites', 1711: 'plans', 1712: 'counterparts', 1713: 'airplane', 1714: '74', 1715: 'afterschool', 1716: 'programs', 1717: '5', 1718: '6', 1719: 'flow', 1720: 'wo', 1721: 'default', 1722: 'homeowners', 1723: 'lending', 1724: 'practices', 1725: 'mid', 1726: 'banks', 1727: 'wiped', 1728: 'dodd', 1729: 'frank', 1730: 'starbucks', 1731: 'brand', 1732: 'cups', 1733: 'atmospheric', 1734: 'conditions', 1735: 'push', 1736: 'footballs', 1737: 'pressure', 1738: 'approximately', 1739: 'pounds', 1740: 'square', 1741: 'inch', 1742: 'unlimited', 1743: 'moment', 1744: 'cleared', 1745: 'obtain', 1746: 'scholarships', 1747: 'attend', 1748: 'losing', 1749: 'six', 1750: 'adding', 1751: '600000', 1752: 'star', 1753: 'hook', 1754: 'falcons', 1755: 'stadium', 1756: 'repaid', 1757: 'outsiders', 1758: '22', 1759: 'missouri', 1760: 'lone', 1761: 'refinance', 1762: 'resolution', 1763: 'disapproval', 1764: 'condemn', 1765: 'behavior', 1766: 'younger', 1767: 'competitors', 1768: 'entirely', 1769: 'recent', 1770: 'international', 1771: 'reports', 1772: 'show', 1773: 'near', 1774: 'bottom', 1775: 'among', 1776: 'industrialized', 1777: 'academic', 1778: 'achievement', 1779: 'find', 1780: 'full', 1781: 'doctor', 1782: 'sick', 1783: 'feed', 1784: '15', 1785: 'owe', 1786: 'value', 1787: 'policy', 1788: 'mistakes', 1789: 'clintons', 1790: 'large', 1791: 'degree', 1792: 'situation', 1793: 'arkansas', 1794: '400', 1795: 'speed', 1796: 'train', 1797: '39', 1798: 'estimates', 1799: 'fully', 1800: 'extending', 1801: 'add', 1802: '2011', 1803: '27', 1804: 'ceiling', 1805: 'cay', 1806: 'johnston', 1807: 'pays', 1808: '16', 1809: 'covered', 1810: '1952', 1811: 'accounted', 1812: 'despite', 1813: 'breaking', 1814: 'profits', 1815: 'targeted', 1816: 'scrutiny', 1817: 'conservative', 1818: 'patrice', 1819: 'lumumba', 1820: 'moscow', 1821: 'mahmoud', 1822: 'abbas', 1823: 'ali', 1824: 'khamenei', 1825: 'established', 1826: 'vladimir', 1827: 'putin', 1828: 'board', 1829: 'sboe', 1830: 'led', 1831: 'appointee', 1832: 'remove', 1833: 'jefferson', 1834: 'textbook', 1835: 'standards', 1836: 'historical', 1837: 'figures', 1838: 'inspired', 1839: 'salary', 1840: 'perks', 1841: '13', 1842: 'pull', 1843: 'truth', 1844: 'matter', 1845: '160000', 1846: 'physically', 1847: 'logistically', 1848: 'wealth', 1849: '157', 1850: 'yet', 1851: 'require', 1852: 'penny', 1853: 'foster', 1854: 'kriseman', 1855: 'ineffective', 1856: 'krisemans', 1857: 'routinely', 1858: 'gets', 1859: 'cell', 1860: 'phone', 1861: 'numbers', 1862: 'month', 1863: '184', 1864: 'contract', 1865: 'negotiations', 1866: 'clackamas', 1867: 'commissioners', 1868: 'approved', 1869: 'negotiated', 1870: 'agreement', 1871: 'countys', 1872: 'contribution', 1873: 'trimets', 1874: 'portland', 1875: 'milwaukie', 1876: 'light', 1877: 'rail', 1878: 'project', 1879: '199', 1880: '11', 1881: 'felonies', 1882: 'commit', 1883: 'oyster', 1884: 'unwinding', 1885: 'welfare', 1886: 'requirements', 1887: 'car', 1888: 'sales', 1889: 'dropped', 1890: 'dramatically', 1891: '5000', 1892: 'eliminated', 1893: 'annual', 1894: 'registration', 1895: 'fee', 1896: 'imposed', 1897: 'training', 1898: 'camp', 1899: 'deal', 1900: 'generated', 1901: 'born', 1902: 'anytime', 1903: 'defended', 1904: 'syrias', 1905: 'reformer', 1906: 'civil', 1907: 'postal', 1908: 'services', 1909: 'financial', 1910: 'losses', 1911: 'drains', 1912: 'post', 1913: 'service', 1914: 'overpay', 1915: 'billions', 1916: 'accounts', 1917: 'delayed', 1918: 'opposition', 1919: 'amendments', 1920: 'confederate', 1921: 'battle', 1922: 'building', 1923: 'gift', 1924: 'shops', 1925: '60', 1926: 'hurting', 1927: 'sheila', 1928: 'jackson', 1929: 'lee', 1930: 'hey', 1931: 'wrinkly', 1932: 'white', 1933: 'aged', 1934: 'beens', 1935: 'generation', 1936: 'spot', 1937: 'planet', 1938: 'spends', 1939: 'google', 1940: 'searches', 1941: 'allow', 1942: 'operator', 1943: 'iron', 1944: 'ore', 1945: 'mine', 1946: 'northern', 1947: 'wisconsin', 1948: 'fill', 1949: 'pristine', 1950: 'streams', 1951: 'ponds', 1952: 'waste', 1953: 'taxed', 1954: 'black', 1955: '15th', 1956: 'wealthiest', 1957: 'graduation', 1958: '86', 1959: '71', 1960: 'sold', 1961: 'unlicensed', 1962: 'sellers', 1963: 'either', 1964: 'online', 1965: 'deadliest', 1966: '46th', 1967: '50th', 1968: 'graduates', 1969: 'amanda', 1970: 'fritz', 1971: 'manages', 1972: '1900s', 1973: 'style', 1974: 'trolley', 1975: 'child', 1976: 'results', 1977: 'gotten', 1978: 'worse', 1979: 'polls', 1980: 'floridians', 1981: 'repeal', 1982: 'congressman', 1983: 'pascrell', 1984: 'option', 1985: 'lawmakers', 1986: 'season', 1987: 'efforts', 1988: 'lead', 1989: 'drawing', 1990: 'borders', 1991: 'surrogates', 1992: 'referred', 1993: 'rape', 1994: 'incest', 1995: 'though', 1996: 'somehow', 1997: 'confronting', 1998: 'minor', 1999: 'issue', 2000: 'offshore', 2001: 'medical', 2002: 'amendment', 2003: 'refills', 2004: 'forever', 2005: 'storing', 2006: 'microchip', 2007: 'implanted', 2008: 'opt', 2009: 'become', 2010: 'enacting', 2011: 'expanding', 2012: 'predators', 2013: 'abusers', 2014: '1993', 2015: 'treasurers', 2016: '37', 2017: 'management', 2018: 'oversight', 2019: 'investments', 2020: 'charter', 2021: 'applied', 2022: 'jorge', 2023: 'elorza', 2024: 'impose', 2025: 'municipal', 2026: 'overrule', 2027: 'branchesof', 2028: 'roughly', 2029: 'ri', 2030: 'nathan', 2031: 'hope', 2032: 'scholarship', 2033: 'literally', 2034: 'georgians', 2035: 'technical', 2036: 'badly', 2037: 'needed', 2038: 'saving', 2039: '380', 2040: '850', 2041: 'teach', 2042: 'kindergartners', 2043: 'known', 2044: 'accepting', 2045: 'bewildered', 2046: 'scope', 2047: 'reach', 2048: 'spying', 2049: 'apparatus', 2050: 'explicitly', 2051: 'calling', 2052: 'disclosure', 2053: 'hassans', 2054: 'raises', 2055: 'politicians', 2056: 'moroccans', 2057: 'pottery', 2058: 'starts', 2059: 'saysrand', 2060: 'paulhas', 2061: 'huge', 2062: 'sums', 2063: 'influence', 2064: 'legislative', 2065: '500', 2066: '43', 2067: 'arabia', 2068: 'al', 2069: 'qaida', 2070: 'williamson', 2071: 'attorney', 2072: 'jana', 2073: 'prosecuted', 2074: 'adult', 2075: 'felony', 2076: 'fundraising', 2077: 'grassroots', 2078: 'unmatched', 2079: 'negotiate', 2080: 'although', 2081: 'seems', 2082: 'reflect', 2083: 'caused', 2084: 'shrinking', 2085: 'actual', 2086: 'labor', 2087: 'hired', 2088: 'convicted', 2089: 'jensen', 2090: 'oversee', 2091: 'raid', 2092: 'employee', 2093: 'retirement', 2094: 'balance', 2095: 'battlefield', 2096: 'apply', 2097: 'green', 2098: 'packers', 2099: 'players', 2100: 'peoples', 2101: 'republic', 2102: 'donetsk', 2103: 'posted', 2104: 'bragging', 2105: 'posting', 2106: 'shot', 2107: 'apparent', 2108: 'civilian', 2109: 'pulled', 2110: 'falling', 2111: 'faster', 2112: 'looks', 2113: 'sectors', 2114: 'leisure', 2115: 'hospitality', 2116: 'mostly', 2117: 'fall', 2118: 'restaurant', 2119: 'bar', 2120: 'paying', 2121: 'proportion', 2122: 'earning', 2123: 'subminimum', 2124: 'bought', 2125: 'vehicles', 2126: 'measures', 2127: 'ones', 2128: 'prevent', 2129: 'groping', 2130: 'airport', 2131: 'appointees', 2132: 'ipab', 2133: 'decisions', 2134: '300', 2135: 'stores', 2136: 'barred', 2137: 'selling', 2138: 'watt', 2139: 'bulbs', 2140: 'back', 2141: '1800s', 2142: 'row', 2143: 'consecutively', 2144: 'carter', 2145: 'promote', 2146: 'associated', 2147: 'press', 2148: 'nader', 2149: 'gonzalez', 2150: 'problem', 2151: 'soldiers', 2152: 'committing', 2153: 'suicide', 2154: 'congressmen', 2155: 'additional', 2156: 'agents', 2157: 'fifteen', 2158: 'master', 2159: 'locks', 2160: 'unionized', 2161: 'plant', 2162: 'running', 2163: 'capacity', 2164: 'reed', 2165: 'authorities', 2166: 'confirm', 2167: 'projections', 2168: 'estimate', 2169: 'overhaul', 2170: '176', 2171: '940', 2172: 'originally', 2173: 'claimed', 2174: 'payne', 2175: 'pallone', 2176: 'may', 2177: 'fingerprints', 2178: 'thing', 2179: 'indeed', 2180: 'brags', 2181: 'independent', 2182: 'agency', 2183: 'investigate', 2184: 'shootings', 2185: 'course', 2186: 'attitude', 2187: 'sanctity', 2188: 'celebrations', 2189: 'eleven', 2190: 'yeah', 2191: 'miami', 2192: 'dade', 2193: 'educating', 2194: 'omnibus', 2195: '38', 2196: 'earmarks', 2197: 'talking', 2198: 'tough', 2199: 'kim', 2200: 'myers', 2201: 'broome', 2202: 'relocated', 2203: 'headquarters', 2204: 'californias', 2205: 'prop', 2206: 'requirecondom', 2207: 'usein', 2208: 'films', 2209: 'film', 2210: 'riskfor', 2211: 'lawsuits', 2212: 'harassment', 2213: 'tolls', 2214: 'privilege', 2215: 'crossing', 2216: 'bridge', 2217: 'sens', 2218: 'isaksons', 2219: 'chambliss', 2220: '6000', 2221: 'estate', 2222: 'legislature', 2223: 'kay', 2224: 'bailey', 2225: 'hutchison', 2226: 'mica', 2227: 'borrow', 2228: 'opponent', 2229: 'mary', 2230: 'burke', 2231: 'reporters', 2232: 'bargained', 2233: 'run', 2234: 'anybodys', 2235: 'table', 2236: '250', 2237: 'partisan', 2238: 'picked', 2239: 'multiple', 2240: 'regular', 2241: '1980s', 2242: 'raging', 2243: 'populist', 2244: 'ran', 2245: 'complained', 2246: 'constitutional', 2247: 'shoved', 2248: 'waters', 2249: 'attended', 2250: 'convention', 2251: 'rising', 2252: 'flint', 2253: 'mich', 2254: 'poison', 2255: 'burlington', 2256: 'vt', 2257: 'clean', 2258: 'complicated', 2259: 'comply', 2260: 'code', 2261: 'gives', 2262: 'provided', 2263: 'prayer', 2264: 'room', 2265: 'rugs', 2266: 'lets', 2267: 'pray', 2268: 'allah', 2269: 'abolishing', 2270: 'bulk', 2271: 'weapon', 2272: 'drug', 2273: 'gangs', 2274: 'motors', 2275: 'asking', 2276: 'salaries', 2277: 'uri', 2278: 'england', 2279: 'grant', 2280: 'institutions', 2281: 'carlos', 2282: 'curbelo', 2283: 'ability', 2284: 'pollution', 2285: 'combat', 2286: 'asked', 2287: 'disclose', 2288: 'donors', 2289: 'suspicion', 2290: 'usa', 2291: 'continues', 2292: 'wonder', 2293: 'rand', 2294: 'shopping', 2295: 'billionaire', 2296: 'super', 2297: 'pac', 2298: 'cashed', 2299: 'sept', 2300: '11collecting', 2301: 'intended', 2302: 'recover', 2303: 'properties', 2304: 'affected', 2305: 'newly', 2306: 'hold', 2307: 'payment', 2308: 'advisory', 2309: 'mitchell', 2310: 'park', 2311: 'domes', 2312: 'little', 2313: 'evidence', 2314: 'red', 2315: 'cameras', 2316: 'reduced', 2317: 'severity', 2318: 'accidents', 2319: 'intersections', 2320: 'camden', 2321: 'graduated', 2322: '29000', 2323: 'delinquent', 2324: 'pastor', 2325: 'preacher', 2326: 'priest', 2327: 'rabbi', 2328: 'imam', 2329: 'sermon', 2330: 'moral', 2331: 'traditions', 2332: 'sexual', 2333: 'guilty', 2334: 'jobless', 2335: '56', 2336: 'colleagues', 2337: 'cracked', 2338: 'attracting', 2339: 'hiring', 2340: 'gingrich', 2341: 'affirmative', 2342: 'statement', 2343: 'barbaric', 2344: 'procedure', 2345: 'global', 2346: 'aids', 2347: 'instability', 2348: 'recipient', 2349: 'thanks', 2350: 'nowhere', 2351: 'awarded', 2352: 'date', 2353: 'hundred', 2354: 'pupil', 2355: 'compared', 2356: '2009', 2357: 'adjusting', 2358: '85', 2359: 'steadfast', 2360: 'path', 2361: 'citizenship', 2362: 'working', 2363: 'tammy', 2364: 'baldwin', 2365: 'introduced', 2366: 'doctors', 2367: 'ask', 2368: 'patients', 2369: 'lesbian', 2370: 'bisexual', 2371: 'identity', 2372: 'kristi', 2373: 'thibaut', 2374: 'acorn', 2375: 'lobbyist', 2376: 'trading', 2377: 'slavery', 2378: 'girls', 2379: 'survey', 2380: 'transit', 2381: 'ridership', 2382: 'age', 2383: '34', 2384: '2001', 2385: '4191', 2386: 'via', 2387: 'rendered', 2388: 'completely', 2389: 'null', 2390: 'void', 2391: 'june', 2392: 'hard', 2393: 'ends', 2394: 'jacobs', 2395: 'someone', 2396: 'albany', 2397: 'region', 2398: 'fair', 2399: 'fact', 2400: 'reid', 2401: 'allowed', 2402: 'rebecca', 2403: 'bradley', 2404: 'fails', 2405: 'diploma', 2406: 'charge', 2407: 'implement', 2408: 'exchange', 2409: 'tweet', 2410: 'tape', 2411: 'alicia', 2412: 'machado', 2413: 'aphotograph', 2414: 'featured', 2415: 'leads', 2416: 'systematically', 2417: 'reciprocity', 2418: 'minnesota', 2419: 'cory', 2420: 'booker', 2421: 'late', 2422: 'opposes', 2423: 'safety', 2424: 'regulations', 2425: 'modern', 2426: 'release', 2427: 'least', 2428: 'returns', 2429: 'alone', 2430: 'eu', 2431: 'exports', 2432: 'korea', 2433: 'market', 2434: 'farmers', 2435: 'providers', 2436: 'suffering', 2437: 'luxury', 2438: '65000', 2439: 'tim', 2440: 'kaine', 2441: 'ambitions', 2442: 'dnc', 2443: 'chairman', 2444: 'flip', 2445: 'flopped', 2446: 'easy', 2447: 'breaks', 2448: 'jets', 2449: 'zack', 2450: 'space', 2451: 'resulted', 2452: 'formal', 2453: 'sanction', 2454: 'investigative', 2455: 'subcommittee', 2456: 'hampshire', 2457: '95', 2458: 'democraticcongressional', 2459: 'morgancarroll', 2460: 'racked', 2461: '59', 2462: 'carol', 2463: 'shea', 2464: 'porter', 2465: 'creators', 2466: 'hopeless', 2467: 'somewhere', 2468: 'stay', 2469: 'delaying', 2470: 'districts', 2471: 'shave', 2472: 'weeks', 2473: 'intervene', 2474: 'libya', 2475: '9997', 2476: 'cleveland', 2477: '128000', 2478: 'ranks', 2479: '49th', 2480: 'nationally', 2481: 'keeping', 2482: 'distance', 2483: 'interviewers', 2484: 'bernie', 2485: 'sanders', 2486: 'indefinite', 2487: 'detention', 2488: 'sided', 2489: 'stand', 2490: 'vigilantes', 2491: 'minutemen', 2492: 'outposts', 2493: 'hunt', 2494: 'incentives', 2495: 'deutsche', 2496: 'gallup', 2497: 'egyptians', 2498: 'statistics', 2499: 'violent', 2500: 'maddox', 2501: 'campaigns', 2502: 'available', 2503: 'positions', 2504: '61', 2505: 'preparation', 2506: 'managed', 2507: 'exxon', 2508: 'pocketed', 2509: 'aarp', 2510: 'reseller', 2511: 'vested', 2512: 'reselling', 2513: 'supplemental', 2514: 'expands', 2515: 'monthly', 2516: '10420', 2517: '24700', 2518: 'incorporated', 2519: 'purposely', 2520: 'confuse', 2521: 'read', 2522: 'grade', 2523: 'level', 2524: 'cuyahoga', 2525: 'clinics', 2526: 'critical', 2527: 'emergency', 2528: 'zika', 2529: 'trouble', 2530: 'pet', 2531: 'sayspeter', 2532: 'kilmartin', 2533: 'statute', 2534: 'letting', 2535: 'occupy', 2536: 'protesters', 2537: 'woodruff', 2538: 'forward', 2539: 'probation', 2540: 'parole', 2541: 'enslaved', 2542: '1850', 2543: '17000', 2544: 'fishers', 2545: 'watch', 2546: 'nine', 2547: 'limiting', 2548: 'contraception', 2549: 'cheaper', 2550: 'easier', 2551: 'udalls', 2552: 'defined', 2553: 'del', 2554: 'valle', 2555: 'drive', 2556: 'bastrop', 2557: 'closest', 2558: 'grocery', 2559: 'store', 2560: 'levees', 2561: 'flood', 2562: 'considers', 2563: 'pork', 2564: 'pledged', 2565: 'protect', 2566: 'warner', 2567: '107', 2568: 'prohibiting', 2569: 'negotiating', 2570: 'prescription', 2571: 'drugs', 2572: 'provision', 2573: 'fccs', 2574: 'neutrality', 2575: 'whatis', 2576: 'essentially', 2577: 'massive', 2578: 'typical', 2579: '1973', 2580: 'arms', 2581: 'treaty', 2582: 'certainly', 2583: 'registry', 2584: 'scale', 2585: 'confiscation', 2586: 'misadventures', 2587: 'firearm', 2588: 'remind', 2589: 'entry', 2590: 'verify', 2591: 'math', 2592: 'adds', 2593: 'declining', 2594: 'apprehended', 2595: 'extremists', 2596: 'pakistan', 2597: 'acts', 2598: 'stood', 2599: 'big', 2600: 'flying', 2601: 'performing', 2602: 'angel', 2603: 'taveras', 2604: 'maurice', 2605: 'ferre', 2606: 'kendrick', 2607: 'meek', 2608: '986', 2609: 'democrat', 2610: 'advanced', 2611: 'inmates', 2612: 'immigrant', 2613: 'dead', 2614: 'midwestern', 2615: 'walkers', 2616: 'ounce', 2617: 'soda', 2618: 'philadelphia', 2619: 'loss', 2620: 'sustaining', 2621: 'teamster', 2622: 'countless', 2623: 'beverage', 2624: 'challenge', 2625: 'suspend', 2626: 'tobacco', 2627: 'cigars', 2628: 'childrens', 2629: '69', 2630: 'rise', 2631: 'corn', 2632: 'wheat', 2633: 'spike', 2634: 'sugar', 2635: 'smoking', 2636: 'ninety', 2637: 'texans', 2638: 'nursing', 2639: 'funded', 2640: 'needs', 2641: 'persons', 2642: 'unique', 2643: 'abilities', 2644: 'politics', 2645: 'staffer', 2646: 'kasichs', 2647: 'committee', 2648: 'race', 2649: 'grants', 2650: 'participating', 2651: 'adopt', 2652: 'condition', 2653: 'allows', 2654: 'shared', 2655: 'fingerprinting', 2656: 'sought', 2657: 'hagee', 2658: 'believes', 2659: 'hurricane', 2660: 'katrina', 2661: 'god', 2662: 'punishment', 2663: 'catholic', 2664: 'church', 2665: 'antichrist', 2666: 'cult', 2667: 'filers', 2668: 'stock', 2669: 'rival', 2670: '3000', 2671: 'treasurer', 2672: 'ordered', 2673: 'founder', 2674: 'gaylord', 2675: 'nelson', 2676: 'discuss', 2677: 'unions', 2678: 'play', 2679: 'interview', 2680: '14000', 2681: 'financing', 2682: 'secondary', 2683: 'produce', 2684: 'dropouts', 2685: 'embryonic', 2686: 'stem', 2687: 'example', 2688: 'successful', 2689: 'treatment', 2690: 'dane', 2691: 'hand', 2692: 'counting', 2693: '2016', 2694: 'presidential', 2695: 'ambassador', 2696: 'christopher', 2697: 'stevens', 2698: '600', 2699: 'requests', 2700: 'bringing', 2701: 'tens', 2702: 'households', 2703: 'towards', 2704: 'retire', 2705: 'friend', 2706: 'talked', 2707: 'switching', 2708: 'parties', 2709: 'nomination', 2710: 'agriculture', 2711: 'usage', 2712: 'synthetic', 2713: 'instances', 2714: 'bodily', 2715: 'harm', 2716: 'death', 2717: 'risen', 2718: 'dismissed', 2719: 'incompetence', 2720: 'longest', 2721: '1929', 2722: 'collecting', 2723: 'information', 2724: 'unseemly', 2725: 'deaths', 2726: 'accumulated', 2727: 'hani', 2728: 'baragwanath', 2729: 'africa', 2730: 'worlds', 2731: 'hospital', 2732: 'precipitation', 2733: 'inches', 2734: 'century', 2735: 'initially', 2736: 'yes', 2737: 'stupid', 2738: 'folks', 2739: 'corrected', 2740: 'submitted', 2741: 'earliest', 2742: 'meeting', 2743: 'obligation', 2744: 'update', 2745: 'voter', 2746: 'registrations', 2747: 'address', 2748: 'bmv', 2749: 'vietnamese', 2750: 'commonly', 2751: 'spoken', 2752: 'language', 2753: 'generous', 2754: 'opinion', 2755: 'b', 2756: 'transportation', 2757: 'referendum', 2758: 'thesis', 2759: 'criticized', 2760: 'plutocratic', 2761: 'thugs', 2762: 'constitution', 2763: 'shackles', 2764: 'blacks', 2765: 'regiment', 2766: 'alongside', 2767: 'southerners', 2768: 'triggering', 2769: 'microcephaly', 2770: 'dtap', 2771: 'vaccine', 2772: 'recently', 2773: 'mandated', 2774: 'brazilian', 2775: 'injected', 2776: 'pregnant', 2777: 'agree', 2778: 'executive', 2779: 'legislators', 2780: 'carly', 2781: 'fiorina', 2782: 'banning', 2783: 'assault', 2784: 'baby', 2785: 'bond', 2786: 'multiplied', 2787: 'platform', 2788: 'pass', 2789: 'putting', 2790: 'cops', 2791: 'streets', 2792: 'hybrid', 2793: 'attacks', 2794: 'honor', 2795: 'repeated', 2796: 'failure', 2797: 'limit', 2798: 'payments', 2799: 'various', 2800: 'scoreboard', 2801: 'bucks', 2802: 'internment', 2803: 'camps', 2804: 'mccollum', 2805: 'holds', 2806: 'nra', 2807: 'leadership', 2808: 'pretty', 2809: 'intact', 2810: 'expanded', 2811: 'turkey', 2812: 'arab', 2813: 'reagans', 2814: '1980', 2815: 'dying', 2816: 'hiv', 2817: '2004', 2818: 'leffingwell', 2819: 'accuses', 2820: 'contradictory', 2821: 'osama', 2822: 'bin', 2823: 'laden', 2824: '92', 2825: 'assassination', 2826: 'drone', 2827: 'strikes', 2828: 'finally', 2829: 'double', 2830: '395', 2831: 'pushed', 2832: 'triple', 2833: 'bunked', 2834: 'cells', 2835: 'classrooms', 2836: 'areas', 2837: 'supposed', 2838: 'designated', 2839: 'inmate', 2840: 'aclu', 2841: 'call', 2842: 'newark', 2843: 'immediate', 2844: 'monitor', 2845: 'requiring', 2846: 'vaccinated', 2847: 'hpv', 2848: 'highway', 2849: 'closed', 2850: 'el', 2851: 'paso', 2852: 'bullets', 2853: 'extend', 2854: 'gains', 2855: 'competitive', 2856: 'races', 2857: 'hispanics', 2858: 'electorate', 2859: 'sic', 2860: 'nikita', 2861: 'khrushchev', 2862: 'extra', 2863: 'shoe', 2864: 'session', 2865: '1960', 2866: 'banged', 2867: 'desk', 2868: 'protest', 2869: 'toilets', 2870: 'renacci', 2871: 'liebermans', 2872: 'covers', 2873: '27300', 2874: 'daily', 2875: 'expenses', 2876: 'powers', 2877: 'ceos', 2878: 'franklin', 2879: 'delano', 2880: 'roosevelt', 2881: 'track', 2882: 'deport', 2883: 'dreamers', 2884: 'apparently', 2885: 'vetting', 2886: 'conservatives', 2887: 'lawmaker', 2888: 'seeks', 2889: 'defund', 2890: 'pieces', 2891: 'ray', 2892: 'strauss', 2893: 'champion', 2894: 'reformers', 2895: '1944', 2896: 'ronda', 2897: 'storms', 2898: 'taj', 2899: 'mahal', 2900: 'courthouse', 2901: 'france', 2902: 'surveillance', 2903: 'thousandfold', 2904: 'invasive', 2905: 'means', 2906: 'blue', 2907: 'chip', 2908: 'indicators', 2909: 'surveys', 2910: 'lots', 2911: 'forecasters', 2912: 'predicting', 2913: 'quarter', 2914: 'positive', 2915: 'fourth', 2916: 'x', 2917: 'overseas', 2918: 'troop', 2919: 'request', 2920: 'front', 2921: 'induced', 2922: 'charged', 2923: 'return', 2924: 'follow', 2925: 'backlog', 2926: 'view', 2927: 'pornography', 2928: 'molesting', 2929: 'ways', 2930: 'mccrory', 2931: 'adviser', 2932: 'admits', 2933: 'romneycare', 2934: 'blueprint', 2935: 'affecting', 2936: 'ballot', 2937: 'especially', 2938: 'subscribers', 2939: 'apologizing', 2940: 'bad', 2941: 'shrink', 2942: 'hurricanes', 2943: 'striking', 2944: 'bores', 2945: 'hole', 2946: 'whole', 2947: 'argument', 2948: 'capita', 2949: 'developed', 2950: 'switzerland', 2951: '175', 2952: 'revenues', 2953: 'rainy', 2954: '1270', 2955: 'infants', 2956: 'reported', 2957: 'following', 2958: 'attempted', 2959: 'notably', 2960: 'spouse', 2961: 'everyone', 2962: 'everywhere', 2963: 'paychecks', 2964: 'pump', 2965: 'sleep', 2966: 'daylight', 2967: 'might', 2968: 'pose', 2969: 'risks', 2970: 'latina', 2971: 'craft', 2972: 'brewery', 2973: 'brewers', 2974: 'threshold', 2975: 'drunken', 2976: 'surrounding', 2977: 'offense', 2978: 'invested', 2979: '55', 2980: 'dallas', 2981: 'los', 2982: 'angeles', 2983: 'houston', 2984: 'detroit', 2985: '760000', 2986: 'upset', 2987: 'carcieri', 2988: 'mrs', 2989: 'host', 2990: 'lighting', 2991: 'tree', 2992: 'heavily', 2993: 'deployed', 2994: 'demond', 2995: 'superintendent', 2996: 'gutted', 2997: 'saysvirginia', 2998: 'republicanscott', 2999: 'taylor', 3000: 'failing', 3001: 'appear', 3002: 'issued', 3003: 'arrest', 3004: 'travis', 3005: 'settled', 3006: 'mahatma', 3007: 'gandhi', 3008: 'ignore', 3009: 'laugh', 3010: 'win', 3011: 'achieved', 3012: '21500', 3013: 'arrests', 3014: '46', 3015: 'tons', 3016: 'narcotics', 3017: 'confiscated', 3018: 'appalled', 3019: 'learn', 3020: 'exempts', 3021: '1964', 3022: 'potentially', 3023: 'delay', 3024: 'deregulation', 3025: 'telecommunications', 3026: '50000', 3027: 'standard', 3028: 'french', 3029: 'loretta', 3030: 'lynch', 3031: 'team', 3032: '1992', 3033: 'whitewater', 3034: 'corruption', 3035: 'manhattan', 3036: 'rally', 3037: 'chanting', 3038: 'moving', 3039: 'claim', 3040: 'accelerated', 3041: 'precedent', 3042: 'slower', 3043: 'pathway', 3044: 'deliver', 3045: 'jack', 3046: 'california', 3047: 'robust', 3048: 'outpaces', 3049: 'household', 3050: 'minute', 3051: 'gogebic', 3052: 'extended', 3053: 'richardson', 3054: 'denish', 3055: 'drivers', 3056: 'licenses', 3057: 'noncontiguous', 3058: 'central', 3059: 'gasoline', 3060: 'diesel', 3061: 'fuels', 3062: 'imported', 3063: '1949', 3064: 'richard', 3065: 'burr', 3066: 'insider', 3067: 'brave', 3068: 'christian', 3069: 'vermont', 3070: 'sentenced', 3071: 'refusing', 3072: 'couple', 3073: 'colleges', 3074: 'duties', 3075: 'unarmed', 3076: 'email', 3077: 'monies', 3078: 'recouped', 3079: 'tarp', 3080: 'shall', 3081: 'treasury', 3082: 'treated', 3083: 'game', 3084: 'agent', 3085: 'whose', 3086: 'client', 3087: 'haiti', 3088: 'doc', 3089: 'duvalier', 3090: 'despot', 3091: 'killing', 3092: 'hikes', 3093: 'becoming', 3094: 'economically', 3095: 'viable', 3096: 'acceptance', 3097: 'gold', 3098: 'medal', 3099: 'accountability', 3100: 'choice', 3101: 'ohioans', 3102: 'riding', 3103: 'passenger', 3104: 'trains', 3105: 'revealed', 3106: 'aid', 3107: 'follows', 3108: 'applying', 3109: 'residency', 3110: 'healthcaregov', 3111: 'users', 3112: 'waive', 3113: 'reasonable', 3114: 'privacy', 3115: 'experts', 3116: 'qaeda', 3117: 'kelly', 3118: 'ayotte', 3119: 'stands', 3120: 'lobby', 3121: 'network', 3122: 'constitutes', 3123: 'parallel', 3124: 'cranston', 3125: 'notifications', 3126: 'offender', 3127: 'battered', 3128: 'grew', 3129: 'aircraft', 3130: 'range', 3131: 'bombers', 3132: 'carriers', 3133: 'submarines', 3134: 'compliance', 3135: 'wasted', 3136: 'averagein', 3137: '60000', 3138: 'yearthey', 3139: '180', 3140: 'electricians', 3141: 'plumbers', 3142: 'sheet', 3143: 'metal', 3144: 'retrofitting', 3145: 'buildings', 3146: 'independence', 3147: 'efficiency', 3148: 'exporters', 3149: 'loophole', 3150: 'deceptively', 3151: 'sell', 3152: 'products', 3153: 'cat', 3154: 'dog', 3155: 'fur', 3156: 'consumers', 3157: 'capitals', 3158: 'kb', 3159: 'toys', 3160: 'described', 3161: 'boston', 3162: 'herald', 3163: 'disgusting', 3164: 'roy', 3165: 'coopers', 3166: 'refusal', 3167: 'qatar', 3168: 'restrictions', 3169: 'included', 3170: 'periods', 3171: 'goldman', 3172: 'sachs', 3173: 'boss', 3174: 'unilaterally', 3175: 'disarm', 3176: 'earmark', 3177: 'moratorium', 3178: 'milwaukees', 3179: 'problems', 3180: 'include', 3181: '52', 3182: 'disputed', 3183: 'news', 3184: 'story', 3185: 'trimming', 3186: 'railroad', 3187: 'michael', 3188: 'williams', 3189: '150', 3190: 'tea', 3191: 'gatherings', 3192: 'harry', 3193: 'aliens', 3194: 'equal', 3195: 'rubios', 3196: 'increasing', 3197: 'citations', 3198: 'collected', 3199: 'kasim', 3200: 'veto', 3201: 'corleone', 3202: 'incumbents', 3203: 'respond', 3204: 'ricos', 3205: 'worst', 3206: 'corporations', 3207: 'voteand', 3208: 'carried', 3209: 'independents', 3210: 'redistricting', 3211: 'mentioned', 3212: 'mate', 3213: 'dissenter', 3214: 'inflationary', 3215: 'de', 3216: 'blasio', 3217: 'subway', 3218: 'delays', 3219: 'soared', 3220: 'delivered', 3221: 'relief', 3222: 'lamar', 3223: 'smith', 3224: '700', 3225: 'bailout', 3226: 'standing', 3227: 'assure', 3228: 'bailouts', 3229: 'happen', 3230: 'gradinsurance', 3231: 'debacle', 3232: 'direct', 3233: 'mizzou', 3234: 'parent', 3235: 'works', 3236: 'often', 3237: 'array', 3238: 'parts', 3239: 'baltimore', 3240: 'palestine', 3241: 'distressed', 3242: 'nigeria', 3243: 'india', 3244: 'entitlement', 3245: 'etc', 3246: 'increasingly', 3247: 'opportunities', 3248: 'ocean', 3249: 'spray', 3250: 'bordentown', 3251: 'processing', 3252: 'facility', 3253: 'regional', 3254: 'greenhouse', 3255: 'initiative', 3256: 'northeastern', 3257: 'length', 3258: 'murderers', 3259: 'must', 3260: 'eligible', 3261: 'really', 3262: 'realized', 3263: 'diane', 3264: 'sandy', 3265: 'destructive', 3266: 'atlantic', 3267: 'storm', 3268: 'gwinnett', 3269: 'henry', 3270: 'counties', 3271: '153', 3272: '339', 3273: 'respectively', 3274: 'correctional', 3275: 'debate', 3276: 'limits', 3277: 'chiefs', 3278: 'ganley', 3279: 'toomey', 3280: 'jeb', 3281: 'smoked', 3282: 'alive', 3283: 'identical', 3284: 'shirts', 3285: 'bangladesh', 3286: 'suits', 3287: 'vodka', 3288: 'netherlands', 3289: 'crystal', 3290: 'barware', 3291: 'slovenia', 3292: 'cufflinks', 3293: 'ties', 3294: 'opened', 3295: 'subsidy', 3296: 'hotel', 3297: 'jumped', 3298: 'door', 3299: 'sessions', 3300: 'walmart', 3301: 'compact', 3302: 'fluorescent', 3303: 'lamp', 3304: 'cfl', 3305: 'pop', 3306: 'emails', 3307: 'tells', 3308: 'lags', 3309: 'howell', 3310: 'consistent', 3311: '9000', 3312: 'moderate', 3313: 'lever', 3314: 'mechanism', 3315: 'langevin', 3316: '716', 3317: 'trans', 3318: 'partnership', 3319: 'tiny', 3320: 'barbara', 3321: 'boxers', 3322: 'worried', 3323: 'weather', 3324: 'entitlements', 3325: 'overwhelmingly', 3326: 'caught', 3327: 'merrick', 3328: 'garland', 3329: 'authored', 3330: 'prisoners', 3331: 'islamist', 3332: 'approval', 3333: 'ratings', 3334: '964', 3335: 'bear', 3336: 'restrictive', 3337: 'fatalities', 3338: 'jfk', 3339: 'disenfranchised', 3340: 'felons', 3341: 'threatened', 3342: 'bomb', 3343: 'consult', 3344: 'released', 3345: 'except', 3346: 'jerry', 3347: 'gavin', 3348: 'newsom', 3349: 'kamala', 3350: 'harris', 3351: 'overseen', 3352: 'ed', 3353: 'gillespies', 3354: 'promoted', 3355: 'recommends', 3356: 'enforced', 3357: 'blake', 3358: 'rocap', 3359: 'stopped', 3360: 'refuses', 3361: 'jerusalem', 3362: 'israel', 3363: 'draft', 3364: 'homeownership', 3365: 'q2', 3366: '629', 3367: '51yrs', 3368: 'senior', 3369: 'staffing', 3370: 'ratio', 3371: 'seattle', 3372: 'prohibited', 3373: 'recommending', 3374: '32000', 3375: 'spiral', 3376: 'staircase', 3377: 'turnout', 3378: 'experience', 3379: 'kenya', 3380: 'gration', 3381: 'resign', 3382: 'pretrial', 3383: 'visited', 3384: 'nashville', 3385: 'names', 3386: 'initials', 3387: 'carved', 3388: 'desks', 3389: 'redistribution', 3390: 'characteristic', 3391: 'tampa', 3392: 'strip', 3393: 'club', 3394: 'reached', 3395: 'sharing', 3396: 'lt', 3397: 'casey', 3398: 'cagle', 3399: 'bicycles', 3400: 'parked', 3401: 'unsealed', 3402: 'records', 3403: 'marquette', 3404: 'constituent', 3405: 'cuba', 3406: 'venezuela', 3407: 'enemies', 3408: 'wildfires', 3409: 'linked', 3410: 'far', 3411: 'protection', 3412: 'earlier', 3413: 'depetro', 3414: 'sexually', 3415: 'assaulting', 3416: 'protests', 3417: 'crowd', 3418: 'sprawling', 3419: 'capitol', 3420: 'monument', 3421: 'supervisors', 3422: 'effort', 3423: 'noncitizens', 3424: 'rolls', 3425: 'withdraw', 3426: 'indefinitely', 3427: '278', 3428: 'cantors', 3429: 'defeat', 3430: 'appointed', 3431: 'stamp', 3432: 'farm', 3433: 'turbine', 3434: 'risk', 3435: 'flicker', 3436: 'shadows', 3437: 'blades', 3438: 'turbines', 3439: 'poses', 3440: 'significant', 3441: 'particularly', 3442: 'seizures', 3443: 'clears', 3444: 'condemned', 3445: 'march', 3446: '1979', 3447: 'hijacked', 3448: 'broad', 3449: 'revolution', 3450: 'shah', 3451: 'brutal', 3452: 'theocracy', 3453: 'spanish', 3454: 'tv', 3455: 'dem', 3456: 'controlled', 3457: 'process', 3458: 'objective', 3459: 'criteria', 3460: 'modify', 3461: 'draw', 3462: 'boundaries', 3463: 'economies', 3464: 'resources', 3465: 'body', 3466: 'armor', 3467: 'helicopters', 3468: 'ammunition', 3469: 'barretts', 3470: 'video', 3471: 'whoomp', 3472: 'permits', 3473: 'uninterrupted', 3474: 'manufacturers', 3475: 'avg', 3476: 'franchised', 3477: 'dealer', 3478: 'autism', 3479: 'prior', 3480: 'issues', 3481: 'campaigning', 3482: 'rifle', 3483: 'omar', 3484: 'mateen', 3485: 'shoots', 3486: 'rounds', 3487: '1399', 3488: 'bluest', 3489: 'residential', 3490: 'handguns', 3491: 'bullhorns', 3492: 'trumpets', 3493: 'helium', 3494: 'balloons', 3495: 'flags', 3496: 'poles', 3497: 'banned', 3498: 'basketball', 3499: 'coach', 3500: 'drastically', 3501: 'floridas', 3502: 'farming', 3503: 'alcohol', 3504: 'underage', 3505: 'bureaucrat', 3506: 'tell', 3507: 'scan', 3508: 'keystone', 3509: 'xl', 3510: 'pipeline', 3511: 'speech', 3512: 'advocated', 3513: 'guest', 3514: 'participate', 3515: 'takeover', 3516: 'quite', 3517: 'present', 3518: 'percentof', 3519: 'parents', 3520: 'spankers', 3521: 'flores', 3522: 'laid', 3523: 'executives', 3524: 'owns', 3525: 'lands', 3526: 'govt', 3527: 'permission', 3528: '0', 3529: '13th', 3530: 'exceeded', 3531: 'medicine', 3532: 'hospitals', 3533: 'shortfall', 3534: 'assumption', 3535: 'continue', 3536: 'siphon', 3537: 'certain', 3538: 'falls', 3539: 'apart', 3540: 'seams', 3541: 'weekend', 3542: 'islamabad', 3543: 'harbored', 3544: 'unnecessarily', 3545: 'flight', 3546: 'faa', 3547: 'bail', 3548: '177', 3549: 'costly', 3550: 'knew', 3551: 'sixth', 3552: 'fines', 3553: 'asthma', 3554: 'uks', 3555: 'opportunity', 3556: 'loaning', 3557: 'studios', 3558: 'ordinary', 3559: 'soccer', 3560: 'mens', 3561: 'legalized', 3562: 'pending', 3563: 'fewest', 3564: 'u', 3565: 'victors', 3566: 'nunn', 3567: 'handpicked', 3568: '29', 3569: 'sununu', 3570: 'agenda', 3571: 'gon', 3572: 'na', 3573: 'cutbacks', 3574: 'write', 3575: 'lacks', 3576: 'defer', 3577: 'deportation', 3578: 'rises', 3579: 'complying', 3580: '163', 3581: 'shuttle', 3582: 'museum', 3583: 'congressdecision', 3584: 'sequestration', 3585: '45th', 3586: 'maj', 3587: 'nidal', 3588: 'hasan', 3589: 'fort', 3590: 'hood', 3591: 'advisor', 3592: 'ceo', 3593: 'wwe', 3594: 'linda', 3595: 'mcmahon', 3596: 'tipping', 3597: 'ringside', 3598: 'physician', 3599: 'distributing', 3600: 'steroids', 3601: 'wrestlers', 3602: 'hezbollah', 3603: 'latin', 3604: 'imminent', 3605: 'food', 3606: 'stamps', 3607: 'magazine', 3608: 'beckhams', 3609: 'miamis', 3610: 'threatens', 3611: '207000', 3612: 'tied', 3613: 'cargo', 3614: 'cruise', 3615: 'industries', 3616: 'experienced', 3617: 'cronies', 3618: 'friends', 3619: 'contributed', 3620: '570', 3621: 'development', 3622: 'actions', 3623: 'burger', 3624: 'king', 3625: 'pulling', 3626: 'franchises', 3627: 'bases', 3628: 'deer', 3629: 'bidder', 3630: 'allies', 3631: 'lined', 3632: 'rug', 3633: 'engage', 3634: 'historic', 3635: 'sean', 3636: 'duffy', 3637: 'ribble', 3638: 'town', 3639: 'hall', 3640: 'meetings', 3641: 'constituents', 3642: 'injecting', 3643: 'controversial', 3644: 'consent', 3645: 'idea', 3646: 'pride', 3647: 'turn', 3648: 'night', 3649: 'iowa', 3650: 'caucuses', 3651: 'focused', 3652: 'containment', 3653: 'rubber', 3654: 'stamped', 3655: 'phony', 3656: 'horse', 3657: 'racing', 3658: 'key', 3659: 'leonard', 3660: 'lance', 3661: 'smart', 3662: 'parks', 3663: 'launch', 3664: 'curbside', 3665: 'recycling', 3666: '16000', 3667: 'secondgeorge', 3668: 'served', 3669: 'theus', 3670: 'fewer', 3671: 'caseload', 3672: 'detainees', 3673: 'h1n1', 3674: 'r', 3675: '77', 3676: 'startedthe', 3677: 'birther', 3678: 'controversy', 3679: 'equivalent', 3680: 'fuel', 3681: 'barrow', 3682: 'ga', 3683: 'celebrates', 3684: 'ownership', 3685: 'face', 3686: 'schoolchildren', 3687: 'justify', 3688: 'automobile', 3689: 'racking', 3690: 'anti', 3691: 'litigation', 3692: 'important', 3693: 'factors', 3694: 'expansion', 3695: 'pasco', 3696: 'confirms', 3697: 'injuries', 3698: 'assistance', 3699: 'nutrition', 3700: 'outcomes', 3701: 'enacted', 3702: 'drastic', 3703: 'misconduct', 3704: 'disgrace', 3705: 'embarrassment', 3706: 'grandfather', 3707: 'arrived', 3708: 'rejecting', 3709: 'insure', 3710: 'filling', 3711: 'finding', 3712: 'fidel', 3713: 'castro', 3714: 'preferences', 3715: 'unkind', 3716: 'beverly', 3717: 'significantly', 3718: 'reading', 3719: 'employment', 3720: 'proposes', 3721: 'rolling', 3722: 'clock', 3723: 'womens', 3724: '34th', 3725: 'sayspresident', 3726: 'commission', 3727: 'unelected', 3728: 'bureaucrats', 3729: 'incl', 3730: 'altogether', 3731: 'sending', 3732: 'official', 3733: 'thank', 3734: 'yous', 3735: 'similar', 3736: 'indianas', 3737: 'religious', 3738: 'freedom', 3739: 'restoration', 3740: 'affords', 3741: 'burkes', 3742: '130000', 3743: '186740', 3744: '61050', 3745: '140', 3746: 'visits', 3747: 'prenatal', 3748: 'imprisoning', 3749: 'sentences', 3750: '500000', 3751: 'crossed', 3752: 'exceeds', 3753: 'nose', 3754: 'dive', 3755: '523', 3756: 'declared', 3757: 'earns', 3758: 'qualify', 3759: 'healthy', 3760: 'curry', 3761: '911', 3762: 'wait', 3763: 'tallahassee', 3764: 'milk', 3765: 'elementary', 3766: 'snack', 3767: 'tearing', 3768: 'foot', 3769: '11000', 3770: 'jeff', 3771: 'weems', 3772: 'defending', 3773: 'bp', 3774: 'enron', 3775: 'plummet', 3776: 'carolina', 3777: 'thom', 3778: 'tillis', 3779: 'wealthy', 3780: '1962', 3781: 'prayed', 3782: 'bible', 3783: 'principal', 3784: 'sewer', 3785: '4000', 3786: 'set', 3787: 'aside', 3788: 'exclusively', 3789: 'aspirin', 3790: 'medication', 3791: 'secretly', 3792: 'adults', 3793: 'ages', 3794: 'torture', 3795: 'cartels', 3796: 'rebates', 3797: 'smuggled', 3798: 'danny', 3799: 'tarkanian', 3800: 'frated', 3801: 'missile', 3802: 'shield', 3803: 'russia', 3804: 'kagen', 3805: '77000', 3806: 'georgias', 3807: 'price', 3808: 'voucher', 3809: 'forty', 3810: 'newest', 3811: 'unconstitutionally', 3812: 'professionals', 3813: 'violate', 3814: 'hipaa', 3815: 'submit', 3816: 'justification', 3817: 'huckabee', 3818: 'groomers', 3819: 'happens', 3820: 'areon', 3821: 'status', 3822: 'caucus', 3823: 'esd', 3824: 'pathologists', 3825: 'instructors', 3826: 'classroom', 3827: 'traffic', 3828: 'towers', 3829: 'located', 3830: 'apple', 3831: 'currently', 3832: 'intel', 3833: 'crimea', 3834: 'ukraine', 3835: '1954', 3836: 'gesture', 3837: 'mystified', 3838: 'fiduciary', 3839: 'responsibility', 3840: 'circulating', 3841: 'coins', 3842: 'catherine', 3843: 'cortez', 3844: 'masto', 3845: 'sweetheart', 3846: 'worth', 3847: 'firm', 3848: 'head', 3849: 'pled', 3850: 'amounts', 3851: 'systematic', 3852: 'fraud', 3853: 'fine', 3854: 'restricts', 3855: 'salt', 3856: 'revolutionary', 3857: 'guy', 3858: 'blown', 3859: 'nclaw', 3860: 'camera', 3861: 'footage', 3862: 'secret', 3863: 'filmed', 3864: '60562', 3865: '164', 3866: 'bobby', 3867: 'assassinated', 3868: 'redfish', 3869: 'fishing', 3870: 'kathie', 3871: 'tovo', 3872: 'invests', 3873: 'paramedics', 3874: 'neighborhoods', 3875: 'fined', 3876: 'entirety', 3877: 'canada', 3878: 'reserves', 3879: 'accuracy', 3880: 'barnes', 3881: 'proclaimed', 3882: 'anymore', 3883: 'insured', 3884: '1100', 3885: 'pick', 3886: 'uncompensated', 3887: 'males15', 3888: 'murder', 3889: 'traveled', 3890: 'advocating', 3891: 'fairtax', 3892: '47th', 3893: 'deborah', 3894: 'ross', 3895: 'ransom', 3896: 'hostages', 3897: 'heroin', 3898: 'addiction', 3899: 'opioid', 3900: 'abuse', 3901: 'named', 3902: 'toraise', 3903: 'trumps', 3904: 'chapters', 3905: 'aborted', 3906: 'fetuses', 3907: 'baucus', 3908: 'deducted', 3909: 'max', 3910: '21st', 3911: 'van', 3912: 'wanggaard', 3913: 'drawn', 3914: 'falks', 3915: 'islands', 3916: 'identification', 3917: 'greene', 3918: 'statewide', 3919: '192000', 3920: 'alison', 3921: 'lundergan', 3922: 'grimes', 3923: 'saudis', 3924: 'handel', 3925: 'endorsed', 3926: 'adoption', 3927: '2003', 3928: 'chairwoman', 3929: 'fulton', 3930: 'wendy', 3931: 'davis', 3932: 'iranian', 3933: 'rouhani', 3934: 'belongs', 3935: 'nonnegotiable', 3936: 'virginias', 3937: 'shedding', 3938: 'fighters', 3939: 'coming', 3940: 'dozens', 3941: 'carrier', 3942: 'indiana', 3943: 'staying', 3944: 'fifty', 3945: 'zip', 3946: 'nada', 3947: 'cantor', 3948: 'subject', 3949: 'teams', 3950: 'offensive', 3951: 'side', 3952: 'meaning', 3953: 'patriotic', 3954: 'sitting', 3955: 'sheets', 3956: 'physicians', 3957: 'cecile', 3958: 'richards', 3959: 'concede', 3960: 'parenthoods', 3961: 'tourism', 3962: 'advertising', 3963: 'citizen', 3964: 'fisher', 3965: 'popularity', 3966: 'debut', 3967: 'cardson', 3968: 'netflix', 3969: 'allowable', 3970: 'unionization', 3971: 'overall', 3972: '105', 3973: 'redirect', 3974: 'modes', 3975: 'twitter', 3976: 'followers', 3977: '830000', 3978: 'sculpture', 3979: 'garden', 3980: 'expressed', 3981: 'strong', 3982: 'balanced', 3983: '1798', 3984: 'univision', 3985: 'rescind', 3986: 'pasch', 3987: 'scamming', 3988: 'shares', 3989: 'investigators', 3990: 'tenth', 3991: 'frankly', 3992: 'sue', 3993: 'implied', 3994: 'portion', 3995: 'compensation', 3996: 'directed', 3997: 'bruce', 3998: 'braley', 3999: '79', 4000: 'nascar', 4001: 'abraham', 4002: 'danced', 4003: 'chamber', 4004: 'medicares', 4005: 'pointed', 4006: 'kills', 4007: 'ebay', 4008: 'whitman', 4009: 'separate', 4010: 'sells', 4011: 'porn', 4012: 'phillys', 4013: 'handling', 4014: 'citys', 4015: 'looming', 4016: 'slashing', 4017: 'predecessors', 4018: 'campaigned', 4019: 'zell', 4020: 'miller', 4021: 'againhats', 4022: 'changing', 4023: 'governing', 4024: 'judicial', 4025: 'conflicts', 4026: 'barrier', 4027: 'innovation', 4028: 'dropout', 4029: 'inner', 4030: 'stops', 4031: 'whatever', 4032: 'cheated', 4033: 'deadbeat', 4034: 'association', 4035: 'leaders', 4036: 'freed', 4037: 'slaves', 4038: 'ku', 4039: 'klux', 4040: 'klan', 4041: 'evict', 4042: 'tenant', 4043: 'hometown', 4044: 'paint', 4045: 'creek', 4046: 'uber', 4047: 'ride', 4048: 'firms', 4049: 'unborn', 4050: 'emerged', 4051: 'slashed', 4052: 'invest', 4053: 'eyes', 4054: 'perfect', 4055: 'conversation', 4056: 'substance', 4057: 'jerseycomeback', 4058: 'keeps', 4059: 'nj', 4060: 'attempt', 4061: 'try', 4062: 'compare', 4063: 'intellectually', 4064: 'dishonest', 4065: '30000', 4066: 'passage', 4067: 'aquarium', 4068: 'clearwater', 4069: 'future', 4070: '44th', 4071: 'expensive', 4072: 'everything', 4073: 'trail', 4074: 'factually', 4075: 'accurate', 4076: 'honduran', 4077: 'husband', 4078: '68', 4079: 'thedollar', 4080: 'charitable', 4081: 'causes', 4082: 'las', 4083: 'vegas', 4084: 'conventions', 4085: 'boehner', 4086: 'returning', 4087: 'wrecked', 4088: 'commercial', 4089: 'multi', 4090: 'debbie', 4091: 'wasserman', 4092: 'schultz', 4093: 'terminally', 4094: 'ill', 4095: 'seat', 4096: 'equality', 4097: 'deadly', 4098: 'sins', 4099: 'whelan', 4100: '1990s', 4101: '1920s', 4102: 'analysis', 4103: 'youthpass', 4104: 'agencys', 4105: '40th', 4106: 'anniversary', 4107: 'electing', 4108: '1972', 4109: 'browns', 4110: 'slapped', 4111: 'sunday', 4112: 'mornings', 4113: 'usually', 4114: 'mayors', 4115: 'delta', 4116: 'animal', 4117: 'karen', 4118: 'negative', 4119: 'holder', 4120: 'involved', 4121: 'dismissal', 4122: 'charges', 4123: 'panther', 4124: 'intimidation', 4125: 'reaching', 4126: 'richmond', 4127: 'vans', 4128: 'owes', 4129: 'amenities', 4130: 'gorgonzola', 4131: 'cheese', 4132: 'trips', 4133: 'glad', 4134: 'wording', 4135: 'clearly', 4136: 'exonerates', 4137: 'retirees', 4138: 'inversions', 4139: 'journalsurprisingly', 4140: 'stefani', 4141: 'contributors', 4142: 'margarita', 4143: 'machines', 4144: 'field', 4145: 'seconds', 4146: 'takes', 4147: 'text', 4148: 'multimillion', 4149: 'bonus', 4150: 'packages', 4151: 'grab', 4152: 'unaccounted', 4153: 'accommodation', 4154: 'shooter', 4155: 'grow', 4156: 'beard', 4157: 'reasons', 4158: 'jerseys', 4159: 'enrollees', 4160: 'matching', 4161: 'simply', 4162: 'onto', 4163: 'watered', 4164: 'sanctions', 4165: 'river', 4166: 'downstream', 4167: 'rice', 4168: 'equaled', 4169: 'austins', 4170: 'photographic', 4171: 'acres', 4172: 'braves', 4173: 'produced', 4174: 'splost', 4175: 'recreation', 4176: 'enters', 4177: 'kindergarten', 4178: 'dental', 4179: 'ken', 4180: 'wishing', 4181: 'paycheck', 4182: 'fairness', 4183: 'sign', 4184: 'recall', 4185: 'petition', 4186: 'signature', 4187: 'counts', 4188: '7176', 4189: 'rebuild', 4190: 'proves', 4191: '278000', 4192: 'absurd', 4193: 'establish', 4194: 'link', 4195: 'playing', 4196: 'chronic', 4197: 'traumatic', 4198: 'encephalopathy', 4199: 'wives', 4200: 'hijackers', 4201: 'happening', 4202: 'husbands', 4203: 'television', 4204: 'planes', 4205: 'jill', 4206: 'mccabe', 4207: 'profitable', 4208: 'pursue', 4209: 'dreams', 4210: 'passions', 4211: 'prank', 4212: 'blogger', 4213: 'posing', 4214: 'contributor', 4215: 'koch', 4216: 'publicly', 4217: 'photographs', 4218: 'earpiece', 4219: 'sympathized', 4220: 'guess', 4221: 'sterilizations', 4222: 'roland', 4223: 'burris', 4224: 'refunds', 4225: 'october', 4226: 'silent', 4227: 'feels', 4228: 'honoring', 4229: 'farrakhan', 4230: 'spoke', 4231: 'looked', 4232: 'audience', 4233: 'eye', 4234: 'deporting', 4235: 'edwards', 4236: 'trippi', 4237: 'professors', 4238: 'mris', 4239: 'forth', 4240: 'extensively', 4241: '32', 4242: '58', 4243: 'fox', 4244: '9874json', 4245: 'barely', 4246: 'true', 4247: 'caremedicare', 4248: 'gillespie', 4249: 'strategist', 4250: '3072json', 4251: 'fly', 4252: '146', 4253: 'efficiencytransparency', 4254: 'newsmax', 4255: 'e', 4256: 'mail', 4257: 'solicitation', 4258: '2436json', 4259: 'repeating', 4260: 'k', 4261: '3rd', 4262: 'cites', 4263: '9721json', 4264: 'advised', 4265: 'barrel', 4266: 'trigger', 4267: 'crimecriminal', 4268: 'justicegunslegal', 4269: 'ad', 4270: '3627json', 4271: 'renuart', 4272: 'representative', 4273: 'comments', 4274: '11900json', 4275: 'childrenpoverty', 4276: 'pbs', 4277: '4611json', 4278: 'almond', 4279: 'dmv', 4280: 'license', 4281: 'rightshomeland', 4282: 'securityimmigrationpublic', 4283: 'safetytransportationworkers', 4284: 'quiroa', 4285: 'prresident', 4286: 'alliance', 4287: 'newsmaker', 4288: '3168json', 4289: 'pants', 4290: 'censuscrimeeducationhealth', 4291: 'careimmigrationstate', 4292: 'budgettaxes', 4293: 'gorman', 4294: 'islanders', 4295: 'radio', 4296: '6832json', 4297: 'guaranteeing', 4298: 'rulesfederal', 4299: 'budgetmilitary', 4300: 'wayne', 4301: 'powell', 4302: 'lawyer', 4303: '5893json', 4304: 'froze', 4305: 'deficitfederal', 4306: 'jamie', 4307: 'radtke', 4308: '3304json', 4309: 'legislator', 4310: 'laborstate', 4311: 'fitzgerald', 4312: 'incoming', 4313: 'channel', 4314: '1638json', 4315: 'improve', 4316: 'chances', 4317: 'herserverof', 4318: 'jon', 4319: 'runyan', 4320: 'redefine', 4321: 'cruz', 4322: 'mathematically', 4323: 'protestant', 4324: 'eighty', 4325: 'antibiotics', 4326: 'fed', 4327: 'livestock', 4328: 'stockman', 4329: 'zones', 4330: 'expenditures', 4331: 'tries', 4332: 'undermine', 4333: 'irans', 4334: 'defend', 4335: 'scotts', 4336: 'purge', 4337: 'russians', 4338: 'crop', 4339: 'ethanol', 4340: 'poultry', 4341: '1913', 4342: 'tonight', 4343: 'unopposed', 4344: 'santorum', 4345: 'interstate', 4346: 'roads', 4347: 'bridges', 4348: 'cotton', 4349: 'arkansan', 4350: 'navy', 4351: 'sailed', 4352: 'ships', 4353: 'accident', 4354: 'luis', 4355: 'gutierrez', 4356: 'touring', 4357: 'joined', 4358: 'hip', 4359: 'fashion', 4360: 'refugee', 4361: 'processed', 4362: 'secured', 4363: 'grand', 4364: '116838763', 4365: 'mahoning', 4366: 'valley', 4367: '27095000', 4368: 'fy2010', 4369: 'enact', 4370: 'faced', 4371: '7776', 4372: 'gecker', 4373: 'vehicle', 4374: 'chesterfield', 4375: 'duke', 4376: 'organizations', 4377: 'joni', 4378: 'ernst', 4379: 'birthers', 4380: 'obtained', 4381: 'copy', 4382: 'kenyan', 4383: 'certificate', 4384: 'unlocking', 4385: 'canadian', 4386: 'tar', 4387: 'sands', 4388: '40000', 4389: 'licensed', 4390: 'dealers', 4391: 'mcdonalds', 4392: 'pittsburgh', 4393: 'steelers', 4394: 'snow', 4395: 'owners', 4396: 'safe', 4397: 'marathon', 4398: 'bombing', 4399: 'fifth', 4400: 'examined', 4401: 'felt', 4402: 'hoping', 4403: 'crash', 4404: 'contain', 4405: 'kenosha', 4406: 'casino', 4407: 'tribe', 4408: 'howard', 4409: 'metzenbaum', 4410: 'robert', 4411: 'taft', 4412: '1976', 4413: 'presurge', 4414: 'basra', 4415: 'mosul', 4416: 'sadr', 4417: 'quiet', 4418: 'setbacks', 4419: 'wastewater', 4420: 'quality', 4421: 'puts', 4422: 'pentagon', 4423: 'martial', 4424: 'faith', 4425: 'cobb', 4426: 'systems', 4427: 'migration', 4428: 'belly', 4429: 'shocking', 4430: 'older', 4431: 'bigger', 4432: 'kosovo', 4433: 'kept', 4434: 'anyway', 4435: 'ultimately', 4436: '1200', 4437: 'golf', 4438: 'courses', 4439: 'travel', 4440: 'undercover', 4441: 'nurse', 4442: 'memorial', 4443: 'ceremony', 4444: 'pentagons', 4445: 'discount', 4446: 'drawdowns', 4447: 'dangerous', 4448: 'atf', 4449: 'recovered', 4450: 'traced', 4451: 'cartel', 4452: 'originated', 4453: 'broward', 4454: 'fireworks', 4455: 'safer', 4456: 'womans', 4457: 'choose', 4458: 'bonds', 4459: 'northeast', 4460: 'quick', 4461: 'identify', 4462: 'desirable', 4463: 'elllis', 4464: 'neenah', 4465: 'broke', 4466: 'abandoned', 4467: 'ensure', 4468: 'quickly', 4469: 'warmer', 4470: 'mars', 4471: 'polar', 4472: 'vortex', 4473: 'caliber', 4474: 'woman', 4475: 'possibly', 4476: 'unrest', 4477: 'invasion', 4478: 'mormon', 4479: 'obey', 4480: 'obedience', 4481: 'bruun', 4482: 'commerce', 4483: 'eliminating', 4484: 'prepared', 4485: 'careers', 4486: 'cross', 4487: 'outfitted', 4488: 'decor', 4489: 'rare', 4490: 'examples', 4491: '41st', 4492: '27000', 4493: 'depend', 4494: 'fec', 4495: 'detailed', 4496: 'jb', 4497: 'hollen', 4498: 'kratz', 4499: 'sexting', 4500: 'leant', 4501: 'disavow', 4502: 'regulation', 4503: 'jan', 4504: 'regulates', 4505: 'dust', 4506: 'answered', 4507: 'question', 4508: 'cemetery', 4509: 'preventing', 4510: 'prayers', 4511: 'funerals', 4512: 'martha', 4513: 'kanter', 4514: 'dispatched', 4515: 'corvallis', 4516: 'craig', 4517: 'robinsons', 4518: 'condoleezza', 4519: 'answer', 4520: 'affiliation', 4521: 'display', 4522: 'lobbied', 4523: 'mirrored', 4524: 'burden', 4525: 'strongly', 4526: 'disagree', 4527: 'permanently', 4528: 'bargaining', 4529: 'author', 4530: 'principles', 4531: 'postsaid', 4532: 'thatcaptured', 4533: 'essence', 4534: '6th', 4535: 'committees', 4536: 'equip', 4537: 'rebel', 4538: 'unilateral', 4539: 'elect', 4540: '13000', 4541: 'pocketing', 4542: 'destroy', 4543: 'mitch', 4544: 'mcconnell', 4545: 'knocks', 4546: '18000', 4547: 'tariffs', 4548: 'goods', 4549: 'cover', 4550: 'tommy', 4551: 'implant', 4552: 'chips', 4553: 'humans', 4554: 'granite', 4555: 'staters', 4556: 'anthemcan', 4557: 'renew', 4558: 'manufacturer', 4559: '2017', 4560: 'funneling', 4561: 'represent', 4562: 'recipients', 4563: 'gardner', 4564: 'championed', 4565: 'crusade', 4566: 'outlaw', 4567: 'practice', 4568: 'birthright', 4569: 'brothers', 4570: 'soar', 4571: 'cassidy', 4572: 'chai', 4573: 'distributed', 4574: 'aidsdrugs', 4575: 'sub', 4576: 'saharan', 4577: 'study', 4578: 'defendants', 4579: 'skipping', 4580: 'appearances', 4581: 'steadily', 4582: 'connecticut', 4583: 'decent', 4584: 'solved', 4585: 'scientists', 4586: 'fare', 4587: 'internal', 4588: '16500', 4589: 'enforce', 4590: 'shore', 4591: 'particular', 4592: 'insecure', 4593: 'critics', 4594: 'original', 4595: 'gi', 4596: 'earners', 4597: '367', 4598: '977', 4599: 'trafficking', 4600: 'socialized', 4601: 'endorse', 4602: 'calendar', 4603: 'dime', 4604: 'human', 4605: 'task', 4606: 'pwned', 4607: 'dominates', 4608: 'youtube', 4609: 'papers', 4610: 'rigells', 4611: 'weaken', 4612: 'regulatory', 4613: 'finance', 4614: 'nominees', 4615: 'impossible', 4616: 'anglo', 4617: 'outlawed', 4618: 'plain', 4619: 'simple', 4620: 'cancer', 4621: 'screenings', 4622: 'alternatives', 4623: 'regard', 4624: 'providing', 4625: 'liked', 4626: 'madison', 4627: 'flaw', 4628: '1995', 4629: 'outer', 4630: 'continental', 4631: 'shelf', 4632: 'deep', 4633: 'royalty', 4634: 'royalties', 4635: 'katko', 4636: 'clippers', 4637: 'sterling', 4638: 'assistant', 4639: 'oh', 4640: 'firefighter', 4641: 'wife', 4642: 'foremost', 4643: 'ebola', 4644: 'sequester', 4645: 'randy', 4646: 'hopper', 4647: 'fond', 4648: 'du', 4649: 'lac', 4650: 'testing', 4651: 'consume', 4652: 'subsidies', 4653: 'giveways', 4654: 'slowed', 4655: 'pursuing', 4656: 'sources', 4657: 'katie', 4658: 'mcgintyactually', 4659: 'bureau', 4660: 'attributed', 4661: 'sharp', 4662: 'understand', 4663: 'signs', 4664: 'english', 4665: 'sees', 4666: 'obese', 4667: '357', 4668: '26', 4669: 'auditing', 4670: 'ratifies', 4671: 'pain', 4672: 'clinic', 4673: 'religion', 4674: 'replaced', 4675: 'voluntarily', 4676: 'territorial', 4677: 'integrity', 4678: 'considered', 4679: 'clerks', 4680: 'couples', 4681: 'officially', 4682: 'emissions', 4683: 'freshman', 4684: 'elective', 4685: 'endlessly', 4686: 'waterboarding', 4687: 'happened', 4688: 'serve', 4689: 'exception', 4690: 'maine', 4691: 'covering', 4692: 'circumstances', 4693: 'mother', 4694: 'julia', 4695: '6350', 4696: 'preventive', 4697: 'backed', 4698: '1989', 4699: 'populations', 4700: 'ranking', 4701: 'slavesfreedom', 4702: 'bunch', 4703: 'korean', 4704: 'aba', 4705: 'cent', 4706: 'paper', 4707: 'bags', 4708: 'summit', 4709: 'regressive', 4710: 'structure', 4711: 'controls', 4712: 'refuse', 4713: 'criminals', 4714: 'wentworth', 4715: 'sonogram', 4716: 'stephen', 4717: 'zappala', 4718: 'da', 4719: 'convict', 4720: 'homicide', 4721: 'borrows', 4722: 'clayton', 4723: 'operating', 4724: 'millage', 4725: 'metro', 4726: 'oversaw', 4727: 'bonuses', 4728: 'educated', 4729: 'repealed', 4730: 'discriminated', 4731: 'gravy', 4732: 'lawyers', 4733: 'involving', 4734: 'plummeted', 4735: 'remember', 4736: 'contractors', 4737: 'tap', 4738: 'devils', 4739: 'managing', 4740: 'vanderbeek', 4741: 'arbitration', 4742: 'judge', 4743: 'tennessee', 4744: 'frivolous', 4745: 'shortfalls', 4746: 'imbalance', 4747: '358', 4748: 'filings', 4749: 'subpoenaed', 4750: '1982', 4751: '439', 4752: 'courage', 4753: 'recovery', 4754: 'tips', 4755: 'dunkin', 4756: 'donuts', 4757: 'demographic', 4758: 'payer', 4759: 'loses', 4760: 'collects', 4761: 'merit', 4762: 'reward', 4763: 'corzine', 4764: 'smartest', 4765: 'illegals', 4766: 'skyrocketing', 4767: 'bracket', 4768: 'worrying', 4769: 'bullying', 4770: 'targeting', 4771: 'color', 4772: 'muslimsand', 4773: 'blocking', 4774: 'unprecedented', 4775: 'vacancy', 4776: 'principally', 4777: 'plot', 4778: 'lois', 4779: 'lerner', 4780: 'nonprofit', 4781: 'patriots', 4782: 'fundraiser', 4783: 'featuring', 4784: 'registering', 4785: 'dozen', 4786: 'uniforms', 4787: '2002', 4788: 'winter', 4789: 'olympic', 4790: 'games', 4791: 'burma', 4792: 'stroke', 4793: 'pen', 4794: 'denied', 4795: 'supportive', 4796: 'schrader', 4797: 'explain', 4798: 'supplies', 4799: 'cnn', 4800: 'showing', 4801: 'casualties', 4802: 'necessary', 4803: 'texting', 4804: 'damon', 4805: 'corporation', 4806: 'defrauding', 4807: 'kennedys', 4808: 'ammo', 4809: 'hunting', 4810: 'vitro', 4811: 'fertilization', 4812: 'purchasing', 4813: 'written', 4814: 'dee', 4815: 'dragged', 4816: 'abused', 4817: 'tennessees', 4818: 'postsecondary', 4819: '275000', 4820: 'rooms', 4821: 'drilled', 4822: 'restore', 4823: 'inherited', 4824: '236', 4825: 'ended', 4826: 'repair', 4827: 'houses', 4828: 'acted', 4829: '1525', 4830: 'lanes', 4831: 'dedicated', 4832: 'sauced', 4833: 'analysts', 4834: 'rack', 4835: 'overdosing', 4836: 'accidental', 4837: 'killer', 4838: 'commonwealth', 4839: 'toledo', 4840: 'bell', 4841: '76', 4842: 'earnings', 4843: 'panhandle', 4844: 'bed', 4845: 'collections', 4846: 'carries', 4847: 'evening', 4848: 'commuters', 4849: 'traveling', 4850: 'downtown', 4851: 'sunset', 4852: 'banfield', 4853: 'freeways', 4854: 'vice', 4855: 'kirk', 4856: 'lied', 4857: 'unemployments', 4858: 'des', 4859: 'moines', 4860: 'register', 4861: 'aug', 4862: 'deprive', 4863: 'underprivileged', 4864: 'meat', 4865: 'protein', 4866: 'lunch', 4867: 'depriving', 4868: 'thwart', 4869: 'direction', 4870: 'detainee', 4871: 'incident', 4872: 'superior', 4873: 'festival', 4874: 'yulin', 4875: 'retirements', 4876: 'horrendous', 4877: 'verona', 4878: 'swanigan', 4879: 'prosecutor', 4880: 'sentencing', 4881: 'consumption', 4882: 'opposite', 4883: '30s', 4884: 'earthquake', 4885: 'youngstown', 4886: 'step', 4887: 'walk', 4888: 'nixon', 4889: 'turns', 4890: 'ducks', 4891: 'garbage', 4892: 'allan', 4893: 'fung', 4894: 'drafted', 4895: 'structural', 4896: 'raided', 4897: 'administrative', 4898: 'donate', 4899: 'web', 4900: 'site', 4901: 'pour', 4902: '650', 4903: 'atwaters', 4904: 'busy', 4905: 'helping', 4906: 'wasting', 4907: '48', 4908: 'lavish', 4909: 'dubbed', 4910: 'musuem', 4911: '110', 4912: 'predicted', 4913: 'employer', 4914: 'nationsbank', 4915: 'mental', 4916: 'comeys', 4917: 'developments', 4918: 'bloomberg', 4919: 'jared', 4920: 'loughner', 4921: 'identified', 4922: 'mentally', 4923: 'zippo', 4924: 'represented', 4925: 'antonio', 4926: 'rooted', 4927: 'employed', 4928: 'trillions', 4929: 'habits', 4930: 'collection', 4931: 'patriot', 4932: 'secure', 4933: 'recklessly', 4934: '3629', 4935: 'susan', 4936: 'conceded', 4937: 'uranium', 4938: 'enrichment', 4939: 'capability', 4940: 'restrict', 4941: 'location', 4942: 'pot', 4943: 'passes', 4944: 'expect', 4945: 'seedy', 4946: 'elements', 4947: 'childs', 4948: 'stanley', 4949: 'mcchrystal', 4950: 'fix', 4951: 'imposes', 4952: 'espionage', 4953: 'edward', 4954: 'snowden', 4955: 'justified', 4956: 'disclosing', 4957: 'whistleblower', 4958: 'cannabis', 4959: 'reardon', 4960: 'music', 4961: 'art', 4962: 'instruction', 4963: 'teaching', 4964: 'volleyball', 4965: 'cap', 4966: 'promise', 4967: 'witness', 4968: 'reauthorization', 4969: 'export', 4970: 'mcdonnells', 4971: 'ads', 4972: 'frame', 4973: 'salmonella', 4974: 'fda', 4975: 'peanut', 4976: 'quonset', 4977: '550', 4978: 'cervical', 4979: 'screening', 4980: 'hedge', 4981: 'managers', 4982: 'parma', 4983: 'woonsocket', 4984: 'burning', 4985: 'fueled', 4986: 'minions', 4987: 'nestle', 4988: 'precious', 4989: 'fresh', 4990: 'ranked', 4991: 'forbes', 4992: 'ahead', 4993: 'magic', 4994: 'marketplaces', 4995: 'inadequate', 4996: 'secede', 4997: 'suffered', 4998: 'zone', 4999: 'downs', 5000: 'considering', 5001: 'references', 5002: 'textbooks', 5003: 'israeli', 5004: 'relations', 5005: 'cooperation', 5006: 'malawi', 5007: 'hewlett', 5008: 'packard', 5009: 'carereform', 5010: 'nebraska', 5011: 'wrap', 5012: 'productive', 5013: 'taps', 5014: 'moon', 5015: 'lax', 5016: '244000', 5017: 'followed', 5018: 'erased', 5019: 'electronic', 5020: 'communications', 5021: 'floundering', 5022: 'crushing', 5023: 'mammograms', 5024: 'refers', 5025: 'mammography', 5026: 'middlewoman', 5027: 'ice', 5028: 'releases', 5029: 'honduras', 5030: 'somalia', 5031: 'births', 5032: 'pacemaker', 5033: 'accomplishments', 5034: 'basis', 5035: 'lifted', 5036: 'highs', 5037: 'instance', 5038: 'groundwater', 5039: 'damaged', 5040: 'hydraulic', 5041: 'fracking', 5042: 'sacs', 5043: 'midterm', 5044: 'review', 5045: '352', 5046: 'reids', 5047: 'awaiting', 5048: 'gaming', 5049: 'occasion', 5050: 'boon', 5051: 'forest', 5052: 'planted', 5053: 'trees', 5054: 'bowl', 5055: 'unknown', 5056: 'senmark', 5057: 'begich', 5058: 'deciding', 5059: 'exist', 5060: 'brother', 5061: 'recovering', 5062: 'drunk', 5063: 'violatedfederal', 5064: 'scuba', 5065: 'diving', 5066: 'tested', 5067: 'input', 5068: 'locations', 5069: 'nor', 5070: 'forcing', 5071: 'ultrasounds', 5072: 'cool', 5073: 'mosque', 5074: 'cultural', 5075: 'severe', 5076: 'reactions', 5077: 'mild', 5078: 'somebody', 5079: 'intensive', 5080: 'unit', 5081: 'odds', 5082: 'monopoly', 5083: 'millionaire', 5084: 'instant', 5085: '327', 5086: '42000', 5087: 'downgrades', 5088: 'devote', 5089: 'lent', 5090: 'brazil', 5091: 'explore', 5092: 'automatic', 5093: 'rifles', 5094: 'weaspons', 5095: 'islam', 5096: 'parenthoodit', 5097: 'elimination', 5098: 'pacur', 5099: 'plastics', 5100: 'hegar', 5101: 'sit', 5102: 'squad', 5103: 'sometimes', 5104: 'shift', 5105: 'proposing', 5106: 'basic', 5107: 'overdraft', 5108: 'fedex', 5109: 'abrahamlincoln', 5110: 'emancipation', 5111: 'proclamation', 5112: 'slaveholders', 5113: 'cold', 5114: 'blood', 5115: 'leaves', 5116: 'alderman', 5117: 'polite', 5118: 'penalty', 5119: 'steam', 5120: 'vacation', 5121: 'repay', 5122: 'sponsoring', 5123: 'sometime', 5124: 'anglos', 5125: 'ten', 5126: 'millennials', 5127: 'provisional', 5128: 'ballots', 5129: 'disqualified', 5130: 'duly', 5131: 'adams', 5132: 'spark', 5133: 'solvency', 5134: 'segment', 5135: 'beer', 5136: 'hourproposal', 5137: 'aggressive', 5138: 'healthier', 5139: 'rural', 5140: 'illiterate', 5141: 'morocco', 5142: 'peters', 5143: 'fences', 5144: 'berlin', 5145: 'septic', 5146: 'inspections', 5147: 'tank', 5148: 'multnomah', 5149: 'busiest', 5150: 'ssdi', 5151: 'ssi', 5152: 'disabled', 5153: 'count', 5154: 'centerpiece', 5155: 'slots', 5156: 'outsourcing', 5157: 'outside', 5158: 'comedians', 5159: 'tour', 5160: 'collect', 5161: 'connection', 5162: 'stringent', 5163: 'petitions', 5164: 'holperin', 5165: 'harassing', 5166: 'telemarketers', 5167: 'claiming', 5168: 'insinuating', 5169: 'foul', 5170: 'circulators', 5171: 'payingjust', 5172: 'whenever', 5173: 'axelrod', 5174: 'renee', 5175: 'ellmers', 5176: 'switched', 5177: 'appoint', 5178: 'czars', 5179: 'replace', 5180: 'reopen', 5181: 'rewarded', 5182: 'shipping', 5183: 'myth', 5184: 'exempt', 5185: 'tremendous', 5186: 'whereas', 5187: 'proud', 5188: 'scandals', 5189: 'cubas', 5190: 'survival', 5191: 'depends', 5192: 'venezuelan', 5193: 'drying', 5194: 'testimony', 5195: 'witnessed', 5196: 'sotomayor', 5197: 'darryl', 5198: 'hicks', 5199: 'fortune', 5200: 'organized', 5201: 'listed', 5202: 'emirates', 5203: 'evenly', 5204: 'cutby', 5205: 'formula', 5206: 'castigated', 5207: 'settlements', 5208: 'rockets', 5209: 'rained', 5210: 'gaza', 5211: 'patrols', 5212: 'picking', 5213: 'recommended', 5214: 'incentivized', 5215: 'militarization', 5216: 'precincts', 5217: 'log', 5218: 'cabin', 5219: 'spring', 5220: 'perriello', 5221: 'lock', 5222: 'lifts', 5223: 'risky', 5224: 'contracting', 5225: 'trespassing', 5226: 'mules', 5227: '275', 5228: 'insist', 5229: 'success', 5230: 'conventional', 5231: 'wisdom', 5232: 'solid', 5233: 'oklahoma', 5234: 'louisiana', 5235: 'kansas', 5236: 'utah', 5237: 'interactive', 5238: 'transparent', 5239: '18th', 5240: 'southern', 5241: 'visa', 5242: 'overstayers', 5243: 'stark', 5244: 'contrast', 5245: '750000', 5246: 'willing', 5247: 'anthem', 5248: 'sing', 5249: 'william', 5250: 'restored', 5251: 'hawaii', 5252: 'alaska', 5253: 'inherit', 5254: 'handing', 5255: '31000', 5256: 'chevrolet', 5257: 'volt', 5258: 'attributes', 5259: 'mile', 5260: 'fence', 5261: 'ops', 5262: 'enterprises', 5263: 'freddie', 5264: 'mac', 5265: 'attempts', 5266: 'activity', 5267: 'indictment', 5268: 'filtered', 5269: 'science', 5270: 'warcraft', 5271: 'brain', 5272: 'decrease', 5273: 'eligibility', 5274: '257000', 5275: '1971', 5276: 'operational', 5277: 'overdoses', 5278: 'espoused', 5279: 'dorman', 5280: 'grace', 5281: 'facebook', 5282: 'page', 5283: 'atlantas', 5284: 'levy', 5285: 'minors', 5286: 'abele', 5287: 'finish', 5288: 'dropping', 5289: 'forgiving', 5290: 'agallup', 5291: 'uncertainty', 5292: 'sb', 5293: '1070', 5294: 'suspects', 5295: 'releasing', 5296: 'depicting', 5297: 'personally', 5298: 'agreed', 5299: 'join', 5300: 'transexuals', 5301: 'homosexuals', 5302: 'grabbing', 5303: 'stranger', 5304: 'danger', 5305: 'tactic', 5306: 'rallying', 5307: 'phones', 5308: 'schedule', 5309: 'narcotic', 5310: 'israels', 5311: 'fourths', 5312: 'father', 5313: 'absent', 5314: 'apology', 5315: 'reversal', 5316: 'declines', 5317: 'underground', 5318: 'ayers', 5319: 'relationship', 5320: 'continued', 5321: 'comprehensive', 5322: 'publish', 5323: 'trayvon', 5324: 'martin', 5325: 'tattoos', 5326: 'solvent', 5327: '2033', 5328: 'whitehouse', 5329: 'cosponsored', 5330: 'easily', 5331: '35000', 5332: 'tear', 5333: 'classified', 5334: 'viciously', 5335: 'minerals', 5336: 'improvements', 5337: 'specific', 5338: 'recommendations', 5339: 'aimed', 5340: 'lasting', 5341: 'cia', 5342: 'interrogation', 5343: 'codes', 5344: 'reaches', 5345: '100000000', 5346: 'brendan', 5347: 'doherty', 5348: 'demanding', 5349: 'occupations', 5350: 'sam', 5351: 'tent', 5352: 'pitch', 5353: 'jackow', 5354: 'trafficked', 5355: 'justices', 5356: '1912', 5357: 'bankruptcy', 5358: 'responders', 5359: 'unlawful', 5360: 'unethical', 5361: 'intends', 5362: 'stats', 5363: '297x', 5364: 'japan', 5365: '49x', 5366: '33x', 5367: 'embassy', 5368: 'tragedies', 5369: '100th', 5370: 'alabama', 5371: 'mississippi', 5372: 'wyoming', 5373: '237', 5374: 'occupants', 5375: 'hud', 5376: '1400', 5377: 'soon', 5378: 'strengthened', 5379: 'partners', 5380: 'fields', 5381: 'cuccinelli', 5382: 'halt', 5383: 'epa', 5384: 'regulating', 5385: 'gases', 5386: 'measles', 5387: '108', 5388: '499', 5389: 'earnonly', 5390: 'productions', 5391: 'picture', 5392: 'decapitated', 5393: 'heads', 5394: 'subhuman', 5395: 'mongrels', 5396: 'hit', 5397: 'enlist', 5398: 'panel', 5399: 'specialists', 5400: '50if', 5401: 'kinds', 5402: 'diseases', 5403: 'splitting', 5404: 'splintering', 5405: 'connecting', 5406: 'falkland', 5407: 'surpassed', 5408: 'latest', 5409: 'quinnipiac', 5410: '57', 5411: 'jessica', 5412: 'repatriate', 5413: 'bullion', 5414: 'occur', 5415: 'kyrillos', 5416: 'decider', 5417: 'polling', 5418: 'investors', 5419: 'bust', 5420: 'gm', 5421: 'weight', 5422: 'warming', 5423: 'maybe', 5424: 'dispute', 5425: 'mercedes', 5426: 'landing', 5427: 'companys', 5428: 'haitian', 5429: '425', 5430: 'drinking', 5431: 'ground', 5432: 'gibbs', 5433: '96', 5434: 'poorer', 5435: 'dome', 5436: 'returned', 5437: 'himselfpay', 5438: 'western', 5439: '252', 5440: 'northwest', 5441: 'corridor', 5442: 'cherokee', 5443: '9700', 5444: 'advisers', 5445: 'destroying', 5446: 'winner', 5447: 'superdelegate', 5448: 'forbidden', 5449: 'remedies', 5450: 'advance', 5451: 'saysgop', 5452: 'jeopardize', 5453: 'fundingfor', 5454: '320000', 5455: 'coloradans', 5456: 'destroyed', 5457: 'offering', 5458: 'walking', 5459: '25th', 5460: '7th', 5461: 'untreated', 5462: 'decay', 5463: 'vacuum', 5464: 'cleaners', 5465: 'salesman', 5466: 'raped', 5467: 'customer', 5468: 'statehouse', 5469: 'appearance', 5470: 'sovereignty', 5471: 'contributes', 5472: 'brandes', 5473: 'dump', 5474: 'unregulated', 5475: 'ch', 5476: 'guevara', 5477: 'superiority', 5478: 'europeans', 5479: 'descent', 5480: '1947', 5481: 'incomes', 5482: 'hitler', 5483: 'abolished', 5484: 'soviet', 5485: 'yuri', 5486: 'andropov', 5487: 'soviets', 5488: 'overreact', 5489: 'praise', 5490: 'holders', 5491: 'saystom', 5492: 'preparing', 5493: 'pandemics', 5494: '1500', 5495: 'dream', 5496: 'kelli', 5497: 'ward', 5498: '70000', 5499: 'olds', 5500: 'preschool', 5501: 'betty', 5502: 'sutton', 5503: 'inside', 5504: 'irving', 5505: 'governments', 5506: 'lotteries', 5507: 'addition', 5508: 'pete', 5509: 'hoekstra', 5510: 'whereabouts', 5511: 'mission', 5512: '175587', 5513: 'cocaine', 5514: 'japanese', 5515: 'quail', 5516: 'embargo', 5517: 'deductible', 5518: 'toward', 5519: 'legalization', 5520: 'commerces', 5521: 'respondents', 5522: 'paramilitary', 5523: 'equipment', 5524: 'dealing', 5525: 'singing', 5526: 'fraudulent', 5527: 'warehouse', 5528: 'runoff', 5529: 'grady', 5530: 'yarbrough', 5531: 'previously', 5532: '950k', 5533: 'genetic', 5534: 'makeup', 5535: 'ants', 5536: 'elsewhere', 5537: 'era', 5538: 'kurt', 5539: 'browning', 5540: '1800', 5541: 'enroll', 5542: 'august', 5543: 'repealing', 5544: '17th', 5545: 'aide', 5546: 'representing', 5547: 'criticizing', 5548: 'orientation', 5549: 'hw', 5550: 'encountered', 5551: 'customs', 5552: 'detained', 5553: 'politically', 5554: 'correct', 5555: 'shirley', 5556: 'word', 5557: 'buyer', 5558: '9th', 5559: 'disrupt', 5560: '88000', 5561: '179', 5562: 'discovered', 5563: '4th', 5564: '23rd', 5565: 'hurd', 5566: 'popcorn', 5567: 'popper', 5568: 'fry', 5569: 'squirrel', 5570: '1984', 5571: '1986', 5572: '1987', 5573: 'ky', 5574: 'stated', 5575: 'empower', 5576: 'republicangovernors', 5577: 'medicaidto', 5578: 'performed', 5579: 'teenager', 5580: 'recommendation', 5581: 'secures', 5582: 'maternity', 5583: 'commute', 5584: 'chile', 5585: '72', 5586: '850000', 5587: '12th', 5588: 'straightforward', 5589: 'retireesdont', 5590: '73', 5591: 'als', 5592: 'bucket', 5593: 'overhead', 5594: 'external', 5595: 'strictly', 5596: 'liquor', 5597: 'tehran', 5598: 'protested', 5599: 'occurred', 5600: 'oklahomas', 5601: 'fallin', 5602: 'mayoral', 5603: 'buckhorn', 5604: 'locked', 5605: 'trunks', 5606: 'cruisers', 5607: 'pool', 5608: 'telling', 5609: 'competition', 5610: 'strategy', 5611: 'generates', 5612: 'appraises', 5613: 'piece', 5614: 'appraisal', 5615: 'helps', 5616: 'category', 5617: 'totally', 5618: '322', 5619: 'blindness', 5620: 'worldwide', 5621: 'hurt', 5622: 'mainly', 5623: 'serves', 5624: 'pier', 5625: 'wipe', 5626: 'disgraced', 5627: 'gordon', 5628: 'crooked', 5629: 'openings', 5630: 'invaded', 5631: 'saddam', 5632: 'acquire', 5633: 'destruction', 5634: 'capture', 5635: 'derrick', 5636: 'responded', 5637: 'offsets', 5638: 'strickland', 5639: 'tune', 5640: '840', 5641: 'closes', 5642: 'haul', 5643: 'francisco', 5644: 'trucks', 5645: 'flee', 5646: 'golden', 5647: '800', 5648: 'energys', 5649: 'ton', 5650: 'eminent', 5651: 'domain', 5652: '10th', 5653: 'incubators', 5654: 'harding', 5655: 'recessions', 5656: 'rapid', 5657: 'dramatic', 5658: 'recoveries', 5659: 'herbert', 5660: 'hoover', 5661: 'quadrupled', 5662: 'familys', 5663: 'budged', 5664: 'views', 5665: 'portmans', 5666: 'czar', 5667: 'exploded', 5668: 'friendly', 5669: '24th', 5670: '64', 5671: 'garnisheed', 5672: 'rio', 5673: 'grande', 5674: 'ongoing', 5675: 'blind', 5676: 'heaviest', 5677: 'concentrated', 5678: 'outrageous', 5679: 'institutes', 5680: 'kathryn', 5681: 'starkey', 5682: 'continuing', 5683: 'diverse', 5684: 'calligraphers', 5685: '86000', 5686: '97000', 5687: '55000', 5688: 'paine', 5689: 'bike', 5690: 'ped', 5691: 'radiation', 5692: 'tsa', 5693: 'scanners', 5694: 'feet', 5695: 'the1992', 5696: 'electionbill', 5697: 'beenon', 5698: 'todd', 5699: 'akin', 5700: 'partly', 5701: 'pregnancy', 5702: 'academy', 5703: 'pediatrics', 5704: 'boxer', 5705: 'hoax', 5706: 'chi', 5707: 'blackstone', 5708: 'proficient', 5709: 'assessments', 5710: 'crushes', 5711: 'cloture', 5712: 'nominating', 5713: 'chuck', 5714: 'hagel', 5715: 'filibuster', 5716: 'negatively', 5717: 'impacted', 5718: 'stability', 5719: 'tapped', 5720: '35th', 5721: 'socialist', 5722: 'ethnicity', 5723: 'ought', 5724: 'renders', 5725: 'bench', 5726: '1950', 5727: 'alaskan', 5728: 'foreclosures', 5729: 'section', 5730: 'emoluments', 5731: 'clause', 5732: 'spouses', 5733: 'foreigners', 5734: 'outstanding', 5735: 'seniority', 5736: 'doubleaballpark', 5737: 'frequently', 5738: 'socio', 5739: 'midwest', 5740: 'unfairly', 5741: 'groceries', 5742: 'material', 5743: 'marked', 5744: 'server', 5745: 'whilesecretary', 5746: 'vietnam', 5747: 'kid', 5748: 'averaged', 5749: '450', 5750: 'gallon', 5751: 'franken', 5752: 'mccains', 5753: 'latourette', 5754: '5516', 5755: '350', 5756: 'aides', 5757: '333485', 5758: 'powerful', 5759: 'interests', 5760: 'factories', 5761: 'doors', 5762: '932', 5763: 'impaired', 5764: 'scientist', 5765: 'faulti', 5766: 'stack', 5767: '94', 5768: 'heading', 5769: 'majorities', 5770: 'lyndon', 5771: 'rammed', 5772: 'loopholes', 5773: 'artists', 5774: 'justin', 5775: 'timberlake', 5776: 'jay', 5777: 'z', 5778: 'rihanna', 5779: 'canceling', 5780: 'stevie', 5781: 'suggesting', 5782: 'adjustments', 5783: 'staggering', 5784: 'saves', 5785: 'flooding', 5786: 'effectively', 5787: 'successfully', 5788: 'joining', 5789: 'technology', 5790: 'pease', 5791: 'prescribed', 5792: 'yoho', 5793: 'fifths', 5794: 'database', 5795: 'pharmacies', 5796: 'prostate', 5797: 'ovarian', 5798: 'breast', 5799: 'jd', 5800: 'hayworth', 5801: 'investigating', 5802: 'tech', 5803: 'blacksburg', 5804: 'talk', 5805: 'reluctance', 5806: 'damascus', 5807: 'disincorporation', 5808: 'zeldin', 5809: '1938', 5810: 'timelines', 5811: 'loranne', 5812: 'ausleys', 5813: 'wreck', 5814: 'pushing', 5815: 'concession', 5816: 'counted', 5817: 'passport', 5818: 'holly', 5819: 'turner', 5820: 'primaries', 5821: 'discretionary', 5822: 'dwight', 5823: 'poisoning', 5824: 'mercury', 5825: 'aluminum', 5826: 'vaccines', 5827: 'outlined', 5828: 'kremlin', 5829: 'wish', 5830: 'forcible', 5831: 'sayshillary', 5832: 'poorest', 5833: 'subscription', 5834: 'protester', 5835: 'speaks', 5836: '3500', 5837: 'idiots', 5838: 'deliberately', 5839: 'ship', 5840: 'porous', 5841: 'accommodating', 5842: 'unemployed', 5843: 'resulting', 5844: 'dried', 5845: 'limitation', 5846: 'existent', 5847: 'billionaires', 5848: '22000', 5849: 'protocol', 5850: 'addresses', 5851: 'downloaded', 5852: 'jennifer', 5853: 'brunner', 5854: 'blackwells', 5855: 'mismanagement', 5856: 'filed', 5857: 'suit', 5858: 'prosecution', 5859: 'deformed', 5860: 'alcoholics', 5861: 'carrying', 5862: 'vietnams', 5863: 'exchanging', 5864: 'designed', 5865: 'identifiable', 5866: 'alter', 5867: 'f', 5868: 'attendance', 5869: 'unanimous', 5870: 'vaccinating', 5871: 'virus', 5872: 'shelled', 5873: 'denying', 5874: 'kesha', 5875: 'rogers', 5876: 'poised', 5877: 'seventy', 5878: 'americanschools', 5879: 'segregated', 5880: '1960s', 5881: 'filibustered', 5882: 'inaction', 5883: 'marsh', 5884: 'stole', 5885: '360', 5886: 'inintellectual', 5887: 'pennies', 5888: 'turning', 5889: 'stretch', 5890: 'toll', 5891: 'road', 5892: 'victim', 5893: 'marlins', 5894: 'incurred', 5895: 'tourists', 5896: 'visiting', 5897: 'resident', 5898: 'quarantined', 5899: 'outbreak', 5900: '2019', 5901: 'gain', 5902: 'lawn', 5903: 'overgrown', 5904: 'barking', 5905: 'loudly', 5906: 'nonpartisan', 5907: '858', 5908: 'dirty', 5909: 'fossil', 5910: 'beds', 5911: 'devoted', 5912: 'holding', 5913: 'violating', 5914: 'challenger', 5915: 'errors', 5916: 'exonerations', 5917: 'uptick', 5918: 'coincide', 5919: 'expectation', 5920: 'deception', 5921: 'reconciliation', 5922: 'amend', 5923: 'improperly', 5924: 'mingling', 5925: 'hurts', 5926: 'curb', 5927: 'spread', 5928: 'traces', 5929: 'gathered', 5930: 'botched', 5931: 'branded', 5932: 'tucson', 5933: 'thrive', 5934: 'logo', 5935: 'slogan', 5936: 'gifts', 5937: 'fancy', 5938: 'rides', 5939: 'joanne', 5940: 'kloppenburg', 5941: 'society', 5942: 'normandy', 5943: 'resignation', 5944: 'landings', 5945: 'reversed', 5946: 'withdrawing', 5947: 'immediately', 5948: 'convictions', 5949: 'telecommute', 5950: 'carpools', 5951: 'words', 5952: 'february', 5953: 'arlen', 5954: 'specters', 5955: 'switch', 5956: 'judiciary', 5957: 'dependent', 5958: 'donor', 5959: 'interestingly', 5960: 'kentucky', 5961: '151', 5962: 'print', 5963: 'everybodys', 5964: 'lindsey', 5965: 'graham', 5966: 'shortage', 5967: 'interesting', 5968: 'sonia', 5969: 'propaganda', 5970: 'sites', 5971: 'saysabout', 5972: 'recruit', 5973: 'attorneys', 5974: 'neither', 5975: 'regarding', 5976: 'fathers', 5977: 'iowas', 5978: 'mattering', 5979: 'determines', 5980: 'terrificand', 5981: 'eat', 5982: 'catfish', 5983: 'hottest', 5984: 'recorded', 5985: 'sheldon', 5986: 'upheld', 5987: 'prevented', 5988: 'obtaining', 5989: 'deals', 5990: 'appointments', 5991: 'saidin', 5992: 'surprised', 5993: 'subprime', 5994: 'selective', 5995: 'infanticide', 5996: 'egregious', 5997: 'maternal', 5998: 'mortality', 5999: 'strife', 6000: '20th', 6001: 'unfunded', 6002: 'obamacareyou', 6003: 'options', 6004: 'bidding', 6005: 'waiver', 6006: 'hmos', 6007: 'reason', 6008: 'preventable', 6009: 'murphys', 6010: 'donation', 6011: 'tainted', 6012: 'beef', 6013: 'cafeterias', 6014: 'lewis', 6015: 'hero', 6016: 'allegations', 6017: 'chapter', 6018: 'repudiate', 6019: 'remarks', 6020: '48700', 6021: '128300', 6022: 'lunatic', 6023: 'crops', 6024: 'partitioning', 6025: 'entities', 6026: 'overwhelming', 6027: 'stayed', 6028: 'missourians', 6029: 'thirty', 6030: 'menendezs', 6031: 'enter', 6032: 'pursuit', 6033: 'focusing', 6034: '97', 6035: 'occupancy', 6036: 'apartment', 6037: 'industrial', 6038: 'dies', 6039: 'proven', 6040: 'polluted', 6041: 'thefts', 6042: 'st', 6043: 'petersburg', 6044: 'keys', 6045: 'dr', 6046: 'steven', 6047: 'chu', 6048: 'martini', 6049: 'steakhouse', 6050: 'participation', 6051: 'rely', 6052: 'contraceptive', 6053: 'insufficient', 6054: 'amtrak', 6055: 'installation', 6056: 'derailment', 6057: 'underfunding', 6058: 'reality', 6059: 'figure', 6060: 'signer', 6061: 'declaration', 6062: 'administered', 6063: 'shores', 6064: 'acting', 6065: 'athletes', 6066: 'ipad', 6067: 'applications', 6068: 'amounting', 6069: 'superstorm', 6070: 'nfl', 6071: 'odd', 6072: 'stratosphere', 6073: 'restoring', 6074: 'buses', 6075: 'limousine', 6076: 'fleet', 6077: 'thevalley', 6078: 'newspaper', 6079: 'timeline', 6080: 'victory', 6081: 'electoral', 6082: 'ensuring', 6083: 'potential', 6084: 'targets', 6085: 'nevadans', 6086: 'digit', 6087: 'nevadas', 6088: 'obamacareexchange', 6089: 'insurer', 6090: 'meal', 6091: 'charities', 6092: 'drives', 6093: 'harrisburg', 6094: 'pawlenty', 6095: 'flatlined', 6096: '12500', 6097: '53', 6098: 'sheriffs', 6099: 'treat', 6100: 'horribly', 6101: 'gays', 6102: 'faceless', 6103: 'dad', 6104: 'conscious', 6105: 'pro', 6106: 'utility', 6107: 'mothers', 6108: 'preceding', 6109: 'respect', 6110: 'reforming', 6111: 'cheap', 6112: 'barton', 6113: 'finite', 6114: 'resource', 6115: 'harnessing', 6116: 'winds', 6117: 'workplaces', 6118: 'prohibit', 6119: 'deadline', 6120: 'multitude', 6121: 'crippling', 6122: 'feds', 6123: 'perlmutter', 6124: 'viagra', 6125: 'rapists', 6126: 'lockout', 6127: '160', 6128: 'gorbachev', 6129: 'khruschev', 6130: 'mao', 6131: 'damage', 6132: 'vern', 6133: 'exonerated', 6134: 'flagging', 6135: 'unaccompanied', 6136: 'legislatures', 6137: 'ending', 6138: 'genocide', 6139: 'bosnia', 6140: 'populated', 6141: 'boats', 6142: 'spawned', 6143: '7000', 6144: '244', 6145: 'walked', 6146: '223', 6147: 'speeches', 6148: 'rationing', 6149: 'conduct', 6150: 'audits', 6151: 'evaluates', 6152: 'exams', 6153: 'craigslist', 6154: 'examiners', 6155: 'essays', 6156: 'pinnacle', 6157: 'overlook', 6158: 'southwest', 6159: 'gelber', 6160: 'needy', 6161: 'jewish', 6162: 'saturdays', 6163: 'disturbing', 6164: 'trend', 6165: 'commonplace', 6166: 'massacre', 6167: 'incidents', 6168: 'fatally', 6169: 'wounded', 6170: 'geithner', 6171: 'abandoning', 6172: 'multinational', 6173: 'currency', 6174: 'contributing', 6175: 'heinrich', 6176: 'fcat', 6177: 'instructional', 6178: 'economist', 6179: 'boosts', 6180: '161', 6181: 'tanning', 6182: 'quit', 6183: 'unable', 6184: 'warners', 6185: 'adam', 6186: 'hasners', 6187: 'requesting', 6188: '922', 6189: 'beta', 6190: 'susie', 6191: 'jet', 6192: 'halliburton', 6193: 'geo', 6194: 'wartime', 6195: 'sued', 6196: '770', 6197: 'eighth', 6198: 'populous', 6199: 'hamilton', 6200: 'accepted', 6201: 'distributors', 6202: 'buddies', 6203: 'upstate', 6204: 'split', 6205: 'downstate', 6206: '130', 6207: 'helicopter', 6208: 'hog', 6209: 'hunts', 6210: 'eliot', 6211: 'spitzer', 6212: 'cass', 6213: 'sunstein', 6214: 'animals', 6215: 'eating', 6216: 'exploring', 6217: '185', 6218: '28', 6219: 'ferguson', 6220: 'mo', 6221: 'feel', 6222: 'comfortable', 6223: 'weakening', 6224: 'dearborn', 6225: 'advancement', 6226: 'regime', 6227: 'influx', 6228: 'alien', 6229: '134000', 6230: 'sacrifice', 6231: 'intervened', 6232: 'behalf', 6233: 'charles', 6234: 'keating', 6235: 'regulators', 6236: 'incredible', 6237: 'boeing', 6238: 'factory', 6239: 'newtown', 6240: 'winery', 6241: 'charlottesville', 6242: 'accessible', 6243: 'vatican', 6244: 'hopefully', 6245: 'retribution', 6246: 'opposing', 6247: 'wound', 6248: 'nbc', 6249: 'technicality', 6250: 'supplier', 6251: 'activated', 6252: 'intercity', 6253: 'ignored', 6254: 'consulate', 6255: 'tool', 6256: 'sworn', 6257: 'unheard', 6258: 'obamacarerepresents', 6259: 'protections', 6260: 'westerners', 6261: 'ruth', 6262: 'bader', 6263: 'ginsburg', 6264: 'prefers', 6265: 'pressed', 6266: 'reset', 6267: 'button', 6268: 'lien', 6269: 'liens', 6270: 'placed', 6271: 'unpaid', 6272: 'butte', 6273: 'reservoir', 6274: 'practicing', 6275: 'dominic', 6276: 'chavez', 6277: 'struggling', 6278: 'laundry', 6279: '140000', 6280: 'newborns', 6281: 'randi', 6282: 'shade', 6283: 'receipts', 6284: 'exceeding', 6285: 'administrations', 6286: 'version', 6287: 'pharmaceutical', 6288: 'loves', 6289: 'che', 6290: '741', 6291: 'nickel', 6292: 'census', 6293: 'rigged', 6294: 'burnt', 6295: 'rot', 6296: 'ration', 6297: 'treatments', 6298: 'wasteful', 6299: 'cheerleaders', 6300: 'cowboys', 6301: 'entertained', 6302: 'scary', 6303: '1791', 6304: 'pizza', 6305: 'rotunda', 6306: 'invite', 6307: 'accommodate', 6308: 'fannie', 6309: 'preschoolers', 6310: 'reduces', 6311: '214000', 6312: 'exchanges', 6313: '125', 6314: 'incentive', 6315: 'laboratories', 6316: 'contained', 6317: 'goals', 6318: 'aig', 6319: 'mysteriously', 6320: 'disappeared', 6321: 'supporters', 6322: 'exelon', 6323: 'yucca', 6324: 'mountain', 6325: 'depository', 6326: 'discriminating', 6327: 'legacy', 6328: 'taxing', 6329: 'crippled', 6330: 'educations', 6331: 'certifications', 6332: 'revoked', 6333: 'bizarrely', 6334: 'argued', 6335: 'creates', 6336: 'divisions', 6337: 'philly', 6338: 'mathematical', 6339: 'statistical', 6340: 'impossibility', 6341: 'blaming', 6342: 'plagiarizing', 6343: 'mexicans', 6344: 'terrible', 6345: 'algebra', 6346: 'admission', 6347: 'haskilled', 6348: 'palestinian', 6349: 'geneva', 6350: 'combatants', 6351: 'entitled', 6352: 'normal', 6353: 'courtesies', 6354: 'semi', 6355: 'recreational', 6356: 'indicate', 6357: 'disincentive', 6358: '09', 6359: '310', 6360: 'dating', 6361: 'misdemeanor', 6362: 'norcross', 6363: 'sized', 6364: 'reactor', 6365: '1970s', 6366: 'exact', 6367: 'nevada', 6368: 'visitors', 6369: 'diplomas', 6370: 'warmed', 6371: 'scientifically', 6372: 'springsteen', 6373: '1975', 6374: 'seton', 6375: 'orange', 6376: 'walsh', 6377: 'gym', 6378: 'enrolled', 6379: 'tarpon', 6380: 'springs', 6381: 'watching', 6382: 'wal', 6383: 'mart', 6384: 'sends', 6385: 'unstable', 6386: 'unfriendly', 6387: 'regimes', 6388: 'unrecognized', 6389: 'congenital', 6390: 'heart', 6391: 'defect', 6392: 'slash', 6393: 'counseling', 6394: 'sooner', 6395: 'widows', 6396: 'orphans', 6397: 'fights', 6398: 'rightsmike', 6399: 'coffman', 6400: 'merited', 6401: 'lasted', 6402: 'schwarzenegger', 6403: 'preserved', 6404: 'roadside', 6405: 'illicit', 6406: 'licit', 6407: 'corrine', 6408: 'alcee', 6409: 'hastings', 6410: 'frederica', 6411: 'wilson', 6412: 'petrarca', 6413: 'testify', 6414: 'bryson', 6415: 'bermuda', 6416: 'fulfilled', 6417: 'assisting', 6418: 'nationalized', 6419: 'series', 6420: '3128', 6421: 'authorize', 6422: 'condoms', 6423: '90000', 6424: 'educators', 6425: 'defends', 6426: 'ridiculous', 6427: '98', 6428: 'conservation', 6429: 'labeled', 6430: 'soft', 6431: 'abu', 6432: 'bakr', 6433: 'baghdadi', 6434: 'disadvantages', 6435: 'nominated', 6436: 'outspent', 6437: 'courtdefined', 6438: 'quotethe', 6439: 'establishment', 6440: 'intimacy', 6441: 'affection', 6442: 'fixing', 6443: 'blowing', 6444: 'places', 6445: 'frequency', 6446: 'complete', 6447: 'lack', 6448: 'confidentiality', 6449: 'stiff', 6450: 'exacerbate', 6451: 'hb', 6452: '194', 6453: 'solve', 6454: 'tower', 6455: 'rated', 6456: 'challenged', 6457: 'sharron', 6458: 'angle', 6459: 'bps', 6460: 'compensate', 6461: 'spill', 6462: 'slush', 6463: 'jacky', 6464: 'rosen', 6465: 'tracks', 6466: 'causing', 6467: 'halting', 6468: '144541', 6469: 'monkeys', 6470: 'react', 6471: 'inaugural', 6472: 'snowstorm', 6473: 'attached', 6474: 'ethical', 6475: 'spared', 6476: 'adopting', 6477: 'vegan', 6478: 'diet', 6479: 'starr', 6480: 'throw', 6481: 'innocent', 6482: 'rachel', 6483: 'zenzinger', 6484: 'junket', 6485: '355', 6486: 'joblessness', 6487: 'spills', 6488: 'seem', 6489: 'geography', 6490: 'fundamentally', 6491: 'fragile', 6492: 'warheads', 6493: 'meant', 6494: 'approach', 6495: 'writing', 6496: 'tends', 6497: 'greece', 6498: 'metropolitan', 6499: 'lieutenant', 6500: 'borrowed', 6501: 'cigarette', 6502: 'butts', 6503: 'nicotine', 6504: 'warrior', 6505: 'mattis', 6506: 'keane', 6507: 'flynn', 6508: 'retired', 6509: 'hear', 6510: '319000', 6511: '93000', 6512: 'selma', 6513: 'ala', 6514: 'whites', 6515: 'pinprick', 6516: 'intervention', 6517: 'gill', 6518: 'residual', 6519: 'footprint', 6520: 'admiral', 6521: 'blair', 6522: 'interrogations', 6523: 'deeper', 6524: 'understanding', 6525: 'organization', 6526: 'gambling', 6527: 'buono', 6528: 'libraries', 6529: 'diabetes', 6530: 'infomercials', 6531: 'cures', 6532: 'endanger', 6533: '575', 6534: 'dairy', 6535: 'facilities', 6536: 'swine', 6537: '1300', 6538: 'farms', 6539: 'cattle', 6540: 'unveiled', 6541: 'creatingposts', 6542: 'sly', 6543: 'honest', 6544: 'busing', 6545: 'floor', 6546: 'gerald', 6547: 'daugherty', 6548: '196', 6549: 'discriminates', 6550: 'daycare', 6551: 'brookhaven', 6552: 'unincorporated', 6553: 'mosquito', 6554: 'erv', 6555: 'sjr', 6556: 'urgingcongress', 6557: 'residing', 6558: 'illness', 6559: 'purchases', 6560: '22000the', 6561: 'pickup', 6562: 'ramp', 6563: 'renewable', 6564: 'meatpacking', 6565: 'fairmount', 6566: 'conservancy', 6567: '89', 6568: 'radius', 6569: 'marketplace', 6570: 'premise', 6571: 'amongst', 6572: 'aipac', 6573: 'drought', 6574: 'conceal', 6575: '168', 6576: 'candidacy', 6577: 'manipulated', 6578: 'koster', 6579: 'bosses', 6580: 'handed', 6581: 'jrs', 6582: '492', 6583: 'volunteer', 6584: 'stations', 6585: 'southwestern', 6586: 'desert', 6587: 'planthose', 6588: 'enjoyed', 6589: 'detail', 6590: 'demonstrated', 6591: 'nature', 6592: 'pence', 6593: 'diverting', 6594: 'conversion', 6595: 'therapy', 6596: 'bureaucracy', 6597: 'dave', 6598: 'brat', 6599: 'welders', 6600: 'philosophers', 6601: 'teddy', 6602: 'dovilla', 6603: 'murray', 6604: 'divided', 6605: 'debra', 6606: 'medina', 6607: 'remainder', 6608: 'brennan', 6609: 'geographic', 6610: 'roe', 6611: 'v', 6612: 'wade', 6613: 'celebrity', 6614: 'grads', 6615: 'ticking', 6616: '139', 6617: 'implemented', 6618: 'chaired', 6619: 'gores', 6620: 'suzanne', 6621: 'bonamici', 6622: 'epidemic', 6623: 'jihad', 6624: '1928', 6625: 'brackets', 6626: 'saxby', 6627: 'psychological', 6628: 'distress', 6629: 'sacrificed', 6630: 'till', 6631: 'takingbob', 6632: 'fraction', 6633: 'powered', 6634: 'docked', 6635: 'mobil', 6636: 'pages', 6637: 'removal', 6638: 'approve', 6639: 'twin', 6640: '265000', 6641: 'exposure', 6642: 'electromagnetic', 6643: 'leukemia', 6644: 'proficiency', 6645: 'tail', 6646: 'plane', 6647: 'zuckerbergs', 6648: 'struck', 6649: 'bridged', 6650: 'partisanship', 6651: 'subsidize', 6652: 'wildly', 6653: 'unpopular', 6654: 'developing', 6655: 'resolve', 6656: 'doorstep', 6657: 'lifetime', 6658: 'award', 6659: 'louis', 6660: 'toothpaste', 6661: 'contains', 6662: 'fluoride', 6663: 'shutdowns', 6664: 'tip', 6665: 'oneill', 6666: 'speakership', 6667: '440000', 6668: 'maryland', 6669: 'ralph', 6670: 'hudgens', 6671: 'raul', 6672: 'cantero', 6673: 'kenneth', 6674: 'reputations', 6675: 'activists', 6676: 'certificates', 6677: 'lowering', 6678: 'strangulation', 6679: 'norm', 6680: 'groundbreaking', 6681: 'wildlife', 6682: 'arctic', 6683: 'refuge', 6684: 'defeating', 6685: 'numbersand', 6686: 'ideologue', 6687: 'affiliated', 6688: 'blatantly', 6689: 'attempting', 6690: 'proposalputs', 6691: 'determining', 6692: 'pricing', 6693: 'types', 6694: 'isleading', 6695: 'earmarked', 6696: 'dole', 6697: 'atheists', 6698: 'denver', 6699: 'tebow', 6700: 'praying', 6701: 'sidelines', 6702: 'frankel', 6703: 'marble', 6704: 'shower', 6705: 'bathroom', 6706: 'uses', 6707: 'pell', 6708: 'absorbed', 6709: 'fixes', 6710: 'bombed', 6711: 'blamed', 6712: 'hamas', 6713: 'marines', 6714: 'thought', 6715: 'hillsboroughs', 6716: 'cabbies', 6717: 'wear', 6718: 'socks', 6719: 'please', 6720: 'min', 6721: 'journalists', 6722: 'succeeded', 6723: 'pipes', 6724: 'poisoned', 6725: 'gore', 6726: 'reuses', 6727: '1965', 6728: 'untold', 6729: 'hell', 6730: 'ann', 6731: 'mclane', 6732: 'kuster', 6733: '293000', 6734: 'boccieri', 6735: 'mandels', 6736: 'toy', 6737: '4400', 6738: 'severely', 6739: 'stress', 6740: 'syndrome', 6741: 'administrator', 6742: '1790', 6743: 'packed', 6744: 'framers', 6745: 'seamen', 6746: '1792', 6747: 'mandating', 6748: 'bodied', 6749: 'mercer', 6750: 'hannity', 6751: 'dobson', 6752: 'texts', 6753: 'cohen', 6754: 'perform', 6755: '141000', 6756: '125000', 6757: 'deeply', 6758: 'flawed', 6759: 'in2004', 6760: 'egging', 6761: 'spitting', 6762: 'policemen', 6763: 'policemens', 6764: 'spiraled', 6765: 'hagels', 6766: 'celebrated', 6767: 'polluters', 6768: 'motor', 6769: 'coos', 6770: '154', 6771: 'flights', 6772: 'readily', 6773: 'standpoint', 6774: 'adler', 6775: 'toothbrush', 6776: 'trenton', 6777: 'blank', 6778: 'computers', 6779: 'encourages', 6780: 'collectors', 6781: '124000', 6782: 'rose', 6783: 'liberals', 6784: 'conditioned', 6785: 'lens', 6786: 'carolinians', 6787: 'dianne', 6788: 'feinstein', 6789: 'rounding', 6790: 'em', 6791: 'liberation', 6792: 'trusts', 6793: 'humana', 6794: 'inconsistently', 6795: 'communicate', 6796: 'rivaling', 6797: 'cato', 6798: 'interior', 6799: 'deportations', 6800: 'dwi', 6801: 'crashes', 6802: 'ridesharing', 6803: 'entered', 6804: 'foods', 6805: 'genetically', 6806: 'organisms', 6807: 'gmos', 6808: 'experiment', 6809: 'socialism', 6810: 'miscarriage', 6811: 'whatsoever', 6812: 'april', 6813: 'cycle', 6814: 'superpacs', 6815: 'roberts', 6816: 'treason', 6817: 'aboard', 6818: 'iranians', 6819: 'manner', 6820: 'discussed', 6821: 'violation', 6822: 'experiencing', 6823: 'jailing', 6824: 'maryellen', 6825: 'oshaughnessy', 6826: 'indicted', 6827: 'jimmy', 6828: 'dimora', 6829: 'intimidated', 6830: 'confirming', 6831: 'silberkraus', 6832: 'fetish', 6833: 'kidnapped', 6834: 'naked', 6835: 'kennels', 6836: 'trained', 6837: 'pets', 6838: 'degrade', 6839: 'stalking', 6840: '41500', 6841: 'prep', 6842: 'incarcerates', 6843: 'apartheid', 6844: 'readiness', 6845: 'coordinating', 6846: '66', 6847: '874', 6848: 'outsource', 6849: 'deserved', 6850: 'reputation', 6851: 'unreasonable', 6852: 'requested', 6853: 'screamed', 6854: 'unfair', 6855: 'resigned', 6856: 'avert', 6857: 'cliff', 6858: 'eliminates', 6859: 'politifact', 6860: 'validated', 6861: 'independently', 6862: 'documented', 6863: 'adan', 6864: 'ballesteros', 6865: 'hughes', 6866: 'paving', 6867: 'sprawl', 6868: 'burst', 6869: 'pronounced', 6870: 'guidelines', 6871: 'acceptingforeign', 6872: 'donationsthere', 6873: 'clip', 6874: '981', 6875: 'active', 6876: 'bankruptcies', 6877: 'enormous', 6878: 'recognized', 6879: 'languished', 6880: 'file', 6881: 'teenagers', 6882: 'ireland', 6883: 'poland', 6884: 'raw', 6885: 'illnesses', 6886: 'percentages', 6887: 'nonprofits', 6888: 'animmigrant', 6889: 'unless', 6890: 'supervised', 6891: 'poizner', 6892: 'married', 6893: 'traditional', 6894: 'speaking', 6895: 'ironic', 6896: 'corp', 6897: 'supply', 6898: 'denhamhas', 6899: 'deported', 6900: 'knives', 6901: 'hands', 6902: 'clubs', 6903: 'hammers', 6904: 'shelters', 6905: 'crow', 6906: 'broken', 6907: 'teen', 6908: 'clintoninsists', 6909: 'encounters', 6910: 'beliefs', 6911: 'contrary', 6912: 'saysbernie', 6913: 'immunity', 6914: 'surpluses', 6915: 'proceeds', 6916: 'stabilize', 6917: '15000', 6918: 'administer', 6919: 'implications', 6920: 'staffers', 6921: 'execution', 6922: 'finished', 6923: 'reporting', 6924: '138', 6925: 'minus', 6926: 'truman', 6927: 'easing', 6928: 'sundays', 6929: 'september', 6930: '2014s', 6931: 'cdc', 6932: 'transmitted', 6933: 'czech', 6934: 'confederacy', 6935: 'fools', 6936: '428', 6937: 'naval', 6938: '1917', 6939: 'facts', 6940: 'appellate', 6941: 'completed', 6942: 'await', 6943: 'dependence', 6944: 'proposition', 6945: 'discharge', 6946: 'yard', 6947: 'gang', 6948: 'blow', 6949: '15600', 6950: 'bath', 6951: 'salts', 6952: 'raccoons', 6953: 'stolen', 6954: 'retiring', 6955: '119000', 6956: '357000', 6957: 'liquidate', 6958: 'yohoattempts', 6959: 'statistically', 6960: 'consumes', 6961: 'travelers', 6962: 'males', 6963: 'policing', 6964: 'largesse', 6965: 'malfunctioning', 6966: '109', 6967: 'scheduled', 6968: 'panama', 6969: '1900', 6970: 'thefirst', 6971: 'afterfive', 6972: 'abort', 6973: 'newborn', 6974: 'askedthedivision', 6975: 'toreport', 6976: 'obligations', 6977: 'treatyinfringes', 6978: 'upon', 6979: 'aligned', 6980: 'purim', 6981: 'halloween', 6982: 'funny', 6983: 'escaped', 6984: 'imprisonment', 6985: '712', 6986: 'participated', 6987: 'heavy', 6988: 'installed', 6989: 'urinals', 6990: 'giblets', 6991: 'anonymous', 6992: 'advocates', 6993: 'communism', 6994: 'cnns', 6995: 'wolf', 6996: 'blitzer', 6997: 'impeached', 6998: 'misleading', 6999: 'assets', 7000: 'totaled', 7001: 'curbing', 7002: 'deemed', 7003: 'colonia', 7004: 'feasible', 7005: 'sanderss', 7006: 'causation', 7007: 'comp', 7008: 'combating', 7009: 'radicalizing', 7010: 'airline', 7011: 'ticket', 7012: 'runs', 7013: 'bald', 7014: 'menendez', 7015: '115', 7016: 'downrange', 7017: 'tomahawk', 7018: 'attracted', 7019: 'retained', 7020: '2300', 7021: 'agoi', 7022: 'paulson', 7023: 'bernanke', 7024: 'drops', 7025: 'obesity', 7026: 'lowden', 7027: 'thousand', 7028: 'survived', 7029: 'orlando', 7030: 'fl', 7031: 'tomorrow', 7032: 'rock', 7033: 'deem', 7034: 'pbj', 7035: 'sandwiches', 7036: 'racist', 7037: 'cured', 7038: 'sheen', 7039: 'comoros', 7040: 'goats', 7041: 'arthritis', 7042: 'yesterday', 7043: 'buyers', 7044: 'demise', 7045: 'assessed', 7046: 'captures', 7047: '83', 7048: 'hemisphere', 7049: 'assaulted', 7050: 'taxi', 7051: 'driver', 7052: 'hailing', 7053: 'abuses', 7054: 'concrete', 7055: 'subcommittees', 7056: '51000', 7057: 'loughlin', 7058: 'gary', 7059: 'absolute', 7060: 'lie', 7061: 'worry', 7062: 'affairshealth', 7063: 'remodeling', 7064: 'lounge', 7065: 'oakland', 7066: 'cheating', 7067: 'glorifying', 7068: 'dismantle', 7069: 'servicemen', 7070: 'privileges', 7071: 'theft', 7072: 'divorce', 7073: 'robberies', 7074: 'immunizations', 7075: '510', 7076: 'freeloaders', 7077: 'endorsements', 7078: 'annexation', 7079: 'overcrowding', 7080: 'decaturs', 7081: 'alvarez', 7082: 'gimenez', 7083: 'drove', 7084: 'expense', 7085: 'pacs', 7086: '104', 7087: 'nordic', 7088: 'graduating', 7089: 'noted', 7090: 'observers', 7091: 'superintendents', 7092: 'span', 7093: '439000', 7094: 'lagged', 7095: 'gap', 7096: '2877', 7097: 'gallons', 7098: 'commercials', 7099: 'vicious', 7100: 'pedestrians', 7101: 'crosswalk', 7102: 'jerseyans', 7103: 'existed', 7104: 'boozman', 7105: 'excited', 7106: 'wyden', 7107: 'exotic', 7108: 'entering', 7109: 'ninth', 7110: 'jones', 7111: 'indicating', 7112: 'blew', 7113: 'smelter', 7114: 'hodges', 7115: '1908', 7116: 'oldest', 7117: 'continuously', 7118: 'professional', 7119: 'sports', 7120: 'franchise', 7121: 'gst', 7122: 'steel', 7123: 'jeopardy', 7124: 'writes', 7125: 'wrongdoing', 7126: 'paragraph', 7127: 'saysjeb', 7128: 'achievements', 7129: 'breath', 7130: 'spirit', 7131: 'notre', 7132: 'dame', 7133: 'stanford', 7134: 'techs', 7135: 'tuberculosis', 7136: '5400', 7137: 'implementation', 7138: 'downit', 7139: '178', 7140: 'relatives', 7141: 'spokesman', 7142: 'profitmaking', 7143: 'elses', 7144: 'retaliated', 7145: '91', 7146: 'copenhagen', 7147: 'democracy', 7148: 'subsequent', 7149: 'andy', 7150: 'stern', 7151: 'frequent', 7152: 'visitor', 7153: 'liabilities', 7154: 'deters', 7155: 'homosexual', 7156: 'protected', 7157: 'johnsons', 7158: 'boldly', 7159: 'hagan', 7160: 'employ', 7161: 'misogynist', 7162: 'bigot', 7163: 'epic', 7164: 'proportions', 7165: 'degraded', 7166: 'musharraf', 7167: 'dip', 7168: 'wheel', 7169: 'garcia', 7170: 'others', 7171: 'lifespan', 7172: 'bluntly', 7173: 'wild', 7174: 'reservations', 7175: 'watched', 7176: 'cheering', 7177: 'planning', 7178: 'homelessness', 7179: '8000', 7180: '142400', 7181: 'dentists', 7182: 'pharmacists', 7183: 'happy', 7184: 'ribbon', 7185: 'cuttings', 7186: 'rhodemap', 7187: 'zoning', 7188: 'ease', 7189: 'worship', 7190: 'campuses', 7191: 'whopping', 7192: 'westside', 7193: 'radical', 7194: 'marxist', 7195: 'tallied', 7196: 'replacement', 7197: 'sudden', 7198: '1st', 7199: 'forensic', 7200: 'dividend', 7201: 'anight', 7202: 'denham', 7203: 'broker', 7204: 'bragged', 7205: 'estabrook', 7206: 'dam', 7207: 'janitor', 7208: 'handgun', 7209: 'chancellor', 7210: 'upscale', 7211: 'allowance', 7212: 'dining', 7213: 'moose', 7214: 'correlation', 7215: 'wins', 7216: 'hostage', 7217: 'disappear', 7218: '34000', 7219: 'weighs', 7220: '340', 7221: 'distinguish', 7222: 'assaults', 7223: 'fivefold', 7224: 'malaysia', 7225: 'indentured', 7226: 'servants', 7227: 'passports', 7228: 'slave', 7229: 'amiddle', 7230: 'donates', 7231: 'charity', 7232: 'gates', 7233: 'presidentially', 7234: 'invades', 7235: 'choices', 7236: '8200', 7237: 'catches', 7238: 'maverick', 7239: 'summer', 7240: 'stabilizing', 7241: 'armed', 7242: 'stockpiling', 7243: 'roger', 7244: 'picks', 7245: 'swapped', 7246: 'bowe', 7247: 'bergdahl', 7248: 'automaker', 7249: 'luther', 7250: 'outperforming', 7251: '235000', 7252: 'alaskas', 7253: 'prince', 7254: 'vaccinations', 7255: 'personhood', 7256: 'conforming', 7257: 'rulings', 7258: 'infant', 7259: 'sat', 7260: 'reinvesting', 7261: 'base', 7262: '176000', 7263: '450000', 7264: 'lions', 7265: 'overturning', 7266: 'vs', 7267: 'define', 7268: 'conception', 7269: 'sierra', 7270: 'turtles', 7271: 'sestak', 7272: 'appropriations', 7273: 'restriction', 7274: '12808', 7275: 'brady', 7276: 'rescue', 7277: 'marshall', 7278: 'macon', 7279: '6400', 7280: 'drink', 7281: 'gulp', 7282: 'senseless', 7283: 'mansion', 7284: 'screeningand', 7285: 'bribe', 7286: 'exists', 7287: 'wide', 7288: 'purchased', 7289: 'nick', 7290: 'rahall', 7291: 'main', 7292: 'digits', 7293: 'contact', 7294: 'groupfeeding', 7295: 'claimsthat', 7296: 'starvation', 7297: 'proponent', 7298: 'challenging', 7299: 'suddenly', 7300: 'image', 7301: 'blondwomen', 7302: 'diversity', 7303: 'anchors', 7304: 'overturned', 7305: 'lobster', 7306: 'caviar', 7307: 'ghetto', 7308: 'vaccination', 7309: 'chick', 7310: 'fil', 7311: 'emory', 7312: 'solely', 7313: 'feedback', 7314: 'miscarriages', 7315: 'gudex', 7316: 'certify', 7317: 'perjury', 7318: 'motivating', 7319: 'stories', 7320: 'drowned', 7321: 'regardless', 7322: 'liability', 7323: 'homosexuality', 7324: 'hopeful', 7325: 'donna', 7326: 'campbell', 7327: 'dow', 7328: 'devlin', 7329: '24000', 7330: 'wic', 7331: '270000', 7332: 'deferred', 7333: 'interviewer', 7334: 'treats', 7335: 'replied', 7336: 'aspect', 7337: '265', 7338: 'rapes', 7339: '144', 7340: 'climbed', 7341: '229', 7342: 'coca', 7343: 'cola', 7344: 'compete', 7345: 'globally', 7346: 'pillowtex', 7347: 'deposition', 7348: 'devastated', 7349: 'scoop', 7350: 'sidestep', 7351: 'abuser', 7352: 'questions', 7353: 'substantial', 7354: 'probationers', 7355: 'pilot', 7356: 'simpson', 7357: 'bowles', 7358: 'urged', 7359: 'aaron', 7360: 'bean', 7361: 'overstay', 7362: 'visas', 7363: '36000', 7364: 'stellar', 7365: 'mode', 7366: 'surface', 7367: 'hunger', 7368: 'thanksgiving', 7369: 'celebrate', 7370: '135', 7371: 'legislated', 7372: 'bow', 7373: 'arrow', 7374: 'comparable', 7375: 'heck', 7376: 'alternative', 7377: 'layoffs', 7378: 'bumped', 7379: 'belief', 7380: 'employeeswe', 7381: 'shale', 7382: 'shred', 7383: 'presented', 7384: 'thatthe', 7385: 'spontaneous', 7386: 'understood', 7387: 'grandchildren', 7388: 'saysbarack', 7389: 'ofindianas', 7390: 'freeze', 7391: 'walton', 7392: 'delegates', 7393: 'diego', 7394: 'fla', 7395: 'invade', 7396: 'obriens', 7397: 'compulsory', 7398: '205', 7399: 'blocks', 7400: 'dispensaries', 7401: 'cutback', 7402: 'gaos', 7403: 'backs', 7404: 'schumer', 7405: 'flies', 7406: 'supervisor', 7407: 'brenda', 7408: 'snipes', 7409: 'lehman', 7410: 'stabilization', 7411: 'consided', 7412: '825000', 7413: '111', 7414: 'dealt', 7415: 'crackdown', 7416: 'similarity', 7417: 'divorces', 7418: 'dean', 7419: 'cannon', 7420: 'haridopolos', 7421: 'comment', 7422: 'jv', 7423: 'castle', 7424: 'coons', 7425: 'hiked', 7426: 'handful', 7427: 'crists', 7428: 'bashedsen', 7429: 'nelsons', 7430: 'solutions', 7431: 'incontrovertible', 7432: 'proof', 7433: 'vehicular', 7434: 'endure', 7435: 'transvaginal', 7436: 'rufus', 7437: 'mps', 7438: 'drones', 7439: 'thanked', 7440: 'keffer', 7441: 'straus', 7442: 'strama', 7443: 'disagrees', 7444: 'ricci', 7445: 'destefano', 7446: 'rainiest', 7447: 'knopp', 7448: 'pers', 7449: 'putnam', 7450: 'temperatures', 7451: 'createda', 7452: 'maximize', 7453: 'skill', 7454: 'robocall', 7455: 'sea', 7456: 'inequality', 7457: 'disclosures', 7458: 'washing', 7459: 'mouth', 7460: 'cough', 7461: 'transmission', 7462: 'flu', 7463: 'prisons', 7464: 'arizonas', 7465: 'outundocumented', 7466: 'stays', 7467: 'saysproposal', 7468: 'boostteacherpension', 7469: 'fundputs', 7470: 'raping', 7471: 'laughing', 7472: 'occasions', 7473: 'girl', 7474: 'replicated', 7475: 'diplomatic', 7476: 'wearing', 7477: 'glasses', 7478: 'injury', 7479: 'godfathers', 7480: '84', 7481: 'relation', 7482: '540000', 7483: 'strongest', 7484: 'plummeting', 7485: 'simultaneously', 7486: 'congresswoman', 7487: 'postpones', 7488: 'closure', 7489: 'orthodontia', 7490: 'aka', 7491: 'plotting', 7492: 'primarily', 7493: 'melting', 7494: 'attrition', 7495: 'yale', 7496: 'hp', 7497: 'fiorinasaying', 7498: 'isone', 7499: 'memory', 7500: 'floodgates', 7501: 'saints', 7502: 'undefeated', 7503: 'assemblies', 7504: 'famous', 7505: '211000', 7506: 'proponents', 7507: 'kansans', 7508: 'anwr', 7509: 'minimal', 7510: 'scrap', 7511: 'tightened', 7512: 'photographer', 7513: 'ids', 7514: 'uncontested', 7515: 'pave', 7516: '1761', 7517: 'hemp', 7518: 'carters', 7519: 'seals', 7520: 'ipods', 7521: 'whales', 7522: 'seaworld', 7523: 'dolphins', 7524: 'plale', 7525: 'rolled', 7526: 'tag', 7527: 'avoided', 7528: 'scholars', 7529: 'marriages', 7530: 'vet', 7531: 'redistributed', 7532: 'rebuilt', 7533: '475', 7534: '104000', 7535: 'induce', 7536: 'marcorubio', 7537: 'boys', 7538: 'enrollment', 7539: '180000', 7540: 'eventual', 7541: 'jane', 7542: 'norton', 7543: 'freshmen', 7544: 'advancing', 7545: 'binding', 7546: 'zanesville', 7547: 'settlement', 7548: '1916', 7549: '1940s', 7550: 'projecting', 7551: 'filibusters', 7552: 'establishing', 7553: 'doyle', 7554: 'deductions', 7555: 'mortgages', 7556: 'guinta', 7557: 'wrotei', 7558: 'role', 7559: 'patterned', 7560: 'maintained', 7561: 'circle', 7562: 'appropriation', 7563: 'conferences', 7564: 'delivering', 7565: '2325000', 7566: 'landrieu', 7567: 'hesecured', 7568: 'macks', 7569: 'lubbock', 7570: 'alleged', 7571: 'dolls', 7572: 'explosives', 7573: 'jumbo', 7574: 'singapore', 7575: 'appalachian', 7576: 'revelations', 7577: 'christ', 7578: '40s', 7579: 'exclusion', 7580: 'hillsborough', 7581: 'trends', 7582: 'accountable', 7583: 'producing', 7584: 'forged', 7585: 'documents', 7586: '48th', 7587: 'venture', 7588: 'jazzercise', 7589: 'urban', 7590: 'gardening', 7591: 'massage', 7592: 'redirected', 7593: 'sofa', 7594: 'encouraging', 7595: 'savannah', 7596: 'federally', 7597: 'engaged', 7598: 'inventory', 7599: 'prevailing', 7600: '135000', 7601: 'netted', 7602: '120000', 7603: 'reelection', 7604: '38th', 7605: 'huey', 7606: 'environment', 7607: 'recused', 7608: 'solicitor', 7609: 'rang', 7610: '142', 7611: 'expects', 7612: 'informational', 7613: 'margaret', 7614: 'thatcher', 7615: 'wobbly', 7616: 'touched', 7617: 'drill', 7618: 'kathy', 7619: 'castor', 7620: 'prostitutes', 7621: 'responsibly', 7622: 'nondefense', 7623: '60s', 7624: 'bushes', 7625: 'holes', 7626: 'skulls', 7627: 'coils', 7628: 'ears', 7629: 'intentionally', 7630: 'deafened', 7631: 'starved', 7632: 'labs', 7633: 'benefiting', 7634: 'likewise', 7635: 'rations', 7636: 'britain', 7637: 'mention', 7638: 'surtax', 7639: 'businessmen', 7640: 'engines', 7641: 'sandra', 7642: 'ordinance', 7643: 'restrooms', 7644: 'pal', 7645: '440', 7646: 'reclaiming', 7647: 'tina', 7648: 'kotek', 7649: 'uncollected', 7650: 'rev', 7651: 'wright', 7652: 'corps', 7653: 'roman', 7654: 'legionnaires', 7655: 'savior', 7656: 'roberson', 7657: '1930s', 7658: 'confined', 7659: 'scarcity', 7660: 'normalization', 7661: 'steps', 7662: 'controversyabout', 7663: 'wherepresident', 7664: 'realize', 7665: 'suffer', 7666: '190000', 7667: 'startups', 7668: 'narrowing', 7669: 'launchers', 7670: 'airports', 7671: '172', 7672: 'penis', 7673: 'pumps', 7674: 'lockstep', 7675: 'desire', 7676: 'comprised', 7677: 'multimillionaires', 7678: 'drowning', 7679: 'bathtubs', 7680: 'accidentally', 7681: 'styrofoam', 7682: 'crucifying', 7683: 'christians', 7684: 'nailing', 7685: 'existence', 7686: 'trash', 7687: 'tyler', 7688: 'mcpherson', 7689: 'studio', 7690: 'sticker', 7691: 'helmets', 7692: 'necap', 7693: 'harder', 7694: 'dues', 7695: 'pilots', 7696: '25000', 7697: 'importance', 7698: 'arena', 7699: 'belgiums', 7700: 'commanders', 7701: 'orders', 7702: 'dick', 7703: 'cheney', 7704: 'visit', 7705: 'warrants', 7706: 'items', 7707: 'exploited', 7708: '64000', 7709: 'duggars', 7710: 'transgressions', 7711: 'affront', 7712: 'incredibly', 7713: 'insecurity', 7714: 'unsustainable', 7715: 'unpayable', 7716: 'greed', 7717: 'vulture', 7718: 'withdrawals', 7719: 'imprisoned', 7720: 'medium', 7721: 'fish', 7722: 'barriers', 7723: 'rehabilitate', 7724: 'roading', 7725: 'trails', 7726: 'atvs', 7727: 'anticompetitive', 7728: 'challengers', 7729: 'complaint', 7730: '83000', 7731: 'reveal', 7732: 'britishand', 7733: 'libyan', 7734: 'versus', 7735: 'cresent', 7736: 'hardy', 7737: 'daca', 7738: 'overridden', 7739: 'moleg', 7740: 'hca', 7741: 'alito', 7742: 'sits', 7743: '68000', 7744: 'chronically', 7745: 'flowed', 7746: 'coffers', 7747: 'mankind', 7748: 'womankind', 7749: 'approaching', 7750: 'greenest', 7751: 'safest', 7752: 'compromising', 7753: 'volvo', 7754: 'spurned', 7755: '3455', 7756: 'promising', 7757: 'peach', 7758: 'ben', 7759: 'carson', 7760: 'commonwealths', 7761: 'fdr', 7762: 'consequence', 7763: 'outbreaks', 7764: 'globe', 7765: 'confines', 7766: 'barrels', 7767: 'recess', 7768: 'appointment', 7769: 'cordray', 7770: 'precisely', 7771: 'bypassed', 7772: 'stadiums', 7773: 'pres', 7774: 'transactions', 7775: 'institution', 7776: 'arsenal', 7777: 'carsgov', 7778: 'seize', 7779: '141600', 7780: 'troubling', 7781: 'staples', 7782: 'woo', 7783: 'elderly', 7784: 'round', 7785: 'repayments', 7786: 'likes', 7787: '2037', 7788: 'installment', 7789: 'faces', 7790: 'underemployed', 7791: 'wake', 7792: 'overseeing', 7793: 'showered', 7794: 'mcgreevey', 7795: 'tradition', 7796: 'announces', 7797: 'sporting', 7798: 'devices', 7799: 'concluded', 7800: 'therefore', 7801: 'unsuccessful', 7802: 'alleviating', 7803: 'congestion', 7804: 'mutates', 7805: 'strikingly', 7806: 'slated', 7807: 'infusion', 7808: '643', 7809: 'cayman', 7810: 'supposedly', 7811: 'endowed', 7812: 'creator', 7813: 'hardly', 7814: '4200', 7815: 'forfeit', 7816: 'employs', 7817: '165', 7818: 'fy', 7819: '327653', 7820: '528', 7821: 'hyde', 7822: 'championship', 7823: 'payout', 7824: 'connected', 7825: 'frisk', 7826: 'widget', 7827: 'device', 7828: 'chair', 7829: 'joint', 7830: 'poster', 7831: 'discover', 7832: 'infractions', 7833: 'ncaa', 7834: 'perspective', 7835: 'jesus', 7836: 'attract', 7837: 'leaks', 7838: 'prospects', 7839: 'cutoff', 7840: 'legitimate', 7841: 'widespread', 7842: 'anomalies', 7843: 'visibly', 7844: 'waukesha', 7845: 'monday', 7846: 'marilinda', 7847: '505', 7848: '556', 7849: 'baseball', 7850: 'player', 7851: '248', 7852: 'brookhavens', 7853: 'pink', 7854: 'pony', 7855: 'thereby', 7856: 'modeled', 7857: 'contests', 7858: 'hank', 7859: '43rd', 7860: 'scientific', 7861: 'co2', 7862: 'pollutant', 7863: 'concentrations', 7864: 'ecosystems', 7865: 'boycotts', 7866: 'encouraged', 7867: 'martinez', 7868: 'prosecutors', 7869: 'avoid', 7870: 'stuck', 7871: '2465750', 7872: '75000', 7873: 'rugsthey', 7874: 'honey', 7875: 'glazed', 7876: 'chicken', 7877: 'pilaf', 7878: 'olympics', 7879: 'swearing', 7880: 'ram', 7881: 'outstrip', 7882: 'emphatically', 7883: '284', 7884: 'tide', 7885: 'keith', 7886: 'olbermann', 7887: 'eclipse', 7888: 'selection', 7889: 'owning', 7890: 'rebate', 7891: 'repeat', 7892: 'flush', 7893: 'deepest', 7894: 'berry', 7895: '238', 7896: 'debates', 7897: 'cracking', 7898: 'naral', 7899: 'reproductive', 7900: 'capped', 7901: 'swap', 7902: 'cure', 7903: 'cryptosporidium', 7904: 'ch2', 7905: 'hill', 7906: 'discovering', 7907: 'understands', 7908: 'kelo', 7909: 'ruling', 7910: 'meals', 7911: 'binational', 7912: 'trimet', 7913: '103', 7914: 'anchor', 7915: 'concern', 7916: 'subjected', 7917: 'listening', 7918: 'excluding', 7919: 'recognizes', 7920: 'purposes', 7921: 'chafin', 7922: 'votingto', 7923: 'palace', 7924: 'extracts', 7925: 'videos', 7926: 'formed', 7927: 'fetus', 7928: 'beating', 7929: 'legs', 7930: 'kicking', 7931: 'harvest', 7932: 'entrepreneurship', 7933: '11th', 7934: 'debated', 7935: 'overnight', 7936: 'hair', 7937: 'beaten', 7938: 'ushered', 7939: 'secular', 7940: 'letterman', 7941: 'threatening', 7942: 'discussion', 7943: 'islamism', 7944: 'jurisdiction', 7945: 'vagina', 7946: 'madigan', 7947: 'appeals', 7948: 'merry', 7949: 'marwig', 7950: 'madigans', 7951: 'lowered', 7952: 'profiting', 7953: 'corrupt', 7954: 'hewas', 7955: 'architects', 7956: 'balancing', 7957: 'federalbudget', 7958: 'surveille', 7959: 'discussions', 7960: 'indoor', 7961: 'uv', 7962: 'outdoor', 7963: 'melanomas', 7964: 'bus', 7965: 'duration', 7966: '7300', 7967: 'candidateterri', 7968: 'lynn', 7969: 'character', 7970: 'patriotism', 7971: 'bravery', 7972: 'cancers', 7973: 'peers', 7974: 'hovde', 7975: 'infections', 7976: 'adolescents', 7977: 'numberonein', 7978: 'isnumber', 7979: '123', 7980: '326', 7981: 'acidic', 7982: 'explosive', 7983: 'scored', 7984: 'reformed', 7985: 'partially', 7986: 'hansen', 7987: 'perhaps', 7988: 'minds', 7989: 'properly', 7990: 'obamacars', 7991: 'scooters', 7992: 'deduction', 7993: 'hobby', 7994: 'catch', 7995: 'rainwater', 7996: 'stuff', 7997: 'ethnic', 7998: 'mirrors', 7999: 'clarkston', 8000: 'decriminalize', 8001: 'motorists', 8002: 'citation', 8003: 'surviving', 8004: 'tickets', 8005: 'diverts', 8006: 'trusted', 8007: 'chinas', 8008: 'dumping', 8009: 'admissions', 8010: 'acute', 8011: 'myocardial', 8012: 'infarction', 8013: 'angina', 8014: 'bass', 8015: 'privatization', 8016: 'batteries', 8017: 'invoked', 8018: 'dealings', 8019: 'chain', 8020: 'captured', 8021: '2070', 8022: 'alabamians', 8023: 'crabs', 8024: 'broadband', 8025: 'telecom', 8026: 'spain', 8027: 'tolerant', 8028: 'instructed', 8029: 'patterson', 8030: 'mob', 8031: 'mafia', 8032: 'greenlight', 8033: 'pinellas', 8034: 'fred', 8035: 'clark', 8036: 'baraboo', 8037: 'injured', 8038: 'bicyclist', 8039: '825', 8040: 'lures', 8041: 'kittens', 8042: 'nutella', 8043: '6600', 8044: 'premeditation', 8045: 'oscar', 8046: 'pistorius', 8047: 'twinkling', 8048: 'rarer', 8049: 'daschle', 8050: 'treating', 8051: 'capturing', 8052: 'er', 8053: 'projector', 8054: 'planetarium', 8055: 'determination', 8056: 'amash', 8057: 'kitzhabers', 8058: 'upcoming', 8059: 'biennium', 8060: 'immigrantspay', 8061: 'julio', 8062: 'robaina', 8063: '260000', 8064: 'chairmanship', 8065: 'offset', 8066: 'harmful', 8067: 'pollutants', 8068: 'nitrogen', 8069: 'oxide', 8070: '625', 8071: 'ozone', 8072: 'disneyland', 8073: '2023', 8074: '722', 8075: '696', 8076: 'saysthere', 8077: 'reich', 8078: 'americanscant', 8079: 'unexpected', 8080: 'cards', 8081: 'hopes', 8082: 'cruzs', 8083: 'hearts', 8084: 'slouches', 8085: 'buck', 8086: 'kenney', 8087: 'fault', 8088: 'qualified', 8089: 'appropriately', 8090: 'utilizing', 8091: 'lab', 8092: 'lean', 8093: 'finely', 8094: 'textured', 8095: 'slime', 8096: 'widely', 8097: 'delivers', 8098: 'prematurely', 8099: 'rays', 8100: 'judged', 8101: 'appraisers', 8102: 'mechanic', 8103: 'afscme', 8104: 'forum', 8105: 'no1', 8106: 'hazmat', 8107: 'prompting', 8108: 'concerns', 8109: 'anticipating', 8110: 'fighter', 8111: 'subsidized', 8112: 'supremacist', 8113: 'procedures', 8114: 'bag', 8115: 'tended', 8116: '2025', 8117: 'involvement', 8118: 'withnutritional', 8119: 'supplement', 8120: 'mannatech', 8121: 'haslam', 8122: 'compliant', 8123: 'specializes', 8124: '272', 8125: 'dismantling', 8126: 'slaughtered', 8127: 'extent', 8128: '71500', 8129: 'isakson', 8130: 'southeast', 8131: 'drained', 8132: '360000', 8133: 'rental', 8134: 'repaired', 8135: 'preferring', 8136: '2200', 8137: 'facilitate', 8138: 'accelerate', 8139: 'acquiring', 8140: 'raking', 8141: 'todays', 8142: 'rebounding', 8143: 'evers', 8144: 'detert', 8145: 'adoptions', 8146: 'brings', 8147: 'hack', 8148: 'ploy', 8149: 'clients', 8150: 'enabled', 8151: 'tva', 8152: 'knowledge', 8153: 'oxendine', 8154: 'shady', 8155: 'dreamed', 8156: 'obvious', 8157: 'differences', 8158: 'oct', 8159: 'enjoy', 8160: '106258', 8161: '98213', 8162: 'kochs', 8163: 'sullivan', 8164: 'trucker', 8165: '100000the', 8166: 'survivors', 8167: 'violated', 8168: 'lilly', 8169: 'ledbetter', 8170: 'recoverygov', 8171: 'merging', 8172: 'hortons', 8173: 'weak', 8174: 'soonerthan', 8175: 'grounded', 8176: 'airplanes', 8177: 'afterwards', 8178: 'projection', 8179: 'dipped', 8180: '6036', 8181: '5644', 8182: 'feingolds', 8183: 'overturn', 8184: 'scheduling', 8185: 'boards', 8186: 'letters', 8187: 'woefully', 8188: 'underpaid', 8189: 'obamapresident', 8190: 'santa', 8191: 'ranch', 8192: 'jetliner', 8193: 'tort', 8194: 'securitiesproduct', 8195: 'liabilityinterstate', 8196: 'morgan', 8197: 'carrolls', 8198: 'retardation', 8199: 'receives', 8200: 'remittances', 8201: 'nationals', 8202: 'chunk', 8203: 'gianna', 8204: 'jessen', 8205: 'alan', 8206: 'greenspan', 8207: 'departments', 8208: 'nye', 8209: 'credibly', 8210: 'undertaxed', 8211: 'lambeau', 8212: 'malaria', 8213: 'excluded', 8214: 'miserably', 8215: 'gospel', 8216: 'marxists', 8217: 'design', 8218: 'volunteers', 8219: 'advisors', 8220: 'endorsers', 8221: 'seminole', 8222: 'dorms', 8223: 'dorm', 8224: 'leases', 8225: 'formation', 8226: 'assisted', 8227: '44443', 8228: 'notified', 8229: 'cancellation', 8230: 'midnight', 8231: 'audit', 8232: 'obamasown', 8233: 'incorporates', 8234: 'levies', 8235: 'map', 8236: 'gerrymanders', 8237: '1991', 8238: 'litmus', 8239: 'markkirk', 8240: 'andwas', 8241: 'stilltooracist', 8242: 'swaps', 8243: 'tripoli', 8244: 'outreach', 8245: 'airways', 8246: 'lid', 8247: 'firing', 8248: 'vetted', 8249: 'stationed', 8250: 'vouchers', 8251: 'wolfs', 8252: 'pa', 8253: 'allencast', 8254: 'votefor', 8255: '2003bushtax', 8256: 'defunded', 8257: 'german', 8258: 'disarmed', 8259: 'nazis', 8260: 'evil', 8261: 'intentions', 8262: 'relatively', 8263: 'resistance', 8264: 'limited', 8265: 'inexpensive', 8266: 'congressadjourned', 8267: 'tuggey', 8268: '41000', 8269: 'toimplement', 8270: 'oval', 8271: 'jacket', 8272: 'revered', 8273: 'gunviolence', 8274: 'researching', 8275: 'nationalize', 8276: 'curriculum', 8277: 'prevents', 8278: 'metroplex', 8279: 'forums', 8280: 'announcing', 8281: 'touch', 8282: 'trey', 8283: 'radel', 8284: 'occupies', 8285: '14th', 8286: 'amendmentban', 8287: 'manufacture', 8288: 'neighboring', 8289: 'outstripped', 8290: '1959', 8291: 'abide', 8292: 'caution', 8293: 'disturb', 8294: 'bodies', 8295: 'puddle', 8296: 'differ', 8297: 'spoiler', 8298: 'gallaghers', 8299: 'lisa', 8300: 'murkowski', 8301: 'productivity', 8302: 'uaw', 8303: 'enforcing', 8304: 'squandered', 8305: 'squandering', 8306: 'apprehensions', 8307: 'ford', 8308: 'inquiry', 8309: 'corroborated', 8310: 'continuous', 8311: 'bulgarians', 8312: 'romanians', 8313: 'brits', 8314: 'wave', 8315: 'surrender', 8316: 'withdrawal', 8317: 'plated', 8318: 'phaseout', 8319: 'camper', 8320: 'reinstated', 8321: 'elaborate', 8322: 'hollywood', 8323: 'mobile', 8324: 'gps', 8325: 'enjoying', 8326: 'miracle', 8327: '882', 8328: '307', 8329: '230', 8330: 'marcy', 8331: 'kaptur', 8332: 'dennis', 8333: 'kucinich', 8334: 'extensive', 8335: 'willfully', 8336: 'leaked', 8337: 'stuxnet', 8338: 'worm', 8339: 'secrets', 8340: 'affiliates', 8341: 'demonstrates', 8342: 'seized', 8343: 'ros', 8344: 'lehtinen', 8345: '07', 8346: '442', 8347: 'collapse', 8348: 'comparative', 8349: 'effectiveness', 8350: '224000', 8351: 'qataris', 8352: 'jan1', 8353: 'sewers', 8354: 'lousy', 8355: 'smog', 8356: 'caltech', 8357: 'extension', 8358: 'segments', 8359: 'sand', 8360: 'imposing', 8361: 'barbecue', 8362: 'restaurants', 8363: 'gouging', 8364: 'uva', 8365: '294', 8366: 'dooley', 8367: 'inspected', 8368: '81000', 8369: 'gamblers', 8370: 'precleared', 8371: 'quieter', 8372: 'mayberry', 8373: 'homeopathy', 8374: 'acupuncture', 8375: 'aromatherapy', 8376: 'legitimacy', 8377: 'militarize', 8378: 'bend', 8379: 'beloved', 8380: 'brad', 8381: 'schimel', 8382: 'cahoots', 8383: 'founders', 8384: 'motto', 8385: 'stokes', 8386: 'explained', 8387: 'taxwas', 8388: '1969', 8389: '155', 8390: 'indexed', 8391: 'overcharging', 8392: 'ellen', 8393: 'rosenblum', 8394: 'terminated', 8395: 'overhauling', 8396: 'canadians', 8397: 'destabilize', 8398: 'inspect', 8399: 'escalation', 8400: 'boyfriends', 8401: 'anglers', 8402: 'synagogues', 8403: 'megan', 8404: 'sampson', 8405: 'marshawn', 8406: 'yards', 8407: 'terrell', 8408: 'typically', 8409: 'perceived', 8410: 'metros', 8411: 'alexi', 8412: 'mobsters', 8413: '855', 8414: 'reimbursements', 8415: 'slightly', 8416: 'tb', 8417: 'borrowers', 8418: 'underwater', 8419: 'vacant', 8420: '460', 8421: 'lloyd', 8422: 'doggett', 8423: 'timing', 8424: 'soaring', 8425: 'merger', 8426: 'perimeter', 8427: 'gsu', 8428: '54000', 8429: 'savaged', 8430: 'dignity', 8431: 'shamed', 8432: 'propagation', 8433: 'koran', 8434: 'published', 8435: 'arabic', 8436: 'touting', 8437: 'triumph', 8438: 'notes', 8439: 'applicant', 8440: 'credentials', 8441: 'fixed', 8442: 'downturn', 8443: '124', 8444: '1one', 8445: 'panhandling', 8446: 'raffled', 8447: 'killings', 8448: 'noisy', 8449: 'demonstrations', 8450: 'events', 8451: 'disruptive', 8452: 'crowds', 8453: 'booed', 8454: 'brian', 8455: 'kemp', 8456: 'rasmussen', 8457: 'spreading', 8458: 'valdez', 8459: 'worsen', 8460: 'vulnerable', 8461: 'rivals', 8462: 'wishes', 8463: 'predict', 8464: 'crude', 8465: '448', 8466: 'truancy', 8467: '2733', 8468: 'australias', 8469: 'stylists', 8470: 'consultants', 8471: 'wrestling', 8472: 'favorite', 8473: 'sport', 8474: 'yearly', 8475: 'childbearing', 8476: '620000', 8477: 'screen', 8478: 'valued', 8479: 'economists', 8480: 'arising', 8481: 'riot', 8482: 'dea', 8483: 'lyme', 8484: 'infectious', 8485: 'incidence', 8486: 'underused', 8487: 'representation', 8488: 'ex', 8489: 'boyfriend', 8490: 'neurological', 8491: '1977', 8492: 'dare', 8493: 'selecting', 8494: 'embrace', 8495: 'ahmadinejad', 8496: 'bachelors', 8497: 'thereafter', 8498: 'vawa', 8499: 'statesman', 8500: 'cuccinellis', 8501: 'skills', 8502: 'nearby', 8503: 'angry', 8504: 'extreme', 8505: 'julin', 8506: 'referral', 8507: 'smells', 8508: 'notorious', 8509: 'mikal', 8510: 'watts', 8511: 'extremely', 8512: 'premature', 8513: 'survive', 8514: 'mentioning', 8515: 'villanovas', 8516: 'buzzer', 8517: 'championships', 8518: 'victories', 8519: 'zinn', 8520: 'taught', 8521: 'predominantislamist', 8522: 'finishing', 8523: 'actuaries', 8524: 'remodel', 8525: 'expansive', 8526: 'cubans', 8527: 'allens', 8528: 'ample', 8529: 'meltdown', 8530: 'bubble', 8531: 'michigans', 8532: 'disrespect', 8533: 'involve', 8534: 'exterior', 8535: 'launched', 8536: 'predominantly', 8537: 'obamashealth', 8538: 'outage', 8539: 'zoo', 8540: 'lpez', 8541: 'cantera', 8542: 'staunchly', 8543: 'priorities', 8544: 'suggest', 8545: 'yorks', 8546: 'startup', 8547: 'canceled', 8548: 'guide', 8549: 'potshoot', 8550: 'stab', 8551: 'strangle', 8552: '226', 8553: 'measured', 8554: 'mills', 8555: 'defied', 8556: 'ally', 8557: 'intolerable', 8558: 'progressivewas', 8559: 'substitute', 8560: 'forcommunist', 8561: 'poors', 8562: 'proved', 8563: 'fictional', 8564: 'son', 8565: 'avoidance', 8566: 'schemes', 8567: '131', 8568: 'origin', 8569: 'labeling', 8570: 'boots', 8571: 'crossings', 8572: 'pauls', 8573: '750', 8574: 'governmental', 8575: 'dark', 8576: 'dewine', 8577: 'madoff', 8578: 'jindals', 8579: 'gainrevenue', 8580: 'sewage', 8581: 'erie', 8582: 'header', 8583: 'confidential', 8584: 'verified', 8585: 'seventh', 8586: 'predicts', 8587: 'punxsutawney', 8588: 'payback', 8589: 'footing', 8590: 'colleague', 8591: 'wrangle', 8592: 'streaming', 8593: 'calculate', 8594: 'cheetos', 8595: 'luck', 8596: 'banana', 8597: 'sort', 8598: 'bradleys', 8599: 'webb', 8600: 'reliable', 8601: 'downsizing', 8602: 'ms', 8603: 'latvala', 8604: 'lane', 8605: 'mopac', 8606: 'spilled', 8607: 'spewing', 8608: 'policiesthe', 8609: 'teapot', 8610: 'intelligent', 8611: 'trustworthy', 8612: 'scientologists', 8613: 'operatives', 8614: 'shaped', 8615: 'headstones', 8616: 'lucky', 8617: 'discretion', 8618: 'context', 8619: 'exporting', 8620: 'gamed', 8621: 'buyback', 8622: 'offlexible', 8623: 'futures', 8624: 'surgical', 8625: 'needles', 8626: 'viewed', 8627: 'brainwashing', 8628: 'dumped', 8629: 'oak', 8630: 'grove', 8631: 'guys', 8632: 'elevators', 8633: 'pm', 8634: '2100', 8635: 'bird', 8636: 'presence', 8637: 'insurers', 8638: 'transcript', 8639: 'occidental', 8640: 'indonesian', 8641: '443', 8642: 'meanwhile', 8643: 'athletic', 8644: 'dire', 8645: 'doubling', 8646: '2021', 8647: 'impeachment', 8648: 'libyams', 8649: 'hears', 8650: 'gops', 8651: 'bet', 8652: 'marginal', 8653: 'woodrow', 8654: 'stems', 8655: 'kicker', 8656: 'asian', 8657: 'lows', 8658: 'disadvantage', 8659: 'carl', 8660: 'user', 8661: 'dodging', 8662: 'kyl', 8663: '524', 8664: 'presiding', 8665: 'hurtling', 8666: 'touted', 8667: 'hardcover', 8668: 'auditor', 8669: 'finances', 8670: 'oreilly', 8671: 'factorand', 8672: 'bybilloreilly', 8673: '2nd', 8674: 'suing', 8675: 'speak', 8676: 'hamburgers', 8677: 'filler', 8678: 'cleansed', 8679: 'ammonia', 8680: 'stomach', 8681: 'intestinal', 8682: 'improper', 8683: 'countering', 8684: 'extremism', 8685: 'renaming', 8686: 'potent', 8687: 'yesteryear', 8688: '8355', 8689: 'prolife', 8690: 'apologize', 8691: 'beltline', 8692: 'intersects', 8693: 'marta', 8694: 'automatically', 8695: 'olsen', 8696: 'devastating', 8697: 'chairs', 8698: 'bracelets', 8699: 'grayson', 8700: 'retention', 8701: 'infrastructural', 8702: 'djt', 8703: 'cnbc', 8704: 'renegotiated', 8705: 'denmark', 8706: '45000', 8707: 'vapor', 8708: 'final', 8709: 'saysruben', 8710: 'kihuen', 8711: 'renaissance', 8712: 'battlefields', 8713: 'pitts', 8714: 'lieutenants', 8715: 'competitor', 8716: 'connecticuts', 8717: 'slot', 8718: 'lies', 8719: 'overtime', 8720: 'passively', 8721: 'stepped', 8722: 'advocacy', 8723: 'gee', 8724: 'raked', 8725: 'whistleblowers', 8726: 'sauk', 8727: 'wednesday', 8728: 'dabbled', 8729: 'conspiracy', 8730: 'theories', 8731: '143000', 8732: 'tout', 8733: 'links', 8734: 'jailed', 8735: 'abramoff', 8736: 'cw', 8737: 'megabanks', 8738: 'advantages', 8739: 'upgrading', 8740: 'instituting', 8741: 'duplication', 8742: 'clothing', 8743: '84000', 8744: 'grades', 8745: 'studying', 8746: 'amajority', 8747: 'embraced', 8748: 'supportedamnesty', 8749: 'hiking', 8750: 'winnebago', 8751: 'doug', 8752: 'mckillips', 8753: 'deserve', 8754: 'refund', 8755: 'vacancies', 8756: 'gonzales', 8757: 'rauner', 8758: 'frustrations', 8759: 'applicants', 8760: 'blog', 8761: '72000', 8762: 'carpet', 8763: 'subpar', 8764: 'score', 8765: 'instructions', 8766: 'bogged', 8767: 'suggests', 8768: 'dubai', 8769: 'producers', 8770: 'retires', 8771: 'boswell', 8772: 'carnahan', 8773: 'critz', 8774: 'demanded', 8775: 'dildos', 8776: 'holidays', 8777: 'daughters', 8778: 'naive', 8779: 'throws', 8780: 'extraordinary', 8781: 'democratically', 8782: '630000', 8783: '2487', 8784: 'harmed', 8785: 'doyles', 8786: 'travels', 8787: 'diplomacy', 8788: 'dial', 8789: 'tone', 8790: 'showhillary', 8791: 'flipped', 8792: 'inspection', 8793: 'hartsfield', 8794: 'terminal', 8795: 'exclusive', 8796: 'censor', 8797: 'criticize', 8798: 'ofa', 8799: 'sincebarack', 8800: 'whine', 8801: 'bearing', 8802: 'isto', 8803: 'roll', 8804: 'roadmap', 8805: '2060s', 8806: 'unthinkable', 8807: 'raiser', 8808: 'cruzsaid', 8809: 'inflating', 8810: 'tires', 8811: 'ups', 8812: 'bbq', 8813: 'assist', 8814: 'buying', 8815: 'surrogate', 8816: 'boosted', 8817: 'heavens', 8818: 'advertise', 8819: 'method', 8820: 'evaluating', 8821: 'questionnaires', 8822: 'gridlocked', 8823: 'rein', 8824: 'bolted', 8825: 'windows', 8826: '228', 8827: 'filipino', 8828: 'thehousebudget', 8829: 'anthropology', 8830: 'engineering', 8831: 'suspect', 8832: 'robbery', 8833: 'msnbc', 8834: 'practically', 8835: 'revelation', 8836: 'pressing', 8837: 'movement', 8838: 'friday', 8839: '5800', 8840: 'remained', 8841: '381', 8842: 'la', 8843: 'crosse', 8844: 'exit', 8845: 'surrounded', 8846: 'rocking', 8847: 'extricated', 8848: 'islander', 8849: 'spiritual', 8850: 'rod', 8851: 'parsley', 8852: 'founding', 8853: 'gelbers', 8854: 'disqualify', 8855: 'windshield', 8856: 'gunter', 8857: 'drain', 8858: 'dukakis', 8859: 'rejection', 8860: 'cheat', 8861: 'defies', 8862: 'logic', 8863: 'diana', 8864: 'maldonado', 8865: '43330', 8866: '2083', 8867: '33000', 8868: 'saidas', 8869: 'guardian', 8870: 'survivor', 8871: 'parkinsons', 8872: 'glaucoma', 8873: 'associate', 8874: 'commuter', 8875: 'atms', 8876: 'wash', 8877: 'butter', 8878: 'jelly', 8879: 'sandwich', 8880: 'outstripping', 8881: 'interned', 8882: 'treuhaft', 8883: 'jurisdictions', 8884: 'surcharge', 8885: 'disabilities', 8886: 'downgraded', 8887: 'bbb', 8888: 'junk', 8889: 'match', 8890: 'exposed', 8891: 'platinum', 8892: 'usda', 8893: 'seed', 8894: 'sterilized', 8895: 'courageous', 8896: 'restraint', 8897: 'furious', 8898: 'shades', 8899: 'racetrack', 8900: 'unbelievable', 8901: 'sounds', 8902: 'zombie', 8903: 'apocalypse', 8904: 'sucked', 8905: 'bit', 8906: 'enrollee', 8907: 'actor', 8908: 'dwayne', 8909: 'wore', 8910: 'shirt', 8911: 'stating', 8912: 'kneel', 8913: 'theinsurance', 8914: 'umpqua', 8915: 'fatal', 8916: 'crct', 8917: 'expectations', 8918: 'outsourced', 8919: 'qualifies', 8920: 'unaccountable', 8921: 'proving', 8922: 'sanger', 8923: 'judas', 8924: 'goat', 8925: 'principals', 8926: 'implicated', 8927: 'vows', 8928: 'institute', 8929: 'dartmouth', 8930: 'medicaids', 8931: 'obamacares', 8932: 'emit', 8933: 'rutgers', 8934: 'montclair', 8935: 'stockton', 8936: 'rowan', 8937: 'paterson', 8938: 'benson', 8939: 'unhealthy', 8940: 'farther', 8941: 'hewent', 8942: 'isunder', 8943: '89000', 8944: 'cumulatively', 8945: 'pioneers', 8946: 'kentuckians', 8947: 'bashar', 8948: 'russian', 8949: 'mint', 8950: 'coin', 8951: 'gig', 8952: 'salem', 8953: 'expectancy', 8954: 'mossad', 8955: 'shin', 8956: 'engineers', 8957: 'peyton', 8958: 'manning', 8959: 'struggles', 8960: 'membership', 8961: 'optional', 8962: 'remarkable', 8963: 'executed', 8964: 'onthe', 8965: 'q', 8966: 'dodgers', 8967: 'malfeasance', 8968: 'contagious', 8969: 'transmissible', 8970: 'fooled', 8971: 'villain', 8972: 'batman', 8973: 'movie', 8974: 'bane', 8975: 'voluntary', 8976: 'questioned', 8977: 'nerve', 8978: 'abstinence', 8979: 'americanscan', 8980: 'cranstons', 8981: 'retiree', 8982: 'blunt', 8983: 'inserts', 8984: 'giant', 8985: 'philip', 8986: 'morris', 8987: 'blunts', 8988: 'girlfriend', 8989: '23000', 8990: 'mocked', 8991: 'ethiopia', 8992: 'heller', 8993: '428000', 8994: 'lunches', 8995: 'ineligible', 8996: 'racially', 8997: 'ethnically', 8998: 'wise', 8999: 'omalley', 9000: 'acknowledged', 9001: 'selectors', 9002: 'relocate', 9003: 'shun', 9004: 'shop', 9005: 'prosecutions', 9006: 'failures', 9007: 'matt', 9008: 'bevin', 9009: 'meg', 9010: 'memo', 9011: 'directs', 9012: '49000', 9013: '91000', 9014: 'pipe', 9015: 'byrne', 9016: 'outbound', 9017: '81', 9018: 'traditionally', 9019: '1940', 9020: 'germans', 9021: 'recidivism', 9022: 'climbing', 9023: '610', 9024: 'obamaphones', 9025: 'gut', 9026: '854489', 9027: 'jeopardizing', 9028: 'regularly', 9029: 'floridian', 9030: 'announcement', 9031: 'anwar', 9032: 'awlakis', 9033: 'chosen', 9034: 'cyberattacks', 9035: 'buffalos', 9036: 'solarcity', 9037: 'andrew', 9038: 'cuomo', 9039: 'credits', 9040: 'daniels', 9041: 'groundwork', 9042: 'teamed', 9043: 'unleashes', 9044: 'benediction', 9045: 'invocation', 9046: 'silence', 9047: 'extortion', 9048: 'prohibitions', 9049: 'outlawing', 9050: 'shunned', 9051: 'bathrooms', 9052: 'das', 9053: 'wood', 9054: 'joking', 9055: 'sizes', 9056: 'lyin', 9057: 'histv', 9058: 'generations', 9059: 'trial', 9060: 'photographedwith', 9061: 'harvey', 9062: 'oswald', 9063: 'retaining', 9064: 'aggie', 9065: 'tattoo', 9066: 'parental', 9067: 'teaches', 9068: 'placement', 9069: 'renewal', 9070: 'calculated', 9071: 'citywide', 9072: 'hotline', 9073: 'abc', 9074: 'overpass', 9075: 'tysons', 9076: 'corner', 9077: 'granted', 9078: 'preborn', 9079: 'aronbergs', 9080: 'asst', 9081: 'ag', 9082: 'standardized', 9083: 'lend', 9084: 'credence', 9085: 'signing', 9086: 'tourist', 9087: 'disappearing', 9088: 'spiraling', 9089: 'squeezing', 9090: 'seneca', 9091: 'timber', 9092: 'aiming', 9093: 'logging', 9094: 'allay', 9095: 'fears', 9096: 'shifted', 9097: 'asks', 9098: 'retooled', 9099: 'avid', 9100: 'outward', 9101: 'hoped', 9102: 'piracy', 9103: 'counterfeiting', 9104: 'securities', 9105: 'mix', 9106: 'unwanted', 9107: 'advances', 9108: 'deputy', 9109: '435', 9110: 'cardiologists', 9111: 'heated', 9112: 'individually', 9113: 'fromsolantic', 9114: 'brochures', 9115: 'michele', 9116: 'bachmann', 9117: 'blame', 9118: 'renewals', 9119: 'thors', 9120: 'hammer', 9121: 'coalition', 9122: 'toxic', 9123: 'churns', 9124: 'giants', 9125: 'chevron', 9126: 'shell', 9127: 'valero', 9128: 'averaging', 9129: 'fold', 9130: 'dept', 9131: 'agreethere', 9132: 'partiers', 9133: 'contrarily', 9134: 'concerned', 9135: 'wiretappings', 9136: 'briefings', 9137: 'ruse', 9138: 'offend', 9139: 'anyonebut', 9140: 'beside', 9141: 'index', 9142: 'alice', 9143: 'rivlin', 9144: 'stimulate', 9145: 'nikki', 9146: 'haley', 9147: 'shots', 9148: 'hypotheticals', 9149: 'jihadi', 9150: '9500', 9151: 'uk', 9152: 'germany', 9153: 'reined', 9154: 'duck', 9155: 'penises', 9156: 'publications', 9157: 'tossup', 9158: 'usual', 9159: 'dems', 9160: 'rig', 9161: 'louie', 9162: 'gohmert', 9163: 'theater', 9164: 'judeo', 9165: 'agreements', 9166: 'painful', 9167: 'satellites', 9168: 'fires', 9169: 'forests', 9170: 'environmentalists', 9171: '525', 9172: 'relates', 9173: 'initiated', 9174: 'aerial', 9175: 'wolves', 9176: '78', 9177: '269', 9178: 'conference', 9179: '489', 9180: 'phrase', 9181: 'error', 9182: 'flagged', 9183: 'endured', 9184: 'lifetimes', 9185: 'depending', 9186: 'confiscating', 9187: 'ira', 9188: 'strengthen', 9189: '832000', 9190: 'insures', 9191: 'expenditure', 9192: 'daiquiri', 9193: 'californians', 9194: 'excludes', 9195: 'wisconsinbut', 9196: 'themto', 9197: 'signers', 9198: 'ct', 9199: 'timetable', 9200: 'cincinnati', 9201: 'sellwood', 9202: 'mediocre', 9203: 'structurally', 9204: 'deficient', 9205: 'functionally', 9206: 'obsolete', 9207: 'mainstream', 9208: '1981', 9209: 'beachs', 9210: 'seemingly', 9211: 'endless', 9212: 'decimated', 9213: 'thin', 9214: '179000', 9215: 'beings', 9216: 'dinner', 9217: '1997', 9218: '8th', 9219: '1835', 9220: 'idaho', 9221: 'christine', 9222: 'capable', 9223: 'accepts', 9224: 'obstruction', 9225: '9241', 9226: '295', 9227: 'overcrowded', 9228: 'decreases', 9229: 'probability', 9230: '220', 9231: 'untagged', 9232: 'alligator', 9233: 'lobbying', 9234: 'empirical', 9235: 'monitoring', 9236: '1956', 9237: 'asylum', 9238: 'butt', 9239: 'relative', 9240: 'rankings', 9241: 'viewers', 9242: 'hid', 9243: 'motives', 9244: '320', 9245: 'bats', 9246: 'schooling', 9247: 'mess', 9248: 'fumes', 9249: 'transition', 9250: 'pardon', 9251: 'decorated', 9252: 'bb', 9253: 'martialed', 9254: 'philippine', 9255: 'insurgents', 9256: 'teamsters', 9257: 'slam', 9258: 'dunk', 9259: 'mill', 9260: 'ghosts', 9261: 'racism', 9262: 'conviction', 9263: 'greatest', 9264: 'station', 9265: 'unequivocally', 9266: 'reining', 9267: 'judgment', 9268: 'ogden', 9269: 'crafted', 9270: 'robin', 9271: 'skyrocket', 9272: 'freedoms', 9273: 'manual', 9274: 'manipulating', 9275: 'knows', 9276: 'talks', 9277: 'guise', 9278: 'undisclosed', 9279: 'mcdonnellsbudget', 9280: 'plantakesmoney', 9281: 'yougovcom', 9282: 'regret', 9283: 'imf', 9284: 'mistake', 9285: 'internationally', 9286: 'geared', 9287: 'transfer', 9288: 'invited', 9289: 'dancing', 9290: '240000', 9291: 'wedlock', 9292: 'stoned', 9293: 'adulteryand', 9294: 'exercises', 9295: 'someplace', 9296: 'oakleys', 9297: 'thewater', 9298: 'cromnibus', 9299: 'derivatives', 9300: 'kewpie', 9301: 'burgers', 9302: 'delicious', 9303: 'overweight', 9304: 'fluoridation', 9305: 'nazi', 9306: 'ghettos', 9307: 'pacify', 9308: 'jews', 9309: 'rooftop', 9310: 'solars', 9311: 'j', 9312: 'hardware', 9313: 'britsare', 9314: 'spotting', 9315: 'choppers', 9316: 'deserves', 9317: 'vowed', 9318: 'donaldtrump', 9319: 'kirkpatrick', 9320: 'violates', 9321: 'deprived', 9322: 'sweden', 9323: '10728', 9324: 'saidsonia', 9325: 'excellent', 9326: '2400', 9327: 'altered', 9328: 'ourneighboring', 9329: 'beyond', 9330: 'allegation', 9331: 'badger', 9332: 'ancestors', 9333: 'deposits', 9334: 'condo', 9335: 'cubicle', 9336: 'prostitution', 9337: 'allegedly', 9338: 'renaccis', 9339: 'brooks', 9340: 'contracted', 9341: 'executions', 9342: 'predator', 9343: 'perpetrated', 9344: 'travesty', 9345: '50s', 9346: 'endorsement', 9347: 'contest', 9348: 'prioritize', 9349: 'kkk', 9350: 'johnny', 9351: 'threats', 9352: '235', 9353: 'woodpecker', 9354: 'cage', 9355: 'discharged', 9356: 'translators', 9357: 'moments', 9358: 'fetched', 9359: 'h', 9360: 'lbj', 9361: 'yrs', 9362: 'betterway', 9363: 'flopping', 9364: 'dohertys', 9365: 'shape', 9366: 'responding', 9367: 'brilliant', 9368: 'motel', 9369: 'sakineh', 9370: 'mohammadi', 9371: 'ashtiani', 9372: 'stoning', 9373: 'prizes', 9374: 'battleground', 9375: 'untrustworthy', 9376: 'shanghai', 9377: 'london', 9378: 'promotional', 9379: 'balls', 9380: 'tiller', 9381: 'merely', 9382: 'prolifers', 9383: 'quotes', 9384: 'cuban', 9385: 'sayingi', 9386: 'cornell', 9387: 'concludes', 9388: 'affecttheir', 9389: '112th', 9390: 'boost', 9391: '145', 9392: 'roadway', 9393: 'safely', 9394: 'subjugation', 9395: 'simac', 9396: 'pembroke', 9397: 'pines', 9398: 'ranches', 9399: 'conclusion', 9400: 'bombs', 9401: 'resistant', 9402: '111th', 9403: 'congresses', 9404: 'hated', 9405: 'competitiveness', 9406: 'honeymoon', 9407: '1988', 9408: 'ballparks', 9409: '1983', 9410: 'unsafe', 9411: 'aryan', 9412: 'organic', 9413: 'eggs', 9414: 'nutritious', 9415: 'offerings', 9416: 'gaspard', 9417: 'bertha', 9418: '87', 9419: 'carcasses', 9420: 'generic', 9421: 'coli', 9422: 'packaging', 9423: 'provider', 9424: '277000', 9425: 'potato', 9426: 'pest', 9427: 'downgrade', 9428: 'upgrades', 9429: 'disastrous', 9430: 'mutual', 9431: 'firemen', 9432: 'soros', 9433: 'bioweapons', 9434: 'leone', 9435: 'wedding', 9436: 'cakes', 9437: 'nc', 9438: 'diapers', 9439: 'marti', 9440: 'stuffed', 9441: 'astonishing', 9442: '335', 9443: 'sunshine', 9444: 'throwing', 9445: 'saysgov', 9446: 'incorrectly', 9447: 'birmingham', 9448: 'cradle', 9449: 'budgeting', 9450: 'amtraks', 9451: 'acela', 9452: 'riders', 9453: 'dnr', 9454: 'hunters', 9455: 'mismanaged', 9456: 'herd', 9457: 'dwindled', 9458: 'hoosiers', 9459: 'fit', 9460: 'prohibits', 9461: 'benefitted', 9462: 'operate', 9463: 'bankrolling', 9464: 'humongous', 9465: 'customers', 9466: 'protecting', 9467: 'kelodecision', 9468: 'steyer', 9469: 'acalifornia', 9470: 'alberta', 9471: 'darling', 9472: 'unqualified', 9473: 'patten', 9474: 'kicked', 9475: 'russo', 9476: '43000', 9477: 'entrance', 9478: 'op', 9479: 'airs', 9480: 'stuart', 9481: 'rip', 9482: 'tribute', 9483: 'abject', 9484: 'guardsmen', 9485: 'heres', 9486: 'schiano', 9487: 'execute', 9488: 'nobodys', 9489: 'addicted', 9490: 'temporarily', 9491: 'galveston', 9492: 'holt', 9493: 'gutting', 9494: 'keene', 9495: 'nh', 9496: 'armored', 9497: 'citing', 9498: 'pumpkin', 9499: 'legion', 9500: 'tougher', 9501: 'stone', 9502: 'indebtedness', 9503: 'designers', 9504: 'manager', 9505: 'hazardous', 9506: 'materials', 9507: 'grateful', 9508: '21000', 9509: 'technically', 9510: 'buffalo', 9511: 'careless', 9512: 'economyis', 9513: 'asbig', 9514: 'actors', 9515: 'assertion', 9516: 'magazines', 9517: 'latinas', 9518: 'playoff', 9519: 'unloading', 9520: 'amassing', 9521: 'strength', 9522: 'motion', 9523: 'censure', 9524: 'systemic', 9525: 'wiretaps', 9526: 'implementing', 9527: 'surgeon', 9528: 'translate', 9529: 'hypocrite', 9530: 'aggressively', 9531: 'afraid', 9532: 'indigent', 9533: '2301', 9534: 'revokes', 9535: 'retains', 9536: 'differed', 9537: 'comic', 9538: 'kits', 9539: 'pope', 9540: 'francis', 9541: 'saint', 9542: 'kingston', 9543: 'neighbors', 9544: 'fifa', 9545: 'pressured', 9546: 'budweiser', 9547: 'leticia', 9548: 'putte', 9549: 'delegation', 9550: 'exploration', 9551: 'nics', 9552: 'globalist', 9553: 'obamatrade', 9554: 'flop', 9555: 'dickens', 9556: 'suction', 9557: 'entrapment', 9558: 'swimming', 9559: 'pools', 9560: 'spas', 9561: 'dedicate', 9562: 'steer', 9563: '725', 9564: 'australia', 9565: 'morrissey', 9566: 'delegate', 9567: 'circumcision', 9568: 'waivers', 9569: 'westlund', 9570: 'patridge', 9571: 'shetterly', 9572: 'lundquist', 9573: 'fairly', 9574: '210000', 9575: 'breakfasts', 9576: '240', 9577: 'doughnuts', 9578: 'glen', 9579: 'sturtevant', 9580: '803700', 9581: 'lifting', 9582: 'dakota', 9583: 'heinous', 9584: 'intentional', 9585: 'disfigurement', 9586: 'boyd', 9587: 'listen', 9588: 'burying', 9589: 'formulated', 9590: 'peterson', 9591: 'elusive', 9592: 'staunch', 9593: 'defender', 9594: 'furniture', 9595: 'frames', 9596: '1033', 9597: 'pardons', 9598: 'commutations', 9599: 'clemencies', 9600: 'trek', 9601: 'fingerprint', 9602: 'solving', 9603: 'plug', 9604: 'senatebecause', 9605: 'gillnets', 9606: 'inland', 9607: 'voice', 9608: 'hustleshows', 9609: 'bribes', 9610: 'approving', 9611: 'ipads', 9612: 'iphones', 9613: 'dubious', 9614: 'digital', 9615: 'atlantans', 9616: 'commuting', 9617: '260', 9618: 'cathedral', 9619: 'archdiocese', 9620: 'parishes', 9621: 'climatic', 9622: 'mails', 9623: 'debunked', 9624: 'pps', 9625: 'sinks', 9626: 'firsts', 9627: 'overstayed', 9628: 'capabilities', 9629: 'calm', 9630: 'sets', 9631: 'automotive', 9632: 'hatred', 9633: 'ineradicably', 9634: '331247', 9635: 'nusbaum', 9636: 'interviewed', 9637: 'asia', 9638: 'braking', 9639: 'semitic', 9640: 'motivation', 9641: 'kosher', 9642: 'producer', 9643: 'wilsonville', 9644: 'bloated', 9645: '89376857', 9646: 'pouring', 9647: 'pioneer', 9648: 'believed', 9649: 'mound', 9650: '290', 9651: 'tall', 9652: 'likens', 9653: 'predicament', 9654: 'deduct', 9655: 'maureen', 9656: 'dowd', 9657: 'column', 9658: 'thompsons', 9659: '87000', 9660: 'homestead', 9661: 'supermax', 9662: '220000new', 9663: 'yorkers', 9664: 'affirmedso', 9665: 'resolving', 9666: 'purpose', 9667: 'tellers', 9668: 'peace', 9669: 'darn', 9670: 'doughnut', 9671: 'indicative', 9672: 'trait', 9673: 'surround', 9674: 'reopened', 9675: '650000', 9676: 'jury', 9677: 'panasonic', 9678: 'relocation', 9679: 'brrag', 9680: 'speculators', 9681: 'freshwater', 9682: 'balfour', 9683: 'spaces', 9684: 'shark', 9685: 'chrisabele', 9686: 'depicts', 9687: 'frontman', 9688: 'truly', 9689: 'presided', 9690: 'faux', 9691: 'acre', 9692: 'narrow', 9693: 'linwood', 9694: 'holton', 9695: 'integrated', 9696: 'oust', 9697: 'houthi', 9698: 'rebels', 9699: 'yemen', 9700: 'apear', 9701: 'blatant', 9702: 'disenfranchising', 9703: 'stopping', 9704: '7500', 9705: 'fincher', 9706: 'genital', 9707: 'mutilation', 9708: 'maher', 9709: 'indication', 9710: 'counselors', 9711: 'woods', 9712: 'topics', 9713: 'havens', 9714: 'hefty', 9715: 'entrepreneurs', 9716: 'urgent', 9717: 'barrows', 9718: 'coyote', 9719: 'multiply', 9720: '280024', 9721: 'wholly', 9722: 'surveil', 9723: 'calculations', 9724: 'carroll', 9725: 'n', 9726: '3666json', 9727: 'stephanopoulos', 9728: '4608json', 9729: 'successor', 9730: 'childrenhealth', 9731: 'carenew', 9732: 'republicam', 9733: 'hanover', 9734: '11023json', 9735: 'bookthe', 9736: 'dealis', 9737: 'biographyjob', 9738: '114', 9739: '2096json', 9740: 'historypunditsabc', 9741: 'columnist', 9742: 'roundtable', 9743: '12853json', 9744: '12670json', 9745: 'condemning', 9746: 'urging', 9747: 'markedly', 9748: '1508json', 9749: 'sidney', 9750: 'blumenthal', 9751: 'seller', 9752: 'parking', 9753: 'tripling', 9754: '143', 9755: 'candidatemarilinda', 9756: 'pong', 9757: 'invaders', 9758: 'iphone', 9759: 'ratepayers', 9760: '79500', 9761: 'distracted', 9762: 'roadways', 9763: 'mineral', 9764: 'chess', 9765: 'grandmasters', 9766: 'exorbitant', 9767: 'deductibles', 9768: 'fdic', 9769: 'solitary', 9770: '45193289', 9771: 'corbett', 9772: 'infested', 9773: 'fernandez', 9774: 'migrants', 9775: 'schemer', 9776: 'rothstein', 9777: 'punished', 9778: 'exercising', 9779: 'banking', 9780: 'bailed', 9781: 'huma', 9782: 'abedin', 9783: 'brotherhood', 9784: 'encourage', 9785: 'relies', 9786: 'abolition', 9787: 'casting', 9788: 'message', 9789: 'machinevoting', 9790: 'macginnitie', 9791: 'councilman', 9792: '789json', 9793: 'refundable', 9794: 'massively', 9795: 'whack', 9796: 'economys', 9797: 'shocked', 9798: 'asleep', 9799: 'almanac', 9800: 'profiles', 9801: 'complications', 9802: 'sherwin', 9803: 'taxation', 9804: 'increment', 9805: 'learned', 9806: 'hacking', 9807: 'evolution', 9808: 'smitherman', 9809: 'generals', 9810: 'lecture', 9811: 'dioxide', 9812: 'emitted', 9813: 'chemicals', 9814: 'apples', 9815: 'cook', 9816: 'lindsay', 9817: 'parkhurst', 9818: 'intervenors', 9819: 'falk', 9820: 'continent', 9821: 'redesigned', 9822: 'mcmansion', 9823: 'comparison', 9824: '170', 9825: 'funnels', 9826: 'morning', 9827: 'hln', 9828: 'recalled', 9829: 'backrooms', 9830: 'rodent', 9831: 'infestations', 9832: 'drainage', 9833: 'ditch', 9834: 'navigable', 9835: 'thus', 9836: 'wheretheres', 9837: 'syndicate', 9838: 'extorting', 9839: 'ganleys', 9840: 'fbis', 9841: 'hiding', 9842: 'disclosed', 9843: 'believeinsocialism', 9844: 'chores', 9845: 'observer', 9846: 'acquisition', 9847: 'mcnultys', 9848: 'orp', 9849: 'erode', 9850: 'towpath', 9851: 'canal', 9852: 'loyalty', 9853: 'oath', 9854: 'maxine', 9855: 'calif', 9856: 'retract', 9857: 'gonzalo', 9858: 'curiel', 9859: 'outlive', 9860: 'fertility', 9861: 'woodstock', 9862: 'concert', 9863: 'contends', 9864: 'endorses', 9865: 'broader', 9866: 'rampant', 9867: 'redevelop', 9868: 'menomonee', 9869: 'jurors', 9870: 'witnesses', 9871: 'trials', 9872: 'excuse', 9873: 'boccieris', 9874: 'irregular', 9875: 'schedules', 9876: 'undeniable', 9877: 'greensboro', 9878: 'revive', 9879: 'faltering', 9880: 'microchips', 9881: 'seceding', 9882: 'thecbo', 9883: 'saysthe', 9884: 'originallyprojected', 9885: 'heath', 9886: 'broadcast', 9887: 'metrics', 9888: 'hover', 9889: 'terroristsfriends', 9890: 'girlfriends', 9891: 'stateswere', 9892: 'viewisis', 9893: 'favorably', 9894: 'unfortunately', 9895: 'rivera', 9896: 'spencer', 9897: 'bachus', 9898: 'percentincrease', 9899: 'heterosexual', 9900: 'overstaying', 9901: 'strict', 9902: 'jumpstarting', 9903: 'propose', 9904: 'trickle', 9905: 'tankers', 9906: 'pipelines', 9907: 'meets', 9908: 'greenland', 9909: 'melted', 9910: 'satellite', 9911: 'observation', 9912: 'thawed', 9913: 'ny', 9914: 'overcounts', 9915: 'compilation', 9916: '9427', 9917: 'saypresident', 9918: '137', 9919: 'helpless', 9920: 'slept', 9921: '431', 9922: 'begged', 9923: 'landed', 9924: 'greet', 9925: 'prestigious', 9926: 'josef', 9927: 'stalin', 9928: 'replicate', 9929: 'billed', 9930: 'revolving', 9931: 'blankfein', 9932: 'janice', 9933: 'hahn', 9934: 'wikipedia', 9935: 'unequal', 9936: 'distribution', 9937: 'nunns', 9938: 'addictive', 9939: 'chafee', 9940: 'pam', 9941: 'bondi', 9942: 'indicator', 9943: 'ratios', 9944: 'portugal', 9945: 'smallest', 9946: 'wwii', 9947: 'wwi', 9948: 'residence', 9949: 'realistic', 9950: 'populationin', 9951: 'workman', 9952: 'hungry', 9953: 'insiders', 9954: 'ibm', 9955: 'translates', 9956: 'occupant', 9957: 'impeach', 9958: '1998', 9959: 'graders', 9960: 'streetsign', 9961: 'accountant', 9962: 'reclaimed', 9963: 'complex', 9964: 'propositions', 9965: 'musical', 9966: 'heritage', 9967: 'griffith', 9968: 'officeholders', 9969: 'sanctioned', 9970: '270', 9971: '3400', 9972: 'shortest', 9973: 'intrusive', 9974: 'donating', 9975: 'uniform', 9976: 'entanglements', 9977: 'disagreed', 9978: 'saidhewould', 9979: 'neutral', 9980: 'physical', 9981: 'fitness', 9982: 'reimbursement', 9983: 'ciancis', 9984: 'plotted', 9985: '902', 9986: '2022', 9987: 'hardworking', 9988: 'virginians', 9989: 'tennesseans', 9990: 'swiss', 9991: 'ring', 9992: 'surveyed', 9993: 'deqs', 9994: 'disproportionate', 9995: 'robbed', 9996: 'dui', 9997: 'thwarted', 9998: 'pediatricians', 9999: 'proximity', 10000: 'thc', 10001: 'surpass', 10002: 'lifeby', 10003: 'apostle', 10004: 'lakeshore', 10005: 'caves', 10006: 'scraping', 10007: 'prescribers', 10008: 'oxycodone', 10009: '02', 10010: 'importing', 10011: 'dairyland', 10012: 'cheesemakers', 10013: 'bankrupting', 10014: 'answers', 10015: 'truthful', 10016: '420000', 10017: 'barber', 10018: 'longthe', 10019: 'wasgovernor', 10020: 'seizing', 10021: 'bibles', 10022: 'tractor', 10023: '6200', 10024: 'teens', 10025: 'corey', 10026: 'stewart', 10027: 'mcginty', 10028: 'alarming', 10029: 'undercurrent', 10030: 'misinformed', 10031: 'metric', 10032: 'batting', 10033: 'instill', 10034: 'determined', 10035: 'attitudes', 10036: 'mindsets', 10037: 'trailing', 10038: 'ratification', 10039: 'treaties', 10040: 'gloria', 10041: 'steinem', 10042: 'impersonator', 10043: 'nolan', 10044: 'harmony', 10045: 'liberties', 10046: 'telecast', 10047: 'proceedings', 10048: 'enrolling', 10049: 'triggers', 10050: 'designation', 10051: 'guzzling', 10052: 'dinosaurs', 10053: 'waited', 10054: 'reject', 10055: 'constant', 10056: 'sore', 10057: 'infects', 10058: 'teenaged', 10059: 'locker', 10060: 'kick', 10061: 'bioweapon', 10062: 'gmo', 10063: 'mosquitos', 10064: 'mileage', 10065: 'suv', 10066: 'citrus', 10067: 'landfill', 10068: 'nashua', 10069: 'cited', 10070: '3c', 10071: 'passengers', 10072: '1935', 10073: 'somali', 10074: 'delaware', 10075: 'weatherization', 10076: 'fits', 10077: 'algeria', 10078: 'oman', 10079: 'lights', 10080: 'shelly', 10081: 'moore', 10082: 'withdrawn', 10083: 'transferred', 10084: 'delivery', 10085: 'draws', 10086: '405', 10087: 'hasner', 10088: 'unequivocal', 10089: 'juice', 10090: 'drinks', 10091: 'disproportionately', 10092: 'addressing', 10093: 'kip', 10094: 'kinkel', 10095: 'rita', 10096: 'difficulties', 10097: 'penalize', 10098: 'criminalize', 10099: 'constrained', 10100: 'firstenergys', 10101: 'kyrgyzstan', 10102: 'iceland', 10103: 'predecessor', 10104: 'libertarian', 10105: 'youths', 10106: 'glarus', 10107: 'brewing', 10108: 'cos', 10109: 'spotted', 10110: 'cow', 10111: 'mahlon', 10112: 'boycott', 10113: 'content', 10114: 'speakers', 10115: 'radicalized', 10116: 'waushara', 10117: '2020', 10118: 'seth', 10119: 'magaziner', 10120: 'retrofitted', 10121: 'educational', 10122: 'jtrump', 10123: 'foundations', 10124: 'commented', 10125: 'lists', 10126: '41200', 10127: 'battery', 10128: 'screwdriver', 10129: 'pressurized', 10130: 'hose', 10131: 'hosni', 10132: 'mubaraks', 10133: 'besides', 10134: 'homeowner', 10135: 'headlines', 10136: 'syrians', 10137: 'laredo', 10138: 'connections', 10139: 'defaulted', 10140: 'oclock', 10141: 'misquoted', 10142: 'promptly', 10143: 'scenario', 10144: 'minded', 10145: 'govern', 10146: 'sovereign', 10147: 'promotes', 10148: 'chart', 10149: 'photographed', 10150: 'fear', 10151: 'sons', 10152: 'robs', 10153: 'toe', 10154: 'russias', 10155: 'stockpile', 10156: 'nearlyone', 10157: 'enactment', 10158: 'barr', 10159: 'louisianas', 10160: 'titled', 10161: 'orleans', 10162: 'patty', 10163: 'prolific', 10164: 'slowdown', 10165: 'exporter', 10166: 'agricultural', 10167: 'gramm', 10168: 'architect', 10169: 'wi', 10170: 'institutionalization', 10171: 'developmental', 10172: 'spillover', 10173: 'escalating', 10174: 'mcconnellwhat', 10175: 'paula', 10176: 'deen', 10177: '1600', 10178: 'creflo', 10179: 'percentlower', 10180: 'says76', 10181: 'weld', 10182: 'develop', 10183: 'upstream', 10184: 'windfall', 10185: 'councilor', 10186: 'swindled', 10187: 'funnel', 10188: 'debo', 10189: 'adegbile', 10190: 'circuit', 10191: 'abruptly', 10192: 'pls', 10193: 'refer', 10194: 'hodes', 10195: 'palestinians', 10196: 'killeen', 10197: 'corrupted', 10198: 'macys', 10199: 'poliquin', 10200: 'tier', 10201: 'ut', 10202: '540', 10203: 'wandering', 10204: 'antitrust', 10205: 'pow', 10206: 'fashioning', 10207: 'inspirational', 10208: 'symbol', 10209: 'pows', 10210: 'mt', 10211: 'lessen', 10212: 'satisfaction', 10213: 'convert', 10214: 'empty', 10215: 'controlling', 10216: 'guarantees', 10217: 'lap', 10218: 'pound', 10219: 'mph', 10220: 'packs', 10221: 'punch', 10222: 'austinites', 10223: 'regions', 10224: 'priests', 10225: 'beheaded', 10226: 'removes', 10227: 'peachtree', 10228: 'pine', 10229: 'matters', 10230: 'kidney', 10231: 'binge', 10232: 'manipulation', 10233: 'inflated', 10234: 'playboy', 10235: 'networking', 10236: 'needless', 10237: 'pure', 10238: 'katy', 10239: 'freeway', 10240: 'widest', 10241: 'frontage', 10242: 'dumps', 10243: 'upgraded', 10244: 'immigrate', 10245: 'moammar', 10246: 'gadhafi', 10247: 'westchester', 10248: '271', 10249: 'discredited', 10250: 'refinanced', 10251: '2326', 10252: 'uphold', 10253: 'dcs', 10254: '136', 10255: '76800', 10256: 'busted', 10257: 'polled', 10258: 'impression', 10259: 'swift', 10260: 'mindless', 10261: 'drawdown', 10262: 'burdensome', 10263: '120', 10264: 'cashier', 10265: '680', 10266: 'converted', 10267: 'christianity', 10268: 'walgreens', 10269: 'outlaws', 10270: 'arvada', 10271: 'hydrogen', 10272: 'sulfide', 10273: 'tailgating', 10274: 'glass', 10275: 'steagall', 10276: '454260', 10277: 'comprise', 10278: 'boarding', 10279: 'dynamite', 10280: 'miscarry', 10281: 'husted', 10282: 'steakhouses', 10283: 'is3', 10284: 'taller', 10285: 'gulag', 10286: 'fiscally', 10287: 'pridemore', 10288: 'missiles', 10289: 'prize', 10290: 'winners', 10291: 'afloat', 10292: 'fat', 10293: 'avowed', 10294: 'exempting', 10295: 'sticking', 10296: 'jammed', 10297: 'neighbor', 10298: 'chickens', 10299: 'unturned', 10300: 'tighten', 10301: 'belts', 10302: 'aaa', 10303: 'grassley', 10304: 'negligent', 10305: 'loading', 10306: 'iq', 10307: 'spew', 10308: 'deepwaters', 10309: 'zandi', 10310: 'solo', 10311: 'ingles', 10312: 'hungriest', 10313: 'measurably', 10314: 'excise', 10315: 'aredisproportionately', 10316: 'burdening', 10317: 'tabulation', 10318: 'machine', 10319: 'payouts', 10320: 'secretaries', 10321: 'persisting', 10322: 'succeeding', 10323: 'valuable', 10324: '520000', 10325: 'ukrainians', 10326: 'absentee', 10327: 'climb', 10328: 'ladder', 10329: '328', 10330: 'disasters', 10331: 'spares', 10332: 'unused', 10333: 'sixteen', 10334: 'empowered', 10335: 'postage', 10336: 'gavel', 10337: 'utilities', 10338: 'consumed', 10339: 'percentjon', 10340: 'bonditold', 10341: 'tracker', 10342: 'fivethirtyeight', 10343: 'whoever', 10344: 'salmon', 10345: 'handles', 10346: 'saltwater', 10347: 'ustax', 10348: '446', 10349: 'highways', 10350: 'lord', 10351: 'calamity', 10352: 'saidthe', 10353: 'concedes', 10354: 'painting', 10355: 'baiting', 10356: 'liberty', 10357: 'penitentiaries', 10358: 'slim', 10359: 'jims', 10360: 'embellished', 10361: '47500', 10362: 'disposable', 10363: 'locking', 10364: 'estonia', 10365: 'neglect', 10366: 'meth', 10367: 'chet', 10368: 'theatrically', 10369: 'stopgap', 10370: 'declaring', 10371: 'churches', 10372: 'underperformed', 10373: 'transporting', 10374: 'windfarm', 10375: 'impressive', 10376: 'wisely', 10377: 'soglins', 10378: 'intent', 10379: 'discourage', 10380: 'doe', 10381: 'investigations', 10382: 'exceptions', 10383: 'evey', 10384: 'instituted', 10385: 'allegiance', 10386: 'interceptions', 10387: 'tackles', 10388: 'defensive', 10389: 'involuntarily', 10390: 'baker', 10391: 'dischargeand', 10392: 'curbs', 10393: 'freeing', 10394: 'proudly', 10395: 'features', 10396: 'component', 10397: 'aspects', 10398: 'blanket', 10399: 'lightning', 10400: 'thanfind', 10401: 'nras', 10402: 'weakened', 10403: 'doubles', 10404: 'triples', 10405: 'heatstroke', 10406: 'deployment', 10407: 'liberia', 10408: 'mall', 10409: 'embedded', 10410: 'hits', 10411: 'sanford', 10412: 'organize', 10413: 'manage', 10414: 'rallies', 10415: 'zimmerman', 10416: 'psychologists', 10417: 'affordability', 10418: 'warns', 10419: 'taxman', 10420: 'cometh', 10421: 'enterprise', 10422: 'strawberry', 10423: 'rough', 10424: 'visible', 10425: 'keepsome', 10426: 'hoarding', 10427: 'feral', 10428: 'modest', 10429: 'abroad', 10430: 'falsely', 10431: 'dccitycouncilpasseda', 10432: 'lawbanninglethalrat', 10433: 'trapping', 10434: 'cooper', 10435: 'fran', 10436: 'dewines', 10437: 'scratch', 10438: 'rarely', 10439: 'kings', 10440: 'crack', 10441: 'kohls', 10442: 'discriminatory', 10443: 'scoring', 10444: 'mathematics', 10445: 'ensures', 10446: 'preservation', 10447: 'farmland', 10448: 'foroil', 10449: 'alwaleed', 10450: 'talal', 10451: 'acceleration', 10452: 'depressed', 10453: 'antidepressant', 10454: 'prototype', 10455: 'garages', 10456: 'arizonans', 10457: 'sacrificing', 10458: 'wrongly', 10459: 'conveyed', 10460: 'stance', 10461: 'infected', 10462: 'questionable', 10463: 'dividends', 10464: 'withheld', 10465: 'document', 10466: 'seizure', 10467: 'revoke', 10468: 'norbert', 10469: 'fool', 10470: 'amending', 10471: 'metering', 10472: 'mickey', 10473: 'mouse', 10474: 'adolf', 10475: 'valid', 10476: 'signatures', 10477: 'cruzsname', 10478: 'prohibition', 10479: 'apex', 10480: 'longstanding', 10481: 'sidewalks', 10482: 'neglected', 10483: 'maintenance', 10484: 'anheuser', 10485: 'busch', 10486: 'reserving', 10487: 'layer', 10488: 'hayne', 10489: 'outfitters', 10490: 'miss', 10491: 'universe', 10492: 'pageant', 10493: 'defrauded', 10494: 'abortionists', 10495: '1789', 10496: 'fromcalifornia', 10497: 'stripping', 10498: 'hawaiian', 10499: 'indicates', 10500: 'definition', 10501: 'monarch', 10502: 'butterflies', 10503: 'extinct', 10504: 'withstand', 10505: 'pesticides', 10506: 'egypts', 10507: 'rex', 10508: 'yorkthe', 10509: 'afc', 10510: 'preventative', 10511: 'wellness', 10512: 'checkups', 10513: 'interestspoliticians', 10514: 'steelworkers', 10515: 'buried', 10516: 'fundraisers', 10517: 'tenet', 10518: 'notice', 10519: 'horn', 10520: '92000', 10521: 'ballooned', 10522: 'austinincluding', 10523: 'anderson', 10524: 'definitions', 10525: 'taliban', 10526: 'loosely', 10527: 'robinson', 10528: 'gauges', 10529: 'measuring', 10530: '1930', 10531: 'beirut', 10532: 'barracks', 10533: 'skew', 10534: 'smokers', 10535: 'elizabeth', 10536: 'mvc', 10537: 'earmarker', 10538: '220000', 10539: 'renovate', 10540: 'blueberry', 10541: 'snowmobile', 10542: 'cousin', 10543: 'happily', 10544: 'suspending', 10545: '385', 10546: '615', 10547: 'dictionary', 10548: 'happiness', 10549: 'loaned', 10550: '103000', 10551: 'reinstate', 10552: 'goeb', 10553: 'debts', 10554: 'custody', 10555: 'outweighs', 10556: 'cumberland', 10557: 'pedophiles', 10558: 'farmer', 10559: 'vegetation', 10560: 'superdelegates', 10561: 'bloggers', 10562: 'voicing', 10563: 'frustration', 10564: 'discontent', 10565: 'administrators', 10566: 'explicit', 10567: 'myriad', 10568: 'boy', 10569: 'scouts', 10570: 'speedy', 10571: 'abolishes', 10572: 'lgbt', 10573: 'friendship', 10574: 'felon', 10575: 'trick', 10576: 'jobs4tn', 10577: '739', 10578: 'persists', 10579: 'negating', 10580: 'affects', 10581: 'accruals', 10582: 'counterterrorism', 10583: 'granholm', 10584: 'crashed', 10585: 'masters', 10586: 'gladly', 10587: 'violentunder', 10588: 'admin', 10589: 'marcia', 10590: 'fudge', 10591: 'wrapped', 10592: 'pallets', 10593: 'runaway', 10594: 'ailments', 10595: 'muscle', 10596: 'spasms', 10597: 'neck', 10598: 'menstrual', 10599: 'cramps', 10600: 'sneeze', 10601: 'bishops', 10602: '1919', 10603: 'garlandvoted', 10604: 'fundamental', 10605: 'kentuckian', 10606: 'minorities', 10607: 'molesters', 10608: '1904', 10609: 'victor', 10610: '102000', 10611: 'contenders', 10612: 'introduce', 10613: 'creationism', 10614: 'invites', 10615: 'affluent', 10616: 'fanatical', 10617: 'amidst', 10618: 'confronted', 10619: 'rigell', 10620: 'inform', 10621: 'absence', 10622: 'olens', 10623: 'lazy', 10624: 'offenses', 10625: 'overtesting', 10626: 'decreasing', 10627: 'burton', 10628: '378000', 10629: '283', 10630: 'websites', 10631: 'plates', 10632: 'peta', 10633: 'achieving', 10634: 'installations', 10635: 'americanstheyre', 10636: 'objection', 10637: 'alfred', 10638: 'brissette', 10639: 'unusual', 10640: 'thanthe', 10641: 'severance', 10642: 'sky', 10643: 'dep', 10644: '2812', 10645: 'faucet', 10646: '1absentee', 10647: 'grandfathered', 10648: 'motorist', 10649: 'sentence', 10650: 'airstrikes', 10651: 'missions', 10652: 'equally', 10653: 'surged', 10654: 'isissends', 10655: 'crises', 10656: 'koreahas', 10657: 'dozennuclear', 10658: 'closings', 10659: 'suicides', 10660: 'raila', 10661: 'odinga', 10662: 'videotape', 10663: 'rocky', 10664: 'curfew', 10665: 'ordinances', 10666: 'merkley', 10667: 'unmitigated', 10668: 'sodas', 10669: 'iced', 10670: 'teas', 10671: 'flavored', 10672: 'unchecked', 10673: 'diversions', 10674: 'abillion', 10675: 'dollarsout', 10676: 'exacerbated', 10677: 'sadly', 10678: 'turnouts', 10679: 'sponsors', 10680: 'birds', 10681: 'uploaded', 10682: 'selectively', 10683: 'editing', 10684: 'wordsbiden', 10685: 'spine', 10686: 'coordinator', 10687: 'hooters', 10688: 'derail', 10689: 'energized', 10690: 'tab', 10691: 'laundered', 10692: 'laureate', 10693: 'honorary', 10694: 'nsa', 10695: 'distortedwhat', 10696: 'rents', 10697: 'lego', 10698: 'insidious', 10699: 'futile', 10700: 'vitter', 10701: 'activates', 10702: 'anticipation', 10703: 'furloughed', 10704: 'reimbursable', 10705: 'fema', 10706: 'lenient', 10707: 'limitless', 10708: 'specified', 10709: 'ismore', 10710: 'appropriated', 10711: 'transcripts', 10712: 'oral', 10713: 'arguments', 10714: 'antonin', 10715: 'scalia', 10716: 'jokes', 10717: 'laughs', 10718: 'raids', 10719: 'dhs', 10720: 'pew', 10721: 'oppressive', 10722: 'narrowed', 10723: 'cop', 10724: 'thereabout', 10725: 'marshals', 10726: 'rangers', 10727: 'hillaryclintons', 10728: 'knights', 10729: 'ceremonies', 10730: 'bombings', 10731: 'scramble', 10732: 'beyonce', 10733: 'eddie', 10734: 'bernice', 10735: 'quietly', 10736: 'mcauliffes', 10737: 'krolicki', 10738: 'annuity', 10739: 'celilo', 10740: 'intimate', 10741: 'vest', 10742: 'groped', 10743: '2694', 10744: '1773', 10745: 'newports', 10746: 'fleeing', 10747: 'tuitions', 10748: 'collegeshave', 10749: 'naming', 10750: 'cancel', 10751: 'waldens', 10752: '115000', 10753: 'evaluation', 10754: 'colas', 10755: 'finds', 10756: 'ate', 10757: 'agreeing', 10758: 'derailed', 10759: 'paved', 10760: 'gravel', 10761: 'inheritance', 10762: 'pollsno', 10763: '08', 10764: 'obrien', 10765: 'sayreville', 10766: '22081', 10767: 'quipped', 10768: 'envision', 10769: 'reneging', 10770: 'schip', 10771: 'cairo', 10772: 'experiences', 10773: 'jong', 10774: 'harwood', 10775: '5802json', 10776: 'budgetjob', 10777: '6153json', 10778: 'economyincomejobs', 10779: '6515json', 10780: 'energyfederal', 10781: 'budgetstimulus', 10782: 'crossroads', 10783: '385json', 10784: 'westerville', 10785: '10932json', 10786: 'exam', 10787: 'educationgovernment', 10788: 'regulationjob', 10789: 'accomplishmentslaborunions', 10790: '5076json', 10791: 'editorial', 10792: '12189json', 10793: 'caremedicaid', 10794: 'heckler', 10795: 'activist', 10796: 'mom', 10797: 'confrontation', 10798: '945json', 10799: 'magnetic', 10800: 'levitation', 10801: 'halvorson', 10802: 'navigators', 10803: 'maneuver', 10804: 'processes', 10805: 'filing', 10806: 'saysjosh', 10807: 'smartphones', 10808: 'ugly', 10809: 'wider', 10810: 'wells', 10811: 'hating', 10812: 'eckhardt', 10813: 'becomes', 10814: 'prosecute', 10815: 'cyber', 10816: 'harass', 10817: 'cordrays', 10818: 'marks', 10819: 'blaspheming', 10820: 'mohammad', 10821: 'feeding', 10822: 'commended', 10823: 'cleaner', 10824: 'ruins', 10825: 'reign', 10826: 'exponential', 10827: 'ticketing', 10828: 'catholics', 10829: 'unger', 10830: 'busting', 10831: 'badgercare', 10832: 'coggs', 10833: 'classify', 10834: 'specter', 10835: 'fiorinas', 10836: 'felipe', 10837: 'calderon', 10838: 'exempted', 10839: '2403', 10840: 'acknowledges', 10841: 'purchasers', 10842: '16th', 10843: 'shellfish', 10844: 'incandescent', 10845: 'bulb', 10846: 'partys', 10847: 'selected', 10848: 'imitation', 10849: 'laurie', 10850: 'monnes', 10851: 'appealing', 10852: '20s', 10853: 'substantially', 10854: 'perpetuity', 10855: 'socially', 10856: 'juarez', 10857: 'gimmick', 10858: 'swaziland', 10859: 'infection', 10860: '1729000000', 10861: 'isner', 10862: 'mahut', 10863: 'cuellar', 10864: 'incarcerated', 10865: 'harshness', 10866: 'neversaid', 10867: 'opinions', 10868: 'grandmother', 10869: 'judithanne', 10870: 'mclauchlan', 10871: '765828', 10872: 'pancakes', 10873: 'yuppies', 10874: '675000', 10875: 'dna', 10876: 'liechtenstein', 10877: 'luxembourg', 10878: 'grabbed', 10879: 'regulation21', 10880: 'municipalities', 10881: '332', 10882: 'sympathetic', 10883: 'lesbians', 10884: 'brewpubs', 10885: 'growlers', 10886: 'est', 10887: 'bi', 10888: 'paperwork', 10889: 'absorb', 10890: '190', 10891: 'mount', 10892: 'rushmore', 10893: '1547', 10894: 'remedial', 10895: '300000000', 10896: 'andrubio', 10897: 'sgt', 10898: 'hardest', 10899: 'topfive', 10900: 'staged', 10901: 'exercised', 10902: 'cup', 10903: 'commissioned', 10904: 'inconvenient', 10905: 'attackers', 10906: 'mixed', 10907: 'buybacks', 10908: 'burglary', 10909: 'decriminalized', 10910: 'coffee', 10911: 'elephant', 10912: 'ivory', 10913: 'tusks', 10914: 'raisingis', 10915: 'organizer', 10916: '66000', 10917: '112', 10918: 'utter', 10919: 'semblance', 10920: 'sittons', 10921: 'carts', 10922: 'umatilla', 10923: 'title', 10924: 'ix', 10925: 'megyn', 10926: 'specifying', 10927: 'monica', 10928: 'wehby', 10929: 'conger', 10930: 'consequences', 10931: 'ejected', 10932: 'husseins', 10933: 'kuwait', 10934: 'kuwaitis', 10935: 'waved', 10936: 'vaticans', 10937: 'afforded', 10938: 'rezko', 10939: 'skips', 10940: 'fatah', 10941: 'territory', 10942: '5th', 10943: 'confer', 10944: 'phds', 10945: 'berkeley', 10946: 'mullahs', 10947: '444', 10948: 'stake', 10949: 'barnett', 10950: 'portends', 10951: 'horrific', 10952: 'situations', 10953: 'inventing', 10954: 'alot', 10955: 'unauthorized', 10956: 'tribuneseditorial', 10957: 'comptroller', 10958: 'leslie', 10959: 'munger', 10960: 'backing', 10961: 'conocophillips', 10962: 'exxonmobil', 10963: '5500', 10964: '83347', 10965: 'assessment', 10966: 'beneficiary', 10967: 'fourteen', 10968: 'disagreeing', 10969: 'audiences', 10970: 'doctrine', 10971: 'allocate', 10972: 'satisfy', 10973: 'enable', 10974: 'civilians', 10975: 'kiss', 10976: 'goodbye', 10977: 'toothache', 10978: 'frishe', 10979: 'roof', 10980: 'exemption', 10981: 'ancient', 10982: 'babylonians', 10983: 'compass', 10984: 'pens', 10985: 'discoveries', 10986: 'neumann', 10987: 'mayweather', 10988: 'pacquiao', 10989: 'bonding', 10990: 'distortions', 10991: 'sarswas', 10992: 'heartless', 10993: 'outlived', 10994: 'usefulness', 10995: 'vital', 10996: 'distinctions', 10997: 'load', 10998: '1915', 10999: 'rushing', 11000: 'gao', 11001: 'disposal', 11002: 'wastes', 11003: 'ashbritt', 11004: 'contaminated', 11005: 'superfund', 11006: 'sanitation', 11007: 'repeals', 11008: 'shuts', 11009: 'accrue', 11010: 'gattaca', 11011: 'ripped', 11012: 'astronauts', 11013: 'stagnant', 11014: 'wonhealth', 11015: 'surgery', 11016: 'disparities', 11017: 'cooperate', 11018: 'locating', 11019: 'breweries', 11020: 'pint', 11021: 'careand', 11022: 'prediction', 11023: 'donovan', 11024: 'equity', 11025: 'deepwater', 11026: 'admire', 11027: 'beck', 11028: 'grandparents', 11029: 'immigrated', 11030: '482', 11031: '73000', 11032: 'northam', 11033: 'label', 11034: 'racists', 11035: 'graveyard', 11036: 'ankle', 11037: 'loud', 11038: 'yell', 11039: 'courtroom', 11040: 'massaged', 11041: 'doctored', 11042: 'printed', 11043: '141', 11044: 'pile', 11045: 'weigh', 11046: '292', 11047: 'bloc', 11048: 'mavericks', 11049: 'copycat', 11050: 'tohave', 11051: 'inaccuracies', 11052: 'automated', 11053: 'shipment', 11054: 'wine', 11055: 'click', 11056: 'limousines', 11057: 'likud', 11058: 'israelfor', 11059: 'exclude', 11060: 'wahhabism', 11061: 'devil', 11062: 'riots', 11063: 'inserted', 11064: 'researchers', 11065: 'cruelty', 11066: 'kaines', 11067: 'texan', 11068: 'reaffirmed', 11069: 'intention', 11070: 'preconditions', 11071: 'civilized', 11072: 'provincial', 11073: 'endangered', 11074: 'tamper', 11075: 'thumbprint', 11076: 'embossed', 11077: 'hologram', 11078: 'arkansasamendment', 11079: 'begins', 11080: 'nonstop', 11081: 'anthony', 11082: 'medications', 11083: 'wedc', 11084: 'beaumont', 11085: 'sox', 11086: 'playoffs', 11087: 'distinction', 11088: 'availability', 11089: 'sununus', 11090: 'accessed', 11091: 'overlooked', 11092: 'concussion', 11093: 'stream', 11094: 'occurring', 11095: 'handout', 11096: 'budgeted', 11097: 'congested', 11098: 'yuma', 11099: 'moms', 11100: 'starving', 11101: 'skyline', 11102: 'dominated', 11103: 'cranes', 11104: 'notices', 11105: 'underfunded', 11106: 'reference', 11107: 'almighty', 11108: 'bending', 11109: '21174396', 11110: 'authorizes', 11111: 'crc', 11112: 'dewhursts', 11113: 'photos', 11114: 'prove', 11115: 'smoker', 11116: 'quits', 11117: '1650', 11118: 'disney', 11119: 'happ', 11120: 'assists', 11121: 'dominant', 11122: 'lynching', 11123: 'cellular', 11124: 'mow', 11125: 'grass', 11126: '1961', 11127: 'wherever', 11128: 'enrich', 11129: 'legler', 11130: 'installing', 11131: 'sprinklers', 11132: 'generators', 11133: 'boomers', 11134: 'flowing', 11135: 'dynamic', 11136: '106', 11137: 'unsuccessfully', 11138: '466', 11139: 'diagnosis', 11140: 'plouffe', 11141: 'piles', 11142: 'wallace', 11143: 'swings', 11144: 'allocation', 11145: 'advertises', 11146: 'preach', 11147: 'performance', 11148: 'palm', 11149: 'energies', 11150: 'enjoys', 11151: 'involves', 11152: 'restricting', 11153: 'pip', 11154: 'afghan', 11155: 'shrank', 11156: 'shoes', 11157: 'ifmercury', 11158: 'pattern', 11159: 'ducking', 11160: 'jihadists', 11161: 'swim', 11162: 'saysted', 11163: 'nude', 11164: 'melania', 11165: 'slowly', 11166: 'gradually', 11167: 'inauguration', 11168: '37000', 11169: 'rangel', 11170: '50000000', 11171: 'breakup', 11172: 'geopolitical', 11173: 'tragedy', 11174: 'washingtons', 11175: 'extends', 11176: 'beneath', 11177: 'oceans', 11178: 'finest', 11179: 'desjarlais', 11180: 'sanitary', 11181: 'harshest', 11182: 'generosity', 11183: 'sweater', 11184: 'vets', 11185: 'cheats', 11186: '78702', 11187: 'gentrified', 11188: 'fares', 11189: '219000', 11190: 'deserted', 11191: 'deans', 11192: 'ranger', 11193: 'recon', 11194: 'introducing', 11195: 'omitted', 11196: 'holy', 11197: 'communion', 11198: 'horror', 11199: 'sympathy', 11200: 'unnecessary', 11201: 'philando', 11202: 'castile', 11203: 'chase', 11204: 'proactive', 11205: 'rode', 11206: 'serial', 11207: 'polluter', 11208: 'polluting', 11209: 'disappointment', 11210: 'pig', 11211: 'natalyn', 11212: 'archibong', 11213: 'abill', 11214: 'havechanged', 11215: 'manufactured', 11216: 'nih', 11217: 'origami', 11218: 'usas', 11219: 'friedan', 11220: 'icons', 11221: 'emulate', 11222: 'upper', 11223: 'evading', 11224: 'monkey', 11225: 'sealed', 11226: 'nonessential', 11227: 'dakotas', 11228: 'reeling', 11229: 'reporter', 11230: 'failings', 11231: 'bikes', 11232: 'weinstein', 11233: 'cadets', 11234: 'julie', 11235: 'parrish', 11236: 'clay', 11237: 'unchanged', 11238: 'aired', 11239: 'inspector', 11240: '747', 11241: 'sneak', 11242: 'threw', 11243: 'dine', 11244: 'barring', 11245: 'hats', 11246: 'dates', 11247: 'easiest', 11248: 'recite', 11249: 'sayssenate', 11250: 'simulation', 11251: 'conceive', 11252: 'hindus', 11253: 'buddhists', 11254: 'controllers', 11255: 'tanking', 11256: 'sylvia', 11257: 'elyse', 11258: 'lanier', 11259: 'moneythey', 11260: 'interim', 11261: 'legislationto', 11262: 'formammograms', 11263: 'imagery', 11264: 'describe', 11265: 'scholarly', 11266: 'articles', 11267: 'procedural', 11268: 'viktor', 11269: 'yanukovych', 11270: 'opted', 11271: 'informed', 11272: 'owed', 11273: 'warmest', 11274: 'prosser', 11275: 'prejudges', 11276: 'editor', 11277: 'levying', 11278: 'liaison', 11279: 'route', 11280: 'affirm', 11281: 'addressed', 11282: 'reductions', 11283: 'sharpton', 11284: 'posed', 11285: 'armies', 11286: 'useless', 11287: 'monoxide', 11288: 'fosters', 11289: 'kirks', 11290: 'expertise', 11291: 'bishop', 11292: 'rainfall', 11293: 'averages', 11294: 'aa', 11295: 'thedford', 11296: 'speculative', 11297: 'namely', 11298: 'reinstating', 11299: 'exploit', 11300: 'celebrities', 11301: 'hot', 11302: 'handsomely', 11303: 'patently', 11304: 'unjust', 11305: 'governorwe', 11306: '535', 11307: '005', 11308: 'endowment', 11309: 'rosemary', 11310: 'lehmberg', 11311: 'bottles', 11312: 'saysmichele', 11313: 'pluto', 11314: 'astronomical', 11315: 'planetary', 11316: 'declassified', 11317: 'sun', 11318: 'themed', 11319: 'apologies', 11320: 'camilo', 11321: 'maria', 11322: 'languageif', 11323: 'characteristics', 11324: 'mirror', 11325: 'earths', 11326: 'habitability', 11327: 'frozen', 11328: 'wolfe', 11329: 'mu', 11330: 'homecoming', 11331: 'parade', 11332: 'jump', 11333: 'diverted', 11334: 'misuse', 11335: 'overspend', 11336: 'phasing', 11337: 'duckworth', 11338: 'doma', 11339: 'legalize', 11340: 'confidently', 11341: 'cathy', 11342: 'jordan', 11343: 'swat', 11344: 'hooligans', 11345: 'complied', 11346: 'causingclimate', 11347: 'intergovernmental', 11348: '431000', 11349: 'manchester', 11350: 'gatsas', 11351: 'bernies', 11352: 'soul', 11353: 'txdems', 11354: 'tx', 11355: 'recusing', 11356: 'shariah', 11357: 'cvs', 11358: 'pulls', 11359: 'curtain', 11360: 'tragically', 11361: 'recyclers', 11362: 'recycle', 11363: 'plastic', 11364: 'protects', 11365: 'biography', 11366: 'rotc', 11367: 'stakes', 11368: 'fisa', 11369: 'precipitous', 11370: 'rnc', 11371: 'yost', 11372: 'moyouve', 11373: 'threeblack', 11374: 'dold', 11375: 'consideration', 11376: 'salvador', 11377: 'guatemala', 11378: 'amniocentesis', 11379: 'functioning', 11380: 'stoves', 11381: 'certified', 11382: 'cruzswife', 11383: 'heidi', 11384: 'superpower', 11385: 'sole', 11386: 'earner', 11387: 'tend', 11388: '65th', 11389: 'territories', 11390: 'ufos', 11391: '133000', 11392: 'subpoena', 11393: 'delete', 11394: 'zephyr', 11395: 'teachout', 11396: 'flowers', 11397: 'forecasting', 11398: 'hampshires', 11399: 'warrantless', 11400: 'wiretapping', 11401: 'graffiti', 11402: 'sidewalk', 11403: 'stenciled', 11404: 'images', 11405: 'smeared', 11406: 'statue', 11407: 'crazy', 11408: 'mequon', 11409: 'disparity', 11410: 'prekindergarten', 11411: 'erupted', 11412: 'sunny', 11413: 'carve', 11414: 'agendas', 11415: 'valentine', 11416: 'roses', 11417: 'violets', 11418: 'pause', 11419: 'resettlement', 11420: '4154', 11421: 'necessarily', 11422: 'statutes', 11423: 'moves', 11424: 'patents', 11425: 'revolutionized', 11426: '133600', 11427: 'mitigation', 11428: 'cleanup', 11429: 'rebuilding', 11430: 'republicansenators', 11431: 'theislamic', 11432: 'dealership', 11433: 'pamphlet', 11434: 'mentions', 11435: 'prosecuting', 11436: 'lip', 11437: 'instructor', 11438: 'deaf', 11439: 'damn', 11440: 'uncle', 11441: 'auschwitz', 11442: 'liberate', 11443: 'concentration', 11444: 'dec', 11445: 'holdings', 11446: 'greatly', 11447: 'weakens', 11448: 'converting', 11449: 'participants', 11450: 'sustained', 11451: 'confidence', 11452: 'competence', 11453: 'troubles', 11454: 'lit', 11455: 'mae', 11456: 'classmate', 11457: 'risking', 11458: 'interlink', 11459: 'tf', 11460: 'sal', 11461: 'esquivel', 11462: 'joke', 11463: 'endemic', 11464: 'weakness', 11465: 'marking', 11466: 'artificial', 11467: 'captain', 11468: 'kenyon', 11469: 'electronics', 11470: 'possess', 11471: 'flows', 11472: '863', 11473: 'pushes', 11474: 'glow', 11475: 'jellyfish', 11476: 'hybrids', 11477: 'feces', 11478: 'swastika', 11479: 'halls', 11480: 'obamaexempted', 11481: 'aunt', 11482: 'convene', 11483: '2003and', 11484: '587', 11485: 'apiece', 11486: '331', 11487: 'medals', 11488: 'clerk', 11489: 'nickolaus', 11490: 'screwed', 11491: '28776', 11492: '597', 11493: 'cooling', 11494: 'interchange', 11495: '57000', 11496: 'sister', 11497: 'hardcore', 11498: 'declare', 11499: 'checked', 11500: '047', 11501: 'gorillas', 11502: 'concept', 11503: '170000', 11504: 'activities', 11505: 'townsend', 11506: 'faulty', 11507: 'advice', 11508: 'raese', 11509: 'laser', 11510: 'rewards', 11511: 'au', 11512: 'pair', 11513: 'seafood', 11514: 'processors', 11515: 'daddy', 11516: 'assertions', 11517: 'shattered', 11518: 'victimsoutnumbers', 11519: 'bahamas', 11520: 'centrifuges', 11521: 'saidpresident', 11522: 'sweepstakes', 11523: 'cafe', 11524: 'bounty', 11525: 'severed', 11526: 'foreleg', 11527: 'sewerage', 11528: 'obligated', 11529: '2040', 11530: 'neurosurgeon', 11531: 'marshal', 11532: 'quiones', 11533: 'capps', 11534: 'hass', 11535: 'newspapers', 11536: 'schaufler', 11537: 'testified', 11538: 'tailpipe', 11539: 'hundredths', 11540: 'fahrenheit', 11541: '2050', 11542: 'explanation', 11543: 'thurmond', 11544: 'breed', 11545: 'pit', 11546: 'bulls', 11547: 'academies', 11548: 'ambitious', 11549: 'communists', 11550: 'goodlattes', 11551: 'budgetamendment', 11552: 'alaskans', 11553: '315000', 11554: 'redesign', 11555: 'thirteen', 11556: 'softening', 11557: 'divert', 11558: 'thoroughly', 11559: 'oregonian', 11560: 'baggage', 11561: '05', 11562: 'beavers', 11563: 'sneezes', 11564: '162nd', 11565: 'avenue', 11566: 'burnside', 11567: 'lawton', 11568: 'chiles', 11569: 'nightmare', 11570: 'bull', 11571: 'connor', 11572: 'tireless', 11573: 'premier', 11574: 'hypocritically', 11575: 'embracing', 11576: 'throughs', 11577: 'toddlers', 11578: 'limitations', 11579: 'spay', 11580: 'neuter', 11581: 'gaining', 11582: 'federation', 11583: 'produces', 11584: 'ged', 11585: 'wauwatosa', 11586: 'pelosis', 11587: 'acknowledging', 11588: 'epas', 11589: 'financiers', 11590: 'improvised', 11591: 'ied', 11592: 'hales', 11593: 'sweeping', 11594: 'infill', 11595: 'basics', 11596: 'unleash', 11597: '2030', 11598: 'wendys', 11599: 'deathbed', 11600: 'closures', 11601: 'wu', 11602: 'conspirators', 11603: 'ayman', 11604: 'zawahiri', 11605: 'khalid', 11606: 'sheikh', 11607: 'mohammed', 11608: 'wristbands', 11609: 'reminder', 11610: 'nonproliferation', 11611: 'stabilized', 11612: 'concerts', 11613: 'siemens', 11614: 'skilled', 11615: 'arts', 11616: 'waterfront', 11617: 'warn', 11618: 'british', 11619: 'bennett', 11620: 'delphi', 11621: 'salaried', 11622: 'favoritism', 11623: 'backroom', 11624: 'wifes', 11625: 'canals', 11626: 'scientology', 11627: 'massages', 11628: '30th', 11629: 'creeping', 11630: 'commitments', 11631: 'palins', 11632: 'trig', 11633: 'sniper', 11634: 'tracked', 11635: 'fled', 11636: 'childless', 11637: 'feasting', 11638: 'hogs', 11639: 'linn', 11640: 'saystheres', 11641: 'areindividuals', 11642: 'okays', 11643: 'disposing', 11644: 'unclaimed', 11645: 'dishonorably', 11646: 'substances', 11647: 'noncompliant', 11648: 'kiters', 11649: 'devastate', 11650: 'interventionism', 11651: 'mvp', 11652: 'slowest', 11653: 'exile', 11654: 'outdrawn', 11655: 'arenas', 11656: 'santarsiero', 11657: 'pas', 11658: 'undergraduate', 11659: 'nuns', 11660: 'goodwill', 11661: '6800', 11662: '46000', 11663: 'heroics', 11664: '730', 11665: 'nonexistent', 11666: 'bucyrus', 11667: 'sayspatrick', 11668: 'denounce', 11669: '01', 11670: 'untruthful', 11671: 'politifacts', 11672: 'en', 11673: 'ideology', 11674: 'wheelchairs', 11675: 'puckett', 11676: '813', 11677: 'halve', 11678: 'norway', 11679: '63k', 11680: 'loving', 11681: 'apprehend', 11682: 'erratic', 11683: 'inconsistent', 11684: 'feldstein', 11685: 'pencil', 11686: 'gallery', 11687: 'flowering', 11688: 'tore', 11689: '025', 11690: 'rd', 11691: 'truethat', 11692: 'ciudad', 11693: 'lesser', 11694: 'enables', 11695: 'amputee', 11696: 'pirates', 11697: 'relying', 11698: 'pawn', 11699: 'cashing', 11700: 'countrymost', 11701: 'engineered', 11702: 'delegated', 11703: 'markets', 11704: 'saysdonald', 11705: 'inconvenience', 11706: 'amid', 11707: 'incriminate', 11708: 'giveaways', 11709: '38000', 11710: 'discharging', 11711: 'watersheds', 11712: 'prejudged', 11713: 'withholding', 11714: 'diagnosed', 11715: 'fervently', 11716: 'jungles', 11717: 'pistol', 11718: 'herman', 11719: 'cain', 11720: '82nd', 11721: 'ouzinkie', 11722: 'dildo', 11723: 'nearly100', 11724: 'regulated', 11725: 'businesspeople', 11726: 'areaswho', 11727: 'rebidding', 11728: 'metrorail', 11729: 'backdoor', 11730: 'pasadena', 11731: 'wikileaks', 11732: 'podesta', 11733: 'oversampling', 11734: 'suppression', 11735: 'technique', 11736: 'brexit', 11737: 'backwards', 11738: 'window', 11739: 'quorum', 11740: 'pepperoni', 11741: 'ham', 11742: 'dominos', 11743: 'hut', 11744: 'flunked', 11745: 'farouk', 11746: 'isthe', 11747: 'kickbacks', 11748: 'directing', 11749: 'consuming', 11750: 'trendline', 11751: 'cease', 11752: 'arguing', 11753: 'dug', 11754: 'validate', 11755: 'wmds', 11756: 'continual', 11757: 'distort', 11758: 'airwaves', 11759: 'accomplished', 11760: 'aprovision', 11761: 'trooper', 11762: 'shrunk', 11763: 'shoveled', 11764: 'troubled', 11765: '325', 11766: 'dialogues', 11767: 'volcano', 11768: 'cybersecurity', 11769: 'overdosed', 11770: 'masshealth', 11771: 'overbuilt', 11772: 'succeeds', 11773: 'residentsand', 11774: 'engine', 11775: 'embroiled', 11776: 'knox', 11777: 'adlers', 11778: 'replacing', 11779: 'expert', 11780: 'buehler', 11781: '11100', 11782: 'backyard', 11783: 'overdose', 11784: 'outnumber', 11785: 'corridors', 11786: 'ripta', 11787: 'fullest', 11788: 'cargill', 11789: 'vacancyexcept', 11790: 'cleans', 11791: 'witch', 11792: 'cooks', 11793: 'helpers', 11794: 'gaga', 11795: 'containers', 11796: 'updated', 11797: 'boucher', 11798: 'postwar', 11799: '1336', 11800: 'trapped', 11801: 'underperforming', 11802: 'bids', 11803: 'inhabited', 11804: 'efficient', 11805: 'models', 11806: 'appropriate', 11807: 'continually', 11808: 'boardwalk', 11809: 'pillars', 11810: 'fertilizer', 11811: 'texashad', 11812: 'officialinquiryon', 11813: 'informal', 11814: 'psychiatric', 11815: 'snitker', 11816: 'languages', 11817: 'financed', 11818: 'prosecutorial', 11819: 'manifests', 11820: 'canned', 11821: 'blueberries', 11822: 'uline', 11823: '468500', 11824: 'boosting', 11825: 'nasa', 11826: 'alonewill', 11827: 'cbd', 11828: 'compound', 11829: 'whetherbarack', 11830: 'covert', 11831: 'hickok', 11832: 'duel', 11833: 'legend', 11834: 'distant', 11835: 'sunsets', 11836: 'morell', 11837: 'isisoil', 11838: 'awho', 11839: 'portrays', 11840: 'obstacle', 11841: 'lassa', 11842: 'willingly', 11843: 'respiratory', 11844: 'decree', 11845: 'philosophy', 11846: 'footed', 11847: 'bachelor', 11848: 'overrun', 11849: 'renegotiate', 11850: 'ratify', 11851: 'amazon', 11852: 'aneducational', 11853: 'gettysburg', 11854: 'blackouts', 11855: 'uninsurable', 11856: 'headquarter', 11857: 'prosper', 11858: 'candidatejason', 11859: 'attending', 11860: 'dinners', 11861: 'familiar', 11862: 'hitting', 11863: 'screaming', 11864: 'pta', 11865: 'golfed', 11866: 'violators', 11867: 'rendering', 11868: 'application', 11869: 'lawmaking', 11870: '181', 11871: 'humanitarian', 11872: 'displaced', 11873: 'suns', 11874: 'solyndrahad', 11875: 'robots', 11876: 'whistled', 11877: 'songs', 11878: 'kidding', 11879: 'electrical', 11880: 'outlets', 11881: 'banker', 11882: 'udall', 11883: 'ofsupporting', 11884: 'cafes', 11885: 'diners', 11886: 'gather', 11887: 'kit', 11888: 'interpol', 11889: 'despise', 11890: 'uns', 11891: 'theorists', 11892: 'groundlaw', 11893: '4250', 11894: '18972', 11895: 'warned', 11896: 'foolproof', 11897: 'verifying', 11898: 'guessed', 11899: 'modernizing', 11900: 'spots', 11901: 'oddest', 11902: 'ladies', 11903: 'soy', 11904: 'nico', 11905: 'estatal', 11906: 'quin', 11907: 'es', 11908: 'hombre', 11909: 'negocios', 11910: 'chrysler', 11911: 'italians', 11912: 'jeeps', 11913: 'analyzed', 11914: 'suites', 11915: 'racks', 11916: 'mini', 11917: 'xiv', 11918: 'cambodia', 11919: 'threaten', 11920: 'indias', 11921: 'pharmacy', 11922: 'medicines', 11923: 'spokesperson', 11924: '733', 11925: 'arid', 11926: 'landscape', 11927: 'preference', 11928: 'steeper', 11929: 'gallego', 11930: 'wavered', 11931: 'spinnett', 11932: 'judgments', 11933: 'trespass', 11934: 'clothes', 11935: 'shelter', 11936: 'monsanto', 11937: 'syngenta', 11938: 'biotech', 11939: 'snail', 11940: 'meningitis', 11941: 'atomic', 11942: 'hiroshima', 11943: 'express', 11944: '04', 11945: 'spotty', 11946: '417', 11947: 'missive', 11948: 'destination', 11949: 'mexicos', 11950: 'sufficient', 11951: 'thurbert', 11952: 'zuckerberg', 11953: 'bookers', 11954: 'allied', 11955: 'stafford', 11956: 'fewerwars', 11957: 'fewerpeople', 11958: 'cloud', 11959: 'proposedcorporate', 11960: 'estuary', 11961: 'constructed', 11962: 'impacts', 11963: 'mitigated', 11964: 'expended', 11965: '805', 11966: 'importantly', 11967: 'persuaded', 11968: 'skin', 11969: 'disregarded', 11970: 'chad', 11971: 'causey', 11972: 'milken', 11973: 'nukes', 11974: 'irrefutable', 11975: 'solv', 11976: 'cleanups', 11977: 'volume', 11978: 'stable', 11979: 'embarked', 11980: 'pollster', 11981: 'mittromneys', 11982: 'theaffordable', 11983: 'actalters', 11984: 'sensible', 11985: 'centered', 11986: 'enzi', 11987: 'gunshot', 11988: 'wounds', 11989: 'saysgary', 11990: 'sakonnet', 11991: 'critically', 11992: 'tanked', 11993: 'andso', 11994: '6685', 11995: 'inefficiencies', 11996: 'scare', 11997: 'blackberry', 11998: 'eased', 11999: 'peaked', 12000: 'accumulate', 12001: 'mama', 12002: 'grizzlies', 12003: 'isd', 12004: 'areunwilling', 12005: 'preside', 12006: 'abortioneven', 12007: 'censored', 12008: 'muzzled', 12009: 'glbt', 12010: 'lifestyle', 12011: '31st', 12012: 'misdemeanors', 12013: 'repmike', 12014: 'istheone', 12015: 'leg', 12016: '4800', 12017: 'reaped', 12018: 'underutilized', 12019: 'saysloretta', 12020: 'lynchs', 12021: 'adequately', 12022: 'ipod', 12023: 'habit', 12024: 'bused', 12025: 'acentral', 12026: 'transparency', 12027: 'brush', 12028: 'huntsman', 12029: 'isfighting', 12030: 'iraqis', 12031: 'ornamental', 12032: 'rabid', 12033: 'strains', 12034: 'rabies', 12035: 'serums', 12036: '224', 12037: 'bakers', 12038: 'florists', 12039: 'photographers', 12040: 'gerrymandering', 12041: 'optech', 12042: 'iii', 12043: 'p', 12044: 'constitutionally', 12045: 'scuttle', 12046: 'pivotal', 12047: 'bias', 12048: 'flexible', 12049: 'fsas', 12050: 'inflammatory', 12051: 'newsletters', 12052: 'dealerships', 12053: 'overhauled', 12054: 'amended', 12055: 'components', 12056: 'unbeknownst', 12057: 'weird', 12058: '03', 12059: 'henceforth', 12060: 'scratched', 12061: '668', 12062: 'habitat', 12063: 'poachers', 12064: 'mubarak', 12065: 'autocrats', 12066: 'establishes', 12067: 'dictate', 12068: 'mollis', 12069: 'malls', 12070: 'species', 12071: 'ballast', 12072: 'rivers', 12073: 'hydropower', 12074: 'sayscongressman', 12075: 'wizard', 12076: 'oz', 12077: 'theaters', 12078: 'designate', 12079: 'sneaky', 12080: 'unsigned', 12081: 'meaningfully', 12082: 'fatality', 12083: 'sentiment', 12084: 'overreached', 12085: 'journal', 12086: 'explains', 12087: 'jody', 12088: 'hice', 12089: 'prominent', 12090: 'resigning', 12091: 'meaningful', 12092: 'reasoning', 12093: 'unrelated', 12094: 'bureaus', 12095: 'ceasing', 12096: 'invent', 12097: 'hosted', 12098: 'seminars', 12099: 'prefer', 12100: 'zombies', 12101: 'immokalee', 12102: 'watson', 12103: 'repayment', 12104: 'fell', 12105: 'coyotes', 12106: 'pediatric', 12107: 'rigorous', 12108: 'fringe', 12109: 'policyholders', 12110: 'waving', 12111: 'wand', 12112: 'unfairness', 12113: 'override', 12114: 'daines', 12115: 'mont', 12116: 'ottumwa', 12117: 'heartland', 12118: 'bilingual', 12119: '33200', 12120: 'ariz', 12121: 'ignores', 12122: '2009s', 12123: 'swarming', 12124: 'reinvested', 12125: 'shalala', 12126: 'doses', 12127: 'smallpox', 12128: 'vaccinate', 12129: 'tools', 12130: 'milking', 12131: 'wheelbarrow', 12132: '997', 12133: 'wheelers', 12134: 'hollowed', 12135: 'exhaustive', 12136: 'minneapolis', 12137: '166000', 12138: '7800', 12139: 'shooters', 12140: 'advising', 12141: 'ovide', 12142: 'lamontagne', 12143: 'opioids', 12144: 'montana', 12145: 'faso', 12146: 'fracked', 12147: 'cramming', 12148: 'throat', 12149: 'preaches', 12150: 'keeper', 12151: 'indicated', 12152: 'pursued', 12153: 'hospitalized', 12154: 'portugals', 12155: 'wantsillegal', 12156: 'collectingsocial', 12157: 'kloppenburgs', 12158: 'tactics', 12159: 'educator', 12160: 'vehemently', 12161: 'weakest', 12162: 'checking', 12163: 'keystonexl', 12164: 'fiat', 12165: 'c', 12166: 'intrinsically', 12167: 'doled', 12168: 'aleading', 12169: 'spells', 12170: 'ducey', 12171: 'guards', 12172: 'to1', 12173: 'minnesotas', 12174: '420', 12175: 'killers', 12176: 'abusing', 12177: 'stirred', 12178: 'persecutes', 12179: 'granting', 12180: 'jollys', 12181: 'cons', 12182: 'penitentiary', 12183: 'ags', 12184: 'matthew', 12185: 'artificially', 12186: 'benchmarks', 12187: 'isil', 12188: 'resemble', 12189: 'sparklers', 12190: 'aronberg', 12191: 'devastation', 12192: 'reimbursed', 12193: 'beruff', 12194: 'insulted', 12195: 'gyms', 12196: 'corzines', 12197: 'menhaden', 12198: '113000', 12199: 'varied', 12200: 'shipbuilders', 12201: 'briefing', 12202: 'frisked', 12203: 'shortcomings', 12204: 'jobsdidnt', 12205: 'materialize', 12206: 'stranded', 12207: 'gemma', 12208: 'bound', 12209: 'smear', 12210: 'norms', 12211: 'mcallen', 12212: 'interstates', 12213: 'ernesto', 12214: 'guevaras', 12215: 'quicker', 12216: 'mosquitoes', 12217: 'mature', 12218: 'bite', 12219: 'metabolism', 12220: 'incubate', 12221: '156', 12222: 'consultation', 12223: 'buckyballs', 12224: 'candy', 12225: 'licensing', 12226: 'strayed', 12227: 'lieberman', 12228: 'turkeys', 12229: '298', 12230: 'weighed', 12231: '132', 12232: 'applauded', 12233: 'vetoing', 12234: '282', 12235: 'impacting', 12236: 'renal', 12237: 'radar', 12238: 'mega', 12239: 'boot', 12240: 'bogus', 12241: 'teilhet', 12242: 'slice', 12243: 'bread', 12244: 'slices', 12245: 'tapping', 12246: 'breathe', 12247: 'goliad', 12248: 'deportationsin', 12249: 'deportedin', 12250: 'subjective', 12251: 'worthy', 12252: 'tester', 12253: 'layered', 12254: 'fencing', 12255: 'webber', 12256: 'childcare', 12257: 'playgrounds', 12258: 'coaches', 12259: 'romanticized', 12260: 'leander', 12261: 'ap', 12262: 'pastors', 12263: 'sermons', 12264: 'accusing', 12265: 'oligarchs', 12266: 'greer', 12267: 'takers', 12268: 'makers', 12269: 'lizbeth', 12270: 'benacquistos', 12271: 'substitution', 12272: 'dissuade', 12273: 'helpful', 12274: 'barehanded', 12275: 'penn', 12276: 'cigarettes', 12277: '775', 12278: 'jasper', 12279: 'untoward', 12280: 'virtue', 12281: 'guardians', 12282: 'lifeguard', 12283: 'firefighting', 12284: 'coats', 12285: 'brock', 12286: 'turners', 12287: 'occurrence', 12288: 'megans', 12289: 'boxes', 12290: 'silver', 12291: 'valuables', 12292: 'concussions', 12293: 'cheerleading', 12294: 'waterboard', 12295: 'incidentally', 12296: 'juveniles', 12297: 'juvenile', 12298: 'wahabi', 12299: 'jakarta', 12300: 'wahabism', 12301: 'waging', 12302: '731', 12303: 'federalism', 12304: 'extracurricular', 12305: 'panthers', 12306: 'torturing', 12307: 'debunk', 12308: 'moderator', 12309: 'pathological', 12310: 'categorize', 12311: 'gambler', 12312: 'grader', 12313: 'warms', 12314: '376', 12315: 'rhetoric', 12316: 'emmy', 12317: 'tweeting', 12318: 'emmys', 12319: 'top25', 12320: 'tragic', 12321: 'dontre', 12322: 'sider', 12323: 'onand', 12324: 'roaming', 12325: 'peaceful', 12326: 'worries', 12327: 'retail', 12328: 'needing', 12329: 'lapierre', 12330: 'lessening', 12331: 'resume', 12332: 'nameresume', 12333: 'fascist', 12334: '⅔', 12335: 'dovillas', 12336: 'avengers', 12337: '737000', 12338: 'dialysis', 12339: 'chemotherapy', 12340: '205075', 12341: 'shrub', 12342: '365', 12343: 'stan', 12344: 'tying', 12345: 'invitation', 12346: 'proudest', 12347: 'accomplishment', 12348: 'smiley', 12349: 'cookie', 12350: 'cookies', 12351: 'trainorstill', 12352: 'radically', 12353: 'proportionally', 12354: 'punish', 12355: 'operates', 12356: '70s', 12357: 'kuran', 12358: 'equivalency', 12359: 'parading', 12360: 'harkens', 12361: 'stimulative', 12362: 'virtual', 12363: 'apartments', 12364: 'disenfranchise', 12365: 'portray', 12366: 'morally', 12367: 'reprehensible', 12368: 'scuttling', 12369: 'sharpe', 12370: 'branstad', 12371: 'chartered', 12372: 'supermarket', 12373: 'sugary', 12374: 'ʺmore', 12375: 'stateʺ', 12376: '878300', 12377: 'dry', 12378: 'universitieshave', 12379: 'outpacing', 12380: 'calculating', 12381: 'scams', 12382: 'offs', 12383: 'associations', 12384: '349', 12385: '004', 12386: 'tariff', 12387: 'mccollumhas', 12388: 'iraqs', 12389: 'baghdad', 12390: 'collar', 12391: 'persuading', 12392: 'greetings', 12393: 'diebold', 12394: 'doorsteps', 12395: 'eau', 12396: 'claire', 12397: 'staffs', 12398: 'sesame', 12399: '211', 12400: 'igniting', 12401: 'troopers', 12402: 'inquire', 12403: 'unspent', 12404: 'patricia', 12405: 'khizrkhans', 12406: 'essex', 12407: 'lanci', 12408: 'lifelong', 12409: 'clevelander', 12410: 'lopez', 12411: 'voiced', 12412: 'enthusiastic', 12413: 'leapt', 12414: '182', 12415: 'cbos', 12416: 'contraceptions', 12417: 'usafreedom', 12418: 'undercuts', 12419: 'becausethe', 12420: 'steal', 12421: 'wantbut', 12422: 'raimondos', 12423: 'antacids', 12424: 'mansions', 12425: 'rescues', 12426: 'apologized', 12427: 'disburse', 12428: '803', 12429: 'astroturf', 12430: 'pumping', 12431: 'allocated', 12432: 'inschool', 12433: 'testingwas', 12434: 'vendor', 12435: 'itselfit', 12436: 'functions', 12437: 'securitys', 12438: 'recommend', 12439: 'mastermind', 12440: 'unabomber', 12441: 'terminate', 12442: 'tyranny', 12443: 'communication', 12444: 'diminished', 12445: 'gerrymandered', 12446: 'maps', 12447: 'slurred', 12448: 'graybeards', 12449: 'spineless', 12450: '391000', 12451: '890000', 12452: 'strives', 12453: 'childbirth', 12454: 'photonics', 12455: 'louise', 12456: 'slaughter', 12457: 'stumped', 12458: 'contraceptives', 12459: 'madeleine', 12460: 'albrights', 12461: 'propriety', 12462: 'renovating', 12463: '12020', 12464: 'tournament', 12465: 'trophy', 12466: 'billing', 12467: 'cole', 12468: 'genitals', 12469: 'ukrainian', 12470: 'persian', 12471: 'naacps', 12472: '48000', 12473: 'continents', 12474: 'weighing', 12475: 'viking', 12476: 'markey', 12477: 'insane', 12478: 'nuke', 12479: 'apprehension', 12480: 'plays', 12481: 'universitys', 12482: 'decriminalizing', 12483: 'prospective', 12484: 'priv', 12485: 'ilana', 12486: 'shafran', 12487: 'implication', 12488: 'incorrect', 12489: 'anita', 12490: 'dunn', 12491: 'tse', 12492: 'tung', 12493: 'l', 12494: 'estimation', 12495: 'beaverton', 12496: 'superpredators', 12497: 'ezekiel', 12498: 'emanuel', 12499: 'reserved', 12500: 'nondisabled', 12501: 'flown', 12502: '1961it', 12503: 'desegregation', 12504: 'deems', 12505: 'arrogance', 12506: 'dismissiveness', 12507: 'derision', 12508: 'dictating', 12509: 'wiping', 12510: 'becauseblue', 12511: 'genuinely', 12512: 'toss', 12513: '47900', 12514: '245', 12515: 'slipping', 12516: 'provoked', 12517: 'infamous', 12518: 'outperform', 12519: 'robbers', 12520: 'lewinsky', 12521: 'jeremiah', 12522: 'aborting', 12523: 'tenncare', 12524: 'insulting', 12525: 'mamma', 12526: 'mia', 12527: 'acknowledge', 12528: 'brigades', 12529: 'peel', 12530: 'hesso', 12531: 'groundhog', 12532: 'shadow', 12533: 'describing', 12534: 'drafting', 12535: 'denier', 12536: 'foodborne', 12537: 'clergymen', 12538: 'trajectory', 12539: 'fried', 12540: 'cape', 12541: 'mason', 12542: 'dixon', 12543: 'isaac', 12544: 'peddling', 12545: 'vendors', 12546: 'readings', 12547: 'fabricated', 12548: 'multilateral', 12549: 'gwen', 12550: 'promotion', 12551: 'calledfast', 12552: 'chilean', 12553: 'renovation', 12554: '85000', 12555: 'onepalestinian', 12556: 'insert', 12557: 'rowing', 12558: 'sorties', 12559: 'ordnances', 12560: 'metadata', 12561: 'collectionprogram', 12562: 'height', 12563: 'supermajority', 12564: 'rothman', 12565: 'automakers', 12566: 'topped', 12567: '19500', 12568: 'narragansett', 12569: 'unreported', 12570: 'cancellations', 12571: 'ignoring', 12572: 'ramming', 12573: 'ballistic', 12574: 'fulfills', 12575: 'sarasota', 12576: 'ultra', 12577: 'charlotte', 12578: '2026', 12579: 'discriminate', 12580: '189', 12581: '351', 12582: 'vampire', 12583: 'holocaust', 12584: 'hung', 12585: 'rescuing', 12586: 'warships', 12587: 'airlifting', 12588: 'inducing', 12589: 'vanilla', 12590: 'latte', 12591: 'sweet', 12592: 'gall', 12593: 'heroes', 12594: 'kleefisch', 12595: 'enticed', 12596: 'specialty', 12597: 'plate', 12598: 'filming', 12599: 'iaea', 12600: 'obamaweve', 12601: 'inarguably', 12602: '1925', 12603: 'catastrophe', 12604: 'republicansagree', 12605: 'embassies', 12606: 'consulates', 12607: 'highthe', 12608: 'nationwhich', 12609: 'perfectly', 12610: 'lahood', 12611: 'definitely', 12612: 'benz', 12613: 'jacksons', 12614: 'drag', 12615: 'forfeits', 12616: 'fcc', 12617: 'nyc', 12618: 'justifies', 12619: 'invention', 12620: 'inventor', 12621: 'prevailed', 12622: 'thathillary', 12623: 'clintonviolated', 12624: 'delisted', 12625: 'humane', 12626: 'molestation', 12627: 'mandela', 12628: 'diegoand', 12629: 'smuggling', 12630: 'drugsby', 12631: 'bing', 12632: 'denzel', 12633: 'clout', 12634: 'inchains', 12635: 'knees', 12636: 'sight', 12637: 'floridaand', 12638: 'eve', 12639: 'juneteenth', 12640: 'streetcars', 12641: 'grammys', 12642: 'rehearse', 12643: 'solace', 12644: 'pervasive', 12645: 'grievance', 12646: 'animosity', 12647: 'milestone', 12648: 'eluded', 12649: 'nash', 12650: 'pretends', 12651: 'brokaw', 12652: 'command', 12653: 'hockey', 12654: 'sad', 12655: 'dmitry', 12656: 'medvedev', 12657: 'greitens', 12658: 'rebrand', 12659: 'download', 12660: 'duggar', 12661: 'fortress', 12662: 'uncovered', 12663: 'savannahs', 12664: 'from700000', 12665: 'clarence', 12666: 'recuse', 12667: 'constitutionality', 12668: 'collectively', 12669: 'benacquisto', 12670: 'permitting', 12671: '123000', 12672: 'judith', 12673: 'peoplein', 12674: 'beheading', 12675: 'kissinger', 12676: 'precondition', 12677: 'minnick', 12678: 'biking', 12679: 'newgard', 12680: 'preferred', 12681: 'explorer', 12682: 'daraprim', 12683: 'underpriced', 12684: '588', 12685: 'nox', 12686: 'shellacked', 12687: 'midterms', 12688: '1934', 12689: 'nearing', 12690: 'contacts', 12691: 'suntrust', 12692: 'cancels', 12693: 'rggi', 12694: 'indians', 12695: 'reds', 12696: '1918', 12697: 'whitehouses', 12698: 'shameful', 12699: '70th', 12700: '299', 12701: 'trainer', 12702: 'retainer', 12703: '401', 12704: 'cripple', 12705: 'excessive', 12706: 'restricted', 12707: 'cartridge', 12708: 'incompetent', 12709: 'ba', 12710: 'fallout', 12711: 'cowboy', 12712: 'ideological', 12713: 'deterrent', 12714: 'ptsd', 12715: 'policys', 12716: '171', 12717: 'cram', 12718: 'install', 12719: '2018', 12720: 'chadwell', 12721: 'condom', 12722: 'techniques', 12723: 'lowers', 12724: 'abided', 12725: 'broun', 12726: 'sides', 12727: 'deviants', 12728: 'crush', 12729: 'counsel', 12730: 'cascading', 12731: '2007nobody', 12732: 'outnumbers', 12733: 'deadlines', 12734: 'weare', 12735: 'shovels', 12736: 'limberbutt', 12737: 'mccubbins', 12738: 'offenderwho', 12739: 'andis', 12740: 'gruesome', 12741: '2008law', 12742: 'owen', 12743: 'monogamous', 12744: 'booze', 12745: 'boilers', 12746: 'roofs', 12747: 'lawcaused', 12748: 'perdues', 12749: 'jumpstart', 12750: 'roofing', 12751: 'stagnate', 12752: 'credible', 12753: 'constitutions', 12754: 'guests', 12755: 'publicized', 12756: 'exhausted', 12757: 'misstated', 12758: 'hourly', 12759: 'likethey', 12760: 'perryhas', 12761: 'irene', 12762: 'outages', 12763: 'landfall', 12764: 'lobbies', 12765: 'slum', 12766: 'landlord', 12767: 'alarmists', 12768: 'demonstrate', 12769: 'plagued', 12770: 'evaporation', 12771: 'tolstoy', 12772: 'watershed', 12773: '1958', 12774: 'asserted', 12775: 'directors', 12776: 'foreman', 12777: 'greenpeace', 12778: '202', 12779: '247000', 12780: 'ignorant', 12781: 'niagara', 12782: '448000', 12783: 'swore', 12784: 'hypocritical', 12785: 'possibility', 12786: 'fraudulently', 12787: 'airing', 12788: 'profession', 12789: 'fugitive', 12790: 'castros', 12791: 'denial', 12792: 'populationyet', 12793: 'subtracting', 12794: 'krugman', 12795: 'giannoulias', 12796: 'longtime', 12797: 'speculation', 12798: 'siphoned', 12799: 'fourfold', 12800: 'mice', 12801: 'crap', 12802: 'compile', 12803: 'complain', 12804: 'electrify', 12805: 'marketing', 12806: 'stricter', 12807: 'fans', 12808: 'servicemembers', 12809: 'slain', 12810: 'overstays', 12811: 'biofuels', 12812: 'promoter', 12813: 'brawling', 12814: 'altercations', 12815: 'rage', 12816: 'disproved', 12817: '18300', 12818: '117', 12819: 'peppers', 12820: 'pepper', 12821: 'jails', 12822: 'mend', 12823: 'unhappy', 12824: 'brigade', 12825: 'georgian', 12826: 'bolton', 12827: 'thati', 12828: 'overthrow', 12829: 'agovernment', 12830: '923', 12831: 'scares', 12832: 'dawn', 12833: 'johnsen', 12834: 'motherhood', 12835: 'involuntary', 12836: 'servitude', 12837: '992', 12838: 'indoctrinated', 12839: 'moderated', 12840: 'controversalremarks', 12841: 'byrev', 12842: 'a12', 12843: 'whip', 12844: 'scalise', 12845: 'hasblown', 12846: '536', 12847: 'homer', 12848: 'southside', 12849: 'needlessly', 12850: 'trauma', 12851: 'admonished', 12852: 'ambassadors', 12853: 'lately', 12854: 'qualifiedto', 12855: 'adelson', 12856: 'menu', 12857: 'colonize', 12858: 'figured', 12859: 'algorithm', 12860: 'madrassa', 12861: 'expiration', 12862: 'educate', 12863: 'dodged', 12864: 'larsens', 12865: 'dilation', 12866: 'curettage', 12867: 'solidly', 12868: 'jacksonvilles', 12869: 'lebron', 12870: 'rusty', 12871: 'backwater', 12872: 'saloon', 12873: 'cancelled', 12874: 'stickers', 12875: 'flagrantly', 12876: 'ordering', 12877: 'laundering', 12878: 'vin', 12879: 'gopal', 12880: 'article', 12881: '950', 12882: 'glock', 12883: 'gerry', 12884: 'connolly', 12885: 'mann', 12886: 'alleging', 12887: 'indictable', 12888: 'overfunded', 12889: 'generally', 12890: 'accounting', 12891: 'benzene', 12892: 'topsoil', 12893: 'moisture', 12894: 'draconian', 12895: 'arc', 12896: 'tunnel', 12897: 'overruns', 12898: 'pershing', 12899: 'pigs', 12900: 'councils', 12901: 'sweatshop', 12902: 'baloney', 12903: 'percentmore', 12904: 'barak', 12905: 'muhammed', 12906: 'boyce', 12907: 'sensitive', 12908: 'calculator', 12909: '794', 12910: 'bh', 12911: 'recognition', 12912: 'authors', 12913: 'cias', 12914: '128', 12915: 'austerity', 12916: 'hcahospital', 12917: 'subsidizing', 12918: 'appalachia', 12919: 'researched', 12920: 'mastos', 12921: 'thatrepublican', 12922: 'glennhas', 12923: 'tired', 12924: 'aisle', 12925: 'barackobama', 12926: 'sarlo', 12927: 'njtv', 12928: 'marketed', 12929: 'reinvestment', 12930: 'arra', 12931: 'crumbling', 12932: 'marched', 12933: 'mebane', 12934: 'withholdings', 12935: 'financially', 12936: 'israelisgave', 12937: 'sergeant', 12938: 'effects', 12939: 'prepare', 12940: 'gunsales', 12941: '113', 12942: 'coral', 12943: 'reefs', 12944: 'pollsters', 12945: 'saydont', 12946: 'methodology', 12947: 'secondhand', 12948: 'smoke', 12949: 'viral', 12950: 'impressionable', 12951: 'youngsters', 12952: 'praises', 12953: 'mikehuckabeecom', 12954: 'parliament', 12955: 'repaying', 12956: '117000', 12957: 'islamists', 12958: 'carcinogenic', 12959: 'hydrocarbons', 12960: 'creditors', 12961: 'bondholders', 12962: 'excellence', 12963: 'terminations', 12964: 'compaq', 12965: 'insisted', 12966: 'publication', 12967: 'pamphlets', 12968: 'caymans', 12969: 'thad', 12970: 'cochran', 12971: 'shifting', 12972: '122000', 12973: 'stealing', 12974: 'blueprints', 12975: 'rosalyn', 12976: 'dance', 12977: 'parlor', 12978: 'centuries', 12979: 'saysdemocratic', 12980: 'alisha', 12981: 'hollow', 12982: 'cables', 12983: 'graveyards', 12984: 'museums', 12985: 'japans', 12986: 'tony', 12987: 'backups', 12988: 'basements', 12989: 'floods', 12990: 'evangelical', 12991: 'mormons', 12992: '297000', 12993: 'leah', 12994: 'vukmir', 12995: 'cowles', 12996: 'nuts', 12997: 'sounded', 12998: 'alarm', 12999: 'awarding', 13000: 'vending', 13001: 'procurement', 13002: 'saysdavid', 13003: 'piling', 13004: 'baptist', 13005: 'inferior', 13006: 'subservient', 13007: 'spins', 13008: 'explodes', 13009: 'italy', 13010: '2260631', 13011: 'compiled', 13012: '720', 13013: 'accelerating', 13014: 'desjarlaiss', 13015: 'clintonsthe', 13016: 'urgency', 13017: 'investedin', 13018: 'forcedhome', 13019: 'framework', 13020: 'parrots', 13021: 'aided', 13022: 'abetted', 13023: 'seconding', 13024: 'motions', 13025: 'invalidates', 13026: 'jeanneshaheens', 13027: 'aviation', 13028: 'injunction', 13029: 'petrochemicals', 13030: 'aquifer', 13031: 'malaysian', 13032: 'conglomerate', 13033: 'genting', 13034: 'chiropractor', 13035: '380000', 13036: 'ridden', 13037: 'vigil', 13038: 'scout', 13039: 'saunders', 13040: 'likelihood', 13041: 'policymaking', 13042: 'maple', 13043: 'syrup', 13044: 'flinn', 13045: 'screeners', 13046: 'mushroomed', 13047: '67000', 13048: '3590', 13049: '105000', 13050: 'cadillac', 13051: 'fake', 13052: 'imports', 13053: 'bankrupted', 13054: 'vindicating', 13055: 'conclusive', 13056: 'nodded', 13057: '601', 13058: 'deceased', 13059: 'scammed', 13060: 'denali', 13061: 'noncollege', 13062: 'defecated', 13063: 'steering', 13064: 'facto', 13065: '1888', 13066: 'convened', 13067: 'rooting', 13068: 'fs', 13069: 'awhile', 13070: 'astray', 13071: 'jade', 13072: 'helm', 13073: 'detain', 13074: 'tunnels', 13075: 'litter', 13076: 'afternoon', 13077: 'salesclerk', 13078: 'driverless', 13079: 'crowded', 13080: 'maze', 13081: 'baathisized', 13082: 'tasked', 13083: 'superiors', 13084: 'cooperative', 13085: 'haveweakened', 13086: '174', 13087: 'heating', 13088: 'inherits', 13089: 'voltage', 13090: 'novembers', 13091: 'misplaced', 13092: 'jock', 13093: 'entertainment', 13094: 'leppert', 13095: 'cabinetis', 13096: '227', 13097: 'divestment', 13098: 'divesting', 13099: 'fishermen', 13100: 'noticing', 13101: 'mongrel', 13102: 'nugent', 13103: 'wasan', 13104: 'participant', 13105: '225000', 13106: 'orrin', 13107: 'hatch', 13108: 'sweeney', 13109: 'neville', 13110: 'chamberlain', 13111: 'dominate', 13112: 'appease', 13113: 'reviewed', 13114: '23608', 13115: 'suozzi', 13116: 'nassau', 13117: 'holdren', 13118: 'sterilants', 13119: 'seamus', 13120: 'strapped', 13121: 'cockfighting', 13122: 'harsdorf', 13123: 'travelling', 13124: 'resorts', 13125: 'goodell', 13126: 'janay', 13127: 'enhanced', 13128: 'designs', 13129: 'reviving', 13130: 'charlottes', 13131: 'sexes', 13132: 'forwarded', 13133: 'clap', 13134: 'clapping', 13135: 'fudged', 13136: 'overstate', 13137: 'herring', 13138: 'shorter', 13139: 'oilfields', 13140: 'grounds', 13141: 'factored', 13142: 'electrocution', 13143: 'cows', 13144: 'dodge', 13145: 'certainty', 13146: 'philadelphiaused', 13147: 'denmarks', 13148: 'iroquois', 13149: 'tribes', 13150: 'silentas', 13151: 'retraining', 13152: 'aware', 13153: 'pancreas', 13154: 'ausley', 13155: 'obamatook', 13156: 'wagenow', 13157: 'semiautomatic', 13158: 'reflects', 13159: 'diminish', 13160: 'leash', 13161: 'belt', 13162: 'arrestable', 13163: 'pakistani', 13164: 'distinguished', 13165: 'mullen', 13166: 'pickering', 13167: 'element', 13168: 'dozing', 13169: 'housei', 13170: 'bulldozed', 13171: '1963', 13172: '513', 13173: 'verdict', 13174: '11106', 13175: 'cdcs', 13176: 'cavity', 13177: 'dent', 13178: 'conscience', 13179: 'slips', 13180: 'weresunday', 13181: 'thursday', 13182: '106000', 13183: 'anxiety', 13184: 'prying', 13185: 'eyeing', 13186: 'prescriptions', 13187: '924', 13188: 'saturday', 13189: 'lorne', 13190: 'michaels', 13191: 'fun', 13192: 'att', 13193: 'infringe', 13194: 'mere', 13195: 'withdrew', 13196: 'municipality', 13197: 'assignment', 13198: 'investing', 13199: 'toyota', 13200: 'boasts', 13201: 'ranging', 13202: 'spectrum', 13203: 'chairmen', 13204: 'oversees', 13205: 'anticipated', 13206: 'demands', 13207: '2035', 13208: 'southbound', 13209: 'duffys', 13210: 'dimassimo', 13211: 'dragging', 13212: 'lugar', 13213: 'loose', 13214: 'moroccan', 13215: 'watermelon', 13216: 'queen', 13217: 'onion', 13218: 'creeks', 13219: 'cubic', 13220: 'combination', 13221: 'strategies', 13222: 'sayvideo', 13223: 'strolling', 13224: 'promiscuous', 13225: 'joseph', 13226: 'morality', 13227: 'astronaut', 13228: 'bryce', 13229: 'reeves', 13230: 'bankrolled', 13231: 'margins', 13232: 'deceptive', 13233: 'unconscionable', 13234: 'pathetic', 13235: 'tracking', 13236: 'pedophile', 13237: 'thinking', 13238: 'disagreement', 13239: 'tick', 13240: 'box', 13241: 'hardshipand', 13242: 'relied', 13243: 'pedernales', 13244: 'undependable', 13245: 'cooperatives', 13246: 'gene', 13247: 'arthur', 13248: 'substantive', 13249: 'adamantly', 13250: 'snap', 13251: 'ie', 13252: 'medford', 13253: '279000', 13254: 'unusually', 13255: '6500', 13256: '899', 13257: 'romanovs', 13258: 'traits', 13259: 'nominal', 13260: 'gamble', 13261: 'lucie', 13262: 'theorist', 13263: 'muddy', 13264: 'manpower', 13265: 'copies', 13266: 'kahl', 13267: 'eagles', 13268: 'swing', 13269: 'professor', 13270: 'jamming', 13271: 'renowned', 13272: 'musicians', 13273: 'satisfying', 13274: 'pours', 13275: 'sights', 13276: 'occupation', 13277: 'concessions', 13278: 'rainforest', 13279: 'sudan', 13280: 'carpool', 13281: 'carpooled', 13282: 'suvs', 13283: 'forecasts', 13284: 'freddiebut', 13285: '308', 13286: 'preserve', 13287: 'spite', 13288: 'napolitano', 13289: 'chooses', 13290: 'gilbert', 13291: 'waitlist', 13292: 'larry', 13293: 'benghazilibyathe', 13294: '8400', 13295: 'greers', 13296: 'irregularities', 13297: 'gulfstream', 13298: 'g650', 13299: 'violatesa', 13300: 'thatprevents', 13301: 'channels', 13302: 'fisker', 13303: 'tesla', 13304: 'ener1', 13305: '98184', 13306: 'lacking', 13307: 'tremendously', 13308: 'deceived', 13309: 'outsider', 13310: 'furloughing', 13311: 'jules', 13312: 'instrumental', 13313: '29th', 13314: 'jimrenacci', 13315: 'nuisance', 13316: 'stupak', 13317: 'composting', 13318: 'dhimmitude', 13319: 'possibilities', 13320: 'salad', 13321: 'biological', 13322: 'greenes', 13323: 'dudley', 13324: 'anxious', 13325: 'resisted', 13326: 'countermeasure', 13327: 'spilt', 13328: 'objected', 13329: 'demographically', 13330: 'breathtaking', 13331: 'percentofpoor', 13332: 'nike', 13333: 'presenting', 13334: 'foreclose', 13335: 'refinery', 13336: 'extinction', 13337: 'sung', 13338: '16400', 13339: 'wilmington', 13340: 'duplicative', 13341: 'patrons', 13342: 'trumpsfoundation', 13343: 'responsibilities', 13344: 'beto', 13345: 'orourke', 13346: 'monk', 13347: 'elmer', 13348: 'principle', 13349: 'transform', 13350: 'inspectors', 13351: 'hebs', 13352: 'brookshires', 13353: 'calibrating', 13354: 'calibrate', 13355: 'rpg', 13356: 'lorain', 13357: 'malpractice', 13358: '183rd', 13359: 'exceptionalism', 13360: 'exceptional', 13361: 'favorability', 13362: 'clocked', 13363: 'suffers', 13364: 'tanker', 13365: 'chalk', 13366: 'telephone', 13367: 'landline', 13368: 'wireless', 13369: 'tiverton', 13370: 'persuade', 13371: 'alexander', 13372: 'hawk', 13373: 'automobiles', 13374: 'sanchez', 13375: 'rename', 13376: 'reliability', 13377: 'ercot', 13378: 'jebs', 13379: 'loved', 13380: 'defaulting', 13381: 'deposed', 13382: 'hanoi', 13383: 'hilton', 13384: 'songbird', 13385: 'collaborated', 13386: 'vegetable', 13387: 'conform', 13388: 'debating', 13389: '37900', 13390: '189000', 13391: 'enhancing', 13392: '1875', 13393: 'interested', 13394: 'impeachments', 13395: 'hunted', 13396: 'teachersalary', 13397: 'hastert', 13398: 'undo', 13399: 'lame', 13400: 'matagorda', 13401: 'brazoria', 13402: 'attainment', 13403: '2552json', 13404: 'caremedicaremessage', 13405: 'conway', 13406: '9353json', 13407: 'favored', 13408: 'carepublic', 13409: 'jindal', 13410: 'politico', 13411: '9577json', 13412: 'medicaidpoverty', 13413: 'cox', 13414: '4318json', 13415: 'jobsstate', 13416: 'belmar', 13417: '9864json', 13418: 'childreneducationmessage', 13419: 'budgetstatestaxes', 13420: '8243json', 13421: 'cpa', 13422: 'torres', 13423: '13500json', 13424: 'budgetcounty', 13425: 'budgetfederal', 13426: 'budgethomeland', 13427: 'securityimmigrationstate', 13428: 'wnyc', 13429: '9854json', 13430: 'governs', 13431: 'discipline', 13432: '7737json', 13433: 'justicegovernment', 13434: 'regulationgunsmarket', 13435: '12293json', 13436: 'pretending', 13437: 'restroom', 13438: 'biographycorrections', 13439: 'updatesgays', 13440: 'lesbianscampaign', 13441: '457json', 13442: 'opposesthe', 13443: 'supportsit', 13444: 'potus', 13445: 'biebers', 13446: 'opium', 13447: 'sevenfold', 13448: 'profiteered', 13449: 'aftermath', 13450: 'alabamas', 13451: 'crimson', 13452: 'underdog', 13453: 'bulldogs', 13454: 'oddsmakers', 13455: 'profited', 13456: 'unaffordable', 13457: 'chasing', 13458: '980000', 13459: 'stripped', 13460: 'credential', 13461: 'hjm', 13462: 'assigned', 13463: 'worthless', 13464: '1652', 13465: 'coloradocare', 13466: 'achieve', 13467: 'asset', 13468: 'variety', 13469: 'charliecrist', 13470: 'imposter', 13471: 'ovation', 13472: 'angelo', 13473: 'rodeo', 13474: 'saysmaggie', 13475: 'foregone', 13476: 'clifford', 13477: 'judging', 13478: 'hemorrhaged', 13479: '1970', 13480: 'talgo', 13481: 'militarizing', 13482: 'fugitives', 13483: 'spousal', 13484: 'creditand', 13485: 'checkout', 13486: 'bundy', 13487: 'landscaper', 13488: 'lawnmower', 13489: 'maker', 13490: 'curt', 13491: 'schillings', 13492: 'teammates', 13493: 'painted', 13494: 'sock', 13495: 'bloody', 13496: 'durable', 13497: 'chained', 13498: 'cpi', 13499: 'anchored', 13500: 'formally', 13501: 'nobel', 13502: 'thanshotguns', 13503: 'pistols', 13504: 'beholden', 13505: 'beltway', 13506: 'borne', 13507: 'belleville', 13508: 'reauthorizes', 13509: 'seasons', 13510: 'resort', 13511: '3504', 13512: 'mailer', 13513: 'accurately', 13514: 'belittled', 13515: 'band', 13516: 'assimilation', 13517: 'hackers', 13518: 'bribed', 13519: 'ruble', 13520: '94000', 13521: 'strom', 13522: 'maui', 13523: 'enthusiastically', 13524: '71000', 13525: 'malnutrition', 13526: '9900', 13527: 'lenderand', 13528: '27th', 13529: 'resolved', 13530: 'plenty', 13531: 'champagne', 13532: 'alzheimers', 13533: 'dementia', 13534: 'weekly', 13535: 'nonunion', 13536: 'upkeep', 13537: 'lawns', 13538: 'waterplace', 13539: 'wickford', 13540: 'village', 13541: 'swamped', 13542: 'tire', 13543: 'monetary', 13544: '453', 13545: 'runnerup', 13546: 'caitlyn', 13547: 'jenner', 13548: 'espns', 13549: 'ashe', 13550: 'noah', 13551: 'galloway', 13552: 'kissing', 13553: 'cuddling', 13554: 'rainforests', 13555: 'libyas', 13556: 'authorization', 13557: 'struggle', 13558: 'muffins', 13559: '5122json', 13560: 'caucasian', 13561: 'rightsgays', 13562: 'lesbiansmarriage', 13563: 'oliver', 13564: 'assemblywoman', 13565: '11191json', 13566: '10315json', 13567: 'updatescriminal', 13568: 'justicepublic', 13569: 'lc', 13570: 'buster', 13571: 'evans', 13572: '1964json', 13573: 'mccaul', 13574: 'ankrum', 13575: '624json', 13576: 'constitute', 13577: 'expelled', 13578: 'tpp', 13579: 'steitz', 13580: 'hillarys', 13581: 'reparations', 13582: 'weddings', 13583: 'exposes', 13584: 'laying', 13585: 'peoplecarly', 13586: 'retrospect', 13587: 'twist', 13588: 'biennially', 13589: 'vary', 13590: 'ashland', 13591: 'brains', 13592: 'liquid', 13593: 'artwork', 13594: 'equals', 13595: 'migrate', 13596: 'stones', 13597: 'rollingwood', 13598: '697', 13599: 'dispensing', 13600: 'invading', 13601: 'registrar', 13602: '2045', 13603: 'bureaucracies', 13604: 'paves', 13605: 'enduring', 13606: 'modifications', 13607: 'sharply', 13608: 'curtail', 13609: 'fortunately', 13610: 'notifying', 13611: 'vince', 13612: 'polistina', 13613: 'tamerlan', 13614: 'tsarnaev', 13615: 'grave', 13616: 'phase', 13617: 'fend', 13618: 'amendmentlanguage', 13619: 'troutdale', 13620: 'bottled', 13621: 'perrier', 13622: 'evian', 13623: 'mines', 13624: 'declares', 13625: 'appreciation', 13626: 'slammed', 13627: 'uncounted', 13628: 'initiatives', 13629: 'remarkably', 13630: 'fluid', 13631: 'earthquakes', 13632: 'docks', 13633: 'unfettered', 13634: 'steered', 13635: 'atmosphere', 13636: '134', 13637: 'blasphemy', 13638: 'raeses', 13639: 'overzealous', 13640: 'greedy', 13641: 'litigators', 13642: 'marion', 13643: 'ind', 13644: 'impersonation', 13645: 'voterid', 13646: 'riddled', 13647: 'thecongressional', 13648: 'officehas', 13649: 'estimatedevery', 13650: 'millercoors', 13651: '122', 13652: '410', 13653: '188', 13654: 'burdens', 13655: '620', 13656: 'garage', 13657: 'airbus', 13658: 'phased', 13659: 'nephew', 13660: 'taco', 13661: 'pins', 13662: 'say71', 13663: 'disqualifying', 13664: 'isgood', 13665: 'subsume', 13666: 'reconstructing', 13667: 'reconstruction', 13668: 'expecting', 13669: 'protracted', 13670: 'malaise', 13671: 'harms', 13672: 'weaned', 13673: 'richer', 13674: 'bachmanns', 13675: 'gpa', 13676: 'kvamme', 13677: 'clawed', 13678: 'clinical', 13679: '37th', 13680: '19000', 13681: 'tri', 13682: 'introduces', 13683: 'tiebreaking', 13684: 'koreas', 13685: 'qualifications', 13686: '386', 13687: '388', 13688: 'rocket', 13689: 'underfund', 13690: 'leaning', 13691: 'cottons', 13692: 'burned', 13693: 'dismal', 13694: '00', 13695: '219', 13696: 'missouris', 13697: 'harambe', 13698: 'yacht', 13699: '90s', 13700: 'thattheyre', 13701: 'sweating', 13702: 'twitching', 13703: 'brent', 13704: 'spence', 13705: 'blight', 13706: 'manchin', 13707: 'criminalized', 13708: 'metrorails', 13709: 'packer', 13710: 'yanked', 13711: 'migraines', 13712: 'epilepsy', 13713: 'republicansdont', 13714: 'fafsa', 13715: '55500', 13716: 'clearance', 13717: 'neil', 13718: 'abercrombie', 13719: 'kinkos', 13720: 'forge', 13721: 'forviagra', 13722: 'rejects', 13723: 'fracturing', 13724: 'horizontally', 13725: 'pryorcut', 13726: 'andhes', 13727: 'emmigrate', 13728: 'counter', 13729: 'disarmament'}\n"
          ]
        }
      ],
      "source": [
        "## in twitter sentiment analysis - they separated data into train and test here,\n",
        "## we did not\n",
        "\n",
        "# convert the wor\n",
        "# Flatten the series into a single list\n",
        "flattened_list = [word for sublist in processed_text for word in sublist]\n",
        "\n",
        "# Remove duplicates while preserving order\n",
        "unique_words = list(dict.fromkeys(flattened_list))\n",
        "\n",
        "# Create a dictionary with unique words and their corresponding indices\n",
        "word_dict = {i: word for i, word in enumerate(unique_words)}\n",
        "\n",
        "# Check for duplicates (this is just to confirm, there should be none)\n",
        "values_list = list(word_dict.values())\n",
        "values_set = set(values_list)\n",
        "\n",
        "if len(values_list) != len(values_set):\n",
        "    print(\"There are duplicates in the dictionary values.\")\n",
        "else:\n",
        "    print(\"There are no duplicates in the dictionary values.\")\n",
        "print(word_dict)"
      ]
    },
    {
      "cell_type": "code",
      "execution_count": null,
      "metadata": {
        "colab": {
          "base_uri": "https://localhost:8080/"
        },
        "id": "jDuc_JjLPwO2",
        "outputId": "78a466f9-abb3-477c-b8e7-0c3e386131e9"
      },
      "outputs": [
        {
          "name": "stdout",
          "output_type": "stream",
          "text": [
            "Number of different Tokens in our Dataset: 13730\n",
            "['percent', 'state', 'obama', 'not', 'tax', 'health', 'year', 'years', 'president', 'people', 'would', 'million', 'states', 'care', 'us', 'nt', 'one', 'jobs', 'new', 'billion', 'bill', 'texas', 'federal', 'said', 'every', 'only', 'barack', 'voted', 'budget', 'taxes', 'since', 'government', 'country', 'last', 'law', 'united', 'pay', 'plan', 'money', 'time', 'wisconsin', 'first', 'rate', 'republican', '1', 'clinton', 'americans', 'american', 'cut', 'spending', 'public', 'against', 'florida', 'get', 'two', 'even', 'school', 'senate', 'obamacare', 'insurance', 'debt', 'office', '10', 'average', 'scott', 'house', 'hillary', 'medicare', 'governor', 'america', 'gov', 'national', 'three', 'security', 'could', 'income', 'congress', 'times', 'city', 'cost', 'never', 'world', 'women', 'going', 'dollars', 'per', 'right', 'job', 'four', 'nearly', 'half', 'unemployment', 'illegal', 'less', 'bush', 'campaign', 'increase', 'county', 'democrats', 'trump']\n"
          ]
        }
      ],
      "source": [
        "words = Counter()\n",
        "for w in flattened_list:\n",
        "  words[w] += 1\n",
        "\n",
        "sorted_words = list(words.keys())\n",
        "sorted_words.sort(key=lambda w: words[w], reverse=True)\n",
        "print(f\"Number of different Tokens in our Dataset: {len(sorted_words)}\")\n",
        "print(sorted_words[:100])"
      ]
    },
    {
      "cell_type": "code",
      "execution_count": null,
      "metadata": {
        "colab": {
          "base_uri": "https://localhost:8080/",
          "height": 469
        },
        "id": "p36KNCNxQAv8",
        "outputId": "f09411c7-f721-4362-c4d6-fa9913c55d4e"
      },
      "outputs": [
        {
          "name": "stdout",
          "output_type": "stream",
          "text": [
            "The 15.520757465404225% most common words account for the 80.00098750105803% of the occurrences\n"
          ]
        },
        {
          "data": {
            "image/png": "[encoded data removed]",
            "text/plain": [
              "<Figure size 640x480 with 1 Axes>"
            ]
          },
          "metadata": {},
          "output_type": "display_data"
        }
      ],
      "source": [
        "# Exploratory data analysis from the twitter sentiment analysis\n",
        "count_occurences = sum(words.values())\n",
        "\n",
        "accumulated = 0\n",
        "counter = 0\n",
        "\n",
        "while accumulated < count_occurences * 0.8:\n",
        "  accumulated += words[sorted_words[counter]]\n",
        "  counter += 1\n",
        "\n",
        "print(f\"The {counter * 100 / len(words)}% most common words \"\n",
        "      f\"account for the {accumulated * 100 / count_occurences}% of the occurrences\")\n",
        "\n",
        "plt.bar(range(100), [words[w] for w in sorted_words[:100]])\n",
        "plt.title('Distribution of most frequent 100 words')\n",
        "plt.show()"
      ]
    },
    {
      "cell_type": "code",
      "execution_count": null,
      "metadata": {
        "id": "xs-B9s30QUpK"
      },
      "outputs": [],
      "source": [
        "def set_device():\n",
        "  device = \"cuda\" if torch.cuda.is_available() else \"cpu\"\n",
        "  if device != \"cuda\":\n",
        "    print(\"WARNING: For this notebook to perform best, \"\n",
        "          \"if possible, in the menu under `Runtime` -> \"\n",
        "          \"`Change runtime type.`  select `GPU` \")\n",
        "  else:\n",
        "    print(\"GPU is enabled in this notebook.\")\n",
        "\n",
        "  return device"
      ]
    },
    {
      "cell_type": "code",
      "execution_count": null,
      "metadata": {
        "colab": {
          "base_uri": "https://localhost:8080/"
        },
        "id": "j4WkPNXpQWer",
        "outputId": "1972c289-7fd3-4eb5-9384-1683369e42de"
      },
      "outputs": [
        {
          "name": "stdout",
          "output_type": "stream",
          "text": [
            "WARNING: For this notebook to perform best, if possible, in the menu under `Runtime` -> `Change runtime type.`  select `GPU` \n"
          ]
        }
      ],
      "source": [
        "# Set the device (check if gpu is available)\n",
        "device = set_device()"
      ]
    },
    {
      "cell_type": "code",
      "execution_count": null,
      "metadata": {
        "colab": {
          "base_uri": "https://localhost:8080/"
        },
        "id": "56NegIUlQaL4",
        "outputId": "b1bd6708-07e7-4d75-f7e6-fffcc36d640e"
      },
      "outputs": [
        {
          "data": {
            "text/plain": [
              "['percent',\n",
              " 'state',\n",
              " 'obama',\n",
              " 'not',\n",
              " 'tax',\n",
              " 'health',\n",
              " 'year',\n",
              " 'years',\n",
              " 'president',\n",
              " 'people',\n",
              " 'would',\n",
              " 'million',\n",
              " 'states',\n",
              " 'care',\n",
              " 'us',\n",
              " 'nt',\n",
              " 'one',\n",
              " 'jobs',\n",
              " 'new',\n",
              " 'billion',\n",
              " 'bill',\n",
              " 'texas',\n",
              " 'federal',\n",
              " 'said',\n",
              " 'every',\n",
              " 'only',\n",
              " 'barack',\n",
              " 'voted',\n",
              " 'budget',\n",
              " 'taxes']"
            ]
          },
          "execution_count": 41,
          "metadata": {},
          "output_type": "execute_result"
        }
      ],
      "source": [
        "# From previous section, we have a list with the most used tokens\n",
        "sorted_words[:30]"
      ]
    },
    {
      "cell_type": "code",
      "execution_count": null,
      "metadata": {
        "id": "GQJfLnJCQgRg"
      },
      "outputs": [],
      "source": [
        "num_words_dict = 10000\n",
        "# We reserve two numbers for special tokens.\n",
        "most_used_words = sorted_words[:num_words_dict-2]"
      ]
    },
    {
      "cell_type": "code",
      "execution_count": null,
      "metadata": {
        "id": "eLvPLJ2DOFrB"
      },
      "outputs": [],
      "source": [
        "# dictionary to go from words to idx\n",
        "word_to_idx = {}\n",
        "# dictionary to go from idx to words (just in case)\n",
        "idx_to_word = {}\n",
        "\n",
        "\n",
        "# We include the special tokens first\n",
        "PAD_token = 0\n",
        "UNK_token = 1\n",
        "\n",
        "word_to_idx['PAD'] = PAD_token\n",
        "word_to_idx['UNK'] = UNK_token\n",
        "\n",
        "idx_to_word[PAD_token] = 'PAD'\n",
        "idx_to_word[UNK_token] = 'UNK'\n",
        "\n",
        "# We popullate our dictionaries with the most used words\n",
        "for num, word in enumerate(most_used_words):\n",
        "  word_to_idx[word] = num + 2\n",
        "  idx_to_word[num+2] = word"
      ]
    },
    {
      "cell_type": "code",
      "execution_count": null,
      "metadata": {
        "id": "nr4y13wuNkAR"
      },
      "outputs": [],
      "source": [
        "# A function to convert list of tokens to list of indexes\n",
        "def tokens_to_idx(sentences_tokens, word_to_idx):\n",
        "  sentences_idx = []\n",
        "  for sent in sentences_tokens:\n",
        "    sent_idx = []\n",
        "    for word in sent:\n",
        "      if word in word_to_idx:\n",
        "        sent_idx.append(word_to_idx[word])\n",
        "      else:\n",
        "        sent_idx.append(word_to_idx['UNK'])\n",
        "    sentences_idx.append(sent_idx)\n",
        "  return sentences_idx"
      ]
    },
    {
      "cell_type": "code",
      "execution_count": null,
      "metadata": {
        "id": "DfQhPCmKRA45"
      },
      "outputs": [],
      "source": [
        "x_cv = processed_text\n",
        "\n",
        "# truth map\n",
        "y_cv = df_proc['truth_map']"
      ]
    },
    {
      "cell_type": "code",
      "execution_count": null,
      "metadata": {
        "id": "MDcwQX0SBDr5"
      },
      "outputs": [],
      "source": [
        "## separate data into train and test here\n",
        "\n",
        "x_cv = processed_text\n",
        "y_cv = df_proc['truth_map']\n",
        "\n",
        "#(10240, 15)\n",
        "# (1284, 15)\n",
        "# (1267, 15)\n",
        "\n",
        "# combine validation and training set\n",
        "x_train = x_cv[df_proc['type'] == 0]\n",
        "y_train = y_cv[df_proc['type'] == 0]\n",
        "\n",
        "# # validation\n",
        "x_val = x_cv[df_proc['type'] == 1]\n",
        "y_val = y_cv[df_proc['type'] == 1]\n",
        "\n",
        "\n",
        "# validation\n",
        "x_test = x_cv[df_proc['type'] == 2]\n",
        "y_test = y_cv[df_proc['type'] == 2]"
      ]
    },
    {
      "cell_type": "code",
      "execution_count": null,
      "metadata": {
        "id": "UpBl3W9eQ4Xn"
      },
      "outputs": [],
      "source": [
        "# train\n",
        "x_train_idx = tokens_to_idx(x_train, word_to_idx)\n",
        "\n",
        "# val\n",
        "x_val_idx = tokens_to_idx(x_val, word_to_idx)\n",
        "\n",
        "# test\n",
        "x_test_idx = tokens_to_idx(x_test, word_to_idx)\n",
        "\n"
      ]
    },
    {
      "cell_type": "code",
      "execution_count": null,
      "metadata": {
        "colab": {
          "base_uri": "https://localhost:8080/"
        },
        "id": "EX3GF7SSSKMl",
        "outputId": "3ca24290-822f-44b6-ed11-0f244f8fa1e6"
      },
      "outputs": [
        {
          "name": "stdout",
          "output_type": "stream",
          "text": [
            "Before converting:  ['decline', 'coal', 'start', 'started', 'natural', 'gas', 'took', 'started', 'begin', 'president', 'george', 'w', 'bushs', 'administration']\n",
            "After converting:  [1492, 747, 696, 508, 974, 227, 107, 508, 1561, 10, 216, 569, 1427, 104]\n"
          ]
        }
      ],
      "source": [
        "some_number = 1\n",
        "print('Before converting: ', x_train[some_number])\n",
        "print('After converting: ', x_train_idx[some_number])"
      ]
    },
    {
      "cell_type": "code",
      "execution_count": null,
      "metadata": {
        "colab": {
          "base_uri": "https://localhost:8080/"
        },
        "id": "IRvXSyEATRb3",
        "outputId": "0c247cb1-4b0a-41da-bb7f-c4f13d99c68f"
      },
      "outputs": [
        {
          "name": "stdout",
          "output_type": "stream",
          "text": [
            "Before converting:  ['women', 'men', 'making', 'less', 'adjust', 'inflation', 'john', 'kitzhaber', 'first', 'elected', 'governor']\n",
            "After converting:  [84, 397, 289, 95, 7657, 1012, 112, 3069, 43, 365, 70]\n"
          ]
        }
      ],
      "source": [
        "some_number = 20\n",
        "print('Before converting: ', x_train[some_number])\n",
        "print('After converting: ', x_train_idx[some_number])"
      ]
    },
    {
      "cell_type": "code",
      "execution_count": null,
      "metadata": {
        "colab": {
          "base_uri": "https://localhost:8080/"
        },
        "id": "_MDsxNT7T79d",
        "outputId": "9d3975aa-720b-4d1c-f8d3-1ff4748b95e4"
      },
      "outputs": [
        {
          "name": "stdout",
          "output_type": "stream",
          "text": [
            "Max tweet word length:  384\n",
            "Mean tweet word length:  10.0\n",
            "99% percent under:  24.0\n"
          ]
        }
      ],
      "source": [
        "# We need all the sequences to have the same length.\n",
        "# To select an adequate sequence length, let’s explore some statistics about the length of the tweets\n",
        "\n",
        "tweet_lens = np.asarray([len(sentence) for sentence in x_train_idx])\n",
        "print('Max tweet word length: ',tweet_lens.max())\n",
        "print('Mean tweet word length: ',np.median(tweet_lens))\n",
        "print('99% percent under: ',np.quantile(tweet_lens,0.99))"
      ]
    },
    {
      "cell_type": "code",
      "execution_count": null,
      "metadata": {
        "id": "J6rjxxyFULbT"
      },
      "outputs": [],
      "source": [
        " # We choose the max length\n",
        "max_length = 40\n",
        "\n",
        "# A function to make all the sequence have the same length\n",
        "# Note that the output is a Numpy matrix\n",
        "def padding(sentences, seq_len):\n",
        "  features = np.zeros((len(sentences), seq_len),dtype=int)\n",
        "  for ii, tweet in enumerate(sentences):\n",
        "    len_tweet = len(tweet)\n",
        "    if len_tweet != 0:\n",
        "      if len_tweet <= seq_len:\n",
        "        # If its shorter, we fill with zeros (the padding Token index)\n",
        "        features[ii, -len(tweet):] = np.array(tweet)[:seq_len]\n",
        "      if len_tweet > seq_len:\n",
        "        # If its larger, we take the last 'seq_len' indexes\n",
        "        features[ii, :] = np.array(tweet)[-seq_len:]\n",
        "  return features"
      ]
    },
    {
      "cell_type": "code",
      "execution_count": null,
      "metadata": {
        "id": "8K4MLzt3U0G_"
      },
      "outputs": [],
      "source": [
        "# We convert our list of tokens into a numpy matrix\n",
        "# where all instances have the same lenght\n",
        "x_train_pad = padding(x_train_idx, max_length)\n",
        "x_val_pad = padding(x_val_idx, max_length)\n",
        "x_test_pad = padding(x_test_idx, max_length)\n",
        "\n",
        "# We convert our target list a numpy matrix\n",
        "y_train_np = np.asarray(y_train)\n",
        "y_val_np = np.asarray(y_val)\n",
        "y_test_np = np.asarray(y_test)"
      ]
    },
    {
      "cell_type": "code",
      "execution_count": null,
      "metadata": {
        "colab": {
          "base_uri": "https://localhost:8080/"
        },
        "id": "ppp0vMwxVBD6",
        "outputId": "3c76233b-f6d0-4b81-f32c-293e56a1129f"
      },
      "outputs": [
        {
          "name": "stdout",
          "output_type": "stream",
          "text": [
            "Before padding:  [68, 47, 3435, 112, 148, 238, 260, 216, 96, 944, 3916, 293]\n",
            "After padding:  [   0    0    0    0    0    0    0    0    0    0    0    0    0    0\n",
            "    0    0    0    0    0    0    0    0    0    0    0    0    0    0\n",
            "   68   47 3435  112  148  238  260  216   96  944 3916  293]\n"
          ]
        }
      ],
      "source": [
        "some_number = 2\n",
        "print('Before padding: ', x_train_idx[some_number])\n",
        "print('After padding: ', x_train_pad[some_number])"
      ]
    },
    {
      "cell_type": "code",
      "execution_count": null,
      "metadata": {
        "id": "tqzHFfOuVF6a"
      },
      "outputs": [],
      "source": [
        "# create Tensor datasets\n",
        "train_data = TensorDataset(torch.from_numpy(x_train_pad), torch.from_numpy(y_train_np).type(torch.LongTensor))\n",
        "valid_data = TensorDataset(torch.from_numpy(x_val_pad), torch.from_numpy(y_val_np).type(torch.LongTensor))\n",
        "test_data = TensorDataset(torch.from_numpy(x_test_pad), torch.from_numpy(y_test_np).type(torch.LongTensor))\n",
        "\n",
        "# Batch size (this is an important hyperparameter)\n",
        "# batch_size = 100\n",
        "batch_size = 50\n",
        "\n",
        "# dataloaders\n",
        "# make sure to SHUFFLE your data\n",
        "train_loader = DataLoader(train_data, shuffle=True, batch_size=batch_size,drop_last = True)\n",
        "valid_loader = DataLoader(valid_data, shuffle=True, batch_size=batch_size,drop_last = True)\n",
        "test_loader = DataLoader(test_data, shuffle=True, batch_size=batch_size,drop_last = True)"
      ]
    },
    {
      "cell_type": "code",
      "execution_count": null,
      "metadata": {
        "colab": {
          "base_uri": "https://localhost:8080/"
        },
        "id": "bJjzyhOKVqtq",
        "outputId": "0bc6c3b7-8878-4520-8ad8-756fb0160c31"
      },
      "outputs": [
        {
          "name": "stdout",
          "output_type": "stream",
          "text": [
            "Sample input size:  torch.Size([50, 40])\n",
            "Sample input: \n",
            " tensor([[   0,    0,    0,  ..., 2039,  236,  559],\n",
            "        [   0,    0,    0,  ...,  193, 2621,  777],\n",
            "        [   0,    0,    0,  ...,  276, 1086,  438],\n",
            "        ...,\n",
            "        [   0,    0,    0,  ...,   56,   18,  886],\n",
            "        [   0,    0,    0,  ...,  662, 3194,  805],\n",
            "        [   0,    0,    0,  ...,   88,  524,  220]])\n",
            "Sample input: \n",
            " tensor([4, 3, 1, 4, 4, 3, 2, 3, 4, 1, 5, 1, 1, 2, 0, 2, 1, 1, 2, 3, 5, 2, 1, 2,\n",
            "        4, 1, 4, 0, 2, 1, 4, 1, 4, 4, 3, 5, 1, 0, 3, 3, 4, 2, 5, 5, 1, 4, 0, 3,\n",
            "        3, 0])\n"
          ]
        }
      ],
      "source": [
        "# Obtain one batch of training data\n",
        "dataiter = iter(train_loader)\n",
        "sample_x, sample_y = dataiter.__next__()\n",
        "\n",
        "print('Sample input size: ', sample_x.size()) # batch_size, seq_length\n",
        "print('Sample input: \\n', sample_x)\n",
        "print('Sample input: \\n', sample_y)"
      ]
    },
    {
      "cell_type": "code",
      "execution_count": null,
      "metadata": {
        "id": "ePuQI-rQWdU2"
      },
      "outputs": [],
      "source": [
        "class SentimentRNN(nn.Module):\n",
        "  def __init__(self,no_layers,vocab_size,hidden_dim,embedding_dim,drop_prob=0.1):\n",
        "    super(SentimentRNN,self).__init__()\n",
        "\n",
        "    self.output_dim = output_dim\n",
        "    self.hidden_dim = hidden_dim\n",
        "    self.no_layers = no_layers\n",
        "    self.vocab_size = vocab_size\n",
        "    self.drop_prob = drop_prob\n",
        "\n",
        "    # Embedding Layer\n",
        "    self.embedding = nn.Embedding(vocab_size, embedding_dim)\n",
        "\n",
        "    # LSTM Layers\n",
        "    self.lstm = nn.LSTM(input_size=embedding_dim,hidden_size=self.hidden_dim,\n",
        "                        num_layers=no_layers, batch_first=True,\n",
        "                        dropout=self.drop_prob)\n",
        "\n",
        "    # Dropout layer\n",
        "    self.dropout = nn.Dropout(drop_prob)\n",
        "\n",
        "    # Linear and Sigmoid layer\n",
        "    self.fc = nn.Linear(self.hidden_dim, output_dim)\n",
        "    self.sig = nn.Sigmoid()\n",
        "\n",
        "  def forward(self,x,hidden):\n",
        "    batch_size = x.size(0)\n",
        "\n",
        "    # Embedding out\n",
        "    embeds = self.embedding(x)\n",
        "    #Shape: [batch_size x max_length x embedding_dim]\n",
        "\n",
        "    # LSTM out\n",
        "    lstm_out, hidden = self.lstm(embeds, hidden)\n",
        "    # Shape: [batch_size x max_length x hidden_dim]\n",
        "\n",
        "    # Select the activation of the last Hidden Layer\n",
        "    lstm_out = lstm_out[:,-1,:].contiguous()\n",
        "    # Shape: [batch_size x hidden_dim]\n",
        "\n",
        "    ## You can instead average the activations across all the times\n",
        "    # lstm_out = torch.mean(lstm_out, 1).contiguous()\n",
        "\n",
        "    # Dropout and Fully connected layer\n",
        "    out = self.dropout(lstm_out)\n",
        "    out = self.fc(out)\n",
        "\n",
        "    # Sigmoid function\n",
        "    sig_out = self.sig(out)\n",
        "\n",
        "    # return last sigmoid output and hidden state\n",
        "    return sig_out, hidden\n",
        "\n",
        "  def init_hidden(self, batch_size):\n",
        "    ''' Initializes hidden state '''\n",
        "    # Create two new tensors with sizes n_layers x batch_size x hidden_dim,\n",
        "    # initialized to zero, for hidden state and cell state of LSTM\n",
        "    h0 = torch.zeros((self.no_layers,batch_size,self.hidden_dim)).to(device)\n",
        "    c0 = torch.zeros((self.no_layers,batch_size,self.hidden_dim)).to(device)\n",
        "    hidden = (h0,c0)\n",
        "    return hidden"
      ]
    },
    {
      "cell_type": "code",
      "execution_count": null,
      "metadata": {
        "id": "8OznIzduWgb9"
      },
      "outputs": [],
      "source": [
        "# Parameters of our network\n",
        "\n",
        "# Size of our vocabulary\n",
        "vocab_size = num_words_dict\n",
        "\n",
        "# Embedding dimension\n",
        "embedding_dim = 32\n",
        "\n",
        "# Number of stacked LSTM layers\n",
        "no_layers = 2\n",
        "\n",
        "# Dimension of the hidden layer in LSTMs\n",
        "hidden_dim = 64\n",
        "\n",
        "# Dropout parameter for regularization\n",
        "# output_dim = 1\n",
        "output_dim = 6 # because we have 6 classes\n",
        "\n",
        "\n",
        "# Dropout parameter for regularization\n",
        "drop_prob = 0.25"
      ]
    },
    {
      "cell_type": "code",
      "execution_count": null,
      "metadata": {
        "colab": {
          "base_uri": "https://localhost:8080/"
        },
        "id": "eklw-NYYWkQD",
        "outputId": "38a2a02d-a87d-4426-faf4-442026ff15ba"
      },
      "outputs": [
        {
          "name": "stdout",
          "output_type": "stream",
          "text": [
            "SentimentRNN(\n",
            "  (embedding): Embedding(10000, 32)\n",
            "  (lstm): LSTM(32, 64, num_layers=2, batch_first=True, dropout=0.25)\n",
            "  (dropout): Dropout(p=0.25, inplace=False)\n",
            "  (fc): Linear(in_features=64, out_features=6, bias=True)\n",
            "  (sig): Sigmoid()\n",
            ")\n"
          ]
        }
      ],
      "source": [
        "# Let's define our model\n",
        "model = SentimentRNN(no_layers, vocab_size, hidden_dim,\n",
        "                     embedding_dim, drop_prob=drop_prob)\n",
        "# Moving to gpu\n",
        "model.to(device)\n",
        "print(model)"
      ]
    },
    {
      "cell_type": "code",
      "execution_count": null,
      "metadata": {
        "colab": {
          "base_uri": "https://localhost:8080/"
        },
        "id": "YGZF89k3Wlka",
        "outputId": "daf3e8ee-235f-4084-9d9d-06b5ab620a0b"
      },
      "outputs": [
        {
          "name": "stdout",
          "output_type": "stream",
          "text": [
            "Total Number of parameters:  378758\n"
          ]
        }
      ],
      "source": [
        "# How many trainable parameters does our model have?\n",
        "model_parameters = filter(lambda p: p.requires_grad, model.parameters())\n",
        "params = sum([np.prod(p.size()) for p in model_parameters])\n",
        "print('Total Number of parameters: ',params)"
      ]
    },
    {
      "cell_type": "code",
      "execution_count": null,
      "metadata": {
        "id": "mybuVlEvWrZr"
      },
      "outputs": [],
      "source": [
        "# loss and optimization functions\n",
        "lr = 0.001 #original = 0.001\n",
        "\n",
        "# Binary crossentropy is a good loss function for a binary classification problem\n",
        "criterion = nn.CrossEntropyLoss()\n",
        "\n",
        "# We choose an Adam optimizer\n",
        "optimizer = torch.optim.Adam(model.parameters(), lr=lr)\n",
        "\n",
        "# function to predict accuracy\n",
        "def acc(pred, label):\n",
        "  # outputs\n",
        "  pred = torch.round(pred.squeeze())\n",
        "  # print(\"pred:\",pred)\n",
        "  # print(\"label:\",label)\n",
        "  accuracy = torch.sum(pred == label.squeeze()).item()\n",
        "  return accuracy"
      ]
    },
    {
      "cell_type": "code",
      "execution_count": null,
      "metadata": {
        "colab": {
          "base_uri": "https://localhost:8080/"
        },
        "id": "3PjmCkPtWwID",
        "outputId": "f9d4875b-7f73-4f26-da00-a3aa90e7a0e5"
      },
      "outputs": [
        {
          "name": "stdout",
          "output_type": "stream",
          "text": [
            "Epoch 1\n",
            "train_loss : 1.7619919461362503 val_loss : 1.7616242361068726\n",
            "train_accuracy : 20.677866770853683 val_accuracy : 22.19626168224299\n",
            "Validation loss decreased (inf --> 1.761624).  Saving model ...\n",
            "==================================================\n",
            "Epoch 2\n",
            "train_loss : 1.7525545779396505 val_loss : 1.753806505203247\n",
            "train_accuracy : 22.689978511428013 val_accuracy : 22.0404984423676\n",
            "Validation loss decreased (1.761624 --> 1.753807).  Saving model ...\n",
            "==================================================\n",
            "Epoch 3\n",
            "train_loss : 1.7402123896514667 val_loss : 1.75485249042511\n",
            "train_accuracy : 24.54580972846259 val_accuracy : 24.45482866043614\n",
            "==================================================\n",
            "Epoch 4\n",
            "train_loss : 1.716291655512417 val_loss : 1.7537725210189818\n",
            "train_accuracy : 27.173276030474703 val_accuracy : 23.20872274143302\n",
            "Validation loss decreased (1.753807 --> 1.753773).  Saving model ...\n",
            "==================================================\n",
            "Epoch 5\n",
            "train_loss : 1.6889355211865669 val_loss : 1.7531154155731201\n",
            "train_accuracy : 29.126782574721627 val_accuracy : 24.84423676012461\n",
            "Validation loss decreased (1.753773 --> 1.753115).  Saving model ...\n",
            "==================================================\n",
            "Epoch 6\n",
            "train_loss : 1.660859941851859 val_loss : 1.7636298751831054\n",
            "train_accuracy : 31.998437194764602 val_accuracy : 24.610591900311526\n",
            "==================================================\n",
            "Epoch 7\n",
            "train_loss : 1.6342855656848234 val_loss : 1.7679767274856568\n",
            "train_accuracy : 33.28775151396757 val_accuracy : 24.766355140186917\n",
            "==================================================\n",
            "Epoch 8\n",
            "train_loss : 1.6069044803871828 val_loss : 1.7690050840377807\n",
            "train_accuracy : 35.837077554209806 val_accuracy : 24.84423676012461\n",
            "==================================================\n",
            "Epoch 9\n",
            "train_loss : 1.5781734322800356 val_loss : 1.7793283176422119\n",
            "train_accuracy : 37.22406720062512 val_accuracy : 24.922118380062305\n",
            "==================================================\n",
            "Epoch 10\n",
            "train_loss : 1.5542047800971013 val_loss : 1.7832105684280395\n",
            "train_accuracy : 39.12873608126588 val_accuracy : 24.376947040498443\n",
            "==================================================\n",
            "Epoch 11\n",
            "train_loss : 1.5324095779774236 val_loss : 1.7843775463104248\n",
            "train_accuracy : 40.18362961515921 val_accuracy : 25.0\n",
            "==================================================\n",
            "Epoch 12\n",
            "train_loss : 1.5138920744260151 val_loss : 1.7914901542663575\n",
            "train_accuracy : 40.51572572768119 val_accuracy : 23.98753894080997\n",
            "==================================================\n",
            "Epoch 13\n",
            "train_loss : 1.4971637918668634 val_loss : 1.7903971147537232\n",
            "train_accuracy : 42.56690759914046 val_accuracy : 23.98753894080997\n",
            "==================================================\n",
            "Epoch 14\n",
            "train_loss : 1.4827063650477166 val_loss : 1.7928826379776002\n",
            "train_accuracy : 43.309240085954286 val_accuracy : 23.130841121495326\n",
            "==================================================\n",
            "Epoch 15\n",
            "train_loss : 1.4712473954640182 val_loss : 1.795152497291565\n",
            "train_accuracy : 44.02226997460442 val_accuracy : 23.753894080996886\n",
            "==================================================\n",
            "Epoch 16\n",
            "train_loss : 1.4567620754241943 val_loss : 1.8078621435165405\n",
            "train_accuracy : 45.936706387966396 val_accuracy : 22.50778816199377\n",
            "==================================================\n",
            "Epoch 17\n",
            "train_loss : 1.4467300065592223 val_loss : 1.8050118446350099\n",
            "train_accuracy : 46.4153154913069 val_accuracy : 22.19626168224299\n",
            "==================================================\n",
            "Epoch 18\n",
            "train_loss : 1.4348602855906767 val_loss : 1.7998049020767213\n",
            "train_accuracy : 47.050205118187144 val_accuracy : 21.884735202492212\n",
            "==================================================\n",
            "Epoch 19\n",
            "train_loss : 1.4258133091178595 val_loss : 1.7994558143615722\n",
            "train_accuracy : 48.4469622973237 val_accuracy : 21.884735202492212\n",
            "==================================================\n",
            "Epoch 20\n",
            "train_loss : 1.424520181090224 val_loss : 1.8041205978393555\n",
            "train_accuracy : 48.710685680797035 val_accuracy : 21.72897196261682\n",
            "==================================================\n"
          ]
        }
      ],
      "source": [
        "# Number of training Epochs\n",
        "epochs = 20\n",
        "\n",
        "# Maximum absolute value accepted for the gradeint\n",
        "clip = 5\n",
        "\n",
        "# Initial Loss value (assumed big)\n",
        "valid_loss_min = np.inf\n",
        "\n",
        "# Lists to follow the evolution of the loss and accuracy\n",
        "epoch_tr_loss,epoch_vl_loss = [],[]\n",
        "epoch_tr_acc, epoch_vl_acc = [],[]\n",
        "\n",
        "# Train for a number of Epochs\n",
        "for epoch in range(epochs):\n",
        "  train_losses = []\n",
        "  train_acc = 0.0\n",
        "  model.train()\n",
        "\n",
        "  for inputs, labels in train_loader:\n",
        "\n",
        "    # Initialize hidden state\n",
        "    h = model.init_hidden(batch_size)\n",
        "    # Creating new variables for the hidden state\n",
        "    h = tuple([each.data.to(device) for each in h])\n",
        "\n",
        "    # Move batch inputs and labels to gpu\n",
        "    inputs, labels = inputs.to(device), labels.to(device)\n",
        "\n",
        "    # Set gradient to zero\n",
        "    model.zero_grad()\n",
        "\n",
        "    # Compute model output\n",
        "    output, h = model(inputs,h)\n",
        "\n",
        "    # Calculate the loss and perform backprop\n",
        "    loss = criterion(output.squeeze(), labels)\n",
        "    loss.backward()\n",
        "    train_losses.append(loss.item())\n",
        "\n",
        "    # calculating accuracy\n",
        "    # print(\"model output:\", output)\n",
        "    output_argmax = torch.argmax(output, dim=1)\n",
        "    accuracy = acc(output_argmax,labels)\n",
        "    train_acc += accuracy\n",
        "\n",
        "    #`clip_grad_norm` helps prevent the exploding gradient problem in RNNs / LSTMs.\n",
        "    nn.utils.clip_grad_norm_(model.parameters(), clip)\n",
        "    optimizer.step()\n",
        "\n",
        "\n",
        "  # Evaluate on the validation set for this epoch\n",
        "  val_losses = []\n",
        "  val_acc = 0.0\n",
        "  model.eval()\n",
        "  for inputs, labels in valid_loader:\n",
        "\n",
        "    # Initialize hidden state\n",
        "    val_h = model.init_hidden(batch_size)\n",
        "    val_h = tuple([each.data.to(device) for each in val_h])\n",
        "\n",
        "    # Move batch inputs and labels to gpu\n",
        "    inputs, labels = inputs.to(device), labels.to(device)\n",
        "\n",
        "    # Compute model output\n",
        "    output, val_h = model(inputs, val_h)\n",
        "\n",
        "    # Compute Loss\n",
        "    val_loss = criterion(output.squeeze(), labels)\n",
        "\n",
        "    val_losses.append(val_loss.item())\n",
        "\n",
        "    output_argmax = torch.argmax(output, dim=1)\n",
        "    accuracy = acc(output_argmax,labels)\n",
        "    val_acc += accuracy\n",
        "\n",
        "  epoch_train_loss = np.mean(train_losses)\n",
        "  epoch_val_loss = np.mean(val_losses)\n",
        "  epoch_train_acc = train_acc/len(train_loader.dataset)\n",
        "  epoch_val_acc = val_acc/len(valid_loader.dataset)\n",
        "  epoch_tr_loss.append(epoch_train_loss)\n",
        "  epoch_vl_loss.append(epoch_val_loss)\n",
        "  epoch_tr_acc.append(epoch_train_acc)\n",
        "  epoch_vl_acc.append(epoch_val_acc)\n",
        "  print(f'Epoch {epoch+1}')\n",
        "  print(f'train_loss : {epoch_train_loss} val_loss : {epoch_val_loss}')\n",
        "  print(f'train_accuracy : {epoch_train_acc*100} val_accuracy : {epoch_val_acc*100}')\n",
        "  if epoch_val_loss <= valid_loss_min:\n",
        "    print('Validation loss decreased ({:.6f} --> {:.6f}).  Saving model ...'.format(valid_loss_min,epoch_val_loss))\n",
        "    # torch.save(model.state_dict(), '../working/state_dict.pt')\n",
        "    valid_loss_min = epoch_val_loss\n",
        "  print(25*'==')"
      ]
    },
    {
      "cell_type": "code",
      "execution_count": null,
      "metadata": {
        "id": "8HiJ4g6Refsz"
      },
      "outputs": [],
      "source": [
        "# # Testing phase\n",
        "# model.eval()\n",
        "# test_loss = 0.0\n",
        "# test_correct = 0\n",
        "# test_total = 0\n",
        "\n",
        "# with torch.no_grad():\n",
        "#     for inputs, labels in test_loader:\n",
        "#         outputs = model(inputs)\n",
        "#         loss = criterion(outputs, labels)\n",
        "\n",
        "#         test_loss += loss.item() * inputs.size(0)\n",
        "#         _, predicted = torch.max(outputs, 1)\n",
        "#         test_total += labels.size(0)\n",
        "#         test_correct += (predicted == labels).sum().item()\n",
        "\n",
        "# test_loss /= test_total\n",
        "# test_accuracy = test_correct / test_total\n",
        "\n",
        "# print(f'Test Loss: {test_loss:.4f}, Test Accuracy: {test_accuracy:.4f}')"
      ]
    },
    {
      "cell_type": "code",
      "execution_count": null,
      "metadata": {
        "colab": {
          "base_uri": "https://localhost:8080/",
          "height": 291
        },
        "id": "D7WCwiiRXTlz",
        "outputId": "7ff8f425-8dfa-40c6-dab7-7ccbc36a15b0"
      },
      "outputs": [
        {
          "data": {
            "image/png": "[encoded data removed]",
            "text/plain": [
              "<Figure size 2000x600 with 2 Axes>"
            ]
          },
          "metadata": {},
          "output_type": "display_data"
        }
      ],
      "source": [
        "fig = plt.figure(figsize = (20, 6))\n",
        "plt.subplot(1, 2, 1)\n",
        "plt.plot(epoch_tr_acc, label='Train Acc')\n",
        "plt.plot(epoch_vl_acc, label='Valid Acc')\n",
        "plt.title(\"Accuracy\")\n",
        "plt.legend()\n",
        "plt.grid()\n",
        "\n",
        "plt.subplot(1, 2, 2)\n",
        "plt.plot(epoch_tr_loss, label='Train loss')\n",
        "plt.plot(epoch_vl_loss, label='Valid loss')\n",
        "plt.title(\"Loss\")\n",
        "plt.legend()\n",
        "plt.grid()\n",
        "\n",
        "plt.show()"
      ]
    },
    {
      "cell_type": "code",
      "execution_count": null,
      "metadata": {
        "id": "xIar_id7IGKe"
      },
      "outputs": [],
      "source": [
        "# mport torch\n",
        "# import torch.nn as nn\n",
        "# import torch.nn.functional as F\n",
        "\n",
        "# class TextClassificationModel(nn.Module):\n",
        "#     def __init__(self, max_words, maxlen):\n",
        "#         super(TextClassificationModel, self).__init__()\n",
        "#         self.embedding = nn.Embedding(max_words, 64)\n",
        "#         self.conv1d = nn.Conv1d(64, 32, 5)\n",
        "#         self.global_max_pool = nn.AdaptiveMaxPool1d(1)\n",
        "#         self.flatten = nn.Flatten()\n",
        "#         self.dense1 = nn.Linear(32, 64)\n",
        "#         self.dense2 = nn.Linear(64, 2)"
      ]
    },
    {
      "cell_type": "code",
      "execution_count": null,
      "metadata": {
        "id": "MdBTOpt-IHKT"
      },
      "outputs": [],
      "source": [
        "# def forward(self, x):\n",
        "#         x = self.embedding(x)  # (batch_size, maxlen, 64)\n",
        "#         x = x.permute(0, 2, 1)  # (batch_size, 64, maxlen) to (batch_size, maxlen, 64)\n",
        "#         x = F.relu(self.conv1d(x))  # (batch_size, 32, maxlen - 4)\n",
        "#         x = self.global_max_pool(x).squeeze(-1)  # (batch_size, 32)\n",
        "#         x = self.flatten(x)  # already flattened to (batch_size, 32)\n",
        "#         x = F.relu(self.dense1(x))  # (batch_size, 64)\n",
        "#         x = torch.sigmoid(self.dense2(x))  # (batch_size, 2)\n",
        "#         return x\n",
        "\n",
        "# # Example usage:\n",
        "# max_words = 10000\n",
        "# maxlen = 100\n",
        "\n",
        "# model = TextClassificationModel(max_words, maxlen)\n",
        "# print(model)"
      ]
    },
    {
      "cell_type": "code",
      "execution_count": null,
      "metadata": {
        "id": "bYJgV-aKPJU9"
      },
      "outputs": [],
      "source": []
    }
  ],
  "metadata": {
    "colab": {
      "provenance": []
    },
    "kernel": {
      "display_name": "Python 3",
      "language": "python",
      "name": "python3"
    },
    "kernelspec": {
      "display_name": "Python 3",
      "name": "python3"
    },
    "language_info": {
      "codemirror_mode": {
        "name": "ipython",
        "version": 3
      },
      "file_extension": ".py",
      "mimetype": "text/x-python",
      "name": "python",
      "nbconvert_exporter": "python",
      "pygments_lexer": "ipython3",
      "version": "3.7.10"
    }
  },
  "nbformat": 4,
  "nbformat_minor": 0
}
